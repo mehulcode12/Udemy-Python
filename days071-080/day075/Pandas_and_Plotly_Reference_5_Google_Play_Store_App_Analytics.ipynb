{
  "nbformat": 4,
  "nbformat_minor": 0,
  "metadata": {
    "kernelspec": {
      "display_name": "Python 3",
      "language": "python",
      "name": "python3"
    },
    "language_info": {
      "codemirror_mode": {
        "name": "ipython",
        "version": 3
      },
      "file_extension": ".py",
      "mimetype": "text/x-python",
      "name": "python",
      "nbconvert_exporter": "python",
      "pygments_lexer": "ipython3",
      "version": "3.7.3"
    },
    "colab": {
      "name": "Pandas and Plotly Reference 5 - Google Play Store App Analytics.ipynb",
      "provenance": []
    }
  },
  "cells": [
    {
      "cell_type": "markdown",
      "metadata": {
        "dc": {
          "key": "4"
        },
        "run_control": {
          "frozen": true
        },
        "tags": [
          "context"
        ],
        "id": "-Sxae4jbdiT2"
      },
      "source": [
        "# Introduction\n",
        "\n",
        "In this notebook, we will do a comprehensive analysis of the Android app market by comparing thousands of apps in the Google Play store."
      ]
    },
    {
      "cell_type": "markdown",
      "metadata": {
        "id": "sDT5lMxadiT3"
      },
      "source": [
        "# About the Dataset of Google Play Store Apps & Reviews"
      ]
    },
    {
      "cell_type": "markdown",
      "metadata": {
        "id": "5CiydsdNdiT3"
      },
      "source": [
        "**Data Source:** <br>\n",
        "App and review data was scraped from the Google Play Store by Lavanya Gupta in 2018. Original files listed [here](\n",
        "https://www.kaggle.com/lava18/google-play-store-apps)."
      ]
    },
    {
      "cell_type": "markdown",
      "metadata": {
        "id": "BBKBNy4UdiT4"
      },
      "source": [
        "# Import Statements"
      ]
    },
    {
      "cell_type": "code",
      "metadata": {
        "id": "_5mfFH4_diT4"
      },
      "source": [
        "import pandas as pd\n",
        "import plotly.express as px"
      ],
      "execution_count": 29,
      "outputs": []
    },
    {
      "cell_type": "markdown",
      "metadata": {
        "id": "KegC9nPDdiT7"
      },
      "source": [
        "# Notebook Presentation"
      ]
    },
    {
      "cell_type": "code",
      "metadata": {
        "id": "WPL7rhJndiT7"
      },
      "source": [
        "# Show numeric output in decimal format e.g., 2.15\n",
        "pd.options.display.float_format = '{:,.2f}'.format"
      ],
      "execution_count": 2,
      "outputs": []
    },
    {
      "cell_type": "markdown",
      "metadata": {
        "id": "Uc9LOZu9diT-"
      },
      "source": [
        "# Read the Dataset"
      ]
    },
    {
      "cell_type": "code",
      "metadata": {
        "id": "zU0Zisv_diT-"
      },
      "source": [
        "df_apps = pd.read_csv('apps.csv')"
      ],
      "execution_count": 3,
      "outputs": []
    },
    {
      "cell_type": "markdown",
      "metadata": {
        "id": "iKvSUwQldiUA"
      },
      "source": [
        "# Data Cleaning"
      ]
    },
    {
      "cell_type": "markdown",
      "metadata": {
        "id": "MWTzYZIds5L9"
      },
      "source": [
        "**Challenge**: How many rows and columns does `df_apps` have? What are the column names? Look at a random sample of 5 different rows with [.sample()](https://pandas.pydata.org/pandas-docs/stable/reference/api/pandas.DataFrame.sample.html)."
      ]
    },
    {
      "cell_type": "code",
      "metadata": {
        "id": "HJI7UsPrnuRf",
        "colab": {
          "base_uri": "https://localhost:8080/",
          "height": 326
        },
        "outputId": "97020526-aa7a-4f47-f61f-0630d07b349f"
      },
      "source": [
        "df_apps.sample(5)"
      ],
      "execution_count": 6,
      "outputs": [
        {
          "output_type": "execute_result",
          "data": {
            "text/html": [
              "<div>\n",
              "<style scoped>\n",
              "    .dataframe tbody tr th:only-of-type {\n",
              "        vertical-align: middle;\n",
              "    }\n",
              "\n",
              "    .dataframe tbody tr th {\n",
              "        vertical-align: top;\n",
              "    }\n",
              "\n",
              "    .dataframe thead th {\n",
              "        text-align: right;\n",
              "    }\n",
              "</style>\n",
              "<table border=\"1\" class=\"dataframe\">\n",
              "  <thead>\n",
              "    <tr style=\"text-align: right;\">\n",
              "      <th></th>\n",
              "      <th>App</th>\n",
              "      <th>Category</th>\n",
              "      <th>Rating</th>\n",
              "      <th>Reviews</th>\n",
              "      <th>Size_MBs</th>\n",
              "      <th>Installs</th>\n",
              "      <th>Type</th>\n",
              "      <th>Price</th>\n",
              "      <th>Content_Rating</th>\n",
              "      <th>Genres</th>\n",
              "      <th>Last_Updated</th>\n",
              "      <th>Android_Ver</th>\n",
              "    </tr>\n",
              "  </thead>\n",
              "  <tbody>\n",
              "    <tr>\n",
              "      <th>566</th>\n",
              "      <td>Mitchell AH</td>\n",
              "      <td>MEDICAL</td>\n",
              "      <td>nan</td>\n",
              "      <td>0</td>\n",
              "      <td>29.00</td>\n",
              "      <td>50</td>\n",
              "      <td>Free</td>\n",
              "      <td>0</td>\n",
              "      <td>Everyone</td>\n",
              "      <td>Medical</td>\n",
              "      <td>May 23, 2018</td>\n",
              "      <td>4.0.3 and up</td>\n",
              "    </tr>\n",
              "    <tr>\n",
              "      <th>4634</th>\n",
              "      <td>Dr. Panda Hospital</td>\n",
              "      <td>FAMILY</td>\n",
              "      <td>4.40</td>\n",
              "      <td>1091</td>\n",
              "      <td>45.00</td>\n",
              "      <td>50,000</td>\n",
              "      <td>Paid</td>\n",
              "      <td>$2.99</td>\n",
              "      <td>Everyone</td>\n",
              "      <td>Education;Pretend Play</td>\n",
              "      <td>December 5, 2013</td>\n",
              "      <td>2.0.1 and up</td>\n",
              "    </tr>\n",
              "    <tr>\n",
              "      <th>9650</th>\n",
              "      <td>WatchESPN</td>\n",
              "      <td>SPORTS</td>\n",
              "      <td>4.10</td>\n",
              "      <td>288809</td>\n",
              "      <td>6.60</td>\n",
              "      <td>10,000,000</td>\n",
              "      <td>Free</td>\n",
              "      <td>0</td>\n",
              "      <td>Everyone</td>\n",
              "      <td>Sports</td>\n",
              "      <td>September 27, 2017</td>\n",
              "      <td>4.4 and up</td>\n",
              "    </tr>\n",
              "    <tr>\n",
              "      <th>6714</th>\n",
              "      <td>Cursive Writing Wizard - Handwriting</td>\n",
              "      <td>FAMILY</td>\n",
              "      <td>4.00</td>\n",
              "      <td>3745</td>\n",
              "      <td>31.00</td>\n",
              "      <td>1,000,000</td>\n",
              "      <td>Free</td>\n",
              "      <td>0</td>\n",
              "      <td>Everyone</td>\n",
              "      <td>Education;Education</td>\n",
              "      <td>December 3, 2017</td>\n",
              "      <td>4.0.3 and up</td>\n",
              "    </tr>\n",
              "    <tr>\n",
              "      <th>400</th>\n",
              "      <td>Skull Widget BW</td>\n",
              "      <td>PERSONALIZATION</td>\n",
              "      <td>4.50</td>\n",
              "      <td>4</td>\n",
              "      <td>1.70</td>\n",
              "      <td>10</td>\n",
              "      <td>Free</td>\n",
              "      <td>0</td>\n",
              "      <td>Everyone</td>\n",
              "      <td>Personalization</td>\n",
              "      <td>February 28, 2018</td>\n",
              "      <td>4.4 and up</td>\n",
              "    </tr>\n",
              "  </tbody>\n",
              "</table>\n",
              "</div>"
            ],
            "text/plain": [
              "                                       App  ...   Android_Ver\n",
              "566                            Mitchell AH  ...  4.0.3 and up\n",
              "4634                    Dr. Panda Hospital  ...  2.0.1 and up\n",
              "9650                             WatchESPN  ...    4.4 and up\n",
              "6714  Cursive Writing Wizard - Handwriting  ...  4.0.3 and up\n",
              "400                        Skull Widget BW  ...    4.4 and up\n",
              "\n",
              "[5 rows x 12 columns]"
            ]
          },
          "metadata": {
            "tags": []
          },
          "execution_count": 6
        }
      ]
    },
    {
      "cell_type": "code",
      "metadata": {
        "id": "fKXFjPkmnuYA"
      },
      "source": [
        ""
      ],
      "execution_count": null,
      "outputs": []
    },
    {
      "cell_type": "code",
      "metadata": {
        "id": "MUluaHF5nueH"
      },
      "source": [
        ""
      ],
      "execution_count": null,
      "outputs": []
    },
    {
      "cell_type": "markdown",
      "metadata": {
        "id": "Hh81sMcvdiUI"
      },
      "source": [
        "### Drop Unused Columns\n",
        "\n",
        "**Challenge**: Remove the columns called `Last_Updated` and `Android_Version` from the DataFrame. We will not use these columns. "
      ]
    },
    {
      "cell_type": "code",
      "metadata": {
        "id": "t7EMSKAOnyzI",
        "colab": {
          "base_uri": "https://localhost:8080/",
          "height": 357
        },
        "outputId": "72229e80-c018-43ff-9de4-d17f8a45da4c"
      },
      "source": [
        "df_apps.drop(['Last_Updated', 'Android_Ver'], axis=1, inplace=True)\n",
        "df_apps.head()"
      ],
      "execution_count": 8,
      "outputs": [
        {
          "output_type": "execute_result",
          "data": {
            "text/html": [
              "<div>\n",
              "<style scoped>\n",
              "    .dataframe tbody tr th:only-of-type {\n",
              "        vertical-align: middle;\n",
              "    }\n",
              "\n",
              "    .dataframe tbody tr th {\n",
              "        vertical-align: top;\n",
              "    }\n",
              "\n",
              "    .dataframe thead th {\n",
              "        text-align: right;\n",
              "    }\n",
              "</style>\n",
              "<table border=\"1\" class=\"dataframe\">\n",
              "  <thead>\n",
              "    <tr style=\"text-align: right;\">\n",
              "      <th></th>\n",
              "      <th>App</th>\n",
              "      <th>Category</th>\n",
              "      <th>Rating</th>\n",
              "      <th>Reviews</th>\n",
              "      <th>Size_MBs</th>\n",
              "      <th>Installs</th>\n",
              "      <th>Type</th>\n",
              "      <th>Price</th>\n",
              "      <th>Content_Rating</th>\n",
              "      <th>Genres</th>\n",
              "    </tr>\n",
              "  </thead>\n",
              "  <tbody>\n",
              "    <tr>\n",
              "      <th>0</th>\n",
              "      <td>Ak Parti Yardım Toplama</td>\n",
              "      <td>SOCIAL</td>\n",
              "      <td>nan</td>\n",
              "      <td>0</td>\n",
              "      <td>8.70</td>\n",
              "      <td>0</td>\n",
              "      <td>Paid</td>\n",
              "      <td>$13.99</td>\n",
              "      <td>Teen</td>\n",
              "      <td>Social</td>\n",
              "    </tr>\n",
              "    <tr>\n",
              "      <th>1</th>\n",
              "      <td>Ain Arabic Kids Alif Ba ta</td>\n",
              "      <td>FAMILY</td>\n",
              "      <td>nan</td>\n",
              "      <td>0</td>\n",
              "      <td>33.00</td>\n",
              "      <td>0</td>\n",
              "      <td>Paid</td>\n",
              "      <td>$2.99</td>\n",
              "      <td>Everyone</td>\n",
              "      <td>Education</td>\n",
              "    </tr>\n",
              "    <tr>\n",
              "      <th>2</th>\n",
              "      <td>Popsicle Launcher for Android P 9.0 launcher</td>\n",
              "      <td>PERSONALIZATION</td>\n",
              "      <td>nan</td>\n",
              "      <td>0</td>\n",
              "      <td>5.50</td>\n",
              "      <td>0</td>\n",
              "      <td>Paid</td>\n",
              "      <td>$1.49</td>\n",
              "      <td>Everyone</td>\n",
              "      <td>Personalization</td>\n",
              "    </tr>\n",
              "    <tr>\n",
              "      <th>3</th>\n",
              "      <td>Command &amp; Conquer: Rivals</td>\n",
              "      <td>FAMILY</td>\n",
              "      <td>nan</td>\n",
              "      <td>0</td>\n",
              "      <td>19.00</td>\n",
              "      <td>0</td>\n",
              "      <td>NaN</td>\n",
              "      <td>0</td>\n",
              "      <td>Everyone 10+</td>\n",
              "      <td>Strategy</td>\n",
              "    </tr>\n",
              "    <tr>\n",
              "      <th>4</th>\n",
              "      <td>CX Network</td>\n",
              "      <td>BUSINESS</td>\n",
              "      <td>nan</td>\n",
              "      <td>0</td>\n",
              "      <td>10.00</td>\n",
              "      <td>0</td>\n",
              "      <td>Free</td>\n",
              "      <td>0</td>\n",
              "      <td>Everyone</td>\n",
              "      <td>Business</td>\n",
              "    </tr>\n",
              "  </tbody>\n",
              "</table>\n",
              "</div>"
            ],
            "text/plain": [
              "                                            App  ...           Genres\n",
              "0                       Ak Parti Yardım Toplama  ...           Social\n",
              "1                    Ain Arabic Kids Alif Ba ta  ...        Education\n",
              "2  Popsicle Launcher for Android P 9.0 launcher  ...  Personalization\n",
              "3                     Command & Conquer: Rivals  ...         Strategy\n",
              "4                                    CX Network  ...         Business\n",
              "\n",
              "[5 rows x 10 columns]"
            ]
          },
          "metadata": {
            "tags": []
          },
          "execution_count": 8
        }
      ]
    },
    {
      "cell_type": "markdown",
      "metadata": {
        "id": "YQGe1DIKdiUM"
      },
      "source": [
        "### Find and Remove NaN values in Ratings\n",
        "\n",
        "**Challenge**: How may rows have a NaN value (not-a-number) in the Ratings column? Create DataFrame called `df_apps_clean` that does not include these rows. "
      ]
    },
    {
      "cell_type": "code",
      "metadata": {
        "id": "grcP1IOZn1Wv"
      },
      "source": [
        "df_apps_clean = df_apps.dropna()"
      ],
      "execution_count": 9,
      "outputs": []
    },
    {
      "cell_type": "code",
      "metadata": {
        "id": "IbQnnPaUn1Pw",
        "colab": {
          "base_uri": "https://localhost:8080/"
        },
        "outputId": "d146a5d2-5946-40ba-e1a8-6c5a2ef0fa6e"
      },
      "source": [
        "df_apps_clean.shape"
      ],
      "execution_count": 10,
      "outputs": [
        {
          "output_type": "execute_result",
          "data": {
            "text/plain": [
              "(9367, 10)"
            ]
          },
          "metadata": {
            "tags": []
          },
          "execution_count": 10
        }
      ]
    },
    {
      "cell_type": "markdown",
      "metadata": {
        "id": "pD26SWlxdiUV"
      },
      "source": [
        "### Find and Remove Duplicates\n",
        "\n",
        "**Challenge**: Are there any duplicates in data? Check for duplicates using the [.duplicated()](https://pandas.pydata.org/pandas-docs/stable/reference/api/pandas.DataFrame.duplicated.html) function. How many entries can you find for the \"Instagram\" app? Use [.drop_duplicates()](https://pandas.pydata.org/pandas-docs/stable/reference/api/pandas.DataFrame.drop_duplicates.html) to remove any duplicates from `df_apps_clean`. \n"
      ]
    },
    {
      "cell_type": "code",
      "metadata": {
        "id": "lE7X6KG3n5pR",
        "colab": {
          "base_uri": "https://localhost:8080/",
          "height": 255
        },
        "outputId": "57f90a73-75ec-40f5-b7d8-762783603a1f"
      },
      "source": [
        "duplicated_rows = df_apps_clean[df_apps_clean.duplicated()]\n",
        "print(duplicated_rows.shape)\n",
        "duplicated_rows.head()\n"
      ],
      "execution_count": 12,
      "outputs": [
        {
          "output_type": "stream",
          "text": [
            "(476, 10)\n"
          ],
          "name": "stdout"
        },
        {
          "output_type": "execute_result",
          "data": {
            "text/html": [
              "<div>\n",
              "<style scoped>\n",
              "    .dataframe tbody tr th:only-of-type {\n",
              "        vertical-align: middle;\n",
              "    }\n",
              "\n",
              "    .dataframe tbody tr th {\n",
              "        vertical-align: top;\n",
              "    }\n",
              "\n",
              "    .dataframe thead th {\n",
              "        text-align: right;\n",
              "    }\n",
              "</style>\n",
              "<table border=\"1\" class=\"dataframe\">\n",
              "  <thead>\n",
              "    <tr style=\"text-align: right;\">\n",
              "      <th></th>\n",
              "      <th>App</th>\n",
              "      <th>Category</th>\n",
              "      <th>Rating</th>\n",
              "      <th>Reviews</th>\n",
              "      <th>Size_MBs</th>\n",
              "      <th>Installs</th>\n",
              "      <th>Type</th>\n",
              "      <th>Price</th>\n",
              "      <th>Content_Rating</th>\n",
              "      <th>Genres</th>\n",
              "    </tr>\n",
              "  </thead>\n",
              "  <tbody>\n",
              "    <tr>\n",
              "      <th>946</th>\n",
              "      <td>420 BZ Budeze Delivery</td>\n",
              "      <td>MEDICAL</td>\n",
              "      <td>5.00</td>\n",
              "      <td>2</td>\n",
              "      <td>11.00</td>\n",
              "      <td>100</td>\n",
              "      <td>Free</td>\n",
              "      <td>0</td>\n",
              "      <td>Mature 17+</td>\n",
              "      <td>Medical</td>\n",
              "    </tr>\n",
              "    <tr>\n",
              "      <th>1133</th>\n",
              "      <td>MouseMingle</td>\n",
              "      <td>DATING</td>\n",
              "      <td>2.70</td>\n",
              "      <td>3</td>\n",
              "      <td>3.90</td>\n",
              "      <td>100</td>\n",
              "      <td>Free</td>\n",
              "      <td>0</td>\n",
              "      <td>Mature 17+</td>\n",
              "      <td>Dating</td>\n",
              "    </tr>\n",
              "    <tr>\n",
              "      <th>1196</th>\n",
              "      <td>Cardiac diagnosis (heart rate, arrhythmia)</td>\n",
              "      <td>MEDICAL</td>\n",
              "      <td>4.40</td>\n",
              "      <td>8</td>\n",
              "      <td>6.50</td>\n",
              "      <td>100</td>\n",
              "      <td>Paid</td>\n",
              "      <td>$12.99</td>\n",
              "      <td>Everyone</td>\n",
              "      <td>Medical</td>\n",
              "    </tr>\n",
              "    <tr>\n",
              "      <th>1231</th>\n",
              "      <td>Sway Medical</td>\n",
              "      <td>MEDICAL</td>\n",
              "      <td>5.00</td>\n",
              "      <td>3</td>\n",
              "      <td>22.00</td>\n",
              "      <td>100</td>\n",
              "      <td>Free</td>\n",
              "      <td>0</td>\n",
              "      <td>Everyone</td>\n",
              "      <td>Medical</td>\n",
              "    </tr>\n",
              "    <tr>\n",
              "      <th>1247</th>\n",
              "      <td>Chat Kids - Chat Room For Kids</td>\n",
              "      <td>DATING</td>\n",
              "      <td>4.70</td>\n",
              "      <td>6</td>\n",
              "      <td>4.90</td>\n",
              "      <td>100</td>\n",
              "      <td>Free</td>\n",
              "      <td>0</td>\n",
              "      <td>Mature 17+</td>\n",
              "      <td>Dating</td>\n",
              "    </tr>\n",
              "  </tbody>\n",
              "</table>\n",
              "</div>"
            ],
            "text/plain": [
              "                                             App  ...   Genres\n",
              "946                       420 BZ Budeze Delivery  ...  Medical\n",
              "1133                                 MouseMingle  ...   Dating\n",
              "1196  Cardiac diagnosis (heart rate, arrhythmia)  ...  Medical\n",
              "1231                                Sway Medical  ...  Medical\n",
              "1247              Chat Kids - Chat Room For Kids  ...   Dating\n",
              "\n",
              "[5 rows x 10 columns]"
            ]
          },
          "metadata": {
            "tags": []
          },
          "execution_count": 12
        }
      ]
    },
    {
      "cell_type": "code",
      "metadata": {
        "id": "GK2rP7wgn53-",
        "colab": {
          "base_uri": "https://localhost:8080/",
          "height": 173
        },
        "outputId": "d1f4318e-f3fd-4ee8-f200-00ef7a3d3ab8"
      },
      "source": [
        "df_apps_clean[df_apps_clean.App == 'Instagram']"
      ],
      "execution_count": 14,
      "outputs": [
        {
          "output_type": "execute_result",
          "data": {
            "text/html": [
              "<div>\n",
              "<style scoped>\n",
              "    .dataframe tbody tr th:only-of-type {\n",
              "        vertical-align: middle;\n",
              "    }\n",
              "\n",
              "    .dataframe tbody tr th {\n",
              "        vertical-align: top;\n",
              "    }\n",
              "\n",
              "    .dataframe thead th {\n",
              "        text-align: right;\n",
              "    }\n",
              "</style>\n",
              "<table border=\"1\" class=\"dataframe\">\n",
              "  <thead>\n",
              "    <tr style=\"text-align: right;\">\n",
              "      <th></th>\n",
              "      <th>App</th>\n",
              "      <th>Category</th>\n",
              "      <th>Rating</th>\n",
              "      <th>Reviews</th>\n",
              "      <th>Size_MBs</th>\n",
              "      <th>Installs</th>\n",
              "      <th>Type</th>\n",
              "      <th>Price</th>\n",
              "      <th>Content_Rating</th>\n",
              "      <th>Genres</th>\n",
              "    </tr>\n",
              "  </thead>\n",
              "  <tbody>\n",
              "    <tr>\n",
              "      <th>10806</th>\n",
              "      <td>Instagram</td>\n",
              "      <td>SOCIAL</td>\n",
              "      <td>4.50</td>\n",
              "      <td>66577313</td>\n",
              "      <td>5.30</td>\n",
              "      <td>1,000,000,000</td>\n",
              "      <td>Free</td>\n",
              "      <td>0</td>\n",
              "      <td>Teen</td>\n",
              "      <td>Social</td>\n",
              "    </tr>\n",
              "    <tr>\n",
              "      <th>10808</th>\n",
              "      <td>Instagram</td>\n",
              "      <td>SOCIAL</td>\n",
              "      <td>4.50</td>\n",
              "      <td>66577446</td>\n",
              "      <td>5.30</td>\n",
              "      <td>1,000,000,000</td>\n",
              "      <td>Free</td>\n",
              "      <td>0</td>\n",
              "      <td>Teen</td>\n",
              "      <td>Social</td>\n",
              "    </tr>\n",
              "    <tr>\n",
              "      <th>10809</th>\n",
              "      <td>Instagram</td>\n",
              "      <td>SOCIAL</td>\n",
              "      <td>4.50</td>\n",
              "      <td>66577313</td>\n",
              "      <td>5.30</td>\n",
              "      <td>1,000,000,000</td>\n",
              "      <td>Free</td>\n",
              "      <td>0</td>\n",
              "      <td>Teen</td>\n",
              "      <td>Social</td>\n",
              "    </tr>\n",
              "    <tr>\n",
              "      <th>10810</th>\n",
              "      <td>Instagram</td>\n",
              "      <td>SOCIAL</td>\n",
              "      <td>4.50</td>\n",
              "      <td>66509917</td>\n",
              "      <td>5.30</td>\n",
              "      <td>1,000,000,000</td>\n",
              "      <td>Free</td>\n",
              "      <td>0</td>\n",
              "      <td>Teen</td>\n",
              "      <td>Social</td>\n",
              "    </tr>\n",
              "  </tbody>\n",
              "</table>\n",
              "</div>"
            ],
            "text/plain": [
              "             App Category  Rating   Reviews  ...  Type Price Content_Rating  Genres\n",
              "10806  Instagram   SOCIAL    4.50  66577313  ...  Free     0           Teen  Social\n",
              "10808  Instagram   SOCIAL    4.50  66577446  ...  Free     0           Teen  Social\n",
              "10809  Instagram   SOCIAL    4.50  66577313  ...  Free     0           Teen  Social\n",
              "10810  Instagram   SOCIAL    4.50  66509917  ...  Free     0           Teen  Social\n",
              "\n",
              "[4 rows x 10 columns]"
            ]
          },
          "metadata": {
            "tags": []
          },
          "execution_count": 14
        }
      ]
    },
    {
      "cell_type": "code",
      "metadata": {
        "id": "Wtt09kiRn6GS"
      },
      "source": [
        "df_apps_clean = df_apps_clean.drop_duplicates(subset=['App', 'Type', 'Price'])"
      ],
      "execution_count": 16,
      "outputs": []
    },
    {
      "cell_type": "code",
      "metadata": {
        "id": "30yZCwtKn5xC",
        "colab": {
          "base_uri": "https://localhost:8080/",
          "height": 80
        },
        "outputId": "ba760277-6fd8-4d27-8da9-188d2f695788"
      },
      "source": [
        "df_apps_clean[df_apps_clean.App == 'Instagram']"
      ],
      "execution_count": 17,
      "outputs": [
        {
          "output_type": "execute_result",
          "data": {
            "text/html": [
              "<div>\n",
              "<style scoped>\n",
              "    .dataframe tbody tr th:only-of-type {\n",
              "        vertical-align: middle;\n",
              "    }\n",
              "\n",
              "    .dataframe tbody tr th {\n",
              "        vertical-align: top;\n",
              "    }\n",
              "\n",
              "    .dataframe thead th {\n",
              "        text-align: right;\n",
              "    }\n",
              "</style>\n",
              "<table border=\"1\" class=\"dataframe\">\n",
              "  <thead>\n",
              "    <tr style=\"text-align: right;\">\n",
              "      <th></th>\n",
              "      <th>App</th>\n",
              "      <th>Category</th>\n",
              "      <th>Rating</th>\n",
              "      <th>Reviews</th>\n",
              "      <th>Size_MBs</th>\n",
              "      <th>Installs</th>\n",
              "      <th>Type</th>\n",
              "      <th>Price</th>\n",
              "      <th>Content_Rating</th>\n",
              "      <th>Genres</th>\n",
              "    </tr>\n",
              "  </thead>\n",
              "  <tbody>\n",
              "    <tr>\n",
              "      <th>10806</th>\n",
              "      <td>Instagram</td>\n",
              "      <td>SOCIAL</td>\n",
              "      <td>4.50</td>\n",
              "      <td>66577313</td>\n",
              "      <td>5.30</td>\n",
              "      <td>1,000,000,000</td>\n",
              "      <td>Free</td>\n",
              "      <td>0</td>\n",
              "      <td>Teen</td>\n",
              "      <td>Social</td>\n",
              "    </tr>\n",
              "  </tbody>\n",
              "</table>\n",
              "</div>"
            ],
            "text/plain": [
              "             App Category  Rating   Reviews  ...  Type Price Content_Rating  Genres\n",
              "10806  Instagram   SOCIAL    4.50  66577313  ...  Free     0           Teen  Social\n",
              "\n",
              "[1 rows x 10 columns]"
            ]
          },
          "metadata": {
            "tags": []
          },
          "execution_count": 17
        }
      ]
    },
    {
      "cell_type": "code",
      "metadata": {
        "id": "AagS_wgWn5ib"
      },
      "source": [
        ""
      ],
      "execution_count": 15,
      "outputs": []
    },
    {
      "cell_type": "markdown",
      "metadata": {
        "id": "GJrM69CfdiUh"
      },
      "source": [
        "# Find Highest Rated Apps\n",
        "\n",
        "**Challenge**: Identify which apps are the highest rated. What problem might you encounter if you rely exclusively on ratings alone to determine the quality of an app?"
      ]
    },
    {
      "cell_type": "code",
      "metadata": {
        "id": "rp7vFHBMn7st",
        "colab": {
          "base_uri": "https://localhost:8080/",
          "height": 309
        },
        "outputId": "4b145890-952f-439f-dee8-99cf4e8c5454"
      },
      "source": [
        "df_apps_clean.sort_values('Reviews', ascending=False).head()"
      ],
      "execution_count": 21,
      "outputs": [
        {
          "output_type": "execute_result",
          "data": {
            "text/html": [
              "<div>\n",
              "<style scoped>\n",
              "    .dataframe tbody tr th:only-of-type {\n",
              "        vertical-align: middle;\n",
              "    }\n",
              "\n",
              "    .dataframe tbody tr th {\n",
              "        vertical-align: top;\n",
              "    }\n",
              "\n",
              "    .dataframe thead th {\n",
              "        text-align: right;\n",
              "    }\n",
              "</style>\n",
              "<table border=\"1\" class=\"dataframe\">\n",
              "  <thead>\n",
              "    <tr style=\"text-align: right;\">\n",
              "      <th></th>\n",
              "      <th>App</th>\n",
              "      <th>Category</th>\n",
              "      <th>Rating</th>\n",
              "      <th>Reviews</th>\n",
              "      <th>Size_MBs</th>\n",
              "      <th>Installs</th>\n",
              "      <th>Type</th>\n",
              "      <th>Price</th>\n",
              "      <th>Content_Rating</th>\n",
              "      <th>Genres</th>\n",
              "    </tr>\n",
              "  </thead>\n",
              "  <tbody>\n",
              "    <tr>\n",
              "      <th>10805</th>\n",
              "      <td>Facebook</td>\n",
              "      <td>SOCIAL</td>\n",
              "      <td>4.10</td>\n",
              "      <td>78158306</td>\n",
              "      <td>5.30</td>\n",
              "      <td>1,000,000,000</td>\n",
              "      <td>Free</td>\n",
              "      <td>0</td>\n",
              "      <td>Teen</td>\n",
              "      <td>Social</td>\n",
              "    </tr>\n",
              "    <tr>\n",
              "      <th>10785</th>\n",
              "      <td>WhatsApp Messenger</td>\n",
              "      <td>COMMUNICATION</td>\n",
              "      <td>4.40</td>\n",
              "      <td>69119316</td>\n",
              "      <td>3.50</td>\n",
              "      <td>1,000,000,000</td>\n",
              "      <td>Free</td>\n",
              "      <td>0</td>\n",
              "      <td>Everyone</td>\n",
              "      <td>Communication</td>\n",
              "    </tr>\n",
              "    <tr>\n",
              "      <th>10806</th>\n",
              "      <td>Instagram</td>\n",
              "      <td>SOCIAL</td>\n",
              "      <td>4.50</td>\n",
              "      <td>66577313</td>\n",
              "      <td>5.30</td>\n",
              "      <td>1,000,000,000</td>\n",
              "      <td>Free</td>\n",
              "      <td>0</td>\n",
              "      <td>Teen</td>\n",
              "      <td>Social</td>\n",
              "    </tr>\n",
              "    <tr>\n",
              "      <th>10784</th>\n",
              "      <td>Messenger – Text and Video Chat for Free</td>\n",
              "      <td>COMMUNICATION</td>\n",
              "      <td>4.00</td>\n",
              "      <td>56642847</td>\n",
              "      <td>3.50</td>\n",
              "      <td>1,000,000,000</td>\n",
              "      <td>Free</td>\n",
              "      <td>0</td>\n",
              "      <td>Everyone</td>\n",
              "      <td>Communication</td>\n",
              "    </tr>\n",
              "    <tr>\n",
              "      <th>10650</th>\n",
              "      <td>Clash of Clans</td>\n",
              "      <td>GAME</td>\n",
              "      <td>4.60</td>\n",
              "      <td>44891723</td>\n",
              "      <td>98.00</td>\n",
              "      <td>100,000,000</td>\n",
              "      <td>Free</td>\n",
              "      <td>0</td>\n",
              "      <td>Everyone 10+</td>\n",
              "      <td>Strategy</td>\n",
              "    </tr>\n",
              "  </tbody>\n",
              "</table>\n",
              "</div>"
            ],
            "text/plain": [
              "                                            App  ...         Genres\n",
              "10805                                  Facebook  ...         Social\n",
              "10785                        WhatsApp Messenger  ...  Communication\n",
              "10806                                 Instagram  ...         Social\n",
              "10784  Messenger – Text and Video Chat for Free  ...  Communication\n",
              "10650                            Clash of Clans  ...       Strategy\n",
              "\n",
              "[5 rows x 10 columns]"
            ]
          },
          "metadata": {
            "tags": []
          },
          "execution_count": 21
        }
      ]
    },
    {
      "cell_type": "markdown",
      "metadata": {
        "id": "28o1Tro4diUi"
      },
      "source": [
        "# Find 5 Largest Apps in terms of Size (MBs)\n",
        "\n",
        "**Challenge**: What's the size in megabytes (MB) of the largest Android apps in the Google Play Store. Based on the data, do you think there could be limit in place or can developers make apps as large as they please? "
      ]
    },
    {
      "cell_type": "code",
      "metadata": {
        "id": "n5r0pJCOn9Vu",
        "colab": {
          "base_uri": "https://localhost:8080/",
          "height": 428
        },
        "outputId": "4cdf3c67-b687-42ca-8153-3cf0e05253eb"
      },
      "source": [
        "df_apps_clean.sort_values('Size_MBs', ascending=False).head()"
      ],
      "execution_count": 24,
      "outputs": [
        {
          "output_type": "execute_result",
          "data": {
            "text/html": [
              "<div>\n",
              "<style scoped>\n",
              "    .dataframe tbody tr th:only-of-type {\n",
              "        vertical-align: middle;\n",
              "    }\n",
              "\n",
              "    .dataframe tbody tr th {\n",
              "        vertical-align: top;\n",
              "    }\n",
              "\n",
              "    .dataframe thead th {\n",
              "        text-align: right;\n",
              "    }\n",
              "</style>\n",
              "<table border=\"1\" class=\"dataframe\">\n",
              "  <thead>\n",
              "    <tr style=\"text-align: right;\">\n",
              "      <th></th>\n",
              "      <th>App</th>\n",
              "      <th>Category</th>\n",
              "      <th>Rating</th>\n",
              "      <th>Reviews</th>\n",
              "      <th>Size_MBs</th>\n",
              "      <th>Installs</th>\n",
              "      <th>Type</th>\n",
              "      <th>Price</th>\n",
              "      <th>Content_Rating</th>\n",
              "      <th>Genres</th>\n",
              "    </tr>\n",
              "  </thead>\n",
              "  <tbody>\n",
              "    <tr>\n",
              "      <th>9942</th>\n",
              "      <td>Talking Babsy Baby: Baby Games</td>\n",
              "      <td>LIFESTYLE</td>\n",
              "      <td>4.00</td>\n",
              "      <td>140995</td>\n",
              "      <td>100.00</td>\n",
              "      <td>10,000,000</td>\n",
              "      <td>Free</td>\n",
              "      <td>0</td>\n",
              "      <td>Everyone</td>\n",
              "      <td>Lifestyle;Pretend Play</td>\n",
              "    </tr>\n",
              "    <tr>\n",
              "      <th>10687</th>\n",
              "      <td>Hungry Shark Evolution</td>\n",
              "      <td>GAME</td>\n",
              "      <td>4.50</td>\n",
              "      <td>6074334</td>\n",
              "      <td>100.00</td>\n",
              "      <td>100,000,000</td>\n",
              "      <td>Free</td>\n",
              "      <td>0</td>\n",
              "      <td>Teen</td>\n",
              "      <td>Arcade</td>\n",
              "    </tr>\n",
              "    <tr>\n",
              "      <th>9943</th>\n",
              "      <td>Miami crime simulator</td>\n",
              "      <td>GAME</td>\n",
              "      <td>4.00</td>\n",
              "      <td>254518</td>\n",
              "      <td>100.00</td>\n",
              "      <td>10,000,000</td>\n",
              "      <td>Free</td>\n",
              "      <td>0</td>\n",
              "      <td>Mature 17+</td>\n",
              "      <td>Action</td>\n",
              "    </tr>\n",
              "    <tr>\n",
              "      <th>9944</th>\n",
              "      <td>Gangster Town: Vice District</td>\n",
              "      <td>FAMILY</td>\n",
              "      <td>4.30</td>\n",
              "      <td>65146</td>\n",
              "      <td>100.00</td>\n",
              "      <td>10,000,000</td>\n",
              "      <td>Free</td>\n",
              "      <td>0</td>\n",
              "      <td>Mature 17+</td>\n",
              "      <td>Simulation</td>\n",
              "    </tr>\n",
              "    <tr>\n",
              "      <th>3144</th>\n",
              "      <td>Vi Trainer</td>\n",
              "      <td>HEALTH_AND_FITNESS</td>\n",
              "      <td>3.60</td>\n",
              "      <td>124</td>\n",
              "      <td>100.00</td>\n",
              "      <td>5,000</td>\n",
              "      <td>Free</td>\n",
              "      <td>0</td>\n",
              "      <td>Everyone</td>\n",
              "      <td>Health &amp; Fitness</td>\n",
              "    </tr>\n",
              "  </tbody>\n",
              "</table>\n",
              "</div>"
            ],
            "text/plain": [
              "                                  App  ...                  Genres\n",
              "9942   Talking Babsy Baby: Baby Games  ...  Lifestyle;Pretend Play\n",
              "10687          Hungry Shark Evolution  ...                  Arcade\n",
              "9943            Miami crime simulator  ...                  Action\n",
              "9944     Gangster Town: Vice District  ...              Simulation\n",
              "3144                       Vi Trainer  ...        Health & Fitness\n",
              "\n",
              "[5 rows x 10 columns]"
            ]
          },
          "metadata": {
            "tags": []
          },
          "execution_count": 24
        }
      ]
    },
    {
      "cell_type": "markdown",
      "metadata": {
        "id": "C3gTckh7diUk"
      },
      "source": [
        "# Find the 5 App with Most Reviews\n",
        "\n",
        "**Challenge**: Which apps have the highest number of reviews? Are there any paid apps among the top 50?"
      ]
    },
    {
      "cell_type": "code",
      "metadata": {
        "id": "TLt98G0Sn_De",
        "colab": {
          "base_uri": "https://localhost:8080/",
          "height": 309
        },
        "outputId": "fc67f3cd-242c-423e-fa27-596be0b9e155"
      },
      "source": [
        "df_apps_clean.sort_values('Reviews', ascending=False).head()"
      ],
      "execution_count": 25,
      "outputs": [
        {
          "output_type": "execute_result",
          "data": {
            "text/html": [
              "<div>\n",
              "<style scoped>\n",
              "    .dataframe tbody tr th:only-of-type {\n",
              "        vertical-align: middle;\n",
              "    }\n",
              "\n",
              "    .dataframe tbody tr th {\n",
              "        vertical-align: top;\n",
              "    }\n",
              "\n",
              "    .dataframe thead th {\n",
              "        text-align: right;\n",
              "    }\n",
              "</style>\n",
              "<table border=\"1\" class=\"dataframe\">\n",
              "  <thead>\n",
              "    <tr style=\"text-align: right;\">\n",
              "      <th></th>\n",
              "      <th>App</th>\n",
              "      <th>Category</th>\n",
              "      <th>Rating</th>\n",
              "      <th>Reviews</th>\n",
              "      <th>Size_MBs</th>\n",
              "      <th>Installs</th>\n",
              "      <th>Type</th>\n",
              "      <th>Price</th>\n",
              "      <th>Content_Rating</th>\n",
              "      <th>Genres</th>\n",
              "    </tr>\n",
              "  </thead>\n",
              "  <tbody>\n",
              "    <tr>\n",
              "      <th>10805</th>\n",
              "      <td>Facebook</td>\n",
              "      <td>SOCIAL</td>\n",
              "      <td>4.10</td>\n",
              "      <td>78158306</td>\n",
              "      <td>5.30</td>\n",
              "      <td>1,000,000,000</td>\n",
              "      <td>Free</td>\n",
              "      <td>0</td>\n",
              "      <td>Teen</td>\n",
              "      <td>Social</td>\n",
              "    </tr>\n",
              "    <tr>\n",
              "      <th>10785</th>\n",
              "      <td>WhatsApp Messenger</td>\n",
              "      <td>COMMUNICATION</td>\n",
              "      <td>4.40</td>\n",
              "      <td>69119316</td>\n",
              "      <td>3.50</td>\n",
              "      <td>1,000,000,000</td>\n",
              "      <td>Free</td>\n",
              "      <td>0</td>\n",
              "      <td>Everyone</td>\n",
              "      <td>Communication</td>\n",
              "    </tr>\n",
              "    <tr>\n",
              "      <th>10806</th>\n",
              "      <td>Instagram</td>\n",
              "      <td>SOCIAL</td>\n",
              "      <td>4.50</td>\n",
              "      <td>66577313</td>\n",
              "      <td>5.30</td>\n",
              "      <td>1,000,000,000</td>\n",
              "      <td>Free</td>\n",
              "      <td>0</td>\n",
              "      <td>Teen</td>\n",
              "      <td>Social</td>\n",
              "    </tr>\n",
              "    <tr>\n",
              "      <th>10784</th>\n",
              "      <td>Messenger – Text and Video Chat for Free</td>\n",
              "      <td>COMMUNICATION</td>\n",
              "      <td>4.00</td>\n",
              "      <td>56642847</td>\n",
              "      <td>3.50</td>\n",
              "      <td>1,000,000,000</td>\n",
              "      <td>Free</td>\n",
              "      <td>0</td>\n",
              "      <td>Everyone</td>\n",
              "      <td>Communication</td>\n",
              "    </tr>\n",
              "    <tr>\n",
              "      <th>10650</th>\n",
              "      <td>Clash of Clans</td>\n",
              "      <td>GAME</td>\n",
              "      <td>4.60</td>\n",
              "      <td>44891723</td>\n",
              "      <td>98.00</td>\n",
              "      <td>100,000,000</td>\n",
              "      <td>Free</td>\n",
              "      <td>0</td>\n",
              "      <td>Everyone 10+</td>\n",
              "      <td>Strategy</td>\n",
              "    </tr>\n",
              "  </tbody>\n",
              "</table>\n",
              "</div>"
            ],
            "text/plain": [
              "                                            App  ...         Genres\n",
              "10805                                  Facebook  ...         Social\n",
              "10785                        WhatsApp Messenger  ...  Communication\n",
              "10806                                 Instagram  ...         Social\n",
              "10784  Messenger – Text and Video Chat for Free  ...  Communication\n",
              "10650                            Clash of Clans  ...       Strategy\n",
              "\n",
              "[5 rows x 10 columns]"
            ]
          },
          "metadata": {
            "tags": []
          },
          "execution_count": 25
        }
      ]
    },
    {
      "cell_type": "markdown",
      "metadata": {
        "id": "BFoRqpezjebe"
      },
      "source": [
        "# Plotly Pie and Donut Charts - Visualise Categorical Data: Content Ratings"
      ]
    },
    {
      "cell_type": "code",
      "metadata": {
        "id": "EPBEvNH-KilU"
      },
      "source": [
        "ratings = df_apps_clean.Content_Rating.value_counts()"
      ],
      "execution_count": 26,
      "outputs": []
    },
    {
      "cell_type": "code",
      "metadata": {
        "id": "c0IIxNGnoFKM",
        "colab": {
          "base_uri": "https://localhost:8080/"
        },
        "outputId": "4a564d86-17c9-411e-8557-49ae4f6882cf"
      },
      "source": [
        "ratings"
      ],
      "execution_count": 27,
      "outputs": [
        {
          "output_type": "execute_result",
          "data": {
            "text/plain": [
              "Everyone           6621\n",
              "Teen                912\n",
              "Mature 17+          357\n",
              "Everyone 10+        305\n",
              "Adults only 18+       3\n",
              "Unrated               1\n",
              "Name: Content_Rating, dtype: int64"
            ]
          },
          "metadata": {
            "tags": []
          },
          "execution_count": 27
        }
      ]
    },
    {
      "cell_type": "code",
      "metadata": {
        "id": "TSiV6ZkjoFVg"
      },
      "source": [
        "fig = px.pie(labels=ratings.index, values=ratings.values)"
      ],
      "execution_count": 30,
      "outputs": []
    },
    {
      "cell_type": "code",
      "metadata": {
        "id": "7kil2mdfoFOr",
        "colab": {
          "base_uri": "https://localhost:8080/",
          "height": 542
        },
        "outputId": "b6bf5db4-dc97-4891-b70e-ba0a053b97ba"
      },
      "source": [
        "fig.show()"
      ],
      "execution_count": 31,
      "outputs": [
        {
          "output_type": "display_data",
          "data": {
            "text/html": [
              "<html>\n",
              "<head><meta charset=\"utf-8\" /></head>\n",
              "<body>\n",
              "    <div>\n",
              "            <script src=\"https://cdnjs.cloudflare.com/ajax/libs/mathjax/2.7.5/MathJax.js?config=TeX-AMS-MML_SVG\"></script><script type=\"text/javascript\">if (window.MathJax) {MathJax.Hub.Config({SVG: {font: \"STIX-Web\"}});}</script>\n",
              "                <script type=\"text/javascript\">window.PlotlyConfig = {MathJaxConfig: 'local'};</script>\n",
              "        <script src=\"https://cdn.plot.ly/plotly-latest.min.js\"></script>    \n",
              "            <div id=\"0200f6a5-881c-45f1-9acd-c38278837d5b\" class=\"plotly-graph-div\" style=\"height:525px; width:100%;\"></div>\n",
              "            <script type=\"text/javascript\">\n",
              "                \n",
              "                    window.PLOTLYENV=window.PLOTLYENV || {};\n",
              "                    \n",
              "                if (document.getElementById(\"0200f6a5-881c-45f1-9acd-c38278837d5b\")) {\n",
              "                    Plotly.newPlot(\n",
              "                        '0200f6a5-881c-45f1-9acd-c38278837d5b',\n",
              "                        [{\"domain\": {\"x\": [0.0, 1.0], \"y\": [0.0, 1.0]}, \"hoverlabel\": {\"namelength\": 0}, \"hovertemplate\": \"value=%{value}\", \"legendgroup\": \"\", \"name\": \"\", \"showlegend\": false, \"type\": \"pie\", \"values\": [6621, 912, 357, 305, 3, 1]}],\n",
              "                        {\"legend\": {\"tracegroupgap\": 0}, \"margin\": {\"t\": 60}, \"template\": {\"data\": {\"bar\": [{\"error_x\": {\"color\": \"#2a3f5f\"}, \"error_y\": {\"color\": \"#2a3f5f\"}, \"marker\": {\"line\": {\"color\": \"#E5ECF6\", \"width\": 0.5}}, \"type\": \"bar\"}], \"barpolar\": [{\"marker\": {\"line\": {\"color\": \"#E5ECF6\", \"width\": 0.5}}, \"type\": \"barpolar\"}], \"carpet\": [{\"aaxis\": {\"endlinecolor\": \"#2a3f5f\", \"gridcolor\": \"white\", \"linecolor\": \"white\", \"minorgridcolor\": \"white\", \"startlinecolor\": \"#2a3f5f\"}, \"baxis\": {\"endlinecolor\": \"#2a3f5f\", \"gridcolor\": \"white\", \"linecolor\": \"white\", \"minorgridcolor\": \"white\", \"startlinecolor\": \"#2a3f5f\"}, \"type\": \"carpet\"}], \"choropleth\": [{\"colorbar\": {\"outlinewidth\": 0, \"ticks\": \"\"}, \"type\": \"choropleth\"}], \"contour\": [{\"colorbar\": {\"outlinewidth\": 0, \"ticks\": \"\"}, \"colorscale\": [[0.0, \"#0d0887\"], [0.1111111111111111, \"#46039f\"], [0.2222222222222222, \"#7201a8\"], [0.3333333333333333, \"#9c179e\"], [0.4444444444444444, \"#bd3786\"], [0.5555555555555556, \"#d8576b\"], [0.6666666666666666, \"#ed7953\"], [0.7777777777777778, \"#fb9f3a\"], [0.8888888888888888, \"#fdca26\"], [1.0, \"#f0f921\"]], \"type\": \"contour\"}], \"contourcarpet\": [{\"colorbar\": {\"outlinewidth\": 0, \"ticks\": \"\"}, \"type\": \"contourcarpet\"}], \"heatmap\": [{\"colorbar\": {\"outlinewidth\": 0, \"ticks\": \"\"}, \"colorscale\": [[0.0, \"#0d0887\"], [0.1111111111111111, \"#46039f\"], [0.2222222222222222, \"#7201a8\"], [0.3333333333333333, \"#9c179e\"], [0.4444444444444444, \"#bd3786\"], [0.5555555555555556, \"#d8576b\"], [0.6666666666666666, \"#ed7953\"], [0.7777777777777778, \"#fb9f3a\"], [0.8888888888888888, \"#fdca26\"], [1.0, \"#f0f921\"]], \"type\": \"heatmap\"}], \"heatmapgl\": [{\"colorbar\": {\"outlinewidth\": 0, \"ticks\": \"\"}, \"colorscale\": [[0.0, \"#0d0887\"], [0.1111111111111111, \"#46039f\"], [0.2222222222222222, \"#7201a8\"], [0.3333333333333333, \"#9c179e\"], [0.4444444444444444, \"#bd3786\"], [0.5555555555555556, \"#d8576b\"], [0.6666666666666666, \"#ed7953\"], [0.7777777777777778, \"#fb9f3a\"], [0.8888888888888888, \"#fdca26\"], [1.0, \"#f0f921\"]], \"type\": \"heatmapgl\"}], \"histogram\": [{\"marker\": {\"colorbar\": {\"outlinewidth\": 0, \"ticks\": \"\"}}, \"type\": \"histogram\"}], \"histogram2d\": [{\"colorbar\": {\"outlinewidth\": 0, \"ticks\": \"\"}, \"colorscale\": [[0.0, \"#0d0887\"], [0.1111111111111111, \"#46039f\"], [0.2222222222222222, \"#7201a8\"], [0.3333333333333333, \"#9c179e\"], [0.4444444444444444, \"#bd3786\"], [0.5555555555555556, \"#d8576b\"], [0.6666666666666666, \"#ed7953\"], [0.7777777777777778, \"#fb9f3a\"], [0.8888888888888888, \"#fdca26\"], [1.0, \"#f0f921\"]], \"type\": \"histogram2d\"}], \"histogram2dcontour\": [{\"colorbar\": {\"outlinewidth\": 0, \"ticks\": \"\"}, \"colorscale\": [[0.0, \"#0d0887\"], [0.1111111111111111, \"#46039f\"], [0.2222222222222222, \"#7201a8\"], [0.3333333333333333, \"#9c179e\"], [0.4444444444444444, \"#bd3786\"], [0.5555555555555556, \"#d8576b\"], [0.6666666666666666, \"#ed7953\"], [0.7777777777777778, \"#fb9f3a\"], [0.8888888888888888, \"#fdca26\"], [1.0, \"#f0f921\"]], \"type\": \"histogram2dcontour\"}], \"mesh3d\": [{\"colorbar\": {\"outlinewidth\": 0, \"ticks\": \"\"}, \"type\": \"mesh3d\"}], \"parcoords\": [{\"line\": {\"colorbar\": {\"outlinewidth\": 0, \"ticks\": \"\"}}, \"type\": \"parcoords\"}], \"pie\": [{\"automargin\": true, \"type\": \"pie\"}], \"scatter\": [{\"marker\": {\"colorbar\": {\"outlinewidth\": 0, \"ticks\": \"\"}}, \"type\": \"scatter\"}], \"scatter3d\": [{\"line\": {\"colorbar\": {\"outlinewidth\": 0, \"ticks\": \"\"}}, \"marker\": {\"colorbar\": {\"outlinewidth\": 0, \"ticks\": \"\"}}, \"type\": \"scatter3d\"}], \"scattercarpet\": [{\"marker\": {\"colorbar\": {\"outlinewidth\": 0, \"ticks\": \"\"}}, \"type\": \"scattercarpet\"}], \"scattergeo\": [{\"marker\": {\"colorbar\": {\"outlinewidth\": 0, \"ticks\": \"\"}}, \"type\": \"scattergeo\"}], \"scattergl\": [{\"marker\": {\"colorbar\": {\"outlinewidth\": 0, \"ticks\": \"\"}}, \"type\": \"scattergl\"}], \"scattermapbox\": [{\"marker\": {\"colorbar\": {\"outlinewidth\": 0, \"ticks\": \"\"}}, \"type\": \"scattermapbox\"}], \"scatterpolar\": [{\"marker\": {\"colorbar\": {\"outlinewidth\": 0, \"ticks\": \"\"}}, \"type\": \"scatterpolar\"}], \"scatterpolargl\": [{\"marker\": {\"colorbar\": {\"outlinewidth\": 0, \"ticks\": \"\"}}, \"type\": \"scatterpolargl\"}], \"scatterternary\": [{\"marker\": {\"colorbar\": {\"outlinewidth\": 0, \"ticks\": \"\"}}, \"type\": \"scatterternary\"}], \"surface\": [{\"colorbar\": {\"outlinewidth\": 0, \"ticks\": \"\"}, \"colorscale\": [[0.0, \"#0d0887\"], [0.1111111111111111, \"#46039f\"], [0.2222222222222222, \"#7201a8\"], [0.3333333333333333, \"#9c179e\"], [0.4444444444444444, \"#bd3786\"], [0.5555555555555556, \"#d8576b\"], [0.6666666666666666, \"#ed7953\"], [0.7777777777777778, \"#fb9f3a\"], [0.8888888888888888, \"#fdca26\"], [1.0, \"#f0f921\"]], \"type\": \"surface\"}], \"table\": [{\"cells\": {\"fill\": {\"color\": \"#EBF0F8\"}, \"line\": {\"color\": \"white\"}}, \"header\": {\"fill\": {\"color\": \"#C8D4E3\"}, \"line\": {\"color\": \"white\"}}, \"type\": \"table\"}]}, \"layout\": {\"annotationdefaults\": {\"arrowcolor\": \"#2a3f5f\", \"arrowhead\": 0, \"arrowwidth\": 1}, \"coloraxis\": {\"colorbar\": {\"outlinewidth\": 0, \"ticks\": \"\"}}, \"colorscale\": {\"diverging\": [[0, \"#8e0152\"], [0.1, \"#c51b7d\"], [0.2, \"#de77ae\"], [0.3, \"#f1b6da\"], [0.4, \"#fde0ef\"], [0.5, \"#f7f7f7\"], [0.6, \"#e6f5d0\"], [0.7, \"#b8e186\"], [0.8, \"#7fbc41\"], [0.9, \"#4d9221\"], [1, \"#276419\"]], \"sequential\": [[0.0, \"#0d0887\"], [0.1111111111111111, \"#46039f\"], [0.2222222222222222, \"#7201a8\"], [0.3333333333333333, \"#9c179e\"], [0.4444444444444444, \"#bd3786\"], [0.5555555555555556, \"#d8576b\"], [0.6666666666666666, \"#ed7953\"], [0.7777777777777778, \"#fb9f3a\"], [0.8888888888888888, \"#fdca26\"], [1.0, \"#f0f921\"]], \"sequentialminus\": [[0.0, \"#0d0887\"], [0.1111111111111111, \"#46039f\"], [0.2222222222222222, \"#7201a8\"], [0.3333333333333333, \"#9c179e\"], [0.4444444444444444, \"#bd3786\"], [0.5555555555555556, \"#d8576b\"], [0.6666666666666666, \"#ed7953\"], [0.7777777777777778, \"#fb9f3a\"], [0.8888888888888888, \"#fdca26\"], [1.0, \"#f0f921\"]]}, \"colorway\": [\"#636efa\", \"#EF553B\", \"#00cc96\", \"#ab63fa\", \"#FFA15A\", \"#19d3f3\", \"#FF6692\", \"#B6E880\", \"#FF97FF\", \"#FECB52\"], \"font\": {\"color\": \"#2a3f5f\"}, \"geo\": {\"bgcolor\": \"white\", \"lakecolor\": \"white\", \"landcolor\": \"#E5ECF6\", \"showlakes\": true, \"showland\": true, \"subunitcolor\": \"white\"}, \"hoverlabel\": {\"align\": \"left\"}, \"hovermode\": \"closest\", \"mapbox\": {\"style\": \"light\"}, \"paper_bgcolor\": \"white\", \"plot_bgcolor\": \"#E5ECF6\", \"polar\": {\"angularaxis\": {\"gridcolor\": \"white\", \"linecolor\": \"white\", \"ticks\": \"\"}, \"bgcolor\": \"#E5ECF6\", \"radialaxis\": {\"gridcolor\": \"white\", \"linecolor\": \"white\", \"ticks\": \"\"}}, \"scene\": {\"xaxis\": {\"backgroundcolor\": \"#E5ECF6\", \"gridcolor\": \"white\", \"gridwidth\": 2, \"linecolor\": \"white\", \"showbackground\": true, \"ticks\": \"\", \"zerolinecolor\": \"white\"}, \"yaxis\": {\"backgroundcolor\": \"#E5ECF6\", \"gridcolor\": \"white\", \"gridwidth\": 2, \"linecolor\": \"white\", \"showbackground\": true, \"ticks\": \"\", \"zerolinecolor\": \"white\"}, \"zaxis\": {\"backgroundcolor\": \"#E5ECF6\", \"gridcolor\": \"white\", \"gridwidth\": 2, \"linecolor\": \"white\", \"showbackground\": true, \"ticks\": \"\", \"zerolinecolor\": \"white\"}}, \"shapedefaults\": {\"line\": {\"color\": \"#2a3f5f\"}}, \"ternary\": {\"aaxis\": {\"gridcolor\": \"white\", \"linecolor\": \"white\", \"ticks\": \"\"}, \"baxis\": {\"gridcolor\": \"white\", \"linecolor\": \"white\", \"ticks\": \"\"}, \"bgcolor\": \"#E5ECF6\", \"caxis\": {\"gridcolor\": \"white\", \"linecolor\": \"white\", \"ticks\": \"\"}}, \"title\": {\"x\": 0.05}, \"xaxis\": {\"automargin\": true, \"gridcolor\": \"white\", \"linecolor\": \"white\", \"ticks\": \"\", \"title\": {\"standoff\": 15}, \"zerolinecolor\": \"white\", \"zerolinewidth\": 2}, \"yaxis\": {\"automargin\": true, \"gridcolor\": \"white\", \"linecolor\": \"white\", \"ticks\": \"\", \"title\": {\"standoff\": 15}, \"zerolinecolor\": \"white\", \"zerolinewidth\": 2}}}},\n",
              "                        {\"responsive\": true}\n",
              "                    ).then(function(){\n",
              "                            \n",
              "var gd = document.getElementById('0200f6a5-881c-45f1-9acd-c38278837d5b');\n",
              "var x = new MutationObserver(function (mutations, observer) {{\n",
              "        var display = window.getComputedStyle(gd).display;\n",
              "        if (!display || display === 'none') {{\n",
              "            console.log([gd, 'removed!']);\n",
              "            Plotly.purge(gd);\n",
              "            observer.disconnect();\n",
              "        }}\n",
              "}});\n",
              "\n",
              "// Listen for the removal of the full notebook cells\n",
              "var notebookContainer = gd.closest('#notebook-container');\n",
              "if (notebookContainer) {{\n",
              "    x.observe(notebookContainer, {childList: true});\n",
              "}}\n",
              "\n",
              "// Listen for the clearing of the current output cell\n",
              "var outputEl = gd.closest('.output');\n",
              "if (outputEl) {{\n",
              "    x.observe(outputEl, {childList: true});\n",
              "}}\n",
              "\n",
              "                        })\n",
              "                };\n",
              "                \n",
              "            </script>\n",
              "        </div>\n",
              "</body>\n",
              "</html>"
            ]
          },
          "metadata": {
            "tags": []
          }
        }
      ]
    },
    {
      "cell_type": "code",
      "metadata": {
        "id": "6ZaHYNy2oFEE",
        "colab": {
          "base_uri": "https://localhost:8080/",
          "height": 542
        },
        "outputId": "3aae9069-29b2-4d4c-d0a9-2bdf23795cfa"
      },
      "source": [
        "fig = px.pie(labels=ratings.index,\n",
        "values=ratings.values,\n",
        "title=\"Content Rating\",\n",
        "names=ratings.index,\n",
        "hole=0.6,\n",
        ")\n",
        "fig.update_traces(textposition='outside', textinfo='percent+label')\n",
        " \n",
        "fig.show()"
      ],
      "execution_count": 33,
      "outputs": [
        {
          "output_type": "display_data",
          "data": {
            "text/html": [
              "<html>\n",
              "<head><meta charset=\"utf-8\" /></head>\n",
              "<body>\n",
              "    <div>\n",
              "            <script src=\"https://cdnjs.cloudflare.com/ajax/libs/mathjax/2.7.5/MathJax.js?config=TeX-AMS-MML_SVG\"></script><script type=\"text/javascript\">if (window.MathJax) {MathJax.Hub.Config({SVG: {font: \"STIX-Web\"}});}</script>\n",
              "                <script type=\"text/javascript\">window.PlotlyConfig = {MathJaxConfig: 'local'};</script>\n",
              "        <script src=\"https://cdn.plot.ly/plotly-latest.min.js\"></script>    \n",
              "            <div id=\"74d4587c-2641-4624-9f28-9b1d12fc91bf\" class=\"plotly-graph-div\" style=\"height:525px; width:100%;\"></div>\n",
              "            <script type=\"text/javascript\">\n",
              "                \n",
              "                    window.PLOTLYENV=window.PLOTLYENV || {};\n",
              "                    \n",
              "                if (document.getElementById(\"74d4587c-2641-4624-9f28-9b1d12fc91bf\")) {\n",
              "                    Plotly.newPlot(\n",
              "                        '74d4587c-2641-4624-9f28-9b1d12fc91bf',\n",
              "                        [{\"domain\": {\"x\": [0.0, 1.0], \"y\": [0.0, 1.0]}, \"hole\": 0.6, \"hoverlabel\": {\"namelength\": 0}, \"hovertemplate\": \"label=%{label}<br>value=%{value}\", \"labels\": [\"Everyone\", \"Teen\", \"Mature 17+\", \"Everyone 10+\", \"Adults only 18+\", \"Unrated\"], \"legendgroup\": \"\", \"name\": \"\", \"showlegend\": true, \"textinfo\": \"percent+label\", \"textposition\": \"outside\", \"type\": \"pie\", \"values\": [6621, 912, 357, 305, 3, 1]}],\n",
              "                        {\"legend\": {\"tracegroupgap\": 0}, \"template\": {\"data\": {\"bar\": [{\"error_x\": {\"color\": \"#2a3f5f\"}, \"error_y\": {\"color\": \"#2a3f5f\"}, \"marker\": {\"line\": {\"color\": \"#E5ECF6\", \"width\": 0.5}}, \"type\": \"bar\"}], \"barpolar\": [{\"marker\": {\"line\": {\"color\": \"#E5ECF6\", \"width\": 0.5}}, \"type\": \"barpolar\"}], \"carpet\": [{\"aaxis\": {\"endlinecolor\": \"#2a3f5f\", \"gridcolor\": \"white\", \"linecolor\": \"white\", \"minorgridcolor\": \"white\", \"startlinecolor\": \"#2a3f5f\"}, \"baxis\": {\"endlinecolor\": \"#2a3f5f\", \"gridcolor\": \"white\", \"linecolor\": \"white\", \"minorgridcolor\": \"white\", \"startlinecolor\": \"#2a3f5f\"}, \"type\": \"carpet\"}], \"choropleth\": [{\"colorbar\": {\"outlinewidth\": 0, \"ticks\": \"\"}, \"type\": \"choropleth\"}], \"contour\": [{\"colorbar\": {\"outlinewidth\": 0, \"ticks\": \"\"}, \"colorscale\": [[0.0, \"#0d0887\"], [0.1111111111111111, \"#46039f\"], [0.2222222222222222, \"#7201a8\"], [0.3333333333333333, \"#9c179e\"], [0.4444444444444444, \"#bd3786\"], [0.5555555555555556, \"#d8576b\"], [0.6666666666666666, \"#ed7953\"], [0.7777777777777778, \"#fb9f3a\"], [0.8888888888888888, \"#fdca26\"], [1.0, \"#f0f921\"]], \"type\": \"contour\"}], \"contourcarpet\": [{\"colorbar\": {\"outlinewidth\": 0, \"ticks\": \"\"}, \"type\": \"contourcarpet\"}], \"heatmap\": [{\"colorbar\": {\"outlinewidth\": 0, \"ticks\": \"\"}, \"colorscale\": [[0.0, \"#0d0887\"], [0.1111111111111111, \"#46039f\"], [0.2222222222222222, \"#7201a8\"], [0.3333333333333333, \"#9c179e\"], [0.4444444444444444, \"#bd3786\"], [0.5555555555555556, \"#d8576b\"], [0.6666666666666666, \"#ed7953\"], [0.7777777777777778, \"#fb9f3a\"], [0.8888888888888888, \"#fdca26\"], [1.0, \"#f0f921\"]], \"type\": \"heatmap\"}], \"heatmapgl\": [{\"colorbar\": {\"outlinewidth\": 0, \"ticks\": \"\"}, \"colorscale\": [[0.0, \"#0d0887\"], [0.1111111111111111, \"#46039f\"], [0.2222222222222222, \"#7201a8\"], [0.3333333333333333, \"#9c179e\"], [0.4444444444444444, \"#bd3786\"], [0.5555555555555556, \"#d8576b\"], [0.6666666666666666, \"#ed7953\"], [0.7777777777777778, \"#fb9f3a\"], [0.8888888888888888, \"#fdca26\"], [1.0, \"#f0f921\"]], \"type\": \"heatmapgl\"}], \"histogram\": [{\"marker\": {\"colorbar\": {\"outlinewidth\": 0, \"ticks\": \"\"}}, \"type\": \"histogram\"}], \"histogram2d\": [{\"colorbar\": {\"outlinewidth\": 0, \"ticks\": \"\"}, \"colorscale\": [[0.0, \"#0d0887\"], [0.1111111111111111, \"#46039f\"], [0.2222222222222222, \"#7201a8\"], [0.3333333333333333, \"#9c179e\"], [0.4444444444444444, \"#bd3786\"], [0.5555555555555556, \"#d8576b\"], [0.6666666666666666, \"#ed7953\"], [0.7777777777777778, \"#fb9f3a\"], [0.8888888888888888, \"#fdca26\"], [1.0, \"#f0f921\"]], \"type\": \"histogram2d\"}], \"histogram2dcontour\": [{\"colorbar\": {\"outlinewidth\": 0, \"ticks\": \"\"}, \"colorscale\": [[0.0, \"#0d0887\"], [0.1111111111111111, \"#46039f\"], [0.2222222222222222, \"#7201a8\"], [0.3333333333333333, \"#9c179e\"], [0.4444444444444444, \"#bd3786\"], [0.5555555555555556, \"#d8576b\"], [0.6666666666666666, \"#ed7953\"], [0.7777777777777778, \"#fb9f3a\"], [0.8888888888888888, \"#fdca26\"], [1.0, \"#f0f921\"]], \"type\": \"histogram2dcontour\"}], \"mesh3d\": [{\"colorbar\": {\"outlinewidth\": 0, \"ticks\": \"\"}, \"type\": \"mesh3d\"}], \"parcoords\": [{\"line\": {\"colorbar\": {\"outlinewidth\": 0, \"ticks\": \"\"}}, \"type\": \"parcoords\"}], \"pie\": [{\"automargin\": true, \"type\": \"pie\"}], \"scatter\": [{\"marker\": {\"colorbar\": {\"outlinewidth\": 0, \"ticks\": \"\"}}, \"type\": \"scatter\"}], \"scatter3d\": [{\"line\": {\"colorbar\": {\"outlinewidth\": 0, \"ticks\": \"\"}}, \"marker\": {\"colorbar\": {\"outlinewidth\": 0, \"ticks\": \"\"}}, \"type\": \"scatter3d\"}], \"scattercarpet\": [{\"marker\": {\"colorbar\": {\"outlinewidth\": 0, \"ticks\": \"\"}}, \"type\": \"scattercarpet\"}], \"scattergeo\": [{\"marker\": {\"colorbar\": {\"outlinewidth\": 0, \"ticks\": \"\"}}, \"type\": \"scattergeo\"}], \"scattergl\": [{\"marker\": {\"colorbar\": {\"outlinewidth\": 0, \"ticks\": \"\"}}, \"type\": \"scattergl\"}], \"scattermapbox\": [{\"marker\": {\"colorbar\": {\"outlinewidth\": 0, \"ticks\": \"\"}}, \"type\": \"scattermapbox\"}], \"scatterpolar\": [{\"marker\": {\"colorbar\": {\"outlinewidth\": 0, \"ticks\": \"\"}}, \"type\": \"scatterpolar\"}], \"scatterpolargl\": [{\"marker\": {\"colorbar\": {\"outlinewidth\": 0, \"ticks\": \"\"}}, \"type\": \"scatterpolargl\"}], \"scatterternary\": [{\"marker\": {\"colorbar\": {\"outlinewidth\": 0, \"ticks\": \"\"}}, \"type\": \"scatterternary\"}], \"surface\": [{\"colorbar\": {\"outlinewidth\": 0, \"ticks\": \"\"}, \"colorscale\": [[0.0, \"#0d0887\"], [0.1111111111111111, \"#46039f\"], [0.2222222222222222, \"#7201a8\"], [0.3333333333333333, \"#9c179e\"], [0.4444444444444444, \"#bd3786\"], [0.5555555555555556, \"#d8576b\"], [0.6666666666666666, \"#ed7953\"], [0.7777777777777778, \"#fb9f3a\"], [0.8888888888888888, \"#fdca26\"], [1.0, \"#f0f921\"]], \"type\": \"surface\"}], \"table\": [{\"cells\": {\"fill\": {\"color\": \"#EBF0F8\"}, \"line\": {\"color\": \"white\"}}, \"header\": {\"fill\": {\"color\": \"#C8D4E3\"}, \"line\": {\"color\": \"white\"}}, \"type\": \"table\"}]}, \"layout\": {\"annotationdefaults\": {\"arrowcolor\": \"#2a3f5f\", \"arrowhead\": 0, \"arrowwidth\": 1}, \"coloraxis\": {\"colorbar\": {\"outlinewidth\": 0, \"ticks\": \"\"}}, \"colorscale\": {\"diverging\": [[0, \"#8e0152\"], [0.1, \"#c51b7d\"], [0.2, \"#de77ae\"], [0.3, \"#f1b6da\"], [0.4, \"#fde0ef\"], [0.5, \"#f7f7f7\"], [0.6, \"#e6f5d0\"], [0.7, \"#b8e186\"], [0.8, \"#7fbc41\"], [0.9, \"#4d9221\"], [1, \"#276419\"]], \"sequential\": [[0.0, \"#0d0887\"], [0.1111111111111111, \"#46039f\"], [0.2222222222222222, \"#7201a8\"], [0.3333333333333333, \"#9c179e\"], [0.4444444444444444, \"#bd3786\"], [0.5555555555555556, \"#d8576b\"], [0.6666666666666666, \"#ed7953\"], [0.7777777777777778, \"#fb9f3a\"], [0.8888888888888888, \"#fdca26\"], [1.0, \"#f0f921\"]], \"sequentialminus\": [[0.0, \"#0d0887\"], [0.1111111111111111, \"#46039f\"], [0.2222222222222222, \"#7201a8\"], [0.3333333333333333, \"#9c179e\"], [0.4444444444444444, \"#bd3786\"], [0.5555555555555556, \"#d8576b\"], [0.6666666666666666, \"#ed7953\"], [0.7777777777777778, \"#fb9f3a\"], [0.8888888888888888, \"#fdca26\"], [1.0, \"#f0f921\"]]}, \"colorway\": [\"#636efa\", \"#EF553B\", \"#00cc96\", \"#ab63fa\", \"#FFA15A\", \"#19d3f3\", \"#FF6692\", \"#B6E880\", \"#FF97FF\", \"#FECB52\"], \"font\": {\"color\": \"#2a3f5f\"}, \"geo\": {\"bgcolor\": \"white\", \"lakecolor\": \"white\", \"landcolor\": \"#E5ECF6\", \"showlakes\": true, \"showland\": true, \"subunitcolor\": \"white\"}, \"hoverlabel\": {\"align\": \"left\"}, \"hovermode\": \"closest\", \"mapbox\": {\"style\": \"light\"}, \"paper_bgcolor\": \"white\", \"plot_bgcolor\": \"#E5ECF6\", \"polar\": {\"angularaxis\": {\"gridcolor\": \"white\", \"linecolor\": \"white\", \"ticks\": \"\"}, \"bgcolor\": \"#E5ECF6\", \"radialaxis\": {\"gridcolor\": \"white\", \"linecolor\": \"white\", \"ticks\": \"\"}}, \"scene\": {\"xaxis\": {\"backgroundcolor\": \"#E5ECF6\", \"gridcolor\": \"white\", \"gridwidth\": 2, \"linecolor\": \"white\", \"showbackground\": true, \"ticks\": \"\", \"zerolinecolor\": \"white\"}, \"yaxis\": {\"backgroundcolor\": \"#E5ECF6\", \"gridcolor\": \"white\", \"gridwidth\": 2, \"linecolor\": \"white\", \"showbackground\": true, \"ticks\": \"\", \"zerolinecolor\": \"white\"}, \"zaxis\": {\"backgroundcolor\": \"#E5ECF6\", \"gridcolor\": \"white\", \"gridwidth\": 2, \"linecolor\": \"white\", \"showbackground\": true, \"ticks\": \"\", \"zerolinecolor\": \"white\"}}, \"shapedefaults\": {\"line\": {\"color\": \"#2a3f5f\"}}, \"ternary\": {\"aaxis\": {\"gridcolor\": \"white\", \"linecolor\": \"white\", \"ticks\": \"\"}, \"baxis\": {\"gridcolor\": \"white\", \"linecolor\": \"white\", \"ticks\": \"\"}, \"bgcolor\": \"#E5ECF6\", \"caxis\": {\"gridcolor\": \"white\", \"linecolor\": \"white\", \"ticks\": \"\"}}, \"title\": {\"x\": 0.05}, \"xaxis\": {\"automargin\": true, \"gridcolor\": \"white\", \"linecolor\": \"white\", \"ticks\": \"\", \"title\": {\"standoff\": 15}, \"zerolinecolor\": \"white\", \"zerolinewidth\": 2}, \"yaxis\": {\"automargin\": true, \"gridcolor\": \"white\", \"linecolor\": \"white\", \"ticks\": \"\", \"title\": {\"standoff\": 15}, \"zerolinecolor\": \"white\", \"zerolinewidth\": 2}}}, \"title\": {\"text\": \"Content Rating\"}},\n",
              "                        {\"responsive\": true}\n",
              "                    ).then(function(){\n",
              "                            \n",
              "var gd = document.getElementById('74d4587c-2641-4624-9f28-9b1d12fc91bf');\n",
              "var x = new MutationObserver(function (mutations, observer) {{\n",
              "        var display = window.getComputedStyle(gd).display;\n",
              "        if (!display || display === 'none') {{\n",
              "            console.log([gd, 'removed!']);\n",
              "            Plotly.purge(gd);\n",
              "            observer.disconnect();\n",
              "        }}\n",
              "}});\n",
              "\n",
              "// Listen for the removal of the full notebook cells\n",
              "var notebookContainer = gd.closest('#notebook-container');\n",
              "if (notebookContainer) {{\n",
              "    x.observe(notebookContainer, {childList: true});\n",
              "}}\n",
              "\n",
              "// Listen for the clearing of the current output cell\n",
              "var outputEl = gd.closest('.output');\n",
              "if (outputEl) {{\n",
              "    x.observe(outputEl, {childList: true});\n",
              "}}\n",
              "\n",
              "                        })\n",
              "                };\n",
              "                \n",
              "            </script>\n",
              "        </div>\n",
              "</body>\n",
              "</html>"
            ]
          },
          "metadata": {
            "tags": []
          }
        }
      ]
    },
    {
      "cell_type": "markdown",
      "metadata": {
        "id": "RoPpW37xdiUm"
      },
      "source": [
        "# Numeric Type Conversion: Examine the Number of Installs\n",
        "\n",
        "**Challenge**: How many apps had over 1 billion (that's right - BILLION) installations? How many apps just had a single install? \n",
        "\n",
        "Check the datatype of the Installs column.\n",
        "\n",
        "Count the number of apps at each level of installations. \n",
        "\n",
        "Convert the number of installations (the Installs column) to a numeric data type. Hint: this is a 2-step process. You'll have make sure you remove non-numeric characters first. "
      ]
    },
    {
      "cell_type": "code",
      "metadata": {
        "id": "uTNyWsPboJLq",
        "colab": {
          "base_uri": "https://localhost:8080/"
        },
        "outputId": "330677ed-f575-4c1d-e3b5-074b1c7b137d"
      },
      "source": [
        "df_apps_clean.Installs.describe()"
      ],
      "execution_count": 43,
      "outputs": [
        {
          "output_type": "execute_result",
          "data": {
            "text/plain": [
              "count          8199\n",
              "unique           19\n",
              "top       1,000,000\n",
              "freq           1417\n",
              "Name: Installs, dtype: object"
            ]
          },
          "metadata": {
            "tags": []
          },
          "execution_count": 43
        }
      ]
    },
    {
      "cell_type": "code",
      "metadata": {
        "id": "yzR49fYcoJRI",
        "colab": {
          "base_uri": "https://localhost:8080/"
        },
        "outputId": "f1ab1a24-7e76-473f-da09-1eee0a2d081c"
      },
      "source": [
        "df_apps_clean.Installs.value_counts()"
      ],
      "execution_count": 42,
      "outputs": [
        {
          "output_type": "execute_result",
          "data": {
            "text/plain": [
              "1,000,000        1417\n",
              "100,000          1096\n",
              "10,000            988\n",
              "10,000,000        933\n",
              "1,000             698\n",
              "5,000,000         607\n",
              "500,000           504\n",
              "50,000            457\n",
              "5,000             425\n",
              "100               303\n",
              "50,000,000        202\n",
              "500               199\n",
              "100,000,000       189\n",
              "10                 69\n",
              "50                 56\n",
              "500,000,000        24\n",
              "1,000,000,000      20\n",
              "5                   9\n",
              "1                   3\n",
              "Name: Installs, dtype: int64"
            ]
          },
          "metadata": {
            "tags": []
          },
          "execution_count": 42
        }
      ]
    },
    {
      "cell_type": "code",
      "metadata": {
        "id": "cFjptR-JoJOE"
      },
      "source": [
        "df_apps_clean.Installs = df_apps_clean.Installs.astype(str).str.replace(',', \"\")\n",
        "df_apps_clean.Installs = pd.to_numeric(df_apps_clean.Installs)"
      ],
      "execution_count": 44,
      "outputs": []
    },
    {
      "cell_type": "code",
      "metadata": {
        "id": "8AMmxKHgoJGT",
        "colab": {
          "base_uri": "https://localhost:8080/",
          "height": 360
        },
        "outputId": "b04af881-45d9-492d-8b44-0351e9a10e26"
      },
      "source": [
        "df_apps_clean.tail()"
      ],
      "execution_count": 46,
      "outputs": [
        {
          "output_type": "execute_result",
          "data": {
            "text/html": [
              "<div>\n",
              "<style scoped>\n",
              "    .dataframe tbody tr th:only-of-type {\n",
              "        vertical-align: middle;\n",
              "    }\n",
              "\n",
              "    .dataframe tbody tr th {\n",
              "        vertical-align: top;\n",
              "    }\n",
              "\n",
              "    .dataframe thead th {\n",
              "        text-align: right;\n",
              "    }\n",
              "</style>\n",
              "<table border=\"1\" class=\"dataframe\">\n",
              "  <thead>\n",
              "    <tr style=\"text-align: right;\">\n",
              "      <th></th>\n",
              "      <th>App</th>\n",
              "      <th>Category</th>\n",
              "      <th>Rating</th>\n",
              "      <th>Reviews</th>\n",
              "      <th>Size_MBs</th>\n",
              "      <th>Installs</th>\n",
              "      <th>Type</th>\n",
              "      <th>Price</th>\n",
              "      <th>Content_Rating</th>\n",
              "      <th>Genres</th>\n",
              "    </tr>\n",
              "  </thead>\n",
              "  <tbody>\n",
              "    <tr>\n",
              "      <th>10824</th>\n",
              "      <td>Google Drive</td>\n",
              "      <td>PRODUCTIVITY</td>\n",
              "      <td>4.40</td>\n",
              "      <td>2731171</td>\n",
              "      <td>4.00</td>\n",
              "      <td>1000000000</td>\n",
              "      <td>Free</td>\n",
              "      <td>0</td>\n",
              "      <td>Everyone</td>\n",
              "      <td>Productivity</td>\n",
              "    </tr>\n",
              "    <tr>\n",
              "      <th>10828</th>\n",
              "      <td>YouTube</td>\n",
              "      <td>VIDEO_PLAYERS</td>\n",
              "      <td>4.30</td>\n",
              "      <td>25655305</td>\n",
              "      <td>4.65</td>\n",
              "      <td>1000000000</td>\n",
              "      <td>Free</td>\n",
              "      <td>0</td>\n",
              "      <td>Teen</td>\n",
              "      <td>Video Players &amp; Editors</td>\n",
              "    </tr>\n",
              "    <tr>\n",
              "      <th>10829</th>\n",
              "      <td>Google Play Movies &amp; TV</td>\n",
              "      <td>VIDEO_PLAYERS</td>\n",
              "      <td>3.70</td>\n",
              "      <td>906384</td>\n",
              "      <td>4.65</td>\n",
              "      <td>1000000000</td>\n",
              "      <td>Free</td>\n",
              "      <td>0</td>\n",
              "      <td>Teen</td>\n",
              "      <td>Video Players &amp; Editors</td>\n",
              "    </tr>\n",
              "    <tr>\n",
              "      <th>10831</th>\n",
              "      <td>Google News</td>\n",
              "      <td>NEWS_AND_MAGAZINES</td>\n",
              "      <td>3.90</td>\n",
              "      <td>877635</td>\n",
              "      <td>13.00</td>\n",
              "      <td>1000000000</td>\n",
              "      <td>Free</td>\n",
              "      <td>0</td>\n",
              "      <td>Teen</td>\n",
              "      <td>News &amp; Magazines</td>\n",
              "    </tr>\n",
              "    <tr>\n",
              "      <th>10835</th>\n",
              "      <td>Subway Surfers</td>\n",
              "      <td>GAME</td>\n",
              "      <td>4.50</td>\n",
              "      <td>27722264</td>\n",
              "      <td>76.00</td>\n",
              "      <td>1000000000</td>\n",
              "      <td>Free</td>\n",
              "      <td>0</td>\n",
              "      <td>Everyone 10+</td>\n",
              "      <td>Arcade</td>\n",
              "    </tr>\n",
              "  </tbody>\n",
              "</table>\n",
              "</div>"
            ],
            "text/plain": [
              "                           App  ...                   Genres\n",
              "10824             Google Drive  ...             Productivity\n",
              "10828                  YouTube  ...  Video Players & Editors\n",
              "10829  Google Play Movies & TV  ...  Video Players & Editors\n",
              "10831              Google News  ...         News & Magazines\n",
              "10835           Subway Surfers  ...                   Arcade\n",
              "\n",
              "[5 rows x 10 columns]"
            ]
          },
          "metadata": {
            "tags": []
          },
          "execution_count": 46
        }
      ]
    },
    {
      "cell_type": "markdown",
      "metadata": {
        "id": "7T4sfNpFdiUv"
      },
      "source": [
        "# Find the Most Expensive Apps, Filter out the Junk, and Calculate a (ballpark) Sales Revenue Estimate\n",
        "\n",
        "Let's examine the Price column more closely.\n",
        "\n",
        "**Challenge**: Convert the price column to numeric data. Then investigate the top 20 most expensive apps in the dataset.\n",
        "\n",
        "Remove all apps that cost more than $250 from the `df_apps_clean` DataFrame.\n",
        "\n",
        "Add a column called 'Revenue_Estimate' to the DataFrame. This column should hold the price of the app times the number of installs. What are the top 10 highest grossing paid apps according to this estimate? Out of the top 10 highest grossing paid apps, how many are games?\n"
      ]
    },
    {
      "cell_type": "code",
      "metadata": {
        "id": "CqhX2WCJoQEp"
      },
      "source": [
        "df_apps_clean.Price = df_apps_clean.Price.astype(str).str.replace('$', \"\")\n",
        "df_apps_clean.Price = pd.to_numeric(df_apps_clean.Price)"
      ],
      "execution_count": 48,
      "outputs": []
    },
    {
      "cell_type": "markdown",
      "metadata": {
        "id": "Rgposh-CdiU4"
      },
      "source": [
        "### The most expensive apps sub $250"
      ]
    },
    {
      "cell_type": "code",
      "metadata": {
        "id": "c8_n8z8XoUML",
        "colab": {
          "base_uri": "https://localhost:8080/",
          "height": 221
        },
        "outputId": "1cc41f56-7f2f-41cb-c36d-76cca0340866"
      },
      "source": [
        "df_apps_clean[df_apps_clean['Price'] < 300].sort_values('Price', ascending=False).head()"
      ],
      "execution_count": 52,
      "outputs": [
        {
          "output_type": "execute_result",
          "data": {
            "text/html": [
              "<div>\n",
              "<style scoped>\n",
              "    .dataframe tbody tr th:only-of-type {\n",
              "        vertical-align: middle;\n",
              "    }\n",
              "\n",
              "    .dataframe tbody tr th {\n",
              "        vertical-align: top;\n",
              "    }\n",
              "\n",
              "    .dataframe thead th {\n",
              "        text-align: right;\n",
              "    }\n",
              "</style>\n",
              "<table border=\"1\" class=\"dataframe\">\n",
              "  <thead>\n",
              "    <tr style=\"text-align: right;\">\n",
              "      <th></th>\n",
              "      <th>App</th>\n",
              "      <th>Category</th>\n",
              "      <th>Rating</th>\n",
              "      <th>Reviews</th>\n",
              "      <th>Size_MBs</th>\n",
              "      <th>Installs</th>\n",
              "      <th>Type</th>\n",
              "      <th>Price</th>\n",
              "      <th>Content_Rating</th>\n",
              "      <th>Genres</th>\n",
              "    </tr>\n",
              "  </thead>\n",
              "  <tbody>\n",
              "    <tr>\n",
              "      <th>3856</th>\n",
              "      <td>I am rich VIP</td>\n",
              "      <td>LIFESTYLE</td>\n",
              "      <td>3.80</td>\n",
              "      <td>411</td>\n",
              "      <td>2.60</td>\n",
              "      <td>10000</td>\n",
              "      <td>Paid</td>\n",
              "      <td>299.99</td>\n",
              "      <td>Everyone</td>\n",
              "      <td>Lifestyle</td>\n",
              "    </tr>\n",
              "    <tr>\n",
              "      <th>2281</th>\n",
              "      <td>Vargo Anesthesia Mega App</td>\n",
              "      <td>MEDICAL</td>\n",
              "      <td>4.60</td>\n",
              "      <td>92</td>\n",
              "      <td>32.00</td>\n",
              "      <td>1000</td>\n",
              "      <td>Paid</td>\n",
              "      <td>79.99</td>\n",
              "      <td>Everyone</td>\n",
              "      <td>Medical</td>\n",
              "    </tr>\n",
              "    <tr>\n",
              "      <th>1407</th>\n",
              "      <td>LTC AS Legal</td>\n",
              "      <td>MEDICAL</td>\n",
              "      <td>4.00</td>\n",
              "      <td>6</td>\n",
              "      <td>1.30</td>\n",
              "      <td>100</td>\n",
              "      <td>Paid</td>\n",
              "      <td>39.99</td>\n",
              "      <td>Everyone</td>\n",
              "      <td>Medical</td>\n",
              "    </tr>\n",
              "    <tr>\n",
              "      <th>2629</th>\n",
              "      <td>I am Rich Person</td>\n",
              "      <td>LIFESTYLE</td>\n",
              "      <td>4.20</td>\n",
              "      <td>134</td>\n",
              "      <td>1.80</td>\n",
              "      <td>1000</td>\n",
              "      <td>Paid</td>\n",
              "      <td>37.99</td>\n",
              "      <td>Everyone</td>\n",
              "      <td>Lifestyle</td>\n",
              "    </tr>\n",
              "    <tr>\n",
              "      <th>2481</th>\n",
              "      <td>A Manual of Acupuncture</td>\n",
              "      <td>MEDICAL</td>\n",
              "      <td>3.50</td>\n",
              "      <td>214</td>\n",
              "      <td>68.00</td>\n",
              "      <td>1000</td>\n",
              "      <td>Paid</td>\n",
              "      <td>33.99</td>\n",
              "      <td>Everyone</td>\n",
              "      <td>Medical</td>\n",
              "    </tr>\n",
              "  </tbody>\n",
              "</table>\n",
              "</div>"
            ],
            "text/plain": [
              "                            App   Category  ...  Content_Rating     Genres\n",
              "3856              I am rich VIP  LIFESTYLE  ...        Everyone  Lifestyle\n",
              "2281  Vargo Anesthesia Mega App    MEDICAL  ...        Everyone    Medical\n",
              "1407               LTC AS Legal    MEDICAL  ...        Everyone    Medical\n",
              "2629           I am Rich Person  LIFESTYLE  ...        Everyone  Lifestyle\n",
              "2481    A Manual of Acupuncture    MEDICAL  ...        Everyone    Medical\n",
              "\n",
              "[5 rows x 10 columns]"
            ]
          },
          "metadata": {
            "tags": []
          },
          "execution_count": 52
        }
      ]
    },
    {
      "cell_type": "markdown",
      "metadata": {
        "id": "VGu85CLb4OOH"
      },
      "source": [
        "### Highest Grossing Paid Apps (ballpark estimate)"
      ]
    },
    {
      "cell_type": "code",
      "metadata": {
        "id": "3mDi45iIoVzE",
        "colab": {
          "base_uri": "https://localhost:8080/",
          "height": 343
        },
        "outputId": "3ab2ab9d-df3b-4781-814a-808b283394e3"
      },
      "source": [
        "df_apps_clean[df_apps_clean['Type'] == \"Paid\"].sort_values('Installs', ascending=False).head()"
      ],
      "execution_count": 53,
      "outputs": [
        {
          "output_type": "execute_result",
          "data": {
            "text/html": [
              "<div>\n",
              "<style scoped>\n",
              "    .dataframe tbody tr th:only-of-type {\n",
              "        vertical-align: middle;\n",
              "    }\n",
              "\n",
              "    .dataframe tbody tr th {\n",
              "        vertical-align: top;\n",
              "    }\n",
              "\n",
              "    .dataframe thead th {\n",
              "        text-align: right;\n",
              "    }\n",
              "</style>\n",
              "<table border=\"1\" class=\"dataframe\">\n",
              "  <thead>\n",
              "    <tr style=\"text-align: right;\">\n",
              "      <th></th>\n",
              "      <th>App</th>\n",
              "      <th>Category</th>\n",
              "      <th>Rating</th>\n",
              "      <th>Reviews</th>\n",
              "      <th>Size_MBs</th>\n",
              "      <th>Installs</th>\n",
              "      <th>Type</th>\n",
              "      <th>Price</th>\n",
              "      <th>Content_Rating</th>\n",
              "      <th>Genres</th>\n",
              "    </tr>\n",
              "  </thead>\n",
              "  <tbody>\n",
              "    <tr>\n",
              "      <th>9220</th>\n",
              "      <td>Minecraft</td>\n",
              "      <td>FAMILY</td>\n",
              "      <td>4.50</td>\n",
              "      <td>2376564</td>\n",
              "      <td>19.00</td>\n",
              "      <td>10000000</td>\n",
              "      <td>Paid</td>\n",
              "      <td>6.99</td>\n",
              "      <td>Everyone 10+</td>\n",
              "      <td>Arcade;Action &amp; Adventure</td>\n",
              "    </tr>\n",
              "    <tr>\n",
              "      <th>8825</th>\n",
              "      <td>Hitman Sniper</td>\n",
              "      <td>GAME</td>\n",
              "      <td>4.60</td>\n",
              "      <td>408292</td>\n",
              "      <td>29.00</td>\n",
              "      <td>10000000</td>\n",
              "      <td>Paid</td>\n",
              "      <td>0.99</td>\n",
              "      <td>Mature 17+</td>\n",
              "      <td>Action</td>\n",
              "    </tr>\n",
              "    <tr>\n",
              "      <th>7633</th>\n",
              "      <td>Five Nights at Freddy's</td>\n",
              "      <td>GAME</td>\n",
              "      <td>4.60</td>\n",
              "      <td>100805</td>\n",
              "      <td>50.00</td>\n",
              "      <td>1000000</td>\n",
              "      <td>Paid</td>\n",
              "      <td>2.99</td>\n",
              "      <td>Teen</td>\n",
              "      <td>Action</td>\n",
              "    </tr>\n",
              "    <tr>\n",
              "      <th>6496</th>\n",
              "      <td>Beautiful Widgets Pro</td>\n",
              "      <td>PERSONALIZATION</td>\n",
              "      <td>4.20</td>\n",
              "      <td>97890</td>\n",
              "      <td>14.00</td>\n",
              "      <td>1000000</td>\n",
              "      <td>Paid</td>\n",
              "      <td>2.49</td>\n",
              "      <td>Everyone</td>\n",
              "      <td>Personalization</td>\n",
              "    </tr>\n",
              "    <tr>\n",
              "      <th>6548</th>\n",
              "      <td>Lost Journey (Dreamsky)</td>\n",
              "      <td>GAME</td>\n",
              "      <td>4.50</td>\n",
              "      <td>32344</td>\n",
              "      <td>29.00</td>\n",
              "      <td>1000000</td>\n",
              "      <td>Paid</td>\n",
              "      <td>0.99</td>\n",
              "      <td>Everyone</td>\n",
              "      <td>Adventure</td>\n",
              "    </tr>\n",
              "  </tbody>\n",
              "</table>\n",
              "</div>"
            ],
            "text/plain": [
              "                          App  ...                     Genres\n",
              "9220                Minecraft  ...  Arcade;Action & Adventure\n",
              "8825            Hitman Sniper  ...                     Action\n",
              "7633  Five Nights at Freddy's  ...                     Action\n",
              "6496    Beautiful Widgets Pro  ...            Personalization\n",
              "6548  Lost Journey (Dreamsky)  ...                  Adventure\n",
              "\n",
              "[5 rows x 10 columns]"
            ]
          },
          "metadata": {
            "tags": []
          },
          "execution_count": 53
        }
      ]
    },
    {
      "cell_type": "markdown",
      "metadata": {
        "dc": {
          "key": "18"
        },
        "run_control": {
          "frozen": true
        },
        "tags": [
          "context"
        ],
        "id": "lvpM2MyTdiU6"
      },
      "source": [
        "# Plotly Bar Charts & Scatter Plots: Analysing App Categories"
      ]
    },
    {
      "cell_type": "code",
      "metadata": {
        "id": "3L6hK0aLoYxY",
        "colab": {
          "base_uri": "https://localhost:8080/"
        },
        "outputId": "b8d41c87-5e88-432a-8200-0b1c1b61a196"
      },
      "source": [
        "df_apps_clean.Category.nunique()"
      ],
      "execution_count": 54,
      "outputs": [
        {
          "output_type": "execute_result",
          "data": {
            "text/plain": [
              "33"
            ]
          },
          "metadata": {
            "tags": []
          },
          "execution_count": 54
        }
      ]
    },
    {
      "cell_type": "code",
      "metadata": {
        "id": "mg50Ts9joYz1"
      },
      "source": [
        "top10_category = df_apps_clean.Category.value_counts()[:10]"
      ],
      "execution_count": 55,
      "outputs": []
    },
    {
      "cell_type": "code",
      "metadata": {
        "id": "WZZizlGjoYfn",
        "colab": {
          "base_uri": "https://localhost:8080/"
        },
        "outputId": "3c3d975b-4080-4c6e-af90-cd07d0af071c"
      },
      "source": [
        "top10_category"
      ],
      "execution_count": 56,
      "outputs": [
        {
          "output_type": "execute_result",
          "data": {
            "text/plain": [
              "FAMILY             1610\n",
              "GAME                910\n",
              "TOOLS               719\n",
              "FINANCE             302\n",
              "LIFESTYLE           302\n",
              "PRODUCTIVITY        301\n",
              "PERSONALIZATION     298\n",
              "MEDICAL             292\n",
              "PHOTOGRAPHY         263\n",
              "BUSINESS            262\n",
              "Name: Category, dtype: int64"
            ]
          },
          "metadata": {
            "tags": []
          },
          "execution_count": 56
        }
      ]
    },
    {
      "cell_type": "markdown",
      "metadata": {
        "id": "0tTurR7qdiU9"
      },
      "source": [
        "### Vertical Bar Chart - Highest Competition (Number of Apps)"
      ]
    },
    {
      "cell_type": "code",
      "metadata": {
        "id": "SFSMH00AoaMB",
        "colab": {
          "base_uri": "https://localhost:8080/",
          "height": 542
        },
        "outputId": "f14b8f35-e97e-421d-92da-faf78892461a"
      },
      "source": [
        "bar = px.bar(x = top10_category.index, # index = category name\n",
        "             y = top10_category.values)\n",
        " \n",
        "bar.show()"
      ],
      "execution_count": 57,
      "outputs": [
        {
          "output_type": "display_data",
          "data": {
            "text/html": [
              "<html>\n",
              "<head><meta charset=\"utf-8\" /></head>\n",
              "<body>\n",
              "    <div>\n",
              "            <script src=\"https://cdnjs.cloudflare.com/ajax/libs/mathjax/2.7.5/MathJax.js?config=TeX-AMS-MML_SVG\"></script><script type=\"text/javascript\">if (window.MathJax) {MathJax.Hub.Config({SVG: {font: \"STIX-Web\"}});}</script>\n",
              "                <script type=\"text/javascript\">window.PlotlyConfig = {MathJaxConfig: 'local'};</script>\n",
              "        <script src=\"https://cdn.plot.ly/plotly-latest.min.js\"></script>    \n",
              "            <div id=\"7d17bfcf-94f0-4528-baeb-b8177cdcb51a\" class=\"plotly-graph-div\" style=\"height:525px; width:100%;\"></div>\n",
              "            <script type=\"text/javascript\">\n",
              "                \n",
              "                    window.PLOTLYENV=window.PLOTLYENV || {};\n",
              "                    \n",
              "                if (document.getElementById(\"7d17bfcf-94f0-4528-baeb-b8177cdcb51a\")) {\n",
              "                    Plotly.newPlot(\n",
              "                        '7d17bfcf-94f0-4528-baeb-b8177cdcb51a',\n",
              "                        [{\"alignmentgroup\": \"True\", \"hoverlabel\": {\"namelength\": 0}, \"hovertemplate\": \"x=%{x}<br>y=%{y}\", \"legendgroup\": \"\", \"marker\": {\"color\": \"#636efa\"}, \"name\": \"\", \"offsetgroup\": \"\", \"orientation\": \"v\", \"showlegend\": false, \"textposition\": \"auto\", \"type\": \"bar\", \"x\": [\"FAMILY\", \"GAME\", \"TOOLS\", \"FINANCE\", \"LIFESTYLE\", \"PRODUCTIVITY\", \"PERSONALIZATION\", \"MEDICAL\", \"PHOTOGRAPHY\", \"BUSINESS\"], \"xaxis\": \"x\", \"y\": [1610, 910, 719, 302, 302, 301, 298, 292, 263, 262], \"yaxis\": \"y\"}],\n",
              "                        {\"barmode\": \"relative\", \"legend\": {\"tracegroupgap\": 0}, \"margin\": {\"t\": 60}, \"template\": {\"data\": {\"bar\": [{\"error_x\": {\"color\": \"#2a3f5f\"}, \"error_y\": {\"color\": \"#2a3f5f\"}, \"marker\": {\"line\": {\"color\": \"#E5ECF6\", \"width\": 0.5}}, \"type\": \"bar\"}], \"barpolar\": [{\"marker\": {\"line\": {\"color\": \"#E5ECF6\", \"width\": 0.5}}, \"type\": \"barpolar\"}], \"carpet\": [{\"aaxis\": {\"endlinecolor\": \"#2a3f5f\", \"gridcolor\": \"white\", \"linecolor\": \"white\", \"minorgridcolor\": \"white\", \"startlinecolor\": \"#2a3f5f\"}, \"baxis\": {\"endlinecolor\": \"#2a3f5f\", \"gridcolor\": \"white\", \"linecolor\": \"white\", \"minorgridcolor\": \"white\", \"startlinecolor\": \"#2a3f5f\"}, \"type\": \"carpet\"}], \"choropleth\": [{\"colorbar\": {\"outlinewidth\": 0, \"ticks\": \"\"}, \"type\": \"choropleth\"}], \"contour\": [{\"colorbar\": {\"outlinewidth\": 0, \"ticks\": \"\"}, \"colorscale\": [[0.0, \"#0d0887\"], [0.1111111111111111, \"#46039f\"], [0.2222222222222222, \"#7201a8\"], [0.3333333333333333, \"#9c179e\"], [0.4444444444444444, \"#bd3786\"], [0.5555555555555556, \"#d8576b\"], [0.6666666666666666, \"#ed7953\"], [0.7777777777777778, \"#fb9f3a\"], [0.8888888888888888, \"#fdca26\"], [1.0, \"#f0f921\"]], \"type\": \"contour\"}], \"contourcarpet\": [{\"colorbar\": {\"outlinewidth\": 0, \"ticks\": \"\"}, \"type\": \"contourcarpet\"}], \"heatmap\": [{\"colorbar\": {\"outlinewidth\": 0, \"ticks\": \"\"}, \"colorscale\": [[0.0, \"#0d0887\"], [0.1111111111111111, \"#46039f\"], [0.2222222222222222, \"#7201a8\"], [0.3333333333333333, \"#9c179e\"], [0.4444444444444444, \"#bd3786\"], [0.5555555555555556, \"#d8576b\"], [0.6666666666666666, \"#ed7953\"], [0.7777777777777778, \"#fb9f3a\"], [0.8888888888888888, \"#fdca26\"], [1.0, \"#f0f921\"]], \"type\": \"heatmap\"}], \"heatmapgl\": [{\"colorbar\": {\"outlinewidth\": 0, \"ticks\": \"\"}, \"colorscale\": [[0.0, \"#0d0887\"], [0.1111111111111111, \"#46039f\"], [0.2222222222222222, \"#7201a8\"], [0.3333333333333333, \"#9c179e\"], [0.4444444444444444, \"#bd3786\"], [0.5555555555555556, \"#d8576b\"], [0.6666666666666666, \"#ed7953\"], [0.7777777777777778, \"#fb9f3a\"], [0.8888888888888888, \"#fdca26\"], [1.0, \"#f0f921\"]], \"type\": \"heatmapgl\"}], \"histogram\": [{\"marker\": {\"colorbar\": {\"outlinewidth\": 0, \"ticks\": \"\"}}, \"type\": \"histogram\"}], \"histogram2d\": [{\"colorbar\": {\"outlinewidth\": 0, \"ticks\": \"\"}, \"colorscale\": [[0.0, \"#0d0887\"], [0.1111111111111111, \"#46039f\"], [0.2222222222222222, \"#7201a8\"], [0.3333333333333333, \"#9c179e\"], [0.4444444444444444, \"#bd3786\"], [0.5555555555555556, \"#d8576b\"], [0.6666666666666666, \"#ed7953\"], [0.7777777777777778, \"#fb9f3a\"], [0.8888888888888888, \"#fdca26\"], [1.0, \"#f0f921\"]], \"type\": \"histogram2d\"}], \"histogram2dcontour\": [{\"colorbar\": {\"outlinewidth\": 0, \"ticks\": \"\"}, \"colorscale\": [[0.0, \"#0d0887\"], [0.1111111111111111, \"#46039f\"], [0.2222222222222222, \"#7201a8\"], [0.3333333333333333, \"#9c179e\"], [0.4444444444444444, \"#bd3786\"], [0.5555555555555556, \"#d8576b\"], [0.6666666666666666, \"#ed7953\"], [0.7777777777777778, \"#fb9f3a\"], [0.8888888888888888, \"#fdca26\"], [1.0, \"#f0f921\"]], \"type\": \"histogram2dcontour\"}], \"mesh3d\": [{\"colorbar\": {\"outlinewidth\": 0, \"ticks\": \"\"}, \"type\": \"mesh3d\"}], \"parcoords\": [{\"line\": {\"colorbar\": {\"outlinewidth\": 0, \"ticks\": \"\"}}, \"type\": \"parcoords\"}], \"pie\": [{\"automargin\": true, \"type\": \"pie\"}], \"scatter\": [{\"marker\": {\"colorbar\": {\"outlinewidth\": 0, \"ticks\": \"\"}}, \"type\": \"scatter\"}], \"scatter3d\": [{\"line\": {\"colorbar\": {\"outlinewidth\": 0, \"ticks\": \"\"}}, \"marker\": {\"colorbar\": {\"outlinewidth\": 0, \"ticks\": \"\"}}, \"type\": \"scatter3d\"}], \"scattercarpet\": [{\"marker\": {\"colorbar\": {\"outlinewidth\": 0, \"ticks\": \"\"}}, \"type\": \"scattercarpet\"}], \"scattergeo\": [{\"marker\": {\"colorbar\": {\"outlinewidth\": 0, \"ticks\": \"\"}}, \"type\": \"scattergeo\"}], \"scattergl\": [{\"marker\": {\"colorbar\": {\"outlinewidth\": 0, \"ticks\": \"\"}}, \"type\": \"scattergl\"}], \"scattermapbox\": [{\"marker\": {\"colorbar\": {\"outlinewidth\": 0, \"ticks\": \"\"}}, \"type\": \"scattermapbox\"}], \"scatterpolar\": [{\"marker\": {\"colorbar\": {\"outlinewidth\": 0, \"ticks\": \"\"}}, \"type\": \"scatterpolar\"}], \"scatterpolargl\": [{\"marker\": {\"colorbar\": {\"outlinewidth\": 0, \"ticks\": \"\"}}, \"type\": \"scatterpolargl\"}], \"scatterternary\": [{\"marker\": {\"colorbar\": {\"outlinewidth\": 0, \"ticks\": \"\"}}, \"type\": \"scatterternary\"}], \"surface\": [{\"colorbar\": {\"outlinewidth\": 0, \"ticks\": \"\"}, \"colorscale\": [[0.0, \"#0d0887\"], [0.1111111111111111, \"#46039f\"], [0.2222222222222222, \"#7201a8\"], [0.3333333333333333, \"#9c179e\"], [0.4444444444444444, \"#bd3786\"], [0.5555555555555556, \"#d8576b\"], [0.6666666666666666, \"#ed7953\"], [0.7777777777777778, \"#fb9f3a\"], [0.8888888888888888, \"#fdca26\"], [1.0, \"#f0f921\"]], \"type\": \"surface\"}], \"table\": [{\"cells\": {\"fill\": {\"color\": \"#EBF0F8\"}, \"line\": {\"color\": \"white\"}}, \"header\": {\"fill\": {\"color\": \"#C8D4E3\"}, \"line\": {\"color\": \"white\"}}, \"type\": \"table\"}]}, \"layout\": {\"annotationdefaults\": {\"arrowcolor\": \"#2a3f5f\", \"arrowhead\": 0, \"arrowwidth\": 1}, \"coloraxis\": {\"colorbar\": {\"outlinewidth\": 0, \"ticks\": \"\"}}, \"colorscale\": {\"diverging\": [[0, \"#8e0152\"], [0.1, \"#c51b7d\"], [0.2, \"#de77ae\"], [0.3, \"#f1b6da\"], [0.4, \"#fde0ef\"], [0.5, \"#f7f7f7\"], [0.6, \"#e6f5d0\"], [0.7, \"#b8e186\"], [0.8, \"#7fbc41\"], [0.9, \"#4d9221\"], [1, \"#276419\"]], \"sequential\": [[0.0, \"#0d0887\"], [0.1111111111111111, \"#46039f\"], [0.2222222222222222, \"#7201a8\"], [0.3333333333333333, \"#9c179e\"], [0.4444444444444444, \"#bd3786\"], [0.5555555555555556, \"#d8576b\"], [0.6666666666666666, \"#ed7953\"], [0.7777777777777778, \"#fb9f3a\"], [0.8888888888888888, \"#fdca26\"], [1.0, \"#f0f921\"]], \"sequentialminus\": [[0.0, \"#0d0887\"], [0.1111111111111111, \"#46039f\"], [0.2222222222222222, \"#7201a8\"], [0.3333333333333333, \"#9c179e\"], [0.4444444444444444, \"#bd3786\"], [0.5555555555555556, \"#d8576b\"], [0.6666666666666666, \"#ed7953\"], [0.7777777777777778, \"#fb9f3a\"], [0.8888888888888888, \"#fdca26\"], [1.0, \"#f0f921\"]]}, \"colorway\": [\"#636efa\", \"#EF553B\", \"#00cc96\", \"#ab63fa\", \"#FFA15A\", \"#19d3f3\", \"#FF6692\", \"#B6E880\", \"#FF97FF\", \"#FECB52\"], \"font\": {\"color\": \"#2a3f5f\"}, \"geo\": {\"bgcolor\": \"white\", \"lakecolor\": \"white\", \"landcolor\": \"#E5ECF6\", \"showlakes\": true, \"showland\": true, \"subunitcolor\": \"white\"}, \"hoverlabel\": {\"align\": \"left\"}, \"hovermode\": \"closest\", \"mapbox\": {\"style\": \"light\"}, \"paper_bgcolor\": \"white\", \"plot_bgcolor\": \"#E5ECF6\", \"polar\": {\"angularaxis\": {\"gridcolor\": \"white\", \"linecolor\": \"white\", \"ticks\": \"\"}, \"bgcolor\": \"#E5ECF6\", \"radialaxis\": {\"gridcolor\": \"white\", \"linecolor\": \"white\", \"ticks\": \"\"}}, \"scene\": {\"xaxis\": {\"backgroundcolor\": \"#E5ECF6\", \"gridcolor\": \"white\", \"gridwidth\": 2, \"linecolor\": \"white\", \"showbackground\": true, \"ticks\": \"\", \"zerolinecolor\": \"white\"}, \"yaxis\": {\"backgroundcolor\": \"#E5ECF6\", \"gridcolor\": \"white\", \"gridwidth\": 2, \"linecolor\": \"white\", \"showbackground\": true, \"ticks\": \"\", \"zerolinecolor\": \"white\"}, \"zaxis\": {\"backgroundcolor\": \"#E5ECF6\", \"gridcolor\": \"white\", \"gridwidth\": 2, \"linecolor\": \"white\", \"showbackground\": true, \"ticks\": \"\", \"zerolinecolor\": \"white\"}}, \"shapedefaults\": {\"line\": {\"color\": \"#2a3f5f\"}}, \"ternary\": {\"aaxis\": {\"gridcolor\": \"white\", \"linecolor\": \"white\", \"ticks\": \"\"}, \"baxis\": {\"gridcolor\": \"white\", \"linecolor\": \"white\", \"ticks\": \"\"}, \"bgcolor\": \"#E5ECF6\", \"caxis\": {\"gridcolor\": \"white\", \"linecolor\": \"white\", \"ticks\": \"\"}}, \"title\": {\"x\": 0.05}, \"xaxis\": {\"automargin\": true, \"gridcolor\": \"white\", \"linecolor\": \"white\", \"ticks\": \"\", \"title\": {\"standoff\": 15}, \"zerolinecolor\": \"white\", \"zerolinewidth\": 2}, \"yaxis\": {\"automargin\": true, \"gridcolor\": \"white\", \"linecolor\": \"white\", \"ticks\": \"\", \"title\": {\"standoff\": 15}, \"zerolinecolor\": \"white\", \"zerolinewidth\": 2}}}, \"xaxis\": {\"anchor\": \"y\", \"domain\": [0.0, 1.0], \"title\": {\"text\": \"x\"}}, \"yaxis\": {\"anchor\": \"x\", \"domain\": [0.0, 1.0], \"title\": {\"text\": \"y\"}}},\n",
              "                        {\"responsive\": true}\n",
              "                    ).then(function(){\n",
              "                            \n",
              "var gd = document.getElementById('7d17bfcf-94f0-4528-baeb-b8177cdcb51a');\n",
              "var x = new MutationObserver(function (mutations, observer) {{\n",
              "        var display = window.getComputedStyle(gd).display;\n",
              "        if (!display || display === 'none') {{\n",
              "            console.log([gd, 'removed!']);\n",
              "            Plotly.purge(gd);\n",
              "            observer.disconnect();\n",
              "        }}\n",
              "}});\n",
              "\n",
              "// Listen for the removal of the full notebook cells\n",
              "var notebookContainer = gd.closest('#notebook-container');\n",
              "if (notebookContainer) {{\n",
              "    x.observe(notebookContainer, {childList: true});\n",
              "}}\n",
              "\n",
              "// Listen for the clearing of the current output cell\n",
              "var outputEl = gd.closest('.output');\n",
              "if (outputEl) {{\n",
              "    x.observe(outputEl, {childList: true});\n",
              "}}\n",
              "\n",
              "                        })\n",
              "                };\n",
              "                \n",
              "            </script>\n",
              "        </div>\n",
              "</body>\n",
              "</html>"
            ]
          },
          "metadata": {
            "tags": []
          }
        }
      ]
    },
    {
      "cell_type": "markdown",
      "metadata": {
        "id": "57mowetLdiU_"
      },
      "source": [
        "### Horizontal Bar Chart - Most Popular Categories (Highest Downloads)"
      ]
    },
    {
      "cell_type": "code",
      "metadata": {
        "id": "zHO7eTJmocLm"
      },
      "source": [
        "category_installs = df_apps_clean.groupby('Category').agg({'Installs': pd.Series.sum})\n"
      ],
      "execution_count": 59,
      "outputs": []
    },
    {
      "cell_type": "code",
      "metadata": {
        "id": "h7aUARLtocCy"
      },
      "source": [
        "category_installs.sort_values('Installs', ascending=True, inplace=True)"
      ],
      "execution_count": 61,
      "outputs": []
    },
    {
      "cell_type": "code",
      "metadata": {
        "colab": {
          "base_uri": "https://localhost:8080/",
          "height": 542
        },
        "id": "bCZ5Az6vW_bj",
        "outputId": "cc96f849-6ac7-4ca1-9861-b2955066a076"
      },
      "source": [
        "h_bar = px.bar(x = category_installs.Installs,\n",
        "               y = category_installs.index,\n",
        "               orientation='h',\n",
        "               title='Category Popularity')\n",
        " \n",
        "h_bar.update_layout(xaxis_title='Number of Downloads', yaxis_title='Category')\n",
        "h_bar.show()"
      ],
      "execution_count": 63,
      "outputs": [
        {
          "output_type": "display_data",
          "data": {
            "text/html": [
              "<html>\n",
              "<head><meta charset=\"utf-8\" /></head>\n",
              "<body>\n",
              "    <div>\n",
              "            <script src=\"https://cdnjs.cloudflare.com/ajax/libs/mathjax/2.7.5/MathJax.js?config=TeX-AMS-MML_SVG\"></script><script type=\"text/javascript\">if (window.MathJax) {MathJax.Hub.Config({SVG: {font: \"STIX-Web\"}});}</script>\n",
              "                <script type=\"text/javascript\">window.PlotlyConfig = {MathJaxConfig: 'local'};</script>\n",
              "        <script src=\"https://cdn.plot.ly/plotly-latest.min.js\"></script>    \n",
              "            <div id=\"606f049a-6e59-4799-9cc9-b3558f44dbc7\" class=\"plotly-graph-div\" style=\"height:525px; width:100%;\"></div>\n",
              "            <script type=\"text/javascript\">\n",
              "                \n",
              "                    window.PLOTLYENV=window.PLOTLYENV || {};\n",
              "                    \n",
              "                if (document.getElementById(\"606f049a-6e59-4799-9cc9-b3558f44dbc7\")) {\n",
              "                    Plotly.newPlot(\n",
              "                        '606f049a-6e59-4799-9cc9-b3558f44dbc7',\n",
              "                        [{\"alignmentgroup\": \"True\", \"hoverlabel\": {\"namelength\": 0}, \"hovertemplate\": \"x=%{x}<br>y=%{y}\", \"legendgroup\": \"\", \"marker\": {\"color\": \"#636efa\"}, \"name\": \"\", \"offsetgroup\": \"\", \"orientation\": \"h\", \"showlegend\": false, \"textposition\": \"auto\", \"type\": \"bar\", \"x\": [15949410, 26916200, 31116110, 39162676, 44931100, 52083000, 53129800, 97082000, 114233100, 140912410, 211677750, 352852000, 361096500, 455312400, 503267560, 503742120, 692018120, 1096431465, 1134006220, 1400331540, 1532352930, 1665791655, 2113660000, 2369110650, 2894859300, 3916897200, 4437579590, 4649143130, 5487841475, 5788070180, 8099724500, 11039241530, 13858762717], \"xaxis\": \"x\", \"y\": [\"EVENTS\", \"BEAUTY\", \"PARENTING\", \"MEDICAL\", \"COMICS\", \"LIBRARIES_AND_DEMO\", \"AUTO_AND_VEHICLES\", \"HOUSE_AND_HOME\", \"ART_AND_DESIGN\", \"DATING\", \"FOOD_AND_DRINK\", \"EDUCATION\", \"WEATHER\", \"FINANCE\", \"MAPS_AND_NAVIGATION\", \"LIFESTYLE\", \"BUSINESS\", \"SPORTS\", \"HEALTH_AND_FITNESS\", \"SHOPPING\", \"PERSONALIZATION\", \"BOOKS_AND_REFERENCE\", \"ENTERTAINMENT\", \"NEWS_AND_MAGAZINES\", \"TRAVEL_AND_LOCAL\", \"VIDEO_PLAYERS\", \"FAMILY\", \"PHOTOGRAPHY\", \"SOCIAL\", \"PRODUCTIVITY\", \"TOOLS\", \"COMMUNICATION\", \"GAME\"], \"yaxis\": \"y\"}],\n",
              "                        {\"barmode\": \"relative\", \"legend\": {\"tracegroupgap\": 0}, \"template\": {\"data\": {\"bar\": [{\"error_x\": {\"color\": \"#2a3f5f\"}, \"error_y\": {\"color\": \"#2a3f5f\"}, \"marker\": {\"line\": {\"color\": \"#E5ECF6\", \"width\": 0.5}}, \"type\": \"bar\"}], \"barpolar\": [{\"marker\": {\"line\": {\"color\": \"#E5ECF6\", \"width\": 0.5}}, \"type\": \"barpolar\"}], \"carpet\": [{\"aaxis\": {\"endlinecolor\": \"#2a3f5f\", \"gridcolor\": \"white\", \"linecolor\": \"white\", \"minorgridcolor\": \"white\", \"startlinecolor\": \"#2a3f5f\"}, \"baxis\": {\"endlinecolor\": \"#2a3f5f\", \"gridcolor\": \"white\", \"linecolor\": \"white\", \"minorgridcolor\": \"white\", \"startlinecolor\": \"#2a3f5f\"}, \"type\": \"carpet\"}], \"choropleth\": [{\"colorbar\": {\"outlinewidth\": 0, \"ticks\": \"\"}, \"type\": \"choropleth\"}], \"contour\": [{\"colorbar\": {\"outlinewidth\": 0, \"ticks\": \"\"}, \"colorscale\": [[0.0, \"#0d0887\"], [0.1111111111111111, \"#46039f\"], [0.2222222222222222, \"#7201a8\"], [0.3333333333333333, \"#9c179e\"], [0.4444444444444444, \"#bd3786\"], [0.5555555555555556, \"#d8576b\"], [0.6666666666666666, \"#ed7953\"], [0.7777777777777778, \"#fb9f3a\"], [0.8888888888888888, \"#fdca26\"], [1.0, \"#f0f921\"]], \"type\": \"contour\"}], \"contourcarpet\": [{\"colorbar\": {\"outlinewidth\": 0, \"ticks\": \"\"}, \"type\": \"contourcarpet\"}], \"heatmap\": [{\"colorbar\": {\"outlinewidth\": 0, \"ticks\": \"\"}, \"colorscale\": [[0.0, \"#0d0887\"], [0.1111111111111111, \"#46039f\"], [0.2222222222222222, \"#7201a8\"], [0.3333333333333333, \"#9c179e\"], [0.4444444444444444, \"#bd3786\"], [0.5555555555555556, \"#d8576b\"], [0.6666666666666666, \"#ed7953\"], [0.7777777777777778, \"#fb9f3a\"], [0.8888888888888888, \"#fdca26\"], [1.0, \"#f0f921\"]], \"type\": \"heatmap\"}], \"heatmapgl\": [{\"colorbar\": {\"outlinewidth\": 0, \"ticks\": \"\"}, \"colorscale\": [[0.0, \"#0d0887\"], [0.1111111111111111, \"#46039f\"], [0.2222222222222222, \"#7201a8\"], [0.3333333333333333, \"#9c179e\"], [0.4444444444444444, \"#bd3786\"], [0.5555555555555556, \"#d8576b\"], [0.6666666666666666, \"#ed7953\"], [0.7777777777777778, \"#fb9f3a\"], [0.8888888888888888, \"#fdca26\"], [1.0, \"#f0f921\"]], \"type\": \"heatmapgl\"}], \"histogram\": [{\"marker\": {\"colorbar\": {\"outlinewidth\": 0, \"ticks\": \"\"}}, \"type\": \"histogram\"}], \"histogram2d\": [{\"colorbar\": {\"outlinewidth\": 0, \"ticks\": \"\"}, \"colorscale\": [[0.0, \"#0d0887\"], [0.1111111111111111, \"#46039f\"], [0.2222222222222222, \"#7201a8\"], [0.3333333333333333, \"#9c179e\"], [0.4444444444444444, \"#bd3786\"], [0.5555555555555556, \"#d8576b\"], [0.6666666666666666, \"#ed7953\"], [0.7777777777777778, \"#fb9f3a\"], [0.8888888888888888, \"#fdca26\"], [1.0, \"#f0f921\"]], \"type\": \"histogram2d\"}], \"histogram2dcontour\": [{\"colorbar\": {\"outlinewidth\": 0, \"ticks\": \"\"}, \"colorscale\": [[0.0, \"#0d0887\"], [0.1111111111111111, \"#46039f\"], [0.2222222222222222, \"#7201a8\"], [0.3333333333333333, \"#9c179e\"], [0.4444444444444444, \"#bd3786\"], [0.5555555555555556, \"#d8576b\"], [0.6666666666666666, \"#ed7953\"], [0.7777777777777778, \"#fb9f3a\"], [0.8888888888888888, \"#fdca26\"], [1.0, \"#f0f921\"]], \"type\": \"histogram2dcontour\"}], \"mesh3d\": [{\"colorbar\": {\"outlinewidth\": 0, \"ticks\": \"\"}, \"type\": \"mesh3d\"}], \"parcoords\": [{\"line\": {\"colorbar\": {\"outlinewidth\": 0, \"ticks\": \"\"}}, \"type\": \"parcoords\"}], \"pie\": [{\"automargin\": true, \"type\": \"pie\"}], \"scatter\": [{\"marker\": {\"colorbar\": {\"outlinewidth\": 0, \"ticks\": \"\"}}, \"type\": \"scatter\"}], \"scatter3d\": [{\"line\": {\"colorbar\": {\"outlinewidth\": 0, \"ticks\": \"\"}}, \"marker\": {\"colorbar\": {\"outlinewidth\": 0, \"ticks\": \"\"}}, \"type\": \"scatter3d\"}], \"scattercarpet\": [{\"marker\": {\"colorbar\": {\"outlinewidth\": 0, \"ticks\": \"\"}}, \"type\": \"scattercarpet\"}], \"scattergeo\": [{\"marker\": {\"colorbar\": {\"outlinewidth\": 0, \"ticks\": \"\"}}, \"type\": \"scattergeo\"}], \"scattergl\": [{\"marker\": {\"colorbar\": {\"outlinewidth\": 0, \"ticks\": \"\"}}, \"type\": \"scattergl\"}], \"scattermapbox\": [{\"marker\": {\"colorbar\": {\"outlinewidth\": 0, \"ticks\": \"\"}}, \"type\": \"scattermapbox\"}], \"scatterpolar\": [{\"marker\": {\"colorbar\": {\"outlinewidth\": 0, \"ticks\": \"\"}}, \"type\": \"scatterpolar\"}], \"scatterpolargl\": [{\"marker\": {\"colorbar\": {\"outlinewidth\": 0, \"ticks\": \"\"}}, \"type\": \"scatterpolargl\"}], \"scatterternary\": [{\"marker\": {\"colorbar\": {\"outlinewidth\": 0, \"ticks\": \"\"}}, \"type\": \"scatterternary\"}], \"surface\": [{\"colorbar\": {\"outlinewidth\": 0, \"ticks\": \"\"}, \"colorscale\": [[0.0, \"#0d0887\"], [0.1111111111111111, \"#46039f\"], [0.2222222222222222, \"#7201a8\"], [0.3333333333333333, \"#9c179e\"], [0.4444444444444444, \"#bd3786\"], [0.5555555555555556, \"#d8576b\"], [0.6666666666666666, \"#ed7953\"], [0.7777777777777778, \"#fb9f3a\"], [0.8888888888888888, \"#fdca26\"], [1.0, \"#f0f921\"]], \"type\": \"surface\"}], \"table\": [{\"cells\": {\"fill\": {\"color\": \"#EBF0F8\"}, \"line\": {\"color\": \"white\"}}, \"header\": {\"fill\": {\"color\": \"#C8D4E3\"}, \"line\": {\"color\": \"white\"}}, \"type\": \"table\"}]}, \"layout\": {\"annotationdefaults\": {\"arrowcolor\": \"#2a3f5f\", \"arrowhead\": 0, \"arrowwidth\": 1}, \"coloraxis\": {\"colorbar\": {\"outlinewidth\": 0, \"ticks\": \"\"}}, \"colorscale\": {\"diverging\": [[0, \"#8e0152\"], [0.1, \"#c51b7d\"], [0.2, \"#de77ae\"], [0.3, \"#f1b6da\"], [0.4, \"#fde0ef\"], [0.5, \"#f7f7f7\"], [0.6, \"#e6f5d0\"], [0.7, \"#b8e186\"], [0.8, \"#7fbc41\"], [0.9, \"#4d9221\"], [1, \"#276419\"]], \"sequential\": [[0.0, \"#0d0887\"], [0.1111111111111111, \"#46039f\"], [0.2222222222222222, \"#7201a8\"], [0.3333333333333333, \"#9c179e\"], [0.4444444444444444, \"#bd3786\"], [0.5555555555555556, \"#d8576b\"], [0.6666666666666666, \"#ed7953\"], [0.7777777777777778, \"#fb9f3a\"], [0.8888888888888888, \"#fdca26\"], [1.0, \"#f0f921\"]], \"sequentialminus\": [[0.0, \"#0d0887\"], [0.1111111111111111, \"#46039f\"], [0.2222222222222222, \"#7201a8\"], [0.3333333333333333, \"#9c179e\"], [0.4444444444444444, \"#bd3786\"], [0.5555555555555556, \"#d8576b\"], [0.6666666666666666, \"#ed7953\"], [0.7777777777777778, \"#fb9f3a\"], [0.8888888888888888, \"#fdca26\"], [1.0, \"#f0f921\"]]}, \"colorway\": [\"#636efa\", \"#EF553B\", \"#00cc96\", \"#ab63fa\", \"#FFA15A\", \"#19d3f3\", \"#FF6692\", \"#B6E880\", \"#FF97FF\", \"#FECB52\"], \"font\": {\"color\": \"#2a3f5f\"}, \"geo\": {\"bgcolor\": \"white\", \"lakecolor\": \"white\", \"landcolor\": \"#E5ECF6\", \"showlakes\": true, \"showland\": true, \"subunitcolor\": \"white\"}, \"hoverlabel\": {\"align\": \"left\"}, \"hovermode\": \"closest\", \"mapbox\": {\"style\": \"light\"}, \"paper_bgcolor\": \"white\", \"plot_bgcolor\": \"#E5ECF6\", \"polar\": {\"angularaxis\": {\"gridcolor\": \"white\", \"linecolor\": \"white\", \"ticks\": \"\"}, \"bgcolor\": \"#E5ECF6\", \"radialaxis\": {\"gridcolor\": \"white\", \"linecolor\": \"white\", \"ticks\": \"\"}}, \"scene\": {\"xaxis\": {\"backgroundcolor\": \"#E5ECF6\", \"gridcolor\": \"white\", \"gridwidth\": 2, \"linecolor\": \"white\", \"showbackground\": true, \"ticks\": \"\", \"zerolinecolor\": \"white\"}, \"yaxis\": {\"backgroundcolor\": \"#E5ECF6\", \"gridcolor\": \"white\", \"gridwidth\": 2, \"linecolor\": \"white\", \"showbackground\": true, \"ticks\": \"\", \"zerolinecolor\": \"white\"}, \"zaxis\": {\"backgroundcolor\": \"#E5ECF6\", \"gridcolor\": \"white\", \"gridwidth\": 2, \"linecolor\": \"white\", \"showbackground\": true, \"ticks\": \"\", \"zerolinecolor\": \"white\"}}, \"shapedefaults\": {\"line\": {\"color\": \"#2a3f5f\"}}, \"ternary\": {\"aaxis\": {\"gridcolor\": \"white\", \"linecolor\": \"white\", \"ticks\": \"\"}, \"baxis\": {\"gridcolor\": \"white\", \"linecolor\": \"white\", \"ticks\": \"\"}, \"bgcolor\": \"#E5ECF6\", \"caxis\": {\"gridcolor\": \"white\", \"linecolor\": \"white\", \"ticks\": \"\"}}, \"title\": {\"x\": 0.05}, \"xaxis\": {\"automargin\": true, \"gridcolor\": \"white\", \"linecolor\": \"white\", \"ticks\": \"\", \"title\": {\"standoff\": 15}, \"zerolinecolor\": \"white\", \"zerolinewidth\": 2}, \"yaxis\": {\"automargin\": true, \"gridcolor\": \"white\", \"linecolor\": \"white\", \"ticks\": \"\", \"title\": {\"standoff\": 15}, \"zerolinecolor\": \"white\", \"zerolinewidth\": 2}}}, \"title\": {\"text\": \"Category Popularity\"}, \"xaxis\": {\"anchor\": \"y\", \"domain\": [0.0, 1.0], \"title\": {\"text\": \"Number of Downloads\"}}, \"yaxis\": {\"anchor\": \"x\", \"domain\": [0.0, 1.0], \"title\": {\"text\": \"Category\"}}},\n",
              "                        {\"responsive\": true}\n",
              "                    ).then(function(){\n",
              "                            \n",
              "var gd = document.getElementById('606f049a-6e59-4799-9cc9-b3558f44dbc7');\n",
              "var x = new MutationObserver(function (mutations, observer) {{\n",
              "        var display = window.getComputedStyle(gd).display;\n",
              "        if (!display || display === 'none') {{\n",
              "            console.log([gd, 'removed!']);\n",
              "            Plotly.purge(gd);\n",
              "            observer.disconnect();\n",
              "        }}\n",
              "}});\n",
              "\n",
              "// Listen for the removal of the full notebook cells\n",
              "var notebookContainer = gd.closest('#notebook-container');\n",
              "if (notebookContainer) {{\n",
              "    x.observe(notebookContainer, {childList: true});\n",
              "}}\n",
              "\n",
              "// Listen for the clearing of the current output cell\n",
              "var outputEl = gd.closest('.output');\n",
              "if (outputEl) {{\n",
              "    x.observe(outputEl, {childList: true});\n",
              "}}\n",
              "\n",
              "                        })\n",
              "                };\n",
              "                \n",
              "            </script>\n",
              "        </div>\n",
              "</body>\n",
              "</html>"
            ]
          },
          "metadata": {
            "tags": []
          }
        }
      ]
    },
    {
      "cell_type": "markdown",
      "metadata": {
        "id": "Uxk24qMk8vrz"
      },
      "source": [
        "### Category Concentration - Downloads vs. Competition\n",
        "\n",
        "**Challenge**: \n",
        "* First, create a DataFrame that has the number of apps in one column and the number of installs in another:\n",
        "\n",
        "<img src=https://imgur.com/uQRSlXi.png width=\"350\">\n",
        "\n",
        "* Then use the [plotly express examples from the documentation](https://plotly.com/python/line-and-scatter/) alongside the [.scatter() API reference](https://plotly.com/python-api-reference/generated/plotly.express.scatter.html)to create scatter plot that looks like this. \n",
        "\n",
        "<img src=https://imgur.com/cHsqh6a.png>\n",
        "\n",
        "*Hint*: Use the size, hover_name and color parameters in .scatter(). To scale the yaxis, call .update_layout() and specify that the yaxis should be on a log-scale like so: yaxis=dict(type='log') "
      ]
    },
    {
      "cell_type": "code",
      "metadata": {
        "id": "tVvGPDY7oe5A"
      },
      "source": [
        "cat_number = df_apps_clean.groupby('Category').agg({'App': pd.Series.count})"
      ],
      "execution_count": 65,
      "outputs": []
    },
    {
      "cell_type": "code",
      "metadata": {
        "colab": {
          "base_uri": "https://localhost:8080/",
          "height": 1000
        },
        "id": "5KPonSqrXILQ",
        "outputId": "880f8c3b-221e-495c-918d-7941d9fc64b0"
      },
      "source": [
        "cat_merged_df = pd.merge(cat_number, category_installs, on='Category', how=\"inner\")\n",
        "print(f'The dimensions of the DataFrame are: {cat_merged_df.shape}')\n",
        "cat_merged_df.sort_values('Installs', ascending=False)"
      ],
      "execution_count": 67,
      "outputs": [
        {
          "output_type": "stream",
          "text": [
            "The dimensions of the DataFrame are: (33, 2)\n"
          ],
          "name": "stdout"
        },
        {
          "output_type": "execute_result",
          "data": {
            "text/html": [
              "<div>\n",
              "<style scoped>\n",
              "    .dataframe tbody tr th:only-of-type {\n",
              "        vertical-align: middle;\n",
              "    }\n",
              "\n",
              "    .dataframe tbody tr th {\n",
              "        vertical-align: top;\n",
              "    }\n",
              "\n",
              "    .dataframe thead th {\n",
              "        text-align: right;\n",
              "    }\n",
              "</style>\n",
              "<table border=\"1\" class=\"dataframe\">\n",
              "  <thead>\n",
              "    <tr style=\"text-align: right;\">\n",
              "      <th></th>\n",
              "      <th>App</th>\n",
              "      <th>Installs</th>\n",
              "    </tr>\n",
              "    <tr>\n",
              "      <th>Category</th>\n",
              "      <th></th>\n",
              "      <th></th>\n",
              "    </tr>\n",
              "  </thead>\n",
              "  <tbody>\n",
              "    <tr>\n",
              "      <th>GAME</th>\n",
              "      <td>910</td>\n",
              "      <td>13858762717</td>\n",
              "    </tr>\n",
              "    <tr>\n",
              "      <th>COMMUNICATION</th>\n",
              "      <td>257</td>\n",
              "      <td>11039241530</td>\n",
              "    </tr>\n",
              "    <tr>\n",
              "      <th>TOOLS</th>\n",
              "      <td>719</td>\n",
              "      <td>8099724500</td>\n",
              "    </tr>\n",
              "    <tr>\n",
              "      <th>PRODUCTIVITY</th>\n",
              "      <td>301</td>\n",
              "      <td>5788070180</td>\n",
              "    </tr>\n",
              "    <tr>\n",
              "      <th>SOCIAL</th>\n",
              "      <td>203</td>\n",
              "      <td>5487841475</td>\n",
              "    </tr>\n",
              "    <tr>\n",
              "      <th>PHOTOGRAPHY</th>\n",
              "      <td>263</td>\n",
              "      <td>4649143130</td>\n",
              "    </tr>\n",
              "    <tr>\n",
              "      <th>FAMILY</th>\n",
              "      <td>1610</td>\n",
              "      <td>4437579590</td>\n",
              "    </tr>\n",
              "    <tr>\n",
              "      <th>VIDEO_PLAYERS</th>\n",
              "      <td>148</td>\n",
              "      <td>3916897200</td>\n",
              "    </tr>\n",
              "    <tr>\n",
              "      <th>TRAVEL_AND_LOCAL</th>\n",
              "      <td>187</td>\n",
              "      <td>2894859300</td>\n",
              "    </tr>\n",
              "    <tr>\n",
              "      <th>NEWS_AND_MAGAZINES</th>\n",
              "      <td>204</td>\n",
              "      <td>2369110650</td>\n",
              "    </tr>\n",
              "    <tr>\n",
              "      <th>ENTERTAINMENT</th>\n",
              "      <td>102</td>\n",
              "      <td>2113660000</td>\n",
              "    </tr>\n",
              "    <tr>\n",
              "      <th>BOOKS_AND_REFERENCE</th>\n",
              "      <td>169</td>\n",
              "      <td>1665791655</td>\n",
              "    </tr>\n",
              "    <tr>\n",
              "      <th>PERSONALIZATION</th>\n",
              "      <td>298</td>\n",
              "      <td>1532352930</td>\n",
              "    </tr>\n",
              "    <tr>\n",
              "      <th>SHOPPING</th>\n",
              "      <td>180</td>\n",
              "      <td>1400331540</td>\n",
              "    </tr>\n",
              "    <tr>\n",
              "      <th>HEALTH_AND_FITNESS</th>\n",
              "      <td>243</td>\n",
              "      <td>1134006220</td>\n",
              "    </tr>\n",
              "    <tr>\n",
              "      <th>SPORTS</th>\n",
              "      <td>260</td>\n",
              "      <td>1096431465</td>\n",
              "    </tr>\n",
              "    <tr>\n",
              "      <th>BUSINESS</th>\n",
              "      <td>262</td>\n",
              "      <td>692018120</td>\n",
              "    </tr>\n",
              "    <tr>\n",
              "      <th>LIFESTYLE</th>\n",
              "      <td>302</td>\n",
              "      <td>503742120</td>\n",
              "    </tr>\n",
              "    <tr>\n",
              "      <th>MAPS_AND_NAVIGATION</th>\n",
              "      <td>118</td>\n",
              "      <td>503267560</td>\n",
              "    </tr>\n",
              "    <tr>\n",
              "      <th>FINANCE</th>\n",
              "      <td>302</td>\n",
              "      <td>455312400</td>\n",
              "    </tr>\n",
              "    <tr>\n",
              "      <th>WEATHER</th>\n",
              "      <td>72</td>\n",
              "      <td>361096500</td>\n",
              "    </tr>\n",
              "    <tr>\n",
              "      <th>EDUCATION</th>\n",
              "      <td>118</td>\n",
              "      <td>352852000</td>\n",
              "    </tr>\n",
              "    <tr>\n",
              "      <th>FOOD_AND_DRINK</th>\n",
              "      <td>94</td>\n",
              "      <td>211677750</td>\n",
              "    </tr>\n",
              "    <tr>\n",
              "      <th>DATING</th>\n",
              "      <td>134</td>\n",
              "      <td>140912410</td>\n",
              "    </tr>\n",
              "    <tr>\n",
              "      <th>ART_AND_DESIGN</th>\n",
              "      <td>61</td>\n",
              "      <td>114233100</td>\n",
              "    </tr>\n",
              "    <tr>\n",
              "      <th>HOUSE_AND_HOME</th>\n",
              "      <td>62</td>\n",
              "      <td>97082000</td>\n",
              "    </tr>\n",
              "    <tr>\n",
              "      <th>AUTO_AND_VEHICLES</th>\n",
              "      <td>73</td>\n",
              "      <td>53129800</td>\n",
              "    </tr>\n",
              "    <tr>\n",
              "      <th>LIBRARIES_AND_DEMO</th>\n",
              "      <td>64</td>\n",
              "      <td>52083000</td>\n",
              "    </tr>\n",
              "    <tr>\n",
              "      <th>COMICS</th>\n",
              "      <td>54</td>\n",
              "      <td>44931100</td>\n",
              "    </tr>\n",
              "    <tr>\n",
              "      <th>MEDICAL</th>\n",
              "      <td>292</td>\n",
              "      <td>39162676</td>\n",
              "    </tr>\n",
              "    <tr>\n",
              "      <th>PARENTING</th>\n",
              "      <td>50</td>\n",
              "      <td>31116110</td>\n",
              "    </tr>\n",
              "    <tr>\n",
              "      <th>BEAUTY</th>\n",
              "      <td>42</td>\n",
              "      <td>26916200</td>\n",
              "    </tr>\n",
              "    <tr>\n",
              "      <th>EVENTS</th>\n",
              "      <td>45</td>\n",
              "      <td>15949410</td>\n",
              "    </tr>\n",
              "  </tbody>\n",
              "</table>\n",
              "</div>"
            ],
            "text/plain": [
              "                      App     Installs\n",
              "Category                              \n",
              "GAME                  910  13858762717\n",
              "COMMUNICATION         257  11039241530\n",
              "TOOLS                 719   8099724500\n",
              "PRODUCTIVITY          301   5788070180\n",
              "SOCIAL                203   5487841475\n",
              "PHOTOGRAPHY           263   4649143130\n",
              "FAMILY               1610   4437579590\n",
              "VIDEO_PLAYERS         148   3916897200\n",
              "TRAVEL_AND_LOCAL      187   2894859300\n",
              "NEWS_AND_MAGAZINES    204   2369110650\n",
              "ENTERTAINMENT         102   2113660000\n",
              "BOOKS_AND_REFERENCE   169   1665791655\n",
              "PERSONALIZATION       298   1532352930\n",
              "SHOPPING              180   1400331540\n",
              "HEALTH_AND_FITNESS    243   1134006220\n",
              "SPORTS                260   1096431465\n",
              "BUSINESS              262    692018120\n",
              "LIFESTYLE             302    503742120\n",
              "MAPS_AND_NAVIGATION   118    503267560\n",
              "FINANCE               302    455312400\n",
              "WEATHER                72    361096500\n",
              "EDUCATION             118    352852000\n",
              "FOOD_AND_DRINK         94    211677750\n",
              "DATING                134    140912410\n",
              "ART_AND_DESIGN         61    114233100\n",
              "HOUSE_AND_HOME         62     97082000\n",
              "AUTO_AND_VEHICLES      73     53129800\n",
              "LIBRARIES_AND_DEMO     64     52083000\n",
              "COMICS                 54     44931100\n",
              "MEDICAL               292     39162676\n",
              "PARENTING              50     31116110\n",
              "BEAUTY                 42     26916200\n",
              "EVENTS                 45     15949410"
            ]
          },
          "metadata": {
            "tags": []
          },
          "execution_count": 67
        }
      ]
    },
    {
      "cell_type": "code",
      "metadata": {
        "colab": {
          "base_uri": "https://localhost:8080/",
          "height": 542
        },
        "id": "eXNRNLS0XGWK",
        "outputId": "1a51b327-5ba8-4de7-dbc2-3534a53c941e"
      },
      "source": [
        "scatter = px.scatter(cat_merged_df, # data\n",
        "                    x='App', # column name\n",
        "                    y='Installs',\n",
        "                    title='Category Concentration',\n",
        "                    size='App',\n",
        "                    hover_name=cat_merged_df.index,\n",
        "                    color='Installs')\n",
        " \n",
        "scatter.update_layout(xaxis_title=\"Number of Apps (Lower=More Concentrated)\",\n",
        "                      yaxis_title=\"Installs\",\n",
        "                      yaxis=dict(type='log'))\n",
        " \n",
        "scatter.show()"
      ],
      "execution_count": 68,
      "outputs": [
        {
          "output_type": "display_data",
          "data": {
            "text/html": [
              "<html>\n",
              "<head><meta charset=\"utf-8\" /></head>\n",
              "<body>\n",
              "    <div>\n",
              "            <script src=\"https://cdnjs.cloudflare.com/ajax/libs/mathjax/2.7.5/MathJax.js?config=TeX-AMS-MML_SVG\"></script><script type=\"text/javascript\">if (window.MathJax) {MathJax.Hub.Config({SVG: {font: \"STIX-Web\"}});}</script>\n",
              "                <script type=\"text/javascript\">window.PlotlyConfig = {MathJaxConfig: 'local'};</script>\n",
              "        <script src=\"https://cdn.plot.ly/plotly-latest.min.js\"></script>    \n",
              "            <div id=\"9075b83d-5aa8-4624-b40e-9f025b57a1f0\" class=\"plotly-graph-div\" style=\"height:525px; width:100%;\"></div>\n",
              "            <script type=\"text/javascript\">\n",
              "                \n",
              "                    window.PLOTLYENV=window.PLOTLYENV || {};\n",
              "                    \n",
              "                if (document.getElementById(\"9075b83d-5aa8-4624-b40e-9f025b57a1f0\")) {\n",
              "                    Plotly.newPlot(\n",
              "                        '9075b83d-5aa8-4624-b40e-9f025b57a1f0',\n",
              "                        [{\"hoverlabel\": {\"namelength\": 0}, \"hovertemplate\": \"<b>%{hovertext}</b><br><br>App=%{marker.size}<br>Installs=%{marker.color}\", \"hovertext\": [\"ART_AND_DESIGN\", \"AUTO_AND_VEHICLES\", \"BEAUTY\", \"BOOKS_AND_REFERENCE\", \"BUSINESS\", \"COMICS\", \"COMMUNICATION\", \"DATING\", \"EDUCATION\", \"ENTERTAINMENT\", \"EVENTS\", \"FAMILY\", \"FINANCE\", \"FOOD_AND_DRINK\", \"GAME\", \"HEALTH_AND_FITNESS\", \"HOUSE_AND_HOME\", \"LIBRARIES_AND_DEMO\", \"LIFESTYLE\", \"MAPS_AND_NAVIGATION\", \"MEDICAL\", \"NEWS_AND_MAGAZINES\", \"PARENTING\", \"PERSONALIZATION\", \"PHOTOGRAPHY\", \"PRODUCTIVITY\", \"SHOPPING\", \"SOCIAL\", \"SPORTS\", \"TOOLS\", \"TRAVEL_AND_LOCAL\", \"VIDEO_PLAYERS\", \"WEATHER\"], \"legendgroup\": \"\", \"marker\": {\"color\": [114233100, 53129800, 26916200, 1665791655, 692018120, 44931100, 11039241530, 140912410, 352852000, 2113660000, 15949410, 4437579590, 455312400, 211677750, 13858762717, 1134006220, 97082000, 52083000, 503742120, 503267560, 39162676, 2369110650, 31116110, 1532352930, 4649143130, 5788070180, 1400331540, 5487841475, 1096431465, 8099724500, 2894859300, 3916897200, 361096500], \"coloraxis\": \"coloraxis\", \"size\": [61, 73, 42, 169, 262, 54, 257, 134, 118, 102, 45, 1610, 302, 94, 910, 243, 62, 64, 302, 118, 292, 204, 50, 298, 263, 301, 180, 203, 260, 719, 187, 148, 72], \"sizemode\": \"area\", \"sizeref\": 4.025, \"symbol\": \"circle\"}, \"mode\": \"markers\", \"name\": \"\", \"showlegend\": false, \"type\": \"scatter\", \"x\": [61, 73, 42, 169, 262, 54, 257, 134, 118, 102, 45, 1610, 302, 94, 910, 243, 62, 64, 302, 118, 292, 204, 50, 298, 263, 301, 180, 203, 260, 719, 187, 148, 72], \"xaxis\": \"x\", \"y\": [114233100, 53129800, 26916200, 1665791655, 692018120, 44931100, 11039241530, 140912410, 352852000, 2113660000, 15949410, 4437579590, 455312400, 211677750, 13858762717, 1134006220, 97082000, 52083000, 503742120, 503267560, 39162676, 2369110650, 31116110, 1532352930, 4649143130, 5788070180, 1400331540, 5487841475, 1096431465, 8099724500, 2894859300, 3916897200, 361096500], \"yaxis\": \"y\"}],\n",
              "                        {\"coloraxis\": {\"colorbar\": {\"title\": {\"text\": \"Installs\"}}, \"colorscale\": [[0.0, \"#0d0887\"], [0.1111111111111111, \"#46039f\"], [0.2222222222222222, \"#7201a8\"], [0.3333333333333333, \"#9c179e\"], [0.4444444444444444, \"#bd3786\"], [0.5555555555555556, \"#d8576b\"], [0.6666666666666666, \"#ed7953\"], [0.7777777777777778, \"#fb9f3a\"], [0.8888888888888888, \"#fdca26\"], [1.0, \"#f0f921\"]]}, \"legend\": {\"itemsizing\": \"constant\", \"tracegroupgap\": 0}, \"template\": {\"data\": {\"bar\": [{\"error_x\": {\"color\": \"#2a3f5f\"}, \"error_y\": {\"color\": \"#2a3f5f\"}, \"marker\": {\"line\": {\"color\": \"#E5ECF6\", \"width\": 0.5}}, \"type\": \"bar\"}], \"barpolar\": [{\"marker\": {\"line\": {\"color\": \"#E5ECF6\", \"width\": 0.5}}, \"type\": \"barpolar\"}], \"carpet\": [{\"aaxis\": {\"endlinecolor\": \"#2a3f5f\", \"gridcolor\": \"white\", \"linecolor\": \"white\", \"minorgridcolor\": \"white\", \"startlinecolor\": \"#2a3f5f\"}, \"baxis\": {\"endlinecolor\": \"#2a3f5f\", \"gridcolor\": \"white\", \"linecolor\": \"white\", \"minorgridcolor\": \"white\", \"startlinecolor\": \"#2a3f5f\"}, \"type\": \"carpet\"}], \"choropleth\": [{\"colorbar\": {\"outlinewidth\": 0, \"ticks\": \"\"}, \"type\": \"choropleth\"}], \"contour\": [{\"colorbar\": {\"outlinewidth\": 0, \"ticks\": \"\"}, \"colorscale\": [[0.0, \"#0d0887\"], [0.1111111111111111, \"#46039f\"], [0.2222222222222222, \"#7201a8\"], [0.3333333333333333, \"#9c179e\"], [0.4444444444444444, \"#bd3786\"], [0.5555555555555556, \"#d8576b\"], [0.6666666666666666, \"#ed7953\"], [0.7777777777777778, \"#fb9f3a\"], [0.8888888888888888, \"#fdca26\"], [1.0, \"#f0f921\"]], \"type\": \"contour\"}], \"contourcarpet\": [{\"colorbar\": {\"outlinewidth\": 0, \"ticks\": \"\"}, \"type\": \"contourcarpet\"}], \"heatmap\": [{\"colorbar\": {\"outlinewidth\": 0, \"ticks\": \"\"}, \"colorscale\": [[0.0, \"#0d0887\"], [0.1111111111111111, \"#46039f\"], [0.2222222222222222, \"#7201a8\"], [0.3333333333333333, \"#9c179e\"], [0.4444444444444444, \"#bd3786\"], [0.5555555555555556, \"#d8576b\"], [0.6666666666666666, \"#ed7953\"], [0.7777777777777778, \"#fb9f3a\"], [0.8888888888888888, \"#fdca26\"], [1.0, \"#f0f921\"]], \"type\": \"heatmap\"}], \"heatmapgl\": [{\"colorbar\": {\"outlinewidth\": 0, \"ticks\": \"\"}, \"colorscale\": [[0.0, \"#0d0887\"], [0.1111111111111111, \"#46039f\"], [0.2222222222222222, \"#7201a8\"], [0.3333333333333333, \"#9c179e\"], [0.4444444444444444, \"#bd3786\"], [0.5555555555555556, \"#d8576b\"], [0.6666666666666666, \"#ed7953\"], [0.7777777777777778, \"#fb9f3a\"], [0.8888888888888888, \"#fdca26\"], [1.0, \"#f0f921\"]], \"type\": \"heatmapgl\"}], \"histogram\": [{\"marker\": {\"colorbar\": {\"outlinewidth\": 0, \"ticks\": \"\"}}, \"type\": \"histogram\"}], \"histogram2d\": [{\"colorbar\": {\"outlinewidth\": 0, \"ticks\": \"\"}, \"colorscale\": [[0.0, \"#0d0887\"], [0.1111111111111111, \"#46039f\"], [0.2222222222222222, \"#7201a8\"], [0.3333333333333333, \"#9c179e\"], [0.4444444444444444, \"#bd3786\"], [0.5555555555555556, \"#d8576b\"], [0.6666666666666666, \"#ed7953\"], [0.7777777777777778, \"#fb9f3a\"], [0.8888888888888888, \"#fdca26\"], [1.0, \"#f0f921\"]], \"type\": \"histogram2d\"}], \"histogram2dcontour\": [{\"colorbar\": {\"outlinewidth\": 0, \"ticks\": \"\"}, \"colorscale\": [[0.0, \"#0d0887\"], [0.1111111111111111, \"#46039f\"], [0.2222222222222222, \"#7201a8\"], [0.3333333333333333, \"#9c179e\"], [0.4444444444444444, \"#bd3786\"], [0.5555555555555556, \"#d8576b\"], [0.6666666666666666, \"#ed7953\"], [0.7777777777777778, \"#fb9f3a\"], [0.8888888888888888, \"#fdca26\"], [1.0, \"#f0f921\"]], \"type\": \"histogram2dcontour\"}], \"mesh3d\": [{\"colorbar\": {\"outlinewidth\": 0, \"ticks\": \"\"}, \"type\": \"mesh3d\"}], \"parcoords\": [{\"line\": {\"colorbar\": {\"outlinewidth\": 0, \"ticks\": \"\"}}, \"type\": \"parcoords\"}], \"pie\": [{\"automargin\": true, \"type\": \"pie\"}], \"scatter\": [{\"marker\": {\"colorbar\": {\"outlinewidth\": 0, \"ticks\": \"\"}}, \"type\": \"scatter\"}], \"scatter3d\": [{\"line\": {\"colorbar\": {\"outlinewidth\": 0, \"ticks\": \"\"}}, \"marker\": {\"colorbar\": {\"outlinewidth\": 0, \"ticks\": \"\"}}, \"type\": \"scatter3d\"}], \"scattercarpet\": [{\"marker\": {\"colorbar\": {\"outlinewidth\": 0, \"ticks\": \"\"}}, \"type\": \"scattercarpet\"}], \"scattergeo\": [{\"marker\": {\"colorbar\": {\"outlinewidth\": 0, \"ticks\": \"\"}}, \"type\": \"scattergeo\"}], \"scattergl\": [{\"marker\": {\"colorbar\": {\"outlinewidth\": 0, \"ticks\": \"\"}}, \"type\": \"scattergl\"}], \"scattermapbox\": [{\"marker\": {\"colorbar\": {\"outlinewidth\": 0, \"ticks\": \"\"}}, \"type\": \"scattermapbox\"}], \"scatterpolar\": [{\"marker\": {\"colorbar\": {\"outlinewidth\": 0, \"ticks\": \"\"}}, \"type\": \"scatterpolar\"}], \"scatterpolargl\": [{\"marker\": {\"colorbar\": {\"outlinewidth\": 0, \"ticks\": \"\"}}, \"type\": \"scatterpolargl\"}], \"scatterternary\": [{\"marker\": {\"colorbar\": {\"outlinewidth\": 0, \"ticks\": \"\"}}, \"type\": \"scatterternary\"}], \"surface\": [{\"colorbar\": {\"outlinewidth\": 0, \"ticks\": \"\"}, \"colorscale\": [[0.0, \"#0d0887\"], [0.1111111111111111, \"#46039f\"], [0.2222222222222222, \"#7201a8\"], [0.3333333333333333, \"#9c179e\"], [0.4444444444444444, \"#bd3786\"], [0.5555555555555556, \"#d8576b\"], [0.6666666666666666, \"#ed7953\"], [0.7777777777777778, \"#fb9f3a\"], [0.8888888888888888, \"#fdca26\"], [1.0, \"#f0f921\"]], \"type\": \"surface\"}], \"table\": [{\"cells\": {\"fill\": {\"color\": \"#EBF0F8\"}, \"line\": {\"color\": \"white\"}}, \"header\": {\"fill\": {\"color\": \"#C8D4E3\"}, \"line\": {\"color\": \"white\"}}, \"type\": \"table\"}]}, \"layout\": {\"annotationdefaults\": {\"arrowcolor\": \"#2a3f5f\", \"arrowhead\": 0, \"arrowwidth\": 1}, \"coloraxis\": {\"colorbar\": {\"outlinewidth\": 0, \"ticks\": \"\"}}, \"colorscale\": {\"diverging\": [[0, \"#8e0152\"], [0.1, \"#c51b7d\"], [0.2, \"#de77ae\"], [0.3, \"#f1b6da\"], [0.4, \"#fde0ef\"], [0.5, \"#f7f7f7\"], [0.6, \"#e6f5d0\"], [0.7, \"#b8e186\"], [0.8, \"#7fbc41\"], [0.9, \"#4d9221\"], [1, \"#276419\"]], \"sequential\": [[0.0, \"#0d0887\"], [0.1111111111111111, \"#46039f\"], [0.2222222222222222, \"#7201a8\"], [0.3333333333333333, \"#9c179e\"], [0.4444444444444444, \"#bd3786\"], [0.5555555555555556, \"#d8576b\"], [0.6666666666666666, \"#ed7953\"], [0.7777777777777778, \"#fb9f3a\"], [0.8888888888888888, \"#fdca26\"], [1.0, \"#f0f921\"]], \"sequentialminus\": [[0.0, \"#0d0887\"], [0.1111111111111111, \"#46039f\"], [0.2222222222222222, \"#7201a8\"], [0.3333333333333333, \"#9c179e\"], [0.4444444444444444, \"#bd3786\"], [0.5555555555555556, \"#d8576b\"], [0.6666666666666666, \"#ed7953\"], [0.7777777777777778, \"#fb9f3a\"], [0.8888888888888888, \"#fdca26\"], [1.0, \"#f0f921\"]]}, \"colorway\": [\"#636efa\", \"#EF553B\", \"#00cc96\", \"#ab63fa\", \"#FFA15A\", \"#19d3f3\", \"#FF6692\", \"#B6E880\", \"#FF97FF\", \"#FECB52\"], \"font\": {\"color\": \"#2a3f5f\"}, \"geo\": {\"bgcolor\": \"white\", \"lakecolor\": \"white\", \"landcolor\": \"#E5ECF6\", \"showlakes\": true, \"showland\": true, \"subunitcolor\": \"white\"}, \"hoverlabel\": {\"align\": \"left\"}, \"hovermode\": \"closest\", \"mapbox\": {\"style\": \"light\"}, \"paper_bgcolor\": \"white\", \"plot_bgcolor\": \"#E5ECF6\", \"polar\": {\"angularaxis\": {\"gridcolor\": \"white\", \"linecolor\": \"white\", \"ticks\": \"\"}, \"bgcolor\": \"#E5ECF6\", \"radialaxis\": {\"gridcolor\": \"white\", \"linecolor\": \"white\", \"ticks\": \"\"}}, \"scene\": {\"xaxis\": {\"backgroundcolor\": \"#E5ECF6\", \"gridcolor\": \"white\", \"gridwidth\": 2, \"linecolor\": \"white\", \"showbackground\": true, \"ticks\": \"\", \"zerolinecolor\": \"white\"}, \"yaxis\": {\"backgroundcolor\": \"#E5ECF6\", \"gridcolor\": \"white\", \"gridwidth\": 2, \"linecolor\": \"white\", \"showbackground\": true, \"ticks\": \"\", \"zerolinecolor\": \"white\"}, \"zaxis\": {\"backgroundcolor\": \"#E5ECF6\", \"gridcolor\": \"white\", \"gridwidth\": 2, \"linecolor\": \"white\", \"showbackground\": true, \"ticks\": \"\", \"zerolinecolor\": \"white\"}}, \"shapedefaults\": {\"line\": {\"color\": \"#2a3f5f\"}}, \"ternary\": {\"aaxis\": {\"gridcolor\": \"white\", \"linecolor\": \"white\", \"ticks\": \"\"}, \"baxis\": {\"gridcolor\": \"white\", \"linecolor\": \"white\", \"ticks\": \"\"}, \"bgcolor\": \"#E5ECF6\", \"caxis\": {\"gridcolor\": \"white\", \"linecolor\": \"white\", \"ticks\": \"\"}}, \"title\": {\"x\": 0.05}, \"xaxis\": {\"automargin\": true, \"gridcolor\": \"white\", \"linecolor\": \"white\", \"ticks\": \"\", \"title\": {\"standoff\": 15}, \"zerolinecolor\": \"white\", \"zerolinewidth\": 2}, \"yaxis\": {\"automargin\": true, \"gridcolor\": \"white\", \"linecolor\": \"white\", \"ticks\": \"\", \"title\": {\"standoff\": 15}, \"zerolinecolor\": \"white\", \"zerolinewidth\": 2}}}, \"title\": {\"text\": \"Category Concentration\"}, \"xaxis\": {\"anchor\": \"y\", \"domain\": [0.0, 1.0], \"title\": {\"text\": \"Number of Apps (Lower=More Concentrated)\"}}, \"yaxis\": {\"anchor\": \"x\", \"domain\": [0.0, 1.0], \"title\": {\"text\": \"Installs\"}, \"type\": \"log\"}},\n",
              "                        {\"responsive\": true}\n",
              "                    ).then(function(){\n",
              "                            \n",
              "var gd = document.getElementById('9075b83d-5aa8-4624-b40e-9f025b57a1f0');\n",
              "var x = new MutationObserver(function (mutations, observer) {{\n",
              "        var display = window.getComputedStyle(gd).display;\n",
              "        if (!display || display === 'none') {{\n",
              "            console.log([gd, 'removed!']);\n",
              "            Plotly.purge(gd);\n",
              "            observer.disconnect();\n",
              "        }}\n",
              "}});\n",
              "\n",
              "// Listen for the removal of the full notebook cells\n",
              "var notebookContainer = gd.closest('#notebook-container');\n",
              "if (notebookContainer) {{\n",
              "    x.observe(notebookContainer, {childList: true});\n",
              "}}\n",
              "\n",
              "// Listen for the clearing of the current output cell\n",
              "var outputEl = gd.closest('.output');\n",
              "if (outputEl) {{\n",
              "    x.observe(outputEl, {childList: true});\n",
              "}}\n",
              "\n",
              "                        })\n",
              "                };\n",
              "                \n",
              "            </script>\n",
              "        </div>\n",
              "</body>\n",
              "</html>"
            ]
          },
          "metadata": {
            "tags": []
          }
        }
      ]
    },
    {
      "cell_type": "markdown",
      "metadata": {
        "id": "dmXDF75WdiVC"
      },
      "source": [
        "# Extracting Nested Data from a Column\n",
        "\n",
        "**Challenge**: How many different types of genres are there? Can an app belong to more than one genre? Check what happens when you use .value_counts() on a column with nested values? See if you can work around this problem by using the .split() function and the DataFrame's [.stack() method](https://pandas.pydata.org/pandas-docs/stable/reference/api/pandas.DataFrame.stack.html). \n"
      ]
    },
    {
      "cell_type": "code",
      "metadata": {
        "id": "3Lo69kS6ogdm",
        "colab": {
          "base_uri": "https://localhost:8080/"
        },
        "outputId": "ae364bbf-118d-4857-85ae-4e5ac8dc10d5"
      },
      "source": [
        "# Split the strings on the semi-colon and then .stack them.\n",
        "stack = df_apps_clean.Genres.str.split(';', expand=True).stack()\n",
        "print(f'We now have a single column with shape: {stack.shape}')\n",
        "num_genres = stack.value_counts()\n",
        "print(f'Number of genres: {len(num_genres)}')"
      ],
      "execution_count": 69,
      "outputs": [
        {
          "output_type": "stream",
          "text": [
            "We now have a single column with shape: (8579,)\n",
            "Number of genres: 53\n"
          ],
          "name": "stdout"
        }
      ]
    },
    {
      "cell_type": "markdown",
      "metadata": {
        "id": "F3zaKvfydiVI"
      },
      "source": [
        "# Colour Scales in Plotly Charts - Competition in Genres"
      ]
    },
    {
      "cell_type": "markdown",
      "metadata": {
        "id": "Ucw6RT59diVK"
      },
      "source": [
        "**Challenge**: Can you create this chart with the Series containing the genre data? \n",
        "\n",
        "<img src=https://imgur.com/DbcoQli.png width=400>\n",
        "\n",
        "Try experimenting with the built in colour scales in Plotly. You can find a full list [here](https://plotly.com/python/builtin-colorscales/). \n",
        "\n",
        "* Find a way to set the colour scale using the color_continuous_scale parameter. \n",
        "* Find a way to make the color axis disappear by using coloraxis_showscale. "
      ]
    },
    {
      "cell_type": "code",
      "metadata": {
        "id": "c5xbfMgxojoA",
        "colab": {
          "base_uri": "https://localhost:8080/",
          "height": 542
        },
        "outputId": "1a458314-bd31-4381-ba9a-32928256f04c"
      },
      "source": [
        "bar = px.bar(x = num_genres.index[:15], # index = category name\n",
        "             y = num_genres.values[:15], # count\n",
        "             title='Top Genres',\n",
        "             hover_name=num_genres.index[:15],\n",
        "             color=num_genres.values[:15],\n",
        "             color_continuous_scale='Agsunset')\n",
        " \n",
        "bar.update_layout(xaxis_title='Genre',\n",
        "yaxis_title='Number of Apps',\n",
        "coloraxis_showscale=False)\n",
        " \n",
        "bar.show()\n"
      ],
      "execution_count": 70,
      "outputs": [
        {
          "output_type": "display_data",
          "data": {
            "text/html": [
              "<html>\n",
              "<head><meta charset=\"utf-8\" /></head>\n",
              "<body>\n",
              "    <div>\n",
              "            <script src=\"https://cdnjs.cloudflare.com/ajax/libs/mathjax/2.7.5/MathJax.js?config=TeX-AMS-MML_SVG\"></script><script type=\"text/javascript\">if (window.MathJax) {MathJax.Hub.Config({SVG: {font: \"STIX-Web\"}});}</script>\n",
              "                <script type=\"text/javascript\">window.PlotlyConfig = {MathJaxConfig: 'local'};</script>\n",
              "        <script src=\"https://cdn.plot.ly/plotly-latest.min.js\"></script>    \n",
              "            <div id=\"f4feda7b-0799-4edc-acbb-2ce31a29c034\" class=\"plotly-graph-div\" style=\"height:525px; width:100%;\"></div>\n",
              "            <script type=\"text/javascript\">\n",
              "                \n",
              "                    window.PLOTLYENV=window.PLOTLYENV || {};\n",
              "                    \n",
              "                if (document.getElementById(\"f4feda7b-0799-4edc-acbb-2ce31a29c034\")) {\n",
              "                    Plotly.newPlot(\n",
              "                        'f4feda7b-0799-4edc-acbb-2ce31a29c034',\n",
              "                        [{\"alignmentgroup\": \"True\", \"hoverlabel\": {\"namelength\": 0}, \"hovertemplate\": \"<b>%{hovertext}</b><br><br>x=%{x}<br>y=%{y}<br>color=%{marker.color}\", \"hovertext\": [\"Tools\", \"Education\", \"Entertainment\", \"Action\", \"Lifestyle\", \"Finance\", \"Productivity\", \"Personalization\", \"Medical\", \"Sports\", \"Photography\", \"Business\", \"Communication\", \"Health & Fitness\", \"Casual\"], \"legendgroup\": \"\", \"marker\": {\"color\": [719, 587, 502, 304, 303, 302, 301, 298, 292, 270, 263, 262, 258, 245, 216], \"coloraxis\": \"coloraxis\"}, \"name\": \"\", \"offsetgroup\": \"\", \"orientation\": \"v\", \"showlegend\": false, \"textposition\": \"auto\", \"type\": \"bar\", \"x\": [\"Tools\", \"Education\", \"Entertainment\", \"Action\", \"Lifestyle\", \"Finance\", \"Productivity\", \"Personalization\", \"Medical\", \"Sports\", \"Photography\", \"Business\", \"Communication\", \"Health & Fitness\", \"Casual\"], \"xaxis\": \"x\", \"y\": [719, 587, 502, 304, 303, 302, 301, 298, 292, 270, 263, 262, 258, 245, 216], \"yaxis\": \"y\"}],\n",
              "                        {\"barmode\": \"relative\", \"coloraxis\": {\"colorbar\": {\"title\": {\"text\": \"color\"}}, \"colorscale\": [[0.0, \"rgb(75, 41, 145)\"], [0.16666666666666666, \"rgb(135, 44, 162)\"], [0.3333333333333333, \"rgb(192, 54, 157)\"], [0.5, \"rgb(234, 79, 136)\"], [0.6666666666666666, \"rgb(250, 120, 118)\"], [0.8333333333333334, \"rgb(246, 169, 122)\"], [1.0, \"rgb(237, 217, 163)\"]], \"showscale\": false}, \"legend\": {\"tracegroupgap\": 0}, \"template\": {\"data\": {\"bar\": [{\"error_x\": {\"color\": \"#2a3f5f\"}, \"error_y\": {\"color\": \"#2a3f5f\"}, \"marker\": {\"line\": {\"color\": \"#E5ECF6\", \"width\": 0.5}}, \"type\": \"bar\"}], \"barpolar\": [{\"marker\": {\"line\": {\"color\": \"#E5ECF6\", \"width\": 0.5}}, \"type\": \"barpolar\"}], \"carpet\": [{\"aaxis\": {\"endlinecolor\": \"#2a3f5f\", \"gridcolor\": \"white\", \"linecolor\": \"white\", \"minorgridcolor\": \"white\", \"startlinecolor\": \"#2a3f5f\"}, \"baxis\": {\"endlinecolor\": \"#2a3f5f\", \"gridcolor\": \"white\", \"linecolor\": \"white\", \"minorgridcolor\": \"white\", \"startlinecolor\": \"#2a3f5f\"}, \"type\": \"carpet\"}], \"choropleth\": [{\"colorbar\": {\"outlinewidth\": 0, \"ticks\": \"\"}, \"type\": \"choropleth\"}], \"contour\": [{\"colorbar\": {\"outlinewidth\": 0, \"ticks\": \"\"}, \"colorscale\": [[0.0, \"#0d0887\"], [0.1111111111111111, \"#46039f\"], [0.2222222222222222, \"#7201a8\"], [0.3333333333333333, \"#9c179e\"], [0.4444444444444444, \"#bd3786\"], [0.5555555555555556, \"#d8576b\"], [0.6666666666666666, \"#ed7953\"], [0.7777777777777778, \"#fb9f3a\"], [0.8888888888888888, \"#fdca26\"], [1.0, \"#f0f921\"]], \"type\": \"contour\"}], \"contourcarpet\": [{\"colorbar\": {\"outlinewidth\": 0, \"ticks\": \"\"}, \"type\": \"contourcarpet\"}], \"heatmap\": [{\"colorbar\": {\"outlinewidth\": 0, \"ticks\": \"\"}, \"colorscale\": [[0.0, \"#0d0887\"], [0.1111111111111111, \"#46039f\"], [0.2222222222222222, \"#7201a8\"], [0.3333333333333333, \"#9c179e\"], [0.4444444444444444, \"#bd3786\"], [0.5555555555555556, \"#d8576b\"], [0.6666666666666666, \"#ed7953\"], [0.7777777777777778, \"#fb9f3a\"], [0.8888888888888888, \"#fdca26\"], [1.0, \"#f0f921\"]], \"type\": \"heatmap\"}], \"heatmapgl\": [{\"colorbar\": {\"outlinewidth\": 0, \"ticks\": \"\"}, \"colorscale\": [[0.0, \"#0d0887\"], [0.1111111111111111, \"#46039f\"], [0.2222222222222222, \"#7201a8\"], [0.3333333333333333, \"#9c179e\"], [0.4444444444444444, \"#bd3786\"], [0.5555555555555556, \"#d8576b\"], [0.6666666666666666, \"#ed7953\"], [0.7777777777777778, \"#fb9f3a\"], [0.8888888888888888, \"#fdca26\"], [1.0, \"#f0f921\"]], \"type\": \"heatmapgl\"}], \"histogram\": [{\"marker\": {\"colorbar\": {\"outlinewidth\": 0, \"ticks\": \"\"}}, \"type\": \"histogram\"}], \"histogram2d\": [{\"colorbar\": {\"outlinewidth\": 0, \"ticks\": \"\"}, \"colorscale\": [[0.0, \"#0d0887\"], [0.1111111111111111, \"#46039f\"], [0.2222222222222222, \"#7201a8\"], [0.3333333333333333, \"#9c179e\"], [0.4444444444444444, \"#bd3786\"], [0.5555555555555556, \"#d8576b\"], [0.6666666666666666, \"#ed7953\"], [0.7777777777777778, \"#fb9f3a\"], [0.8888888888888888, \"#fdca26\"], [1.0, \"#f0f921\"]], \"type\": \"histogram2d\"}], \"histogram2dcontour\": [{\"colorbar\": {\"outlinewidth\": 0, \"ticks\": \"\"}, \"colorscale\": [[0.0, \"#0d0887\"], [0.1111111111111111, \"#46039f\"], [0.2222222222222222, \"#7201a8\"], [0.3333333333333333, \"#9c179e\"], [0.4444444444444444, \"#bd3786\"], [0.5555555555555556, \"#d8576b\"], [0.6666666666666666, \"#ed7953\"], [0.7777777777777778, \"#fb9f3a\"], [0.8888888888888888, \"#fdca26\"], [1.0, \"#f0f921\"]], \"type\": \"histogram2dcontour\"}], \"mesh3d\": [{\"colorbar\": {\"outlinewidth\": 0, \"ticks\": \"\"}, \"type\": \"mesh3d\"}], \"parcoords\": [{\"line\": {\"colorbar\": {\"outlinewidth\": 0, \"ticks\": \"\"}}, \"type\": \"parcoords\"}], \"pie\": [{\"automargin\": true, \"type\": \"pie\"}], \"scatter\": [{\"marker\": {\"colorbar\": {\"outlinewidth\": 0, \"ticks\": \"\"}}, \"type\": \"scatter\"}], \"scatter3d\": [{\"line\": {\"colorbar\": {\"outlinewidth\": 0, \"ticks\": \"\"}}, \"marker\": {\"colorbar\": {\"outlinewidth\": 0, \"ticks\": \"\"}}, \"type\": \"scatter3d\"}], \"scattercarpet\": [{\"marker\": {\"colorbar\": {\"outlinewidth\": 0, \"ticks\": \"\"}}, \"type\": \"scattercarpet\"}], \"scattergeo\": [{\"marker\": {\"colorbar\": {\"outlinewidth\": 0, \"ticks\": \"\"}}, \"type\": \"scattergeo\"}], \"scattergl\": [{\"marker\": {\"colorbar\": {\"outlinewidth\": 0, \"ticks\": \"\"}}, \"type\": \"scattergl\"}], \"scattermapbox\": [{\"marker\": {\"colorbar\": {\"outlinewidth\": 0, \"ticks\": \"\"}}, \"type\": \"scattermapbox\"}], \"scatterpolar\": [{\"marker\": {\"colorbar\": {\"outlinewidth\": 0, \"ticks\": \"\"}}, \"type\": \"scatterpolar\"}], \"scatterpolargl\": [{\"marker\": {\"colorbar\": {\"outlinewidth\": 0, \"ticks\": \"\"}}, \"type\": \"scatterpolargl\"}], \"scatterternary\": [{\"marker\": {\"colorbar\": {\"outlinewidth\": 0, \"ticks\": \"\"}}, \"type\": \"scatterternary\"}], \"surface\": [{\"colorbar\": {\"outlinewidth\": 0, \"ticks\": \"\"}, \"colorscale\": [[0.0, \"#0d0887\"], [0.1111111111111111, \"#46039f\"], [0.2222222222222222, \"#7201a8\"], [0.3333333333333333, \"#9c179e\"], [0.4444444444444444, \"#bd3786\"], [0.5555555555555556, \"#d8576b\"], [0.6666666666666666, \"#ed7953\"], [0.7777777777777778, \"#fb9f3a\"], [0.8888888888888888, \"#fdca26\"], [1.0, \"#f0f921\"]], \"type\": \"surface\"}], \"table\": [{\"cells\": {\"fill\": {\"color\": \"#EBF0F8\"}, \"line\": {\"color\": \"white\"}}, \"header\": {\"fill\": {\"color\": \"#C8D4E3\"}, \"line\": {\"color\": \"white\"}}, \"type\": \"table\"}]}, \"layout\": {\"annotationdefaults\": {\"arrowcolor\": \"#2a3f5f\", \"arrowhead\": 0, \"arrowwidth\": 1}, \"coloraxis\": {\"colorbar\": {\"outlinewidth\": 0, \"ticks\": \"\"}}, \"colorscale\": {\"diverging\": [[0, \"#8e0152\"], [0.1, \"#c51b7d\"], [0.2, \"#de77ae\"], [0.3, \"#f1b6da\"], [0.4, \"#fde0ef\"], [0.5, \"#f7f7f7\"], [0.6, \"#e6f5d0\"], [0.7, \"#b8e186\"], [0.8, \"#7fbc41\"], [0.9, \"#4d9221\"], [1, \"#276419\"]], \"sequential\": [[0.0, \"#0d0887\"], [0.1111111111111111, \"#46039f\"], [0.2222222222222222, \"#7201a8\"], [0.3333333333333333, \"#9c179e\"], [0.4444444444444444, \"#bd3786\"], [0.5555555555555556, \"#d8576b\"], [0.6666666666666666, \"#ed7953\"], [0.7777777777777778, \"#fb9f3a\"], [0.8888888888888888, \"#fdca26\"], [1.0, \"#f0f921\"]], \"sequentialminus\": [[0.0, \"#0d0887\"], [0.1111111111111111, \"#46039f\"], [0.2222222222222222, \"#7201a8\"], [0.3333333333333333, \"#9c179e\"], [0.4444444444444444, \"#bd3786\"], [0.5555555555555556, \"#d8576b\"], [0.6666666666666666, \"#ed7953\"], [0.7777777777777778, \"#fb9f3a\"], [0.8888888888888888, \"#fdca26\"], [1.0, \"#f0f921\"]]}, \"colorway\": [\"#636efa\", \"#EF553B\", \"#00cc96\", \"#ab63fa\", \"#FFA15A\", \"#19d3f3\", \"#FF6692\", \"#B6E880\", \"#FF97FF\", \"#FECB52\"], \"font\": {\"color\": \"#2a3f5f\"}, \"geo\": {\"bgcolor\": \"white\", \"lakecolor\": \"white\", \"landcolor\": \"#E5ECF6\", \"showlakes\": true, \"showland\": true, \"subunitcolor\": \"white\"}, \"hoverlabel\": {\"align\": \"left\"}, \"hovermode\": \"closest\", \"mapbox\": {\"style\": \"light\"}, \"paper_bgcolor\": \"white\", \"plot_bgcolor\": \"#E5ECF6\", \"polar\": {\"angularaxis\": {\"gridcolor\": \"white\", \"linecolor\": \"white\", \"ticks\": \"\"}, \"bgcolor\": \"#E5ECF6\", \"radialaxis\": {\"gridcolor\": \"white\", \"linecolor\": \"white\", \"ticks\": \"\"}}, \"scene\": {\"xaxis\": {\"backgroundcolor\": \"#E5ECF6\", \"gridcolor\": \"white\", \"gridwidth\": 2, \"linecolor\": \"white\", \"showbackground\": true, \"ticks\": \"\", \"zerolinecolor\": \"white\"}, \"yaxis\": {\"backgroundcolor\": \"#E5ECF6\", \"gridcolor\": \"white\", \"gridwidth\": 2, \"linecolor\": \"white\", \"showbackground\": true, \"ticks\": \"\", \"zerolinecolor\": \"white\"}, \"zaxis\": {\"backgroundcolor\": \"#E5ECF6\", \"gridcolor\": \"white\", \"gridwidth\": 2, \"linecolor\": \"white\", \"showbackground\": true, \"ticks\": \"\", \"zerolinecolor\": \"white\"}}, \"shapedefaults\": {\"line\": {\"color\": \"#2a3f5f\"}}, \"ternary\": {\"aaxis\": {\"gridcolor\": \"white\", \"linecolor\": \"white\", \"ticks\": \"\"}, \"baxis\": {\"gridcolor\": \"white\", \"linecolor\": \"white\", \"ticks\": \"\"}, \"bgcolor\": \"#E5ECF6\", \"caxis\": {\"gridcolor\": \"white\", \"linecolor\": \"white\", \"ticks\": \"\"}}, \"title\": {\"x\": 0.05}, \"xaxis\": {\"automargin\": true, \"gridcolor\": \"white\", \"linecolor\": \"white\", \"ticks\": \"\", \"title\": {\"standoff\": 15}, \"zerolinecolor\": \"white\", \"zerolinewidth\": 2}, \"yaxis\": {\"automargin\": true, \"gridcolor\": \"white\", \"linecolor\": \"white\", \"ticks\": \"\", \"title\": {\"standoff\": 15}, \"zerolinecolor\": \"white\", \"zerolinewidth\": 2}}}, \"title\": {\"text\": \"Top Genres\"}, \"xaxis\": {\"anchor\": \"y\", \"domain\": [0.0, 1.0], \"title\": {\"text\": \"Genre\"}}, \"yaxis\": {\"anchor\": \"x\", \"domain\": [0.0, 1.0], \"title\": {\"text\": \"Number of Apps\"}}},\n",
              "                        {\"responsive\": true}\n",
              "                    ).then(function(){\n",
              "                            \n",
              "var gd = document.getElementById('f4feda7b-0799-4edc-acbb-2ce31a29c034');\n",
              "var x = new MutationObserver(function (mutations, observer) {{\n",
              "        var display = window.getComputedStyle(gd).display;\n",
              "        if (!display || display === 'none') {{\n",
              "            console.log([gd, 'removed!']);\n",
              "            Plotly.purge(gd);\n",
              "            observer.disconnect();\n",
              "        }}\n",
              "}});\n",
              "\n",
              "// Listen for the removal of the full notebook cells\n",
              "var notebookContainer = gd.closest('#notebook-container');\n",
              "if (notebookContainer) {{\n",
              "    x.observe(notebookContainer, {childList: true});\n",
              "}}\n",
              "\n",
              "// Listen for the clearing of the current output cell\n",
              "var outputEl = gd.closest('.output');\n",
              "if (outputEl) {{\n",
              "    x.observe(outputEl, {childList: true});\n",
              "}}\n",
              "\n",
              "                        })\n",
              "                };\n",
              "                \n",
              "            </script>\n",
              "        </div>\n",
              "</body>\n",
              "</html>"
            ]
          },
          "metadata": {
            "tags": []
          }
        }
      ]
    },
    {
      "cell_type": "markdown",
      "metadata": {
        "id": "BIWG_10PyIzL"
      },
      "source": [
        "# Grouped Bar Charts: Free vs. Paid Apps per Category"
      ]
    },
    {
      "cell_type": "code",
      "metadata": {
        "id": "ANMs7xywolDH",
        "colab": {
          "base_uri": "https://localhost:8080/"
        },
        "outputId": "84fcb09d-6286-4254-ebce-e92c4035380e"
      },
      "source": [
        "df_apps_clean.Type.value_counts()"
      ],
      "execution_count": 71,
      "outputs": [
        {
          "output_type": "execute_result",
          "data": {
            "text/plain": [
              "Free    7595\n",
              "Paid     604\n",
              "Name: Type, dtype: int64"
            ]
          },
          "metadata": {
            "tags": []
          },
          "execution_count": 71
        }
      ]
    },
    {
      "cell_type": "markdown",
      "metadata": {
        "id": "wmRXm0TW1e_Z"
      },
      "source": [
        "**Challenge**: Use the plotly express bar [chart examples](https://plotly.com/python/bar-charts/#bar-chart-with-sorted-or-ordered-categories) and the [.bar() API reference](https://plotly.com/python-api-reference/generated/plotly.express.bar.html#plotly.express.bar) to create this bar chart: \n",
        "\n",
        "<img src=https://imgur.com/LE0XCxA.png>\n",
        "\n",
        "You'll want to use the `df_free_vs_paid` DataFrame that you created above that has the total number of free and paid apps per category. \n",
        "\n",
        "See if you can figure out how to get the look above by changing the `categoryorder` to 'total descending' as outlined in the documentation here [here](https://plotly.com/python/categorical-axes/#automatically-sorting-categories-by-name-or-total-value). "
      ]
    },
    {
      "cell_type": "code",
      "metadata": {
        "id": "tqOntrS7onGt",
        "colab": {
          "base_uri": "https://localhost:8080/",
          "height": 204
        },
        "outputId": "bbd89765-4630-431c-a6d0-0d33b5a0461d"
      },
      "source": [
        "df_free_vs_paid = df_apps_clean.groupby([\"Category\", \"Type\"], as_index=False).agg({'App': pd.Series.count})\n",
        "df_free_vs_paid.head()"
      ],
      "execution_count": 72,
      "outputs": [
        {
          "output_type": "execute_result",
          "data": {
            "text/html": [
              "<div>\n",
              "<style scoped>\n",
              "    .dataframe tbody tr th:only-of-type {\n",
              "        vertical-align: middle;\n",
              "    }\n",
              "\n",
              "    .dataframe tbody tr th {\n",
              "        vertical-align: top;\n",
              "    }\n",
              "\n",
              "    .dataframe thead th {\n",
              "        text-align: right;\n",
              "    }\n",
              "</style>\n",
              "<table border=\"1\" class=\"dataframe\">\n",
              "  <thead>\n",
              "    <tr style=\"text-align: right;\">\n",
              "      <th></th>\n",
              "      <th>Category</th>\n",
              "      <th>Type</th>\n",
              "      <th>App</th>\n",
              "    </tr>\n",
              "  </thead>\n",
              "  <tbody>\n",
              "    <tr>\n",
              "      <th>0</th>\n",
              "      <td>ART_AND_DESIGN</td>\n",
              "      <td>Free</td>\n",
              "      <td>58</td>\n",
              "    </tr>\n",
              "    <tr>\n",
              "      <th>1</th>\n",
              "      <td>ART_AND_DESIGN</td>\n",
              "      <td>Paid</td>\n",
              "      <td>3</td>\n",
              "    </tr>\n",
              "    <tr>\n",
              "      <th>2</th>\n",
              "      <td>AUTO_AND_VEHICLES</td>\n",
              "      <td>Free</td>\n",
              "      <td>72</td>\n",
              "    </tr>\n",
              "    <tr>\n",
              "      <th>3</th>\n",
              "      <td>AUTO_AND_VEHICLES</td>\n",
              "      <td>Paid</td>\n",
              "      <td>1</td>\n",
              "    </tr>\n",
              "    <tr>\n",
              "      <th>4</th>\n",
              "      <td>BEAUTY</td>\n",
              "      <td>Free</td>\n",
              "      <td>42</td>\n",
              "    </tr>\n",
              "  </tbody>\n",
              "</table>\n",
              "</div>"
            ],
            "text/plain": [
              "            Category  Type  App\n",
              "0     ART_AND_DESIGN  Free   58\n",
              "1     ART_AND_DESIGN  Paid    3\n",
              "2  AUTO_AND_VEHICLES  Free   72\n",
              "3  AUTO_AND_VEHICLES  Paid    1\n",
              "4             BEAUTY  Free   42"
            ]
          },
          "metadata": {
            "tags": []
          },
          "execution_count": 72
        }
      ]
    },
    {
      "cell_type": "code",
      "metadata": {
        "colab": {
          "base_uri": "https://localhost:8080/",
          "height": 542
        },
        "id": "mrdjyt_AY8iZ",
        "outputId": "ecf25fe2-e61f-4ffa-a670-3271e77921b6"
      },
      "source": [
        "g_bar = px.bar(df_free_vs_paid,\n",
        "               x='Category',\n",
        "               y='App',\n",
        "               title='Free vs Paid Apps by Category',\n",
        "               color='Type',\n",
        "               barmode='group')\n",
        " \n",
        "g_bar.update_layout(xaxis_title='Category',\n",
        "                    yaxis_title='Number of Apps',\n",
        "                    xaxis={'categoryorder':'total descending'},\n",
        "                    yaxis=dict(type='log'))\n",
        " \n",
        "g_bar.show()"
      ],
      "execution_count": 73,
      "outputs": [
        {
          "output_type": "display_data",
          "data": {
            "text/html": [
              "<html>\n",
              "<head><meta charset=\"utf-8\" /></head>\n",
              "<body>\n",
              "    <div>\n",
              "            <script src=\"https://cdnjs.cloudflare.com/ajax/libs/mathjax/2.7.5/MathJax.js?config=TeX-AMS-MML_SVG\"></script><script type=\"text/javascript\">if (window.MathJax) {MathJax.Hub.Config({SVG: {font: \"STIX-Web\"}});}</script>\n",
              "                <script type=\"text/javascript\">window.PlotlyConfig = {MathJaxConfig: 'local'};</script>\n",
              "        <script src=\"https://cdn.plot.ly/plotly-latest.min.js\"></script>    \n",
              "            <div id=\"8881a2d6-c2fa-4901-89c1-49fe1c047874\" class=\"plotly-graph-div\" style=\"height:525px; width:100%;\"></div>\n",
              "            <script type=\"text/javascript\">\n",
              "                \n",
              "                    window.PLOTLYENV=window.PLOTLYENV || {};\n",
              "                    \n",
              "                if (document.getElementById(\"8881a2d6-c2fa-4901-89c1-49fe1c047874\")) {\n",
              "                    Plotly.newPlot(\n",
              "                        '8881a2d6-c2fa-4901-89c1-49fe1c047874',\n",
              "                        [{\"alignmentgroup\": \"True\", \"hoverlabel\": {\"namelength\": 0}, \"hovertemplate\": \"Type=Free<br>Category=%{x}<br>App=%{y}\", \"legendgroup\": \"Type=Free\", \"marker\": {\"color\": \"#636efa\"}, \"name\": \"Type=Free\", \"offsetgroup\": \"Type=Free\", \"orientation\": \"v\", \"showlegend\": true, \"textposition\": \"auto\", \"type\": \"bar\", \"x\": [\"ART_AND_DESIGN\", \"AUTO_AND_VEHICLES\", \"BEAUTY\", \"BOOKS_AND_REFERENCE\", \"BUSINESS\", \"COMICS\", \"COMMUNICATION\", \"DATING\", \"EDUCATION\", \"ENTERTAINMENT\", \"EVENTS\", \"FAMILY\", \"FINANCE\", \"FOOD_AND_DRINK\", \"GAME\", \"HEALTH_AND_FITNESS\", \"HOUSE_AND_HOME\", \"LIBRARIES_AND_DEMO\", \"LIFESTYLE\", \"MAPS_AND_NAVIGATION\", \"MEDICAL\", \"NEWS_AND_MAGAZINES\", \"PARENTING\", \"PERSONALIZATION\", \"PHOTOGRAPHY\", \"PRODUCTIVITY\", \"SHOPPING\", \"SOCIAL\", \"SPORTS\", \"TOOLS\", \"TRAVEL_AND_LOCAL\", \"VIDEO_PLAYERS\", \"WEATHER\"], \"xaxis\": \"x\", \"y\": [58, 72, 42, 161, 253, 54, 235, 131, 114, 100, 45, 1456, 289, 92, 834, 232, 62, 64, 284, 113, 229, 202, 48, 233, 248, 283, 178, 201, 238, 656, 179, 144, 65], \"yaxis\": \"y\"}, {\"alignmentgroup\": \"True\", \"hoverlabel\": {\"namelength\": 0}, \"hovertemplate\": \"Type=Paid<br>Category=%{x}<br>App=%{y}\", \"legendgroup\": \"Type=Paid\", \"marker\": {\"color\": \"#EF553B\"}, \"name\": \"Type=Paid\", \"offsetgroup\": \"Type=Paid\", \"orientation\": \"v\", \"showlegend\": true, \"textposition\": \"auto\", \"type\": \"bar\", \"x\": [\"ART_AND_DESIGN\", \"AUTO_AND_VEHICLES\", \"BOOKS_AND_REFERENCE\", \"BUSINESS\", \"COMMUNICATION\", \"DATING\", \"EDUCATION\", \"ENTERTAINMENT\", \"FAMILY\", \"FINANCE\", \"FOOD_AND_DRINK\", \"GAME\", \"HEALTH_AND_FITNESS\", \"LIFESTYLE\", \"MAPS_AND_NAVIGATION\", \"MEDICAL\", \"NEWS_AND_MAGAZINES\", \"PARENTING\", \"PERSONALIZATION\", \"PHOTOGRAPHY\", \"PRODUCTIVITY\", \"SHOPPING\", \"SOCIAL\", \"SPORTS\", \"TOOLS\", \"TRAVEL_AND_LOCAL\", \"VIDEO_PLAYERS\", \"WEATHER\"], \"xaxis\": \"x\", \"y\": [3, 1, 8, 9, 22, 3, 4, 2, 154, 13, 2, 76, 11, 18, 5, 63, 2, 2, 65, 15, 18, 2, 2, 22, 63, 8, 4, 7], \"yaxis\": \"y\"}],\n",
              "                        {\"barmode\": \"group\", \"legend\": {\"tracegroupgap\": 0}, \"template\": {\"data\": {\"bar\": [{\"error_x\": {\"color\": \"#2a3f5f\"}, \"error_y\": {\"color\": \"#2a3f5f\"}, \"marker\": {\"line\": {\"color\": \"#E5ECF6\", \"width\": 0.5}}, \"type\": \"bar\"}], \"barpolar\": [{\"marker\": {\"line\": {\"color\": \"#E5ECF6\", \"width\": 0.5}}, \"type\": \"barpolar\"}], \"carpet\": [{\"aaxis\": {\"endlinecolor\": \"#2a3f5f\", \"gridcolor\": \"white\", \"linecolor\": \"white\", \"minorgridcolor\": \"white\", \"startlinecolor\": \"#2a3f5f\"}, \"baxis\": {\"endlinecolor\": \"#2a3f5f\", \"gridcolor\": \"white\", \"linecolor\": \"white\", \"minorgridcolor\": \"white\", \"startlinecolor\": \"#2a3f5f\"}, \"type\": \"carpet\"}], \"choropleth\": [{\"colorbar\": {\"outlinewidth\": 0, \"ticks\": \"\"}, \"type\": \"choropleth\"}], \"contour\": [{\"colorbar\": {\"outlinewidth\": 0, \"ticks\": \"\"}, \"colorscale\": [[0.0, \"#0d0887\"], [0.1111111111111111, \"#46039f\"], [0.2222222222222222, \"#7201a8\"], [0.3333333333333333, \"#9c179e\"], [0.4444444444444444, \"#bd3786\"], [0.5555555555555556, \"#d8576b\"], [0.6666666666666666, \"#ed7953\"], [0.7777777777777778, \"#fb9f3a\"], [0.8888888888888888, \"#fdca26\"], [1.0, \"#f0f921\"]], \"type\": \"contour\"}], \"contourcarpet\": [{\"colorbar\": {\"outlinewidth\": 0, \"ticks\": \"\"}, \"type\": \"contourcarpet\"}], \"heatmap\": [{\"colorbar\": {\"outlinewidth\": 0, \"ticks\": \"\"}, \"colorscale\": [[0.0, \"#0d0887\"], [0.1111111111111111, \"#46039f\"], [0.2222222222222222, \"#7201a8\"], [0.3333333333333333, \"#9c179e\"], [0.4444444444444444, \"#bd3786\"], [0.5555555555555556, \"#d8576b\"], [0.6666666666666666, \"#ed7953\"], [0.7777777777777778, \"#fb9f3a\"], [0.8888888888888888, \"#fdca26\"], [1.0, \"#f0f921\"]], \"type\": \"heatmap\"}], \"heatmapgl\": [{\"colorbar\": {\"outlinewidth\": 0, \"ticks\": \"\"}, \"colorscale\": [[0.0, \"#0d0887\"], [0.1111111111111111, \"#46039f\"], [0.2222222222222222, \"#7201a8\"], [0.3333333333333333, \"#9c179e\"], [0.4444444444444444, \"#bd3786\"], [0.5555555555555556, \"#d8576b\"], [0.6666666666666666, \"#ed7953\"], [0.7777777777777778, \"#fb9f3a\"], [0.8888888888888888, \"#fdca26\"], [1.0, \"#f0f921\"]], \"type\": \"heatmapgl\"}], \"histogram\": [{\"marker\": {\"colorbar\": {\"outlinewidth\": 0, \"ticks\": \"\"}}, \"type\": \"histogram\"}], \"histogram2d\": [{\"colorbar\": {\"outlinewidth\": 0, \"ticks\": \"\"}, \"colorscale\": [[0.0, \"#0d0887\"], [0.1111111111111111, \"#46039f\"], [0.2222222222222222, \"#7201a8\"], [0.3333333333333333, \"#9c179e\"], [0.4444444444444444, \"#bd3786\"], [0.5555555555555556, \"#d8576b\"], [0.6666666666666666, \"#ed7953\"], [0.7777777777777778, \"#fb9f3a\"], [0.8888888888888888, \"#fdca26\"], [1.0, \"#f0f921\"]], \"type\": \"histogram2d\"}], \"histogram2dcontour\": [{\"colorbar\": {\"outlinewidth\": 0, \"ticks\": \"\"}, \"colorscale\": [[0.0, \"#0d0887\"], [0.1111111111111111, \"#46039f\"], [0.2222222222222222, \"#7201a8\"], [0.3333333333333333, \"#9c179e\"], [0.4444444444444444, \"#bd3786\"], [0.5555555555555556, \"#d8576b\"], [0.6666666666666666, \"#ed7953\"], [0.7777777777777778, \"#fb9f3a\"], [0.8888888888888888, \"#fdca26\"], [1.0, \"#f0f921\"]], \"type\": \"histogram2dcontour\"}], \"mesh3d\": [{\"colorbar\": {\"outlinewidth\": 0, \"ticks\": \"\"}, \"type\": \"mesh3d\"}], \"parcoords\": [{\"line\": {\"colorbar\": {\"outlinewidth\": 0, \"ticks\": \"\"}}, \"type\": \"parcoords\"}], \"pie\": [{\"automargin\": true, \"type\": \"pie\"}], \"scatter\": [{\"marker\": {\"colorbar\": {\"outlinewidth\": 0, \"ticks\": \"\"}}, \"type\": \"scatter\"}], \"scatter3d\": [{\"line\": {\"colorbar\": {\"outlinewidth\": 0, \"ticks\": \"\"}}, \"marker\": {\"colorbar\": {\"outlinewidth\": 0, \"ticks\": \"\"}}, \"type\": \"scatter3d\"}], \"scattercarpet\": [{\"marker\": {\"colorbar\": {\"outlinewidth\": 0, \"ticks\": \"\"}}, \"type\": \"scattercarpet\"}], \"scattergeo\": [{\"marker\": {\"colorbar\": {\"outlinewidth\": 0, \"ticks\": \"\"}}, \"type\": \"scattergeo\"}], \"scattergl\": [{\"marker\": {\"colorbar\": {\"outlinewidth\": 0, \"ticks\": \"\"}}, \"type\": \"scattergl\"}], \"scattermapbox\": [{\"marker\": {\"colorbar\": {\"outlinewidth\": 0, \"ticks\": \"\"}}, \"type\": \"scattermapbox\"}], \"scatterpolar\": [{\"marker\": {\"colorbar\": {\"outlinewidth\": 0, \"ticks\": \"\"}}, \"type\": \"scatterpolar\"}], \"scatterpolargl\": [{\"marker\": {\"colorbar\": {\"outlinewidth\": 0, \"ticks\": \"\"}}, \"type\": \"scatterpolargl\"}], \"scatterternary\": [{\"marker\": {\"colorbar\": {\"outlinewidth\": 0, \"ticks\": \"\"}}, \"type\": \"scatterternary\"}], \"surface\": [{\"colorbar\": {\"outlinewidth\": 0, \"ticks\": \"\"}, \"colorscale\": [[0.0, \"#0d0887\"], [0.1111111111111111, \"#46039f\"], [0.2222222222222222, \"#7201a8\"], [0.3333333333333333, \"#9c179e\"], [0.4444444444444444, \"#bd3786\"], [0.5555555555555556, \"#d8576b\"], [0.6666666666666666, \"#ed7953\"], [0.7777777777777778, \"#fb9f3a\"], [0.8888888888888888, \"#fdca26\"], [1.0, \"#f0f921\"]], \"type\": \"surface\"}], \"table\": [{\"cells\": {\"fill\": {\"color\": \"#EBF0F8\"}, \"line\": {\"color\": \"white\"}}, \"header\": {\"fill\": {\"color\": \"#C8D4E3\"}, \"line\": {\"color\": \"white\"}}, \"type\": \"table\"}]}, \"layout\": {\"annotationdefaults\": {\"arrowcolor\": \"#2a3f5f\", \"arrowhead\": 0, \"arrowwidth\": 1}, \"coloraxis\": {\"colorbar\": {\"outlinewidth\": 0, \"ticks\": \"\"}}, \"colorscale\": {\"diverging\": [[0, \"#8e0152\"], [0.1, \"#c51b7d\"], [0.2, \"#de77ae\"], [0.3, \"#f1b6da\"], [0.4, \"#fde0ef\"], [0.5, \"#f7f7f7\"], [0.6, \"#e6f5d0\"], [0.7, \"#b8e186\"], [0.8, \"#7fbc41\"], [0.9, \"#4d9221\"], [1, \"#276419\"]], \"sequential\": [[0.0, \"#0d0887\"], [0.1111111111111111, \"#46039f\"], [0.2222222222222222, \"#7201a8\"], [0.3333333333333333, \"#9c179e\"], [0.4444444444444444, \"#bd3786\"], [0.5555555555555556, \"#d8576b\"], [0.6666666666666666, \"#ed7953\"], [0.7777777777777778, \"#fb9f3a\"], [0.8888888888888888, \"#fdca26\"], [1.0, \"#f0f921\"]], \"sequentialminus\": [[0.0, \"#0d0887\"], [0.1111111111111111, \"#46039f\"], [0.2222222222222222, \"#7201a8\"], [0.3333333333333333, \"#9c179e\"], [0.4444444444444444, \"#bd3786\"], [0.5555555555555556, \"#d8576b\"], [0.6666666666666666, \"#ed7953\"], [0.7777777777777778, \"#fb9f3a\"], [0.8888888888888888, \"#fdca26\"], [1.0, \"#f0f921\"]]}, \"colorway\": [\"#636efa\", \"#EF553B\", \"#00cc96\", \"#ab63fa\", \"#FFA15A\", \"#19d3f3\", \"#FF6692\", \"#B6E880\", \"#FF97FF\", \"#FECB52\"], \"font\": {\"color\": \"#2a3f5f\"}, \"geo\": {\"bgcolor\": \"white\", \"lakecolor\": \"white\", \"landcolor\": \"#E5ECF6\", \"showlakes\": true, \"showland\": true, \"subunitcolor\": \"white\"}, \"hoverlabel\": {\"align\": \"left\"}, \"hovermode\": \"closest\", \"mapbox\": {\"style\": \"light\"}, \"paper_bgcolor\": \"white\", \"plot_bgcolor\": \"#E5ECF6\", \"polar\": {\"angularaxis\": {\"gridcolor\": \"white\", \"linecolor\": \"white\", \"ticks\": \"\"}, \"bgcolor\": \"#E5ECF6\", \"radialaxis\": {\"gridcolor\": \"white\", \"linecolor\": \"white\", \"ticks\": \"\"}}, \"scene\": {\"xaxis\": {\"backgroundcolor\": \"#E5ECF6\", \"gridcolor\": \"white\", \"gridwidth\": 2, \"linecolor\": \"white\", \"showbackground\": true, \"ticks\": \"\", \"zerolinecolor\": \"white\"}, \"yaxis\": {\"backgroundcolor\": \"#E5ECF6\", \"gridcolor\": \"white\", \"gridwidth\": 2, \"linecolor\": \"white\", \"showbackground\": true, \"ticks\": \"\", \"zerolinecolor\": \"white\"}, \"zaxis\": {\"backgroundcolor\": \"#E5ECF6\", \"gridcolor\": \"white\", \"gridwidth\": 2, \"linecolor\": \"white\", \"showbackground\": true, \"ticks\": \"\", \"zerolinecolor\": \"white\"}}, \"shapedefaults\": {\"line\": {\"color\": \"#2a3f5f\"}}, \"ternary\": {\"aaxis\": {\"gridcolor\": \"white\", \"linecolor\": \"white\", \"ticks\": \"\"}, \"baxis\": {\"gridcolor\": \"white\", \"linecolor\": \"white\", \"ticks\": \"\"}, \"bgcolor\": \"#E5ECF6\", \"caxis\": {\"gridcolor\": \"white\", \"linecolor\": \"white\", \"ticks\": \"\"}}, \"title\": {\"x\": 0.05}, \"xaxis\": {\"automargin\": true, \"gridcolor\": \"white\", \"linecolor\": \"white\", \"ticks\": \"\", \"title\": {\"standoff\": 15}, \"zerolinecolor\": \"white\", \"zerolinewidth\": 2}, \"yaxis\": {\"automargin\": true, \"gridcolor\": \"white\", \"linecolor\": \"white\", \"ticks\": \"\", \"title\": {\"standoff\": 15}, \"zerolinecolor\": \"white\", \"zerolinewidth\": 2}}}, \"title\": {\"text\": \"Free vs Paid Apps by Category\"}, \"xaxis\": {\"anchor\": \"y\", \"categoryorder\": \"total descending\", \"domain\": [0.0, 1.0], \"title\": {\"text\": \"Category\"}}, \"yaxis\": {\"anchor\": \"x\", \"domain\": [0.0, 1.0], \"title\": {\"text\": \"Number of Apps\"}, \"type\": \"log\"}},\n",
              "                        {\"responsive\": true}\n",
              "                    ).then(function(){\n",
              "                            \n",
              "var gd = document.getElementById('8881a2d6-c2fa-4901-89c1-49fe1c047874');\n",
              "var x = new MutationObserver(function (mutations, observer) {{\n",
              "        var display = window.getComputedStyle(gd).display;\n",
              "        if (!display || display === 'none') {{\n",
              "            console.log([gd, 'removed!']);\n",
              "            Plotly.purge(gd);\n",
              "            observer.disconnect();\n",
              "        }}\n",
              "}});\n",
              "\n",
              "// Listen for the removal of the full notebook cells\n",
              "var notebookContainer = gd.closest('#notebook-container');\n",
              "if (notebookContainer) {{\n",
              "    x.observe(notebookContainer, {childList: true});\n",
              "}}\n",
              "\n",
              "// Listen for the clearing of the current output cell\n",
              "var outputEl = gd.closest('.output');\n",
              "if (outputEl) {{\n",
              "    x.observe(outputEl, {childList: true});\n",
              "}}\n",
              "\n",
              "                        })\n",
              "                };\n",
              "                \n",
              "            </script>\n",
              "        </div>\n",
              "</body>\n",
              "</html>"
            ]
          },
          "metadata": {
            "tags": []
          }
        }
      ]
    },
    {
      "cell_type": "markdown",
      "metadata": {
        "id": "nbYh2tU-VZ-i"
      },
      "source": [
        "# Plotly Box Plots: Lost Downloads for Paid Apps\n",
        "\n",
        "**Challenge**: Create a box plot that shows the number of Installs for free versus paid apps. How does the median number of installations compare? Is the difference large or small?\n",
        "\n",
        "Use the [Box Plots Guide](https://plotly.com/python/box-plots/) and the [.box API reference](https://plotly.com/python-api-reference/generated/plotly.express.box.html) to create the following chart. \n",
        "\n",
        "<img src=https://imgur.com/uVsECT3.png>\n"
      ]
    },
    {
      "cell_type": "code",
      "metadata": {
        "id": "Jip3hMZ7oqLS",
        "colab": {
          "base_uri": "https://localhost:8080/",
          "height": 542
        },
        "outputId": "91deee13-1024-4dc4-c247-e2ef22fa8ac7"
      },
      "source": [
        "box = px.box(df_apps_clean,\n",
        "             y='Installs',\n",
        "             x='Type',\n",
        "             color='Type',\n",
        "             notched=True,\n",
        "             points='all',\n",
        "             title='How Many Downloads are Paid Apps Giving Up?')\n",
        " \n",
        "box.update_layout(yaxis=dict(type='log'))\n",
        " \n",
        "box.show()"
      ],
      "execution_count": 74,
      "outputs": [
        {
          "output_type": "display_data",
          "data": {
            "text/html": [
              "<html>\n",
              "<head><meta charset=\"utf-8\" /></head>\n",
              "<body>\n",
              "    <div>\n",
              "            <script src=\"https://cdnjs.cloudflare.com/ajax/libs/mathjax/2.7.5/MathJax.js?config=TeX-AMS-MML_SVG\"></script><script type=\"text/javascript\">if (window.MathJax) {MathJax.Hub.Config({SVG: {font: \"STIX-Web\"}});}</script>\n",
              "                <script type=\"text/javascript\">window.PlotlyConfig = {MathJaxConfig: 'local'};</script>\n",
              "        <script src=\"https://cdn.plot.ly/plotly-latest.min.js\"></script>    \n",
              "            <div id=\"c0d2f38c-a9bd-4634-b274-390a0c62d2d5\" class=\"plotly-graph-div\" style=\"height:525px; width:100%;\"></div>\n",
              "            <script type=\"text/javascript\">\n",
              "                \n",
              "                    window.PLOTLYENV=window.PLOTLYENV || {};\n",
              "                    \n",
              "                if (document.getElementById(\"c0d2f38c-a9bd-4634-b274-390a0c62d2d5\")) {\n",
              "                    Plotly.newPlot(\n",
              "                        'c0d2f38c-a9bd-4634-b274-390a0c62d2d5',\n",
              "                        [{\"alignmentgroup\": \"True\", \"boxpoints\": \"all\", \"hoverlabel\": {\"namelength\": 0}, \"hovertemplate\": \"Type=%{x}<br>Installs=%{y}\", \"legendgroup\": \"Type=Free\", \"marker\": {\"color\": \"#636efa\"}, \"name\": \"Type=Free\", \"notched\": true, \"offsetgroup\": \"Type=Free\", \"orientation\": \"v\", \"showlegend\": true, \"type\": \"box\", \"x\": [\"Free\", \"Free\", \"Free\", \"Free\", \"Free\", \"Free\", \"Free\", \"Free\", \"Free\", \"Free\", \"Free\", \"Free\", \"Free\", \"Free\", \"Free\", \"Free\", \"Free\", \"Free\", \"Free\", \"Free\", \"Free\", \"Free\", \"Free\", \"Free\", \"Free\", \"Free\", \"Free\", \"Free\", \"Free\", \"Free\", \"Free\", \"Free\", \"Free\", \"Free\", \"Free\", \"Free\", \"Free\", \"Free\", \"Free\", \"Free\", \"Free\", \"Free\", \"Free\", \"Free\", \"Free\", \"Free\", \"Free\", \"Free\", \"Free\", \"Free\", \"Free\", \"Free\", \"Free\", \"Free\", \"Free\", \"Free\", \"Free\", \"Free\", \"Free\", \"Free\", \"Free\", \"Free\", \"Free\", \"Free\", \"Free\", \"Free\", \"Free\", \"Free\", \"Free\", \"Free\", \"Free\", \"Free\", \"Free\", \"Free\", \"Free\", \"Free\", \"Free\", \"Free\", \"Free\", \"Free\", \"Free\", \"Free\", \"Free\", \"Free\", \"Free\", \"Free\", \"Free\", \"Free\", \"Free\", \"Free\", \"Free\", \"Free\", \"Free\", \"Free\", \"Free\", \"Free\", \"Free\", \"Free\", \"Free\", \"Free\", \"Free\", \"Free\", \"Free\", \"Free\", \"Free\", \"Free\", \"Free\", \"Free\", \"Free\", \"Free\", \"Free\", \"Free\", \"Free\", \"Free\", \"Free\", \"Free\", \"Free\", \"Free\", \"Free\", \"Free\", \"Free\", \"Free\", \"Free\", \"Free\", \"Free\", \"Free\", \"Free\", \"Free\", \"Free\", \"Free\", \"Free\", \"Free\", \"Free\", \"Free\", \"Free\", \"Free\", \"Free\", \"Free\", \"Free\", \"Free\", \"Free\", \"Free\", \"Free\", \"Free\", \"Free\", \"Free\", \"Free\", \"Free\", \"Free\", \"Free\", \"Free\", \"Free\", \"Free\", \"Free\", \"Free\", \"Free\", \"Free\", \"Free\", \"Free\", \"Free\", \"Free\", \"Free\", \"Free\", \"Free\", \"Free\", \"Free\", \"Free\", \"Free\", \"Free\", \"Free\", \"Free\", \"Free\", \"Free\", \"Free\", \"Free\", \"Free\", \"Free\", \"Free\", \"Free\", \"Free\", \"Free\", \"Free\", \"Free\", \"Free\", \"Free\", \"Free\", \"Free\", \"Free\", \"Free\", \"Free\", \"Free\", \"Free\", \"Free\", \"Free\", \"Free\", \"Free\", \"Free\", \"Free\", \"Free\", \"Free\", \"Free\", \"Free\", \"Free\", \"Free\", \"Free\", \"Free\", \"Free\", \"Free\", \"Free\", \"Free\", \"Free\", \"Free\", \"Free\", \"Free\", \"Free\", \"Free\", \"Free\", \"Free\", \"Free\", \"Free\", \"Free\", \"Free\", \"Free\", \"Free\", \"Free\", \"Free\", \"Free\", \"Free\", \"Free\", \"Free\", \"Free\", \"Free\", \"Free\", \"Free\", \"Free\", \"Free\", \"Free\", \"Free\", \"Free\", \"Free\", \"Free\", \"Free\", \"Free\", \"Free\", \"Free\", \"Free\", \"Free\", \"Free\", \"Free\", \"Free\", \"Free\", \"Free\", \"Free\", \"Free\", \"Free\", \"Free\", \"Free\", \"Free\", \"Free\", \"Free\", \"Free\", \"Free\", \"Free\", \"Free\", \"Free\", \"Free\", \"Free\", \"Free\", \"Free\", \"Free\", \"Free\", \"Free\", \"Free\", \"Free\", \"Free\", \"Free\", \"Free\", \"Free\", \"Free\", \"Free\", \"Free\", \"Free\", \"Free\", \"Free\", \"Free\", \"Free\", \"Free\", \"Free\", \"Free\", \"Free\", \"Free\", \"Free\", \"Free\", \"Free\", \"Free\", \"Free\", \"Free\", \"Free\", \"Free\", \"Free\", \"Free\", \"Free\", \"Free\", \"Free\", \"Free\", \"Free\", \"Free\", \"Free\", \"Free\", \"Free\", \"Free\", \"Free\", \"Free\", \"Free\", \"Free\", \"Free\", \"Free\", \"Free\", \"Free\", \"Free\", \"Free\", \"Free\", \"Free\", \"Free\", \"Free\", \"Free\", \"Free\", \"Free\", \"Free\", \"Free\", \"Free\", \"Free\", \"Free\", \"Free\", \"Free\", \"Free\", \"Free\", \"Free\", \"Free\", \"Free\", \"Free\", \"Free\", \"Free\", \"Free\", \"Free\", \"Free\", \"Free\", \"Free\", \"Free\", \"Free\", \"Free\", \"Free\", \"Free\", \"Free\", \"Free\", \"Free\", \"Free\", \"Free\", \"Free\", \"Free\", \"Free\", \"Free\", \"Free\", \"Free\", \"Free\", \"Free\", \"Free\", \"Free\", \"Free\", \"Free\", \"Free\", \"Free\", \"Free\", \"Free\", \"Free\", \"Free\", \"Free\", \"Free\", \"Free\", \"Free\", \"Free\", \"Free\", \"Free\", \"Free\", \"Free\", \"Free\", \"Free\", \"Free\", \"Free\", \"Free\", \"Free\", \"Free\", \"Free\", \"Free\", \"Free\", \"Free\", \"Free\", \"Free\", \"Free\", \"Free\", \"Free\", \"Free\", \"Free\", \"Free\", \"Free\", \"Free\", \"Free\", \"Free\", \"Free\", \"Free\", \"Free\", \"Free\", \"Free\", \"Free\", \"Free\", \"Free\", \"Free\", \"Free\", \"Free\", \"Free\", \"Free\", \"Free\", \"Free\", \"Free\", \"Free\", \"Free\", \"Free\", \"Free\", \"Free\", \"Free\", \"Free\", \"Free\", \"Free\", \"Free\", \"Free\", \"Free\", \"Free\", \"Free\", \"Free\", \"Free\", \"Free\", \"Free\", \"Free\", \"Free\", \"Free\", \"Free\", \"Free\", \"Free\", \"Free\", \"Free\", \"Free\", \"Free\", \"Free\", \"Free\", \"Free\", \"Free\", \"Free\", \"Free\", \"Free\", \"Free\", \"Free\", \"Free\", \"Free\", \"Free\", \"Free\", \"Free\", \"Free\", \"Free\", \"Free\", \"Free\", \"Free\", \"Free\", \"Free\", \"Free\", \"Free\", \"Free\", \"Free\", \"Free\", \"Free\", \"Free\", \"Free\", \"Free\", \"Free\", \"Free\", \"Free\", \"Free\", \"Free\", \"Free\", \"Free\", \"Free\", \"Free\", \"Free\", \"Free\", \"Free\", \"Free\", \"Free\", \"Free\", \"Free\", \"Free\", \"Free\", \"Free\", \"Free\", \"Free\", \"Free\", \"Free\", \"Free\", \"Free\", \"Free\", \"Free\", \"Free\", \"Free\", \"Free\", \"Free\", \"Free\", \"Free\", \"Free\", \"Free\", \"Free\", \"Free\", \"Free\", \"Free\", \"Free\", \"Free\", \"Free\", \"Free\", \"Free\", \"Free\", \"Free\", \"Free\", \"Free\", \"Free\", \"Free\", \"Free\", \"Free\", \"Free\", \"Free\", \"Free\", \"Free\", \"Free\", \"Free\", \"Free\", \"Free\", \"Free\", \"Free\", \"Free\", \"Free\", \"Free\", \"Free\", \"Free\", \"Free\", \"Free\", \"Free\", \"Free\", \"Free\", \"Free\", \"Free\", \"Free\", \"Free\", \"Free\", \"Free\", \"Free\", \"Free\", \"Free\", \"Free\", \"Free\", \"Free\", \"Free\", \"Free\", \"Free\", \"Free\", \"Free\", \"Free\", \"Free\", \"Free\", \"Free\", \"Free\", \"Free\", \"Free\", \"Free\", \"Free\", \"Free\", \"Free\", \"Free\", \"Free\", \"Free\", \"Free\", \"Free\", \"Free\", \"Free\", \"Free\", \"Free\", \"Free\", \"Free\", \"Free\", \"Free\", \"Free\", \"Free\", \"Free\", \"Free\", \"Free\", \"Free\", \"Free\", \"Free\", \"Free\", \"Free\", \"Free\", \"Free\", \"Free\", \"Free\", \"Free\", \"Free\", \"Free\", \"Free\", \"Free\", \"Free\", \"Free\", \"Free\", \"Free\", \"Free\", \"Free\", \"Free\", \"Free\", \"Free\", \"Free\", \"Free\", \"Free\", \"Free\", \"Free\", \"Free\", \"Free\", \"Free\", \"Free\", \"Free\", \"Free\", \"Free\", \"Free\", \"Free\", \"Free\", \"Free\", \"Free\", \"Free\", \"Free\", \"Free\", \"Free\", \"Free\", \"Free\", \"Free\", \"Free\", \"Free\", \"Free\", \"Free\", \"Free\", \"Free\", \"Free\", \"Free\", \"Free\", \"Free\", \"Free\", \"Free\", \"Free\", \"Free\", \"Free\", \"Free\", \"Free\", \"Free\", \"Free\", \"Free\", \"Free\", \"Free\", \"Free\", \"Free\", \"Free\", \"Free\", \"Free\", \"Free\", \"Free\", \"Free\", \"Free\", \"Free\", \"Free\", \"Free\", \"Free\", \"Free\", \"Free\", \"Free\", \"Free\", \"Free\", \"Free\", \"Free\", \"Free\", \"Free\", \"Free\", \"Free\", \"Free\", \"Free\", \"Free\", \"Free\", \"Free\", \"Free\", \"Free\", \"Free\", \"Free\", \"Free\", \"Free\", \"Free\", \"Free\", \"Free\", \"Free\", \"Free\", \"Free\", \"Free\", \"Free\", \"Free\", \"Free\", \"Free\", \"Free\", \"Free\", \"Free\", \"Free\", \"Free\", \"Free\", \"Free\", \"Free\", \"Free\", \"Free\", \"Free\", \"Free\", \"Free\", \"Free\", \"Free\", \"Free\", \"Free\", \"Free\", \"Free\", \"Free\", \"Free\", \"Free\", \"Free\", \"Free\", \"Free\", \"Free\", \"Free\", \"Free\", \"Free\", \"Free\", \"Free\", \"Free\", \"Free\", \"Free\", \"Free\", \"Free\", \"Free\", \"Free\", \"Free\", \"Free\", \"Free\", \"Free\", \"Free\", \"Free\", \"Free\", \"Free\", \"Free\", \"Free\", \"Free\", \"Free\", \"Free\", \"Free\", \"Free\", \"Free\", \"Free\", \"Free\", \"Free\", \"Free\", \"Free\", \"Free\", \"Free\", \"Free\", \"Free\", \"Free\", \"Free\", \"Free\", \"Free\", \"Free\", \"Free\", \"Free\", \"Free\", \"Free\", \"Free\", \"Free\", \"Free\", \"Free\", \"Free\", \"Free\", \"Free\", \"Free\", \"Free\", \"Free\", \"Free\", \"Free\", \"Free\", \"Free\", \"Free\", \"Free\", \"Free\", \"Free\", \"Free\", \"Free\", \"Free\", \"Free\", \"Free\", \"Free\", \"Free\", \"Free\", \"Free\", \"Free\", \"Free\", \"Free\", \"Free\", \"Free\", \"Free\", \"Free\", \"Free\", \"Free\", \"Free\", \"Free\", \"Free\", \"Free\", \"Free\", \"Free\", \"Free\", \"Free\", \"Free\", \"Free\", \"Free\", \"Free\", \"Free\", \"Free\", \"Free\", \"Free\", \"Free\", \"Free\", \"Free\", \"Free\", \"Free\", \"Free\", \"Free\", \"Free\", \"Free\", \"Free\", \"Free\", \"Free\", \"Free\", \"Free\", \"Free\", \"Free\", \"Free\", \"Free\", \"Free\", \"Free\", \"Free\", \"Free\", \"Free\", \"Free\", \"Free\", \"Free\", \"Free\", \"Free\", \"Free\", \"Free\", \"Free\", \"Free\", \"Free\", \"Free\", \"Free\", \"Free\", \"Free\", \"Free\", \"Free\", \"Free\", \"Free\", \"Free\", \"Free\", \"Free\", \"Free\", \"Free\", \"Free\", \"Free\", \"Free\", \"Free\", \"Free\", \"Free\", \"Free\", \"Free\", \"Free\", \"Free\", \"Free\", \"Free\", \"Free\", \"Free\", \"Free\", \"Free\", \"Free\", \"Free\", \"Free\", \"Free\", \"Free\", \"Free\", \"Free\", \"Free\", \"Free\", \"Free\", \"Free\", \"Free\", \"Free\", \"Free\", \"Free\", \"Free\", \"Free\", \"Free\", \"Free\", \"Free\", \"Free\", \"Free\", \"Free\", \"Free\", \"Free\", \"Free\", \"Free\", \"Free\", \"Free\", \"Free\", \"Free\", \"Free\", \"Free\", \"Free\", \"Free\", \"Free\", \"Free\", \"Free\", \"Free\", \"Free\", \"Free\", \"Free\", \"Free\", \"Free\", \"Free\", \"Free\", \"Free\", \"Free\", \"Free\", \"Free\", \"Free\", \"Free\", \"Free\", \"Free\", \"Free\", \"Free\", \"Free\", \"Free\", \"Free\", \"Free\", \"Free\", \"Free\", \"Free\", \"Free\", \"Free\", \"Free\", \"Free\", \"Free\", \"Free\", \"Free\", \"Free\", \"Free\", \"Free\", \"Free\", \"Free\", \"Free\", \"Free\", \"Free\", \"Free\", \"Free\", \"Free\", \"Free\", \"Free\", \"Free\", \"Free\", \"Free\", \"Free\", \"Free\", \"Free\", \"Free\", \"Free\", \"Free\", \"Free\", \"Free\", \"Free\", \"Free\", \"Free\", \"Free\", \"Free\", \"Free\", \"Free\", \"Free\", \"Free\", \"Free\", \"Free\", \"Free\", \"Free\", \"Free\", \"Free\", \"Free\", \"Free\", \"Free\", \"Free\", \"Free\", \"Free\", \"Free\", \"Free\", \"Free\", \"Free\", \"Free\", \"Free\", \"Free\", \"Free\", \"Free\", \"Free\", \"Free\", \"Free\", \"Free\", \"Free\", \"Free\", \"Free\", \"Free\", \"Free\", \"Free\", \"Free\", \"Free\", \"Free\", \"Free\", \"Free\", \"Free\", \"Free\", \"Free\", \"Free\", \"Free\", \"Free\", \"Free\", \"Free\", \"Free\", \"Free\", \"Free\", \"Free\", \"Free\", \"Free\", \"Free\", \"Free\", \"Free\", \"Free\", \"Free\", \"Free\", \"Free\", \"Free\", \"Free\", \"Free\", \"Free\", \"Free\", \"Free\", \"Free\", \"Free\", \"Free\", \"Free\", \"Free\", \"Free\", \"Free\", \"Free\", \"Free\", \"Free\", \"Free\", \"Free\", \"Free\", \"Free\", \"Free\", \"Free\", \"Free\", \"Free\", \"Free\", \"Free\", \"Free\", \"Free\", \"Free\", \"Free\", \"Free\", \"Free\", \"Free\", \"Free\", \"Free\", \"Free\", \"Free\", \"Free\", \"Free\", \"Free\", \"Free\", \"Free\", \"Free\", \"Free\", \"Free\", \"Free\", \"Free\", \"Free\", \"Free\", \"Free\", \"Free\", \"Free\", \"Free\", \"Free\", \"Free\", \"Free\", \"Free\", \"Free\", \"Free\", \"Free\", \"Free\", \"Free\", \"Free\", \"Free\", \"Free\", \"Free\", \"Free\", \"Free\", \"Free\", \"Free\", \"Free\", \"Free\", \"Free\", \"Free\", \"Free\", \"Free\", \"Free\", \"Free\", \"Free\", \"Free\", \"Free\", \"Free\", \"Free\", \"Free\", \"Free\", \"Free\", \"Free\", \"Free\", \"Free\", \"Free\", \"Free\", \"Free\", \"Free\", \"Free\", \"Free\", \"Free\", \"Free\", \"Free\", \"Free\", \"Free\", \"Free\", \"Free\", \"Free\", \"Free\", \"Free\", \"Free\", \"Free\", \"Free\", \"Free\", \"Free\", \"Free\", \"Free\", \"Free\", \"Free\", \"Free\", \"Free\", \"Free\", \"Free\", \"Free\", \"Free\", \"Free\", \"Free\", \"Free\", \"Free\", \"Free\", \"Free\", \"Free\", \"Free\", \"Free\", \"Free\", \"Free\", \"Free\", \"Free\", \"Free\", \"Free\", \"Free\", \"Free\", \"Free\", \"Free\", \"Free\", \"Free\", \"Free\", \"Free\", \"Free\", \"Free\", \"Free\", \"Free\", \"Free\", \"Free\", \"Free\", \"Free\", \"Free\", \"Free\", \"Free\", \"Free\", \"Free\", \"Free\", \"Free\", \"Free\", \"Free\", \"Free\", \"Free\", \"Free\", \"Free\", \"Free\", \"Free\", \"Free\", \"Free\", \"Free\", \"Free\", \"Free\", \"Free\", \"Free\", \"Free\", \"Free\", \"Free\", \"Free\", \"Free\", \"Free\", \"Free\", \"Free\", \"Free\", \"Free\", \"Free\", \"Free\", \"Free\", \"Free\", \"Free\", \"Free\", \"Free\", \"Free\", \"Free\", \"Free\", \"Free\", \"Free\", \"Free\", \"Free\", \"Free\", \"Free\", \"Free\", \"Free\", \"Free\", \"Free\", \"Free\", \"Free\", \"Free\", \"Free\", \"Free\", \"Free\", \"Free\", \"Free\", \"Free\", \"Free\", \"Free\", \"Free\", \"Free\", \"Free\", \"Free\", \"Free\", \"Free\", \"Free\", \"Free\", \"Free\", \"Free\", \"Free\", \"Free\", \"Free\", \"Free\", \"Free\", \"Free\", \"Free\", \"Free\", \"Free\", \"Free\", \"Free\", \"Free\", \"Free\", \"Free\", \"Free\", \"Free\", \"Free\", \"Free\", \"Free\", \"Free\", \"Free\", \"Free\", \"Free\", \"Free\", \"Free\", \"Free\", \"Free\", \"Free\", \"Free\", \"Free\", \"Free\", \"Free\", \"Free\", \"Free\", \"Free\", \"Free\", \"Free\", \"Free\", \"Free\", \"Free\", \"Free\", \"Free\", \"Free\", \"Free\", \"Free\", \"Free\", \"Free\", \"Free\", \"Free\", \"Free\", \"Free\", \"Free\", \"Free\", \"Free\", \"Free\", \"Free\", \"Free\", \"Free\", \"Free\", \"Free\", \"Free\", \"Free\", \"Free\", \"Free\", \"Free\", \"Free\", \"Free\", \"Free\", \"Free\", \"Free\", \"Free\", \"Free\", \"Free\", \"Free\", \"Free\", \"Free\", \"Free\", \"Free\", \"Free\", \"Free\", \"Free\", \"Free\", \"Free\", \"Free\", \"Free\", \"Free\", \"Free\", \"Free\", \"Free\", \"Free\", \"Free\", \"Free\", \"Free\", \"Free\", \"Free\", \"Free\", \"Free\", \"Free\", \"Free\", \"Free\", \"Free\", \"Free\", \"Free\", \"Free\", \"Free\", \"Free\", \"Free\", \"Free\", \"Free\", \"Free\", \"Free\", \"Free\", \"Free\", \"Free\", \"Free\", \"Free\", \"Free\", \"Free\", \"Free\", \"Free\", \"Free\", \"Free\", \"Free\", \"Free\", \"Free\", \"Free\", \"Free\", \"Free\", \"Free\", \"Free\", \"Free\", \"Free\", \"Free\", \"Free\", \"Free\", \"Free\", \"Free\", \"Free\", \"Free\", \"Free\", \"Free\", \"Free\", \"Free\", \"Free\", \"Free\", \"Free\", \"Free\", \"Free\", \"Free\", \"Free\", \"Free\", \"Free\", \"Free\", \"Free\", \"Free\", \"Free\", \"Free\", \"Free\", \"Free\", \"Free\", \"Free\", \"Free\", \"Free\", \"Free\", \"Free\", \"Free\", \"Free\", \"Free\", \"Free\", \"Free\", \"Free\", \"Free\", \"Free\", \"Free\", \"Free\", \"Free\", \"Free\", \"Free\", \"Free\", \"Free\", \"Free\", \"Free\", \"Free\", \"Free\", \"Free\", \"Free\", \"Free\", \"Free\", \"Free\", \"Free\", \"Free\", \"Free\", \"Free\", \"Free\", \"Free\", \"Free\", \"Free\", \"Free\", \"Free\", \"Free\", \"Free\", \"Free\", \"Free\", \"Free\", \"Free\", \"Free\", \"Free\", \"Free\", \"Free\", \"Free\", \"Free\", \"Free\", \"Free\", \"Free\", \"Free\", \"Free\", \"Free\", \"Free\", \"Free\", \"Free\", \"Free\", \"Free\", \"Free\", \"Free\", \"Free\", \"Free\", \"Free\", \"Free\", \"Free\", \"Free\", \"Free\", \"Free\", \"Free\", \"Free\", \"Free\", \"Free\", \"Free\", \"Free\", \"Free\", \"Free\", \"Free\", \"Free\", \"Free\", \"Free\", \"Free\", \"Free\", \"Free\", \"Free\", \"Free\", \"Free\", \"Free\", \"Free\", \"Free\", \"Free\", \"Free\", \"Free\", \"Free\", \"Free\", \"Free\", \"Free\", \"Free\", \"Free\", \"Free\", \"Free\", \"Free\", \"Free\", \"Free\", \"Free\", \"Free\", \"Free\", \"Free\", \"Free\", \"Free\", \"Free\", \"Free\", \"Free\", \"Free\", \"Free\", \"Free\", \"Free\", \"Free\", \"Free\", \"Free\", \"Free\", \"Free\", \"Free\", \"Free\", \"Free\", \"Free\", \"Free\", \"Free\", \"Free\", \"Free\", \"Free\", \"Free\", \"Free\", \"Free\", \"Free\", \"Free\", \"Free\", \"Free\", \"Free\", \"Free\", \"Free\", \"Free\", \"Free\", \"Free\", \"Free\", \"Free\", \"Free\", \"Free\", \"Free\", \"Free\", \"Free\", \"Free\", \"Free\", \"Free\", \"Free\", \"Free\", \"Free\", \"Free\", \"Free\", \"Free\", \"Free\", \"Free\", \"Free\", \"Free\", \"Free\", \"Free\", \"Free\", \"Free\", \"Free\", \"Free\", \"Free\", \"Free\", \"Free\", \"Free\", \"Free\", \"Free\", \"Free\", \"Free\", \"Free\", \"Free\", \"Free\", \"Free\", \"Free\", \"Free\", \"Free\", \"Free\", \"Free\", \"Free\", \"Free\", \"Free\", \"Free\", \"Free\", \"Free\", \"Free\", \"Free\", \"Free\", \"Free\", \"Free\", \"Free\", \"Free\", \"Free\", \"Free\", \"Free\", \"Free\", \"Free\", \"Free\", \"Free\", \"Free\", \"Free\", \"Free\", \"Free\", \"Free\", \"Free\", \"Free\", \"Free\", \"Free\", \"Free\", \"Free\", \"Free\", \"Free\", \"Free\", \"Free\", \"Free\", \"Free\", \"Free\", \"Free\", \"Free\", \"Free\", \"Free\", \"Free\", \"Free\", \"Free\", \"Free\", \"Free\", \"Free\", \"Free\", \"Free\", \"Free\", \"Free\", \"Free\", \"Free\", \"Free\", \"Free\", \"Free\", \"Free\", \"Free\", \"Free\", \"Free\", \"Free\", \"Free\", \"Free\", \"Free\", \"Free\", \"Free\", \"Free\", \"Free\", \"Free\", \"Free\", \"Free\", \"Free\", \"Free\", \"Free\", \"Free\", \"Free\", \"Free\", \"Free\", \"Free\", \"Free\", \"Free\", \"Free\", \"Free\", \"Free\", \"Free\", \"Free\", \"Free\", \"Free\", \"Free\", \"Free\", \"Free\", \"Free\", \"Free\", \"Free\", \"Free\", \"Free\", \"Free\", \"Free\", \"Free\", \"Free\", \"Free\", \"Free\", \"Free\", \"Free\", \"Free\", \"Free\", \"Free\", \"Free\", \"Free\", \"Free\", \"Free\", \"Free\", \"Free\", \"Free\", \"Free\", \"Free\", \"Free\", \"Free\", \"Free\", \"Free\", \"Free\", \"Free\", \"Free\", \"Free\", \"Free\", \"Free\", \"Free\", \"Free\", \"Free\", \"Free\", \"Free\", \"Free\", \"Free\", \"Free\", \"Free\", \"Free\", \"Free\", \"Free\", \"Free\", \"Free\", \"Free\", \"Free\", \"Free\", \"Free\", \"Free\", \"Free\", \"Free\", \"Free\", \"Free\", \"Free\", \"Free\", \"Free\", \"Free\", \"Free\", \"Free\", \"Free\", \"Free\", \"Free\", \"Free\", \"Free\", \"Free\", \"Free\", \"Free\", \"Free\", \"Free\", \"Free\", \"Free\", \"Free\", \"Free\", \"Free\", \"Free\", \"Free\", \"Free\", \"Free\", \"Free\", \"Free\", \"Free\", \"Free\", \"Free\", \"Free\", \"Free\", \"Free\", \"Free\", \"Free\", \"Free\", \"Free\", \"Free\", \"Free\", \"Free\", \"Free\", \"Free\", \"Free\", \"Free\", \"Free\", \"Free\", \"Free\", \"Free\", \"Free\", \"Free\", \"Free\", \"Free\", \"Free\", \"Free\", \"Free\", \"Free\", \"Free\", \"Free\", \"Free\", \"Free\", \"Free\", \"Free\", \"Free\", \"Free\", \"Free\", \"Free\", \"Free\", \"Free\", \"Free\", \"Free\", \"Free\", \"Free\", \"Free\", \"Free\", \"Free\", \"Free\", \"Free\", \"Free\", \"Free\", \"Free\", \"Free\", \"Free\", \"Free\", \"Free\", \"Free\", \"Free\", \"Free\", \"Free\", \"Free\", \"Free\", \"Free\", \"Free\", \"Free\", \"Free\", \"Free\", \"Free\", \"Free\", \"Free\", \"Free\", \"Free\", \"Free\", \"Free\", \"Free\", \"Free\", \"Free\", \"Free\", \"Free\", \"Free\", \"Free\", \"Free\", \"Free\", \"Free\", \"Free\", \"Free\", \"Free\", \"Free\", \"Free\", \"Free\", \"Free\", \"Free\", \"Free\", \"Free\", \"Free\", \"Free\", \"Free\", \"Free\", \"Free\", \"Free\", \"Free\", \"Free\", \"Free\", \"Free\", \"Free\", \"Free\", \"Free\", \"Free\", \"Free\", \"Free\", \"Free\", \"Free\", \"Free\", \"Free\", \"Free\", \"Free\", \"Free\", \"Free\", \"Free\", \"Free\", \"Free\", \"Free\", \"Free\", \"Free\", \"Free\", \"Free\", \"Free\", \"Free\", \"Free\", \"Free\", \"Free\", \"Free\", \"Free\", \"Free\", \"Free\", \"Free\", \"Free\", \"Free\", \"Free\", \"Free\", \"Free\", \"Free\", \"Free\", \"Free\", \"Free\", \"Free\", \"Free\", \"Free\", \"Free\", \"Free\", \"Free\", \"Free\", \"Free\", \"Free\", \"Free\", \"Free\", \"Free\", \"Free\", \"Free\", \"Free\", \"Free\", \"Free\", \"Free\", \"Free\", \"Free\", \"Free\", \"Free\", \"Free\", \"Free\", \"Free\", \"Free\", \"Free\", \"Free\", \"Free\", \"Free\", \"Free\", \"Free\", \"Free\", \"Free\", \"Free\", \"Free\", \"Free\", \"Free\", \"Free\", \"Free\", \"Free\", \"Free\", \"Free\", \"Free\", \"Free\", \"Free\", \"Free\", \"Free\", \"Free\", \"Free\", \"Free\", \"Free\", \"Free\", \"Free\", \"Free\", \"Free\", \"Free\", \"Free\", \"Free\", \"Free\", \"Free\", \"Free\", \"Free\", \"Free\", \"Free\", \"Free\", \"Free\", \"Free\", \"Free\", \"Free\", \"Free\", \"Free\", \"Free\", \"Free\", \"Free\", \"Free\", \"Free\", \"Free\", \"Free\", \"Free\", \"Free\", \"Free\", \"Free\", \"Free\", \"Free\", \"Free\", \"Free\", \"Free\", \"Free\", \"Free\", \"Free\", \"Free\", \"Free\", \"Free\", \"Free\", \"Free\", \"Free\", \"Free\", \"Free\", \"Free\", \"Free\", \"Free\", \"Free\", \"Free\", \"Free\", \"Free\", \"Free\", \"Free\", \"Free\", \"Free\", \"Free\", \"Free\", \"Free\", \"Free\", \"Free\", \"Free\", \"Free\", \"Free\", \"Free\", \"Free\", \"Free\", \"Free\", \"Free\", \"Free\", \"Free\", \"Free\", \"Free\", \"Free\", \"Free\", \"Free\", \"Free\", \"Free\", \"Free\", \"Free\", \"Free\", \"Free\", \"Free\", \"Free\", \"Free\", \"Free\", \"Free\", \"Free\", \"Free\", \"Free\", \"Free\", \"Free\", \"Free\", \"Free\", \"Free\", \"Free\", \"Free\", \"Free\", \"Free\", \"Free\", \"Free\", \"Free\", \"Free\", \"Free\", \"Free\", \"Free\", \"Free\", \"Free\", \"Free\", \"Free\", \"Free\", \"Free\", \"Free\", \"Free\", \"Free\", \"Free\", \"Free\", \"Free\", \"Free\", \"Free\", \"Free\", \"Free\", \"Free\", \"Free\", \"Free\", \"Free\", \"Free\", \"Free\", \"Free\", \"Free\", \"Free\", \"Free\", \"Free\", \"Free\", \"Free\", \"Free\", \"Free\", \"Free\", \"Free\", \"Free\", \"Free\", \"Free\", \"Free\", \"Free\", \"Free\", \"Free\", \"Free\", \"Free\", \"Free\", \"Free\", \"Free\", \"Free\", \"Free\", \"Free\", \"Free\", \"Free\", \"Free\", \"Free\", \"Free\", \"Free\", \"Free\", \"Free\", \"Free\", \"Free\", \"Free\", \"Free\", \"Free\", \"Free\", \"Free\", \"Free\", \"Free\", \"Free\", \"Free\", \"Free\", \"Free\", \"Free\", \"Free\", \"Free\", \"Free\", \"Free\", \"Free\", \"Free\", \"Free\", \"Free\", \"Free\", \"Free\", \"Free\", \"Free\", \"Free\", \"Free\", \"Free\", \"Free\", \"Free\", \"Free\", \"Free\", \"Free\", \"Free\", \"Free\", \"Free\", \"Free\", \"Free\", \"Free\", \"Free\", \"Free\", \"Free\", \"Free\", \"Free\", \"Free\", \"Free\", \"Free\", \"Free\", \"Free\", \"Free\", \"Free\", \"Free\", \"Free\", \"Free\", \"Free\", \"Free\", \"Free\", \"Free\", \"Free\", \"Free\", \"Free\", \"Free\", \"Free\", \"Free\", \"Free\", \"Free\", \"Free\", \"Free\", \"Free\", \"Free\", \"Free\", \"Free\", \"Free\", \"Free\", \"Free\", \"Free\", \"Free\", \"Free\", \"Free\", \"Free\", \"Free\", \"Free\", \"Free\", \"Free\", \"Free\", \"Free\", \"Free\", \"Free\", \"Free\", \"Free\", \"Free\", \"Free\", \"Free\", \"Free\", \"Free\", \"Free\", \"Free\", \"Free\", \"Free\", \"Free\", \"Free\", \"Free\", \"Free\", \"Free\", \"Free\", \"Free\", \"Free\", \"Free\", \"Free\", \"Free\", \"Free\", \"Free\", \"Free\", \"Free\", \"Free\", \"Free\", \"Free\", \"Free\", \"Free\", \"Free\", \"Free\", \"Free\", \"Free\", \"Free\", \"Free\", \"Free\", \"Free\", \"Free\", \"Free\", \"Free\", \"Free\", \"Free\", \"Free\", \"Free\", \"Free\", \"Free\", \"Free\", \"Free\", \"Free\", \"Free\", \"Free\", \"Free\", \"Free\", \"Free\", \"Free\", \"Free\", \"Free\", \"Free\", \"Free\", \"Free\", \"Free\", \"Free\", \"Free\", \"Free\", \"Free\", \"Free\", \"Free\", \"Free\", \"Free\", \"Free\", \"Free\", \"Free\", \"Free\", \"Free\", \"Free\", \"Free\", \"Free\", \"Free\", \"Free\", \"Free\", \"Free\", \"Free\", \"Free\", \"Free\", \"Free\", \"Free\", \"Free\", \"Free\", \"Free\", \"Free\", \"Free\", \"Free\", \"Free\", \"Free\", \"Free\", \"Free\", \"Free\", \"Free\", \"Free\", \"Free\", \"Free\", \"Free\", \"Free\", \"Free\", \"Free\", \"Free\", \"Free\", \"Free\", \"Free\", \"Free\", \"Free\", \"Free\", \"Free\", \"Free\", \"Free\", \"Free\", \"Free\", \"Free\", \"Free\", \"Free\", \"Free\", \"Free\", \"Free\", \"Free\", \"Free\", \"Free\", \"Free\", \"Free\", \"Free\", \"Free\", \"Free\", \"Free\", \"Free\", \"Free\", \"Free\", \"Free\", \"Free\", \"Free\", \"Free\", \"Free\", \"Free\", \"Free\", \"Free\", \"Free\", \"Free\", \"Free\", \"Free\", \"Free\", \"Free\", \"Free\", \"Free\", \"Free\", \"Free\", \"Free\", \"Free\", \"Free\", \"Free\", \"Free\", \"Free\", \"Free\", \"Free\", \"Free\", \"Free\", \"Free\", \"Free\", \"Free\", \"Free\", \"Free\", \"Free\", \"Free\", \"Free\", \"Free\", \"Free\", \"Free\", \"Free\", \"Free\", \"Free\", \"Free\", \"Free\", \"Free\", \"Free\", \"Free\", \"Free\", \"Free\", \"Free\", \"Free\", \"Free\", \"Free\", \"Free\", \"Free\", \"Free\", \"Free\", \"Free\", \"Free\", \"Free\", \"Free\", \"Free\", \"Free\", \"Free\", \"Free\", \"Free\", \"Free\", \"Free\", \"Free\", \"Free\", \"Free\", \"Free\", \"Free\", \"Free\", \"Free\", \"Free\", \"Free\", \"Free\", \"Free\", \"Free\", \"Free\", \"Free\", \"Free\", \"Free\", \"Free\", \"Free\", \"Free\", \"Free\", \"Free\", \"Free\", \"Free\", \"Free\", \"Free\", \"Free\", \"Free\", \"Free\", \"Free\", \"Free\", \"Free\", \"Free\", \"Free\", \"Free\", \"Free\", \"Free\", \"Free\", \"Free\", \"Free\", \"Free\", \"Free\", \"Free\", \"Free\", \"Free\", \"Free\", \"Free\", \"Free\", \"Free\", \"Free\", \"Free\", \"Free\", \"Free\", \"Free\", \"Free\", \"Free\", \"Free\", \"Free\", \"Free\", \"Free\", \"Free\", \"Free\", \"Free\", \"Free\", \"Free\", \"Free\", \"Free\", \"Free\", \"Free\", \"Free\", \"Free\", \"Free\", \"Free\", \"Free\", \"Free\", \"Free\", \"Free\", \"Free\", \"Free\", \"Free\", \"Free\", \"Free\", \"Free\", \"Free\", \"Free\", \"Free\", \"Free\", \"Free\", \"Free\", \"Free\", \"Free\", \"Free\", \"Free\", \"Free\", \"Free\", \"Free\", \"Free\", \"Free\", \"Free\", \"Free\", \"Free\", \"Free\", \"Free\", \"Free\", \"Free\", \"Free\", \"Free\", \"Free\", \"Free\", \"Free\", \"Free\", \"Free\", \"Free\", \"Free\", \"Free\", \"Free\", \"Free\", \"Free\", \"Free\", \"Free\", \"Free\", \"Free\", \"Free\", \"Free\", \"Free\", \"Free\", \"Free\", \"Free\", \"Free\", \"Free\", \"Free\", \"Free\", \"Free\", \"Free\", \"Free\", \"Free\", \"Free\", \"Free\", \"Free\", \"Free\", \"Free\", \"Free\", \"Free\", \"Free\", \"Free\", \"Free\", \"Free\", \"Free\", \"Free\", \"Free\", \"Free\", \"Free\", \"Free\", \"Free\", \"Free\", \"Free\", \"Free\", \"Free\", \"Free\", \"Free\", \"Free\", \"Free\", \"Free\", \"Free\", \"Free\", \"Free\", \"Free\", \"Free\", \"Free\", \"Free\", \"Free\", \"Free\", \"Free\", \"Free\", \"Free\", \"Free\", \"Free\", \"Free\", \"Free\", \"Free\", \"Free\", \"Free\", \"Free\", \"Free\", \"Free\", \"Free\", \"Free\", \"Free\", \"Free\", \"Free\", \"Free\", \"Free\", \"Free\", \"Free\", \"Free\", \"Free\", \"Free\", \"Free\", \"Free\", \"Free\", \"Free\", \"Free\", \"Free\", \"Free\", \"Free\", \"Free\", \"Free\", \"Free\", \"Free\", \"Free\", \"Free\", \"Free\", \"Free\", \"Free\", \"Free\", \"Free\", \"Free\", \"Free\", \"Free\", \"Free\", \"Free\", \"Free\", \"Free\", \"Free\", \"Free\", \"Free\", \"Free\", \"Free\", \"Free\", \"Free\", \"Free\", \"Free\", \"Free\", \"Free\", \"Free\", \"Free\", \"Free\", \"Free\", \"Free\", \"Free\", \"Free\", \"Free\", \"Free\", \"Free\", \"Free\", \"Free\", \"Free\", \"Free\", \"Free\", \"Free\", \"Free\", \"Free\", \"Free\", \"Free\", \"Free\", \"Free\", \"Free\", \"Free\", \"Free\", \"Free\", \"Free\", \"Free\", \"Free\", \"Free\", \"Free\", \"Free\", \"Free\", \"Free\", \"Free\", \"Free\", \"Free\", \"Free\", \"Free\", \"Free\", \"Free\", \"Free\", \"Free\", \"Free\", \"Free\", \"Free\", \"Free\", \"Free\", \"Free\", \"Free\", \"Free\", \"Free\", \"Free\", \"Free\", \"Free\", \"Free\", \"Free\", \"Free\", \"Free\", \"Free\", \"Free\", \"Free\", \"Free\", \"Free\", \"Free\", \"Free\", \"Free\", \"Free\", \"Free\", \"Free\", \"Free\", \"Free\", \"Free\", \"Free\", \"Free\", \"Free\", \"Free\", \"Free\", \"Free\", \"Free\", \"Free\", \"Free\", \"Free\", \"Free\", \"Free\", \"Free\", \"Free\", \"Free\", \"Free\", \"Free\", \"Free\", \"Free\", \"Free\", \"Free\", \"Free\", \"Free\", \"Free\", \"Free\", \"Free\", \"Free\", \"Free\", \"Free\", \"Free\", \"Free\", \"Free\", \"Free\", \"Free\", \"Free\", \"Free\", \"Free\", \"Free\", \"Free\", \"Free\", \"Free\", \"Free\", \"Free\", \"Free\", \"Free\", \"Free\", \"Free\", \"Free\", \"Free\", \"Free\", \"Free\", \"Free\", \"Free\", \"Free\", \"Free\", \"Free\", \"Free\", \"Free\", \"Free\", \"Free\", \"Free\", \"Free\", \"Free\", \"Free\", \"Free\", \"Free\", \"Free\", \"Free\", \"Free\", \"Free\", \"Free\", \"Free\", \"Free\", \"Free\", \"Free\", \"Free\", \"Free\", \"Free\", \"Free\", \"Free\", \"Free\", \"Free\", \"Free\", \"Free\", \"Free\", \"Free\", \"Free\", \"Free\", \"Free\", \"Free\", \"Free\", \"Free\", \"Free\", \"Free\", \"Free\", \"Free\", \"Free\", \"Free\", \"Free\", \"Free\", \"Free\", \"Free\", \"Free\", \"Free\", \"Free\", \"Free\", \"Free\", \"Free\", \"Free\", \"Free\", \"Free\", \"Free\", \"Free\", \"Free\", \"Free\", \"Free\", \"Free\", \"Free\", \"Free\", \"Free\", \"Free\", \"Free\", \"Free\", \"Free\", \"Free\", \"Free\", \"Free\", \"Free\", \"Free\", \"Free\", \"Free\", \"Free\", \"Free\", \"Free\", \"Free\", \"Free\", \"Free\", \"Free\", \"Free\", \"Free\", \"Free\", \"Free\", \"Free\", \"Free\", \"Free\", \"Free\", \"Free\", \"Free\", \"Free\", \"Free\", \"Free\", \"Free\", \"Free\", \"Free\", \"Free\", \"Free\", \"Free\", \"Free\", \"Free\", \"Free\", \"Free\", \"Free\", \"Free\", \"Free\", \"Free\", \"Free\", \"Free\", \"Free\", \"Free\", \"Free\", \"Free\", \"Free\", \"Free\", \"Free\", \"Free\", \"Free\", \"Free\", \"Free\", \"Free\", \"Free\", \"Free\", \"Free\", \"Free\", \"Free\", \"Free\", \"Free\", \"Free\", \"Free\", \"Free\", \"Free\", \"Free\", \"Free\", \"Free\", \"Free\", \"Free\", \"Free\", \"Free\", \"Free\", \"Free\", \"Free\", \"Free\", \"Free\", \"Free\", \"Free\", \"Free\", \"Free\", \"Free\", \"Free\", \"Free\", \"Free\", \"Free\", \"Free\", \"Free\", \"Free\", \"Free\", \"Free\", \"Free\", \"Free\", \"Free\", \"Free\", \"Free\", \"Free\", \"Free\", \"Free\", \"Free\", \"Free\", \"Free\", \"Free\", \"Free\", \"Free\", \"Free\", \"Free\", \"Free\", \"Free\", \"Free\", \"Free\", \"Free\", \"Free\", \"Free\", \"Free\", \"Free\", \"Free\", \"Free\", \"Free\", \"Free\", \"Free\", \"Free\", \"Free\", \"Free\", \"Free\", \"Free\", \"Free\", \"Free\", \"Free\", \"Free\", \"Free\", \"Free\", \"Free\", \"Free\", \"Free\", \"Free\", \"Free\", \"Free\", \"Free\", \"Free\", \"Free\", \"Free\", \"Free\", \"Free\", \"Free\", \"Free\", \"Free\", \"Free\", \"Free\", \"Free\", \"Free\", \"Free\", \"Free\", \"Free\", \"Free\", \"Free\", \"Free\", \"Free\", \"Free\", \"Free\", \"Free\", \"Free\", \"Free\", \"Free\", \"Free\", \"Free\", \"Free\", \"Free\", \"Free\", \"Free\", \"Free\", \"Free\", \"Free\", \"Free\", \"Free\", \"Free\", \"Free\", \"Free\", \"Free\", \"Free\", \"Free\", \"Free\", \"Free\", \"Free\", \"Free\", \"Free\", \"Free\", \"Free\", \"Free\", \"Free\", \"Free\", \"Free\", \"Free\", \"Free\", \"Free\", \"Free\", \"Free\", \"Free\", \"Free\", \"Free\", \"Free\", \"Free\", \"Free\", \"Free\", \"Free\", \"Free\", \"Free\", \"Free\", \"Free\", \"Free\", \"Free\", \"Free\", \"Free\", \"Free\", \"Free\", \"Free\", \"Free\", \"Free\", \"Free\", \"Free\", \"Free\", \"Free\", \"Free\", \"Free\", \"Free\", \"Free\", \"Free\", \"Free\", \"Free\", \"Free\", \"Free\", \"Free\", \"Free\", \"Free\", \"Free\", \"Free\", \"Free\", \"Free\", \"Free\", \"Free\", \"Free\", \"Free\", \"Free\", \"Free\", \"Free\", \"Free\", \"Free\", \"Free\", \"Free\", \"Free\", \"Free\", \"Free\", \"Free\", \"Free\", \"Free\", \"Free\", \"Free\", \"Free\", \"Free\", \"Free\", \"Free\", \"Free\", \"Free\", \"Free\", \"Free\", \"Free\", \"Free\", \"Free\", \"Free\", \"Free\", \"Free\", \"Free\", \"Free\", \"Free\", \"Free\", \"Free\", \"Free\", \"Free\", \"Free\", \"Free\", \"Free\", \"Free\", \"Free\", \"Free\", \"Free\", \"Free\", \"Free\", \"Free\", \"Free\", \"Free\", \"Free\", \"Free\", \"Free\", \"Free\", \"Free\", \"Free\", \"Free\", \"Free\", \"Free\", \"Free\", \"Free\", \"Free\", \"Free\", \"Free\", \"Free\", \"Free\", \"Free\", \"Free\", \"Free\", \"Free\", \"Free\", \"Free\", \"Free\", \"Free\", \"Free\", \"Free\", \"Free\", \"Free\", \"Free\", \"Free\", \"Free\", \"Free\", \"Free\", \"Free\", \"Free\", \"Free\", \"Free\", \"Free\", \"Free\", \"Free\", \"Free\", \"Free\", \"Free\", \"Free\", \"Free\", \"Free\", \"Free\", \"Free\", \"Free\", \"Free\", \"Free\", \"Free\", \"Free\", \"Free\", \"Free\", \"Free\", \"Free\", \"Free\", \"Free\", \"Free\", \"Free\", \"Free\", \"Free\", \"Free\", \"Free\", \"Free\", \"Free\", \"Free\", \"Free\", \"Free\", \"Free\", \"Free\", \"Free\", \"Free\", \"Free\", \"Free\", \"Free\", \"Free\", \"Free\", \"Free\", \"Free\", \"Free\", \"Free\", \"Free\", \"Free\", \"Free\", \"Free\", \"Free\", \"Free\", \"Free\", \"Free\", \"Free\", \"Free\", \"Free\", \"Free\", \"Free\", \"Free\", \"Free\", \"Free\", \"Free\", \"Free\", \"Free\", \"Free\", \"Free\", \"Free\", \"Free\", \"Free\", \"Free\", \"Free\", \"Free\", \"Free\", \"Free\", \"Free\", \"Free\", \"Free\", \"Free\", \"Free\", \"Free\", \"Free\", \"Free\", \"Free\", \"Free\", \"Free\", \"Free\", \"Free\", \"Free\", \"Free\", \"Free\", \"Free\", \"Free\", \"Free\", \"Free\", \"Free\", \"Free\", \"Free\", \"Free\", \"Free\", \"Free\", \"Free\", \"Free\", \"Free\", \"Free\", \"Free\", \"Free\", \"Free\", \"Free\", \"Free\", \"Free\", \"Free\", \"Free\", \"Free\", \"Free\", \"Free\", \"Free\", \"Free\", \"Free\", \"Free\", \"Free\", \"Free\", \"Free\", \"Free\", \"Free\", \"Free\", \"Free\", \"Free\", \"Free\", \"Free\", \"Free\", \"Free\", \"Free\", \"Free\", \"Free\", \"Free\", \"Free\", \"Free\", \"Free\", \"Free\", \"Free\", \"Free\", \"Free\", \"Free\", \"Free\", \"Free\", \"Free\", \"Free\", \"Free\", \"Free\", \"Free\", \"Free\", \"Free\", \"Free\", \"Free\", \"Free\", \"Free\", \"Free\", \"Free\", \"Free\", \"Free\", \"Free\", \"Free\", \"Free\", \"Free\", \"Free\", \"Free\", \"Free\", \"Free\", \"Free\", \"Free\", \"Free\", \"Free\", \"Free\", \"Free\", \"Free\", \"Free\", \"Free\", \"Free\", \"Free\", \"Free\", \"Free\", \"Free\", \"Free\", \"Free\", \"Free\", \"Free\", \"Free\", \"Free\", \"Free\", \"Free\", \"Free\", \"Free\", \"Free\", \"Free\", \"Free\", \"Free\", \"Free\", \"Free\", \"Free\", \"Free\", \"Free\", \"Free\", \"Free\", \"Free\", \"Free\", \"Free\", \"Free\", \"Free\", \"Free\", \"Free\", \"Free\", \"Free\", \"Free\", \"Free\", \"Free\", \"Free\", \"Free\", \"Free\", \"Free\", \"Free\", \"Free\", \"Free\", \"Free\", \"Free\", \"Free\", \"Free\", \"Free\", \"Free\", \"Free\", \"Free\", \"Free\", \"Free\", \"Free\", \"Free\", \"Free\", \"Free\", \"Free\", \"Free\", \"Free\", \"Free\", \"Free\", \"Free\", \"Free\", \"Free\", \"Free\", \"Free\", \"Free\", \"Free\", \"Free\", \"Free\", \"Free\", \"Free\", \"Free\", \"Free\", \"Free\", \"Free\", \"Free\", \"Free\", \"Free\", \"Free\", \"Free\", \"Free\", \"Free\", \"Free\", \"Free\", \"Free\", \"Free\", \"Free\", \"Free\", \"Free\", \"Free\", \"Free\", \"Free\", \"Free\", \"Free\", \"Free\", \"Free\", \"Free\", \"Free\", \"Free\", \"Free\", \"Free\", \"Free\", \"Free\", \"Free\", \"Free\", \"Free\", \"Free\", \"Free\", \"Free\", \"Free\", \"Free\", \"Free\", \"Free\", \"Free\", \"Free\", \"Free\", \"Free\", \"Free\", \"Free\", \"Free\", \"Free\", \"Free\", \"Free\", \"Free\", \"Free\", \"Free\", \"Free\", \"Free\", \"Free\", \"Free\", \"Free\", \"Free\", \"Free\", \"Free\", \"Free\", \"Free\", \"Free\", \"Free\", \"Free\", \"Free\", \"Free\", \"Free\", \"Free\", \"Free\", \"Free\", \"Free\", \"Free\", \"Free\", \"Free\", \"Free\", \"Free\", \"Free\", \"Free\", \"Free\", \"Free\", \"Free\", \"Free\", \"Free\", \"Free\", \"Free\", \"Free\", \"Free\", \"Free\", \"Free\", \"Free\", \"Free\", \"Free\", \"Free\", \"Free\", \"Free\", \"Free\", \"Free\", \"Free\", \"Free\", \"Free\", \"Free\", \"Free\", \"Free\", \"Free\", \"Free\", \"Free\", \"Free\", \"Free\", \"Free\", \"Free\", \"Free\", \"Free\", \"Free\", \"Free\", \"Free\", \"Free\", \"Free\", \"Free\", \"Free\", \"Free\", \"Free\", \"Free\", \"Free\", \"Free\", \"Free\", \"Free\", \"Free\", \"Free\", \"Free\", \"Free\", \"Free\", \"Free\", \"Free\", \"Free\", \"Free\", \"Free\", \"Free\", \"Free\", \"Free\", \"Free\", \"Free\", \"Free\", \"Free\", \"Free\", \"Free\", \"Free\", \"Free\", \"Free\", \"Free\", \"Free\", \"Free\", \"Free\", \"Free\", \"Free\", \"Free\", \"Free\", \"Free\", \"Free\", \"Free\", \"Free\", \"Free\", \"Free\", \"Free\", \"Free\", \"Free\", \"Free\", \"Free\", \"Free\", \"Free\", \"Free\", \"Free\", \"Free\", \"Free\", \"Free\", \"Free\", \"Free\", \"Free\", \"Free\", \"Free\", \"Free\", \"Free\", \"Free\", \"Free\", \"Free\", \"Free\", \"Free\", \"Free\", \"Free\", \"Free\", \"Free\", \"Free\", \"Free\", \"Free\", \"Free\", \"Free\", \"Free\", \"Free\", \"Free\", \"Free\", \"Free\", \"Free\", \"Free\", \"Free\", \"Free\", \"Free\", \"Free\", \"Free\", \"Free\", \"Free\", \"Free\", \"Free\", \"Free\", \"Free\", \"Free\", \"Free\", \"Free\", \"Free\", \"Free\", \"Free\", \"Free\", \"Free\", \"Free\", \"Free\", \"Free\", \"Free\", \"Free\", \"Free\", \"Free\", \"Free\", \"Free\", \"Free\", \"Free\", \"Free\", \"Free\", \"Free\", \"Free\", \"Free\", \"Free\", \"Free\", \"Free\", \"Free\", \"Free\", \"Free\", \"Free\", \"Free\", \"Free\", \"Free\", \"Free\", \"Free\", \"Free\", \"Free\", \"Free\", \"Free\", \"Free\", \"Free\", \"Free\", \"Free\", \"Free\", \"Free\", \"Free\", \"Free\", \"Free\", \"Free\", \"Free\", \"Free\", \"Free\", \"Free\", \"Free\", \"Free\", \"Free\", \"Free\", \"Free\", \"Free\", \"Free\", \"Free\", \"Free\", \"Free\", \"Free\", \"Free\", \"Free\", \"Free\", \"Free\", \"Free\", \"Free\", \"Free\", \"Free\", \"Free\", \"Free\", \"Free\", \"Free\", \"Free\", \"Free\", \"Free\", \"Free\", \"Free\", \"Free\", \"Free\", \"Free\", \"Free\", \"Free\", \"Free\", \"Free\", \"Free\", \"Free\", \"Free\", \"Free\", \"Free\", \"Free\", \"Free\", \"Free\", \"Free\", \"Free\", \"Free\", \"Free\", \"Free\", \"Free\", \"Free\", \"Free\", \"Free\", \"Free\", \"Free\", \"Free\", \"Free\", \"Free\", \"Free\", \"Free\", \"Free\", \"Free\", \"Free\", \"Free\", \"Free\", \"Free\", \"Free\", \"Free\", \"Free\", \"Free\", \"Free\", \"Free\", \"Free\", \"Free\", \"Free\", \"Free\", \"Free\", \"Free\", \"Free\", \"Free\", \"Free\", \"Free\", \"Free\", \"Free\", \"Free\", \"Free\", \"Free\", \"Free\", \"Free\", \"Free\", \"Free\", \"Free\", \"Free\", \"Free\", \"Free\", \"Free\", \"Free\", \"Free\", \"Free\", \"Free\", \"Free\", \"Free\", \"Free\", \"Free\", \"Free\", \"Free\", \"Free\", \"Free\", \"Free\", \"Free\", \"Free\", \"Free\", \"Free\", \"Free\", \"Free\", \"Free\", \"Free\", \"Free\", \"Free\", \"Free\", \"Free\", \"Free\", \"Free\", \"Free\", \"Free\", \"Free\", \"Free\", \"Free\", \"Free\", \"Free\", \"Free\", \"Free\", \"Free\", \"Free\", \"Free\", \"Free\", \"Free\", \"Free\", \"Free\", \"Free\", \"Free\", \"Free\", \"Free\", \"Free\", \"Free\", \"Free\", \"Free\", \"Free\", \"Free\", \"Free\", \"Free\", \"Free\", \"Free\", \"Free\", \"Free\", \"Free\", \"Free\", \"Free\", \"Free\", \"Free\", \"Free\", \"Free\", \"Free\", \"Free\", \"Free\", \"Free\", \"Free\", \"Free\", \"Free\", \"Free\", \"Free\", \"Free\", \"Free\", \"Free\", \"Free\", \"Free\", \"Free\", \"Free\", \"Free\", \"Free\", \"Free\", \"Free\", \"Free\", \"Free\", \"Free\", \"Free\", \"Free\", \"Free\", \"Free\", \"Free\", \"Free\", \"Free\", \"Free\", \"Free\", \"Free\", \"Free\", \"Free\", \"Free\", \"Free\", \"Free\", \"Free\", \"Free\", \"Free\", \"Free\", \"Free\", \"Free\", \"Free\", \"Free\", \"Free\", \"Free\", \"Free\", \"Free\", \"Free\", \"Free\", \"Free\", \"Free\", \"Free\", \"Free\", \"Free\", \"Free\", \"Free\", \"Free\", \"Free\", \"Free\", \"Free\", \"Free\", \"Free\", \"Free\", \"Free\", \"Free\", \"Free\", \"Free\", \"Free\", \"Free\", \"Free\", \"Free\", \"Free\", \"Free\", \"Free\", \"Free\", \"Free\", \"Free\", \"Free\", \"Free\", \"Free\", \"Free\", \"Free\", \"Free\", \"Free\", \"Free\", \"Free\", \"Free\", \"Free\", \"Free\", \"Free\", \"Free\", \"Free\", \"Free\", \"Free\", \"Free\", \"Free\", \"Free\", \"Free\", \"Free\", \"Free\", \"Free\", \"Free\", \"Free\", \"Free\", \"Free\", \"Free\", \"Free\", \"Free\", \"Free\", \"Free\", \"Free\", \"Free\", \"Free\", \"Free\", \"Free\", \"Free\", \"Free\", \"Free\", \"Free\", \"Free\", \"Free\", \"Free\", \"Free\", \"Free\", \"Free\", \"Free\", \"Free\", \"Free\", \"Free\", \"Free\", \"Free\", \"Free\", \"Free\", \"Free\", \"Free\", \"Free\", \"Free\", \"Free\", \"Free\", \"Free\", \"Free\", \"Free\", \"Free\", \"Free\", \"Free\", \"Free\", \"Free\", \"Free\", \"Free\", \"Free\", \"Free\", \"Free\", \"Free\", \"Free\", \"Free\", \"Free\", \"Free\", \"Free\", \"Free\", \"Free\", \"Free\", \"Free\", \"Free\", \"Free\", \"Free\", \"Free\", \"Free\", \"Free\", \"Free\", \"Free\", \"Free\", \"Free\", \"Free\", \"Free\", \"Free\", \"Free\", \"Free\", \"Free\", \"Free\", \"Free\", \"Free\", \"Free\", \"Free\", \"Free\", \"Free\", \"Free\", \"Free\", \"Free\", \"Free\", \"Free\", \"Free\", \"Free\", \"Free\", \"Free\", \"Free\", \"Free\", \"Free\", \"Free\", \"Free\", \"Free\", \"Free\", \"Free\", \"Free\", \"Free\", \"Free\", \"Free\", \"Free\", \"Free\", \"Free\", \"Free\", \"Free\", \"Free\", \"Free\", \"Free\", \"Free\", \"Free\", \"Free\", \"Free\", \"Free\", \"Free\", \"Free\", \"Free\", \"Free\", \"Free\", \"Free\", \"Free\", \"Free\", \"Free\", \"Free\", \"Free\", \"Free\", \"Free\", \"Free\", \"Free\", \"Free\", \"Free\", \"Free\", \"Free\", \"Free\", \"Free\", \"Free\", \"Free\", \"Free\", \"Free\", \"Free\", \"Free\", \"Free\", \"Free\", \"Free\", \"Free\", \"Free\", \"Free\", \"Free\", \"Free\", \"Free\", \"Free\", \"Free\", \"Free\", \"Free\", \"Free\", \"Free\", \"Free\", \"Free\", \"Free\", \"Free\", \"Free\", \"Free\", \"Free\", \"Free\", \"Free\", \"Free\", \"Free\", \"Free\", \"Free\", \"Free\", \"Free\", \"Free\", \"Free\", \"Free\", \"Free\", \"Free\", \"Free\", \"Free\", \"Free\", \"Free\", \"Free\", \"Free\", \"Free\", \"Free\", \"Free\", \"Free\", \"Free\", \"Free\", \"Free\", \"Free\", \"Free\", \"Free\", \"Free\", \"Free\", \"Free\", \"Free\", \"Free\", \"Free\", \"Free\", \"Free\", \"Free\", \"Free\", \"Free\", \"Free\", \"Free\", \"Free\", \"Free\", \"Free\", \"Free\", \"Free\", \"Free\", \"Free\", \"Free\", \"Free\", \"Free\", \"Free\", \"Free\", \"Free\", \"Free\", \"Free\", \"Free\", \"Free\", \"Free\", \"Free\", \"Free\", \"Free\", \"Free\", \"Free\", \"Free\", \"Free\", \"Free\", \"Free\", \"Free\", \"Free\", \"Free\", \"Free\", \"Free\", \"Free\", \"Free\", \"Free\", \"Free\", \"Free\", \"Free\", \"Free\", \"Free\", \"Free\", \"Free\", \"Free\", \"Free\", \"Free\", \"Free\", \"Free\", \"Free\", \"Free\", \"Free\", \"Free\", \"Free\", \"Free\", \"Free\", \"Free\", \"Free\", \"Free\", \"Free\", \"Free\", \"Free\", \"Free\", \"Free\", \"Free\", \"Free\", \"Free\", \"Free\", \"Free\", \"Free\", \"Free\", \"Free\", \"Free\", \"Free\", \"Free\", \"Free\", \"Free\", \"Free\", \"Free\", \"Free\", \"Free\", \"Free\", \"Free\", \"Free\", \"Free\", \"Free\", \"Free\", \"Free\", \"Free\", \"Free\", \"Free\", \"Free\", \"Free\", \"Free\", \"Free\", \"Free\", \"Free\", \"Free\", \"Free\", \"Free\", \"Free\", \"Free\", \"Free\", \"Free\", \"Free\", \"Free\", \"Free\", \"Free\", \"Free\", \"Free\", \"Free\", \"Free\", \"Free\", \"Free\", \"Free\", \"Free\", \"Free\", \"Free\", \"Free\", \"Free\", \"Free\", \"Free\", \"Free\", \"Free\", \"Free\", \"Free\", \"Free\", \"Free\", \"Free\", \"Free\", \"Free\", \"Free\", \"Free\", \"Free\", \"Free\", \"Free\", \"Free\", \"Free\", \"Free\", \"Free\", \"Free\", \"Free\", \"Free\", \"Free\", \"Free\", \"Free\", \"Free\", \"Free\", \"Free\", \"Free\", \"Free\", \"Free\", \"Free\", \"Free\", \"Free\", \"Free\", \"Free\", \"Free\", \"Free\", \"Free\", \"Free\", \"Free\", \"Free\", \"Free\", \"Free\", \"Free\", \"Free\", \"Free\", \"Free\", \"Free\", \"Free\", \"Free\", \"Free\", \"Free\", \"Free\", \"Free\", \"Free\", \"Free\", \"Free\", \"Free\", \"Free\", \"Free\", \"Free\", \"Free\", \"Free\", \"Free\", \"Free\", \"Free\", \"Free\", \"Free\", \"Free\", \"Free\", \"Free\", \"Free\", \"Free\", \"Free\", \"Free\", \"Free\", \"Free\", \"Free\", \"Free\", \"Free\", \"Free\", \"Free\", \"Free\", \"Free\", \"Free\", \"Free\", \"Free\", \"Free\", \"Free\", \"Free\", \"Free\", \"Free\", \"Free\", \"Free\", \"Free\", \"Free\", \"Free\", \"Free\", \"Free\", \"Free\", \"Free\", \"Free\", \"Free\", \"Free\", \"Free\", \"Free\", \"Free\", \"Free\", \"Free\", \"Free\", \"Free\", \"Free\", \"Free\", \"Free\", \"Free\", \"Free\", \"Free\", \"Free\", \"Free\", \"Free\", \"Free\", \"Free\", \"Free\", \"Free\", \"Free\", \"Free\", \"Free\", \"Free\", \"Free\", \"Free\", \"Free\", \"Free\", \"Free\", \"Free\", \"Free\", \"Free\", \"Free\", \"Free\", \"Free\", \"Free\", \"Free\", \"Free\", \"Free\", \"Free\", \"Free\", \"Free\", \"Free\", \"Free\", \"Free\", \"Free\", \"Free\", \"Free\", \"Free\", \"Free\", \"Free\", \"Free\", \"Free\", \"Free\", \"Free\", \"Free\", \"Free\", \"Free\", \"Free\", \"Free\", \"Free\", \"Free\", \"Free\", \"Free\", \"Free\", \"Free\", \"Free\", \"Free\", \"Free\", \"Free\", \"Free\", \"Free\", \"Free\", \"Free\", \"Free\", \"Free\", \"Free\", \"Free\", \"Free\", \"Free\", \"Free\", \"Free\", \"Free\", \"Free\", \"Free\", \"Free\", \"Free\", \"Free\", \"Free\", \"Free\", \"Free\", \"Free\", \"Free\", \"Free\", \"Free\", \"Free\", \"Free\", \"Free\", \"Free\", \"Free\", \"Free\", \"Free\", \"Free\", \"Free\", \"Free\", \"Free\", \"Free\", \"Free\", \"Free\", \"Free\", \"Free\", \"Free\", \"Free\", \"Free\", \"Free\", \"Free\", \"Free\", \"Free\", \"Free\", \"Free\", \"Free\", \"Free\", \"Free\", \"Free\", \"Free\", \"Free\", \"Free\", \"Free\", \"Free\", \"Free\", \"Free\", \"Free\", \"Free\", \"Free\", \"Free\", \"Free\", \"Free\", \"Free\", \"Free\", \"Free\", \"Free\", \"Free\", \"Free\", \"Free\", \"Free\", \"Free\", \"Free\", \"Free\", \"Free\", \"Free\", \"Free\", \"Free\", \"Free\", \"Free\", \"Free\", \"Free\", \"Free\", \"Free\", \"Free\", \"Free\", \"Free\", \"Free\", \"Free\", \"Free\", \"Free\", \"Free\", \"Free\", \"Free\", \"Free\", \"Free\", \"Free\", \"Free\", \"Free\", \"Free\", \"Free\", \"Free\", \"Free\", \"Free\", \"Free\", \"Free\", \"Free\", \"Free\", \"Free\", \"Free\", \"Free\", \"Free\", \"Free\", \"Free\", \"Free\", \"Free\", \"Free\", \"Free\", \"Free\", \"Free\", \"Free\", \"Free\", \"Free\", \"Free\", \"Free\", \"Free\", \"Free\", \"Free\", \"Free\", \"Free\", \"Free\", \"Free\", \"Free\", \"Free\", \"Free\", \"Free\", \"Free\", \"Free\", \"Free\", \"Free\", \"Free\", \"Free\", \"Free\", \"Free\", \"Free\", \"Free\", \"Free\", \"Free\", \"Free\", \"Free\", \"Free\", \"Free\", \"Free\", \"Free\", \"Free\", \"Free\", \"Free\", \"Free\", \"Free\", \"Free\", \"Free\", \"Free\", \"Free\", \"Free\", \"Free\", \"Free\", \"Free\", \"Free\", \"Free\", \"Free\", \"Free\", \"Free\", \"Free\", \"Free\", \"Free\", \"Free\", \"Free\", \"Free\", \"Free\", \"Free\", \"Free\", \"Free\", \"Free\", \"Free\", \"Free\", \"Free\", \"Free\", \"Free\", \"Free\", \"Free\", \"Free\", \"Free\", \"Free\", \"Free\", \"Free\", \"Free\", \"Free\", \"Free\", \"Free\", \"Free\", \"Free\", \"Free\", \"Free\", \"Free\", \"Free\", \"Free\", \"Free\", \"Free\", \"Free\", \"Free\", \"Free\", \"Free\", \"Free\", \"Free\", \"Free\", \"Free\", \"Free\", \"Free\", \"Free\", \"Free\", \"Free\", \"Free\", \"Free\", \"Free\", \"Free\", \"Free\", \"Free\", \"Free\", \"Free\", \"Free\", \"Free\", \"Free\", \"Free\", \"Free\", \"Free\", \"Free\", \"Free\", \"Free\", \"Free\", \"Free\", \"Free\", \"Free\", \"Free\", \"Free\", \"Free\", \"Free\", \"Free\", \"Free\", \"Free\", \"Free\", \"Free\", \"Free\", \"Free\", \"Free\", \"Free\", \"Free\", \"Free\", \"Free\", \"Free\", \"Free\", \"Free\", \"Free\", \"Free\", \"Free\", \"Free\", \"Free\", \"Free\", \"Free\", \"Free\", \"Free\", \"Free\", \"Free\", \"Free\", \"Free\", \"Free\", \"Free\", \"Free\", \"Free\", \"Free\", \"Free\", \"Free\", \"Free\", \"Free\", \"Free\", \"Free\", \"Free\", \"Free\", \"Free\", \"Free\", \"Free\", \"Free\", \"Free\", \"Free\", \"Free\", \"Free\", \"Free\", \"Free\", \"Free\", \"Free\", \"Free\", \"Free\", \"Free\", \"Free\", \"Free\", \"Free\", \"Free\", \"Free\", \"Free\", \"Free\", \"Free\", \"Free\", \"Free\", \"Free\", \"Free\", \"Free\", \"Free\", \"Free\", \"Free\", \"Free\", \"Free\", \"Free\", \"Free\", \"Free\", \"Free\", \"Free\", \"Free\", \"Free\", \"Free\", \"Free\", \"Free\", \"Free\", \"Free\", \"Free\", \"Free\", \"Free\", \"Free\", \"Free\", \"Free\", \"Free\", \"Free\", \"Free\", \"Free\", \"Free\", \"Free\", \"Free\", \"Free\", \"Free\", \"Free\", \"Free\", \"Free\", \"Free\", \"Free\", \"Free\", \"Free\", \"Free\", \"Free\", \"Free\", \"Free\", \"Free\", \"Free\", \"Free\", \"Free\", \"Free\", \"Free\", \"Free\", \"Free\", \"Free\", \"Free\", \"Free\", \"Free\", \"Free\", \"Free\", \"Free\", \"Free\", \"Free\", \"Free\", \"Free\", \"Free\", \"Free\", \"Free\", \"Free\", \"Free\", \"Free\", \"Free\", \"Free\", \"Free\", \"Free\", \"Free\", \"Free\", \"Free\", \"Free\", \"Free\", \"Free\", \"Free\", \"Free\", \"Free\", \"Free\", \"Free\", \"Free\", \"Free\", \"Free\", \"Free\", \"Free\", \"Free\", \"Free\", \"Free\", \"Free\", \"Free\", \"Free\", \"Free\", \"Free\", \"Free\", \"Free\", \"Free\", \"Free\", \"Free\", \"Free\", \"Free\", \"Free\", \"Free\", \"Free\", \"Free\", \"Free\", \"Free\", \"Free\", \"Free\", \"Free\", \"Free\", \"Free\", \"Free\", \"Free\", \"Free\", \"Free\", \"Free\", \"Free\", \"Free\", \"Free\", \"Free\", \"Free\", \"Free\", \"Free\", \"Free\", \"Free\", \"Free\", \"Free\", \"Free\", \"Free\", \"Free\", \"Free\", \"Free\", \"Free\", \"Free\", \"Free\", \"Free\", \"Free\", \"Free\", \"Free\", \"Free\", \"Free\", \"Free\", \"Free\", \"Free\", \"Free\", \"Free\", \"Free\", \"Free\", \"Free\", \"Free\", \"Free\", \"Free\", \"Free\", \"Free\", \"Free\", \"Free\", \"Free\", \"Free\", \"Free\", \"Free\", \"Free\", \"Free\", \"Free\", \"Free\", \"Free\", \"Free\", \"Free\", \"Free\", \"Free\", \"Free\", \"Free\", \"Free\", \"Free\", \"Free\", \"Free\", \"Free\", \"Free\", \"Free\", \"Free\", \"Free\", \"Free\", \"Free\", \"Free\", \"Free\", \"Free\", \"Free\", \"Free\", \"Free\", \"Free\", \"Free\", \"Free\", \"Free\", \"Free\", \"Free\", \"Free\", \"Free\", \"Free\", \"Free\", \"Free\", \"Free\", \"Free\", \"Free\", \"Free\", \"Free\", \"Free\", \"Free\", \"Free\", \"Free\", \"Free\", \"Free\", \"Free\", \"Free\", \"Free\", \"Free\", \"Free\", \"Free\", \"Free\", \"Free\", \"Free\", \"Free\", \"Free\", \"Free\", \"Free\", \"Free\", \"Free\", \"Free\", \"Free\", \"Free\", \"Free\", \"Free\", \"Free\", \"Free\", \"Free\", \"Free\", \"Free\", \"Free\", \"Free\", \"Free\", \"Free\", \"Free\", \"Free\", \"Free\", \"Free\", \"Free\", \"Free\", \"Free\", \"Free\", \"Free\", \"Free\", \"Free\", \"Free\", \"Free\", \"Free\", \"Free\", \"Free\", \"Free\", \"Free\", \"Free\", \"Free\", \"Free\", \"Free\", \"Free\", \"Free\", \"Free\", \"Free\", \"Free\", \"Free\", \"Free\", \"Free\", \"Free\", \"Free\", \"Free\", \"Free\", \"Free\", \"Free\", \"Free\", \"Free\", \"Free\", \"Free\", \"Free\", \"Free\", \"Free\", \"Free\", \"Free\", \"Free\", \"Free\", \"Free\", \"Free\", \"Free\", \"Free\", \"Free\", \"Free\", \"Free\", \"Free\", \"Free\", \"Free\", \"Free\", \"Free\", \"Free\", \"Free\", \"Free\", \"Free\", \"Free\", \"Free\", \"Free\", \"Free\", \"Free\", \"Free\", \"Free\", \"Free\", \"Free\", \"Free\", \"Free\", \"Free\", \"Free\", \"Free\", \"Free\", \"Free\", \"Free\", \"Free\", \"Free\", \"Free\", \"Free\", \"Free\", \"Free\", \"Free\", \"Free\", \"Free\", \"Free\", \"Free\", \"Free\", \"Free\", \"Free\", \"Free\", \"Free\", \"Free\", \"Free\", \"Free\", \"Free\", \"Free\", \"Free\", \"Free\", \"Free\", \"Free\", \"Free\", \"Free\", \"Free\", \"Free\", \"Free\", \"Free\", \"Free\", \"Free\", \"Free\", \"Free\", \"Free\", \"Free\", \"Free\", \"Free\", \"Free\", \"Free\", \"Free\", \"Free\", \"Free\", \"Free\", \"Free\", \"Free\", \"Free\", \"Free\", \"Free\", \"Free\", \"Free\", \"Free\", \"Free\", \"Free\", \"Free\", \"Free\", \"Free\", \"Free\", \"Free\", \"Free\", \"Free\", \"Free\", \"Free\", \"Free\", \"Free\", \"Free\", \"Free\", \"Free\", \"Free\", \"Free\", \"Free\", \"Free\", \"Free\", \"Free\", \"Free\", \"Free\", \"Free\", \"Free\", \"Free\", \"Free\", \"Free\", \"Free\", \"Free\", \"Free\", \"Free\", \"Free\", \"Free\", \"Free\", \"Free\", \"Free\", \"Free\", \"Free\", \"Free\", \"Free\", \"Free\", \"Free\", \"Free\", \"Free\", \"Free\", \"Free\", \"Free\", \"Free\", \"Free\", \"Free\", \"Free\", \"Free\", \"Free\", \"Free\", \"Free\", \"Free\", \"Free\", \"Free\", \"Free\", \"Free\", \"Free\", \"Free\", \"Free\", \"Free\", \"Free\", \"Free\", \"Free\", \"Free\", \"Free\", \"Free\", \"Free\", \"Free\", \"Free\", \"Free\", \"Free\", \"Free\", \"Free\", \"Free\", \"Free\", \"Free\", \"Free\", \"Free\", \"Free\", \"Free\", \"Free\", \"Free\", \"Free\", \"Free\", \"Free\", \"Free\", \"Free\", \"Free\", \"Free\", \"Free\", \"Free\", \"Free\", \"Free\", \"Free\", \"Free\", \"Free\", \"Free\", \"Free\", \"Free\", \"Free\", \"Free\", \"Free\", \"Free\", \"Free\", \"Free\", \"Free\", \"Free\", \"Free\", \"Free\", \"Free\", \"Free\", \"Free\", \"Free\", \"Free\", \"Free\", \"Free\", \"Free\", \"Free\", \"Free\", \"Free\", \"Free\", \"Free\", \"Free\", \"Free\", \"Free\", \"Free\", \"Free\", \"Free\", \"Free\", \"Free\", \"Free\", \"Free\", \"Free\", \"Free\", \"Free\", \"Free\", \"Free\", \"Free\", \"Free\", \"Free\", \"Free\", \"Free\", \"Free\", \"Free\", \"Free\", \"Free\", \"Free\", \"Free\", \"Free\", \"Free\", \"Free\", \"Free\", \"Free\", \"Free\", \"Free\", \"Free\", \"Free\", \"Free\", \"Free\", \"Free\", \"Free\", \"Free\", \"Free\", \"Free\", \"Free\", \"Free\", \"Free\", \"Free\", \"Free\", \"Free\", \"Free\", \"Free\", \"Free\", \"Free\", \"Free\", \"Free\", \"Free\", \"Free\", \"Free\", \"Free\", \"Free\", \"Free\", \"Free\", \"Free\", \"Free\", \"Free\", \"Free\", \"Free\", \"Free\", \"Free\", \"Free\", \"Free\", \"Free\", \"Free\", \"Free\", \"Free\", \"Free\", \"Free\", \"Free\", \"Free\", \"Free\", \"Free\", \"Free\", \"Free\", \"Free\", \"Free\", \"Free\", \"Free\", \"Free\", \"Free\", \"Free\", \"Free\", \"Free\", \"Free\", \"Free\", \"Free\", \"Free\", \"Free\", \"Free\", \"Free\", \"Free\", \"Free\", \"Free\", \"Free\", \"Free\", \"Free\", \"Free\", \"Free\", \"Free\", \"Free\", \"Free\", \"Free\", \"Free\", \"Free\", \"Free\", \"Free\", \"Free\", \"Free\", \"Free\", \"Free\", \"Free\", \"Free\", \"Free\", \"Free\", \"Free\", \"Free\", \"Free\", \"Free\", \"Free\", \"Free\", \"Free\", \"Free\", \"Free\", \"Free\", \"Free\", \"Free\", \"Free\", \"Free\", \"Free\", \"Free\", \"Free\", \"Free\", \"Free\", \"Free\", \"Free\", \"Free\", \"Free\", \"Free\", \"Free\", \"Free\", \"Free\", \"Free\", \"Free\", \"Free\", \"Free\", \"Free\", \"Free\", \"Free\", \"Free\", \"Free\", \"Free\", \"Free\", \"Free\", \"Free\", \"Free\", \"Free\", \"Free\", \"Free\", \"Free\", \"Free\", \"Free\", \"Free\", \"Free\", \"Free\", \"Free\", \"Free\", \"Free\", \"Free\", \"Free\", \"Free\", \"Free\", \"Free\", \"Free\", \"Free\", \"Free\", \"Free\", \"Free\", \"Free\", \"Free\", \"Free\", \"Free\", \"Free\", \"Free\", \"Free\", \"Free\", \"Free\", \"Free\", \"Free\", \"Free\", \"Free\", \"Free\", \"Free\", \"Free\", \"Free\", \"Free\", \"Free\", \"Free\", \"Free\", \"Free\", \"Free\", \"Free\", \"Free\", \"Free\", \"Free\", \"Free\", \"Free\", \"Free\", \"Free\", \"Free\", \"Free\", \"Free\", \"Free\", \"Free\", \"Free\", \"Free\", \"Free\", \"Free\", \"Free\", \"Free\", \"Free\", \"Free\", \"Free\", \"Free\", \"Free\", \"Free\", \"Free\", \"Free\", \"Free\", \"Free\", \"Free\", \"Free\", \"Free\", \"Free\", \"Free\", \"Free\", \"Free\", \"Free\", \"Free\", \"Free\", \"Free\", \"Free\", \"Free\", \"Free\", \"Free\", \"Free\", \"Free\", \"Free\", \"Free\", \"Free\", \"Free\", \"Free\", \"Free\", \"Free\", \"Free\", \"Free\", \"Free\", \"Free\", \"Free\", \"Free\", \"Free\", \"Free\", \"Free\", \"Free\", \"Free\", \"Free\", \"Free\", \"Free\", \"Free\", \"Free\", \"Free\", \"Free\", \"Free\", \"Free\", \"Free\", \"Free\", \"Free\", \"Free\", \"Free\", \"Free\", \"Free\", \"Free\", \"Free\", \"Free\", \"Free\", \"Free\", \"Free\", \"Free\", \"Free\", \"Free\", \"Free\", \"Free\", \"Free\", \"Free\", \"Free\", \"Free\", \"Free\", \"Free\", \"Free\", \"Free\", \"Free\", \"Free\", \"Free\", \"Free\", \"Free\", \"Free\", \"Free\", \"Free\", \"Free\", \"Free\", \"Free\", \"Free\", \"Free\", \"Free\", \"Free\", \"Free\", \"Free\", \"Free\", \"Free\", \"Free\", \"Free\", \"Free\", \"Free\", \"Free\", \"Free\", \"Free\", \"Free\", \"Free\", \"Free\", \"Free\", \"Free\", \"Free\", \"Free\", \"Free\", \"Free\", \"Free\", \"Free\", \"Free\", \"Free\", \"Free\", \"Free\", \"Free\", \"Free\", \"Free\", \"Free\", \"Free\", \"Free\", \"Free\", \"Free\", \"Free\", \"Free\", \"Free\", \"Free\", \"Free\", \"Free\", \"Free\", \"Free\", \"Free\", \"Free\", \"Free\", \"Free\", \"Free\", \"Free\", \"Free\", \"Free\", \"Free\", \"Free\", \"Free\", \"Free\", \"Free\", \"Free\", \"Free\", \"Free\", \"Free\", \"Free\", \"Free\", \"Free\", \"Free\", \"Free\", \"Free\", \"Free\", \"Free\", \"Free\", \"Free\", \"Free\", \"Free\", \"Free\", \"Free\", \"Free\", \"Free\", \"Free\", \"Free\", \"Free\", \"Free\", \"Free\", \"Free\", \"Free\", \"Free\", \"Free\", \"Free\", \"Free\", \"Free\", \"Free\", \"Free\", \"Free\", \"Free\", \"Free\", \"Free\", \"Free\", \"Free\", \"Free\", \"Free\", \"Free\", \"Free\", \"Free\", \"Free\", \"Free\", \"Free\", \"Free\", \"Free\", \"Free\", \"Free\", \"Free\", \"Free\", \"Free\", \"Free\", \"Free\", \"Free\", \"Free\", \"Free\", \"Free\", \"Free\", \"Free\", \"Free\", \"Free\", \"Free\", \"Free\", \"Free\", \"Free\", \"Free\", \"Free\", \"Free\", \"Free\", \"Free\", \"Free\", \"Free\", \"Free\", \"Free\", \"Free\", \"Free\", \"Free\", \"Free\", \"Free\", \"Free\", \"Free\", \"Free\", \"Free\", \"Free\", \"Free\", \"Free\", \"Free\", \"Free\", \"Free\", \"Free\", \"Free\", \"Free\", \"Free\", \"Free\", \"Free\", \"Free\", \"Free\", \"Free\", \"Free\", \"Free\", \"Free\", \"Free\", \"Free\", \"Free\", \"Free\", \"Free\", \"Free\", \"Free\", \"Free\", \"Free\", \"Free\", \"Free\", \"Free\", \"Free\", \"Free\", \"Free\", \"Free\", \"Free\", \"Free\", \"Free\", \"Free\", \"Free\", \"Free\", \"Free\", \"Free\", \"Free\", \"Free\", \"Free\", \"Free\", \"Free\", \"Free\", \"Free\", \"Free\", \"Free\", \"Free\", \"Free\", \"Free\", \"Free\", \"Free\", \"Free\", \"Free\", \"Free\", \"Free\", \"Free\", \"Free\", \"Free\", \"Free\", \"Free\", \"Free\", \"Free\", \"Free\", \"Free\", \"Free\", \"Free\", \"Free\", \"Free\", \"Free\", \"Free\", \"Free\", \"Free\", \"Free\", \"Free\", \"Free\", \"Free\", \"Free\", \"Free\", \"Free\", \"Free\", \"Free\", \"Free\", \"Free\", \"Free\", \"Free\", \"Free\", \"Free\", \"Free\", \"Free\", \"Free\", \"Free\", \"Free\", \"Free\", \"Free\", \"Free\", \"Free\", \"Free\", \"Free\", \"Free\", \"Free\", \"Free\", \"Free\", \"Free\", \"Free\", \"Free\", \"Free\", \"Free\", \"Free\", \"Free\", \"Free\", \"Free\", \"Free\", \"Free\", \"Free\", \"Free\", \"Free\", \"Free\", \"Free\", \"Free\", \"Free\", \"Free\", \"Free\", \"Free\", \"Free\", \"Free\", \"Free\", \"Free\", \"Free\", \"Free\", \"Free\", \"Free\", \"Free\", \"Free\", \"Free\", \"Free\", \"Free\", \"Free\", \"Free\", \"Free\", \"Free\", \"Free\", \"Free\", \"Free\", \"Free\", \"Free\", \"Free\", \"Free\", \"Free\", \"Free\", \"Free\", \"Free\", \"Free\", \"Free\", \"Free\", \"Free\", \"Free\", \"Free\", \"Free\", \"Free\", \"Free\", \"Free\", \"Free\", \"Free\", \"Free\", \"Free\", \"Free\", \"Free\", \"Free\", \"Free\", \"Free\", \"Free\", \"Free\", \"Free\", \"Free\", \"Free\", \"Free\", \"Free\", \"Free\", \"Free\", \"Free\", \"Free\", \"Free\", \"Free\", \"Free\", \"Free\", \"Free\", \"Free\", \"Free\", \"Free\", \"Free\", \"Free\", \"Free\", \"Free\", \"Free\", \"Free\", \"Free\", \"Free\", \"Free\", \"Free\", \"Free\", \"Free\", \"Free\", \"Free\", \"Free\", \"Free\", \"Free\", \"Free\", \"Free\", \"Free\", \"Free\", \"Free\", \"Free\", \"Free\", \"Free\", \"Free\", \"Free\", \"Free\", \"Free\", \"Free\", \"Free\", \"Free\", \"Free\", \"Free\", \"Free\", \"Free\", \"Free\", \"Free\", \"Free\", \"Free\", \"Free\", \"Free\", \"Free\", \"Free\", \"Free\", \"Free\", \"Free\", \"Free\", \"Free\", \"Free\", \"Free\", \"Free\", \"Free\", \"Free\", \"Free\", \"Free\", \"Free\", \"Free\", \"Free\", \"Free\", \"Free\", \"Free\", \"Free\", \"Free\", \"Free\", \"Free\", \"Free\", \"Free\", \"Free\", \"Free\", \"Free\", \"Free\", \"Free\", \"Free\", \"Free\", \"Free\", \"Free\", \"Free\", \"Free\", \"Free\", \"Free\", \"Free\", \"Free\", \"Free\", \"Free\", \"Free\", \"Free\", \"Free\", \"Free\", \"Free\", \"Free\", \"Free\", \"Free\", \"Free\", \"Free\", \"Free\", \"Free\", \"Free\", \"Free\", \"Free\", \"Free\", \"Free\", \"Free\", \"Free\", \"Free\", \"Free\", \"Free\", \"Free\", \"Free\", \"Free\", \"Free\", \"Free\", \"Free\", \"Free\", \"Free\", \"Free\", \"Free\", \"Free\", \"Free\", \"Free\", \"Free\", \"Free\", \"Free\", \"Free\", \"Free\", \"Free\", \"Free\", \"Free\", \"Free\", \"Free\", \"Free\", \"Free\", \"Free\", \"Free\", \"Free\", \"Free\", \"Free\", \"Free\", \"Free\", \"Free\", \"Free\", \"Free\", \"Free\", \"Free\", \"Free\", \"Free\", \"Free\", \"Free\", \"Free\", \"Free\", \"Free\", \"Free\", \"Free\", \"Free\", \"Free\", \"Free\", \"Free\", \"Free\", \"Free\", \"Free\", \"Free\", \"Free\", \"Free\", \"Free\", \"Free\", \"Free\", \"Free\", \"Free\", \"Free\", \"Free\", \"Free\", \"Free\", \"Free\", \"Free\", \"Free\", \"Free\", \"Free\", \"Free\", \"Free\", \"Free\", \"Free\", \"Free\", \"Free\", \"Free\", \"Free\", \"Free\", \"Free\", \"Free\", \"Free\", \"Free\", \"Free\", \"Free\", \"Free\", \"Free\", \"Free\", \"Free\", \"Free\", \"Free\", \"Free\", \"Free\", \"Free\", \"Free\", \"Free\", \"Free\", \"Free\", \"Free\", \"Free\", \"Free\", \"Free\", \"Free\", \"Free\", \"Free\", \"Free\", \"Free\", \"Free\", \"Free\", \"Free\", \"Free\", \"Free\", \"Free\", \"Free\", \"Free\", \"Free\", \"Free\", \"Free\", \"Free\", \"Free\", \"Free\", \"Free\", \"Free\", \"Free\", \"Free\", \"Free\", \"Free\", \"Free\", \"Free\", \"Free\", \"Free\", \"Free\", \"Free\", \"Free\", \"Free\", \"Free\", \"Free\", \"Free\", \"Free\", \"Free\", \"Free\", \"Free\", \"Free\", \"Free\", \"Free\", \"Free\", \"Free\", \"Free\", \"Free\", \"Free\", \"Free\", \"Free\", \"Free\", \"Free\", \"Free\", \"Free\", \"Free\", \"Free\", \"Free\", \"Free\", \"Free\", \"Free\", \"Free\", \"Free\", \"Free\", \"Free\", \"Free\", \"Free\", \"Free\", \"Free\", \"Free\", \"Free\", \"Free\", \"Free\", \"Free\", \"Free\", \"Free\", \"Free\", \"Free\", \"Free\", \"Free\", \"Free\", \"Free\", \"Free\", \"Free\", \"Free\", \"Free\", \"Free\", \"Free\", \"Free\", \"Free\", \"Free\", \"Free\", \"Free\", \"Free\", \"Free\", \"Free\", \"Free\", \"Free\", \"Free\", \"Free\", \"Free\", \"Free\", \"Free\", \"Free\", \"Free\", \"Free\", \"Free\", \"Free\", \"Free\", \"Free\", \"Free\", \"Free\", \"Free\", \"Free\", \"Free\", \"Free\", \"Free\", \"Free\", \"Free\", \"Free\", \"Free\", \"Free\", \"Free\", \"Free\", \"Free\", \"Free\", \"Free\", \"Free\", \"Free\", \"Free\", \"Free\", \"Free\", \"Free\", \"Free\", \"Free\", \"Free\", \"Free\", \"Free\", \"Free\", \"Free\", \"Free\", \"Free\", \"Free\", \"Free\", \"Free\", \"Free\", \"Free\", \"Free\", \"Free\", \"Free\", \"Free\", \"Free\", \"Free\", \"Free\", \"Free\", \"Free\", \"Free\", \"Free\", \"Free\", \"Free\", \"Free\", \"Free\", \"Free\", \"Free\", \"Free\", \"Free\", \"Free\", \"Free\", \"Free\", \"Free\", \"Free\", \"Free\", \"Free\", \"Free\", \"Free\", \"Free\", \"Free\", \"Free\", \"Free\", \"Free\", \"Free\", \"Free\", \"Free\", \"Free\", \"Free\", \"Free\", \"Free\", \"Free\", \"Free\", \"Free\", \"Free\", \"Free\", \"Free\", \"Free\", \"Free\", \"Free\", \"Free\", \"Free\", \"Free\", \"Free\", \"Free\", \"Free\", \"Free\", \"Free\", \"Free\", \"Free\", \"Free\", \"Free\", \"Free\", \"Free\", \"Free\", \"Free\", \"Free\", \"Free\", \"Free\", \"Free\", \"Free\", \"Free\", \"Free\", \"Free\", \"Free\", \"Free\", \"Free\", \"Free\", \"Free\", \"Free\", \"Free\", \"Free\", \"Free\", \"Free\", \"Free\", \"Free\", \"Free\", \"Free\", \"Free\", \"Free\", \"Free\", \"Free\", \"Free\", \"Free\", \"Free\", \"Free\", \"Free\", \"Free\", \"Free\", \"Free\", \"Free\", \"Free\", \"Free\", \"Free\", \"Free\", \"Free\", \"Free\", \"Free\", \"Free\", \"Free\", \"Free\", \"Free\", \"Free\", \"Free\", \"Free\", \"Free\", \"Free\", \"Free\", \"Free\", \"Free\", \"Free\", \"Free\", \"Free\", \"Free\", \"Free\", \"Free\", \"Free\", \"Free\", \"Free\", \"Free\", \"Free\", \"Free\", \"Free\", \"Free\", \"Free\", \"Free\", \"Free\", \"Free\", \"Free\", \"Free\", \"Free\", \"Free\", \"Free\", \"Free\", \"Free\", \"Free\", \"Free\", \"Free\", \"Free\", \"Free\", \"Free\", \"Free\", \"Free\", \"Free\", \"Free\", \"Free\", \"Free\", \"Free\", \"Free\", \"Free\", \"Free\", \"Free\", \"Free\", \"Free\", \"Free\", \"Free\", \"Free\", \"Free\", \"Free\", \"Free\", \"Free\", \"Free\", \"Free\", \"Free\", \"Free\", \"Free\", \"Free\", \"Free\", \"Free\", \"Free\", \"Free\", \"Free\", \"Free\", \"Free\", \"Free\", \"Free\", \"Free\", \"Free\", \"Free\", \"Free\", \"Free\", \"Free\", \"Free\", \"Free\", \"Free\", \"Free\", \"Free\", \"Free\", \"Free\", \"Free\", \"Free\", \"Free\", \"Free\", \"Free\", \"Free\", \"Free\", \"Free\", \"Free\", \"Free\", \"Free\", \"Free\", \"Free\", \"Free\", \"Free\", \"Free\", \"Free\", \"Free\", \"Free\", \"Free\", \"Free\", \"Free\", \"Free\", \"Free\", \"Free\", \"Free\", \"Free\", \"Free\", \"Free\", \"Free\", \"Free\", \"Free\", \"Free\", \"Free\", \"Free\", \"Free\", \"Free\", \"Free\", \"Free\", \"Free\", \"Free\", \"Free\", \"Free\", \"Free\", \"Free\", \"Free\", \"Free\", \"Free\", \"Free\", \"Free\", \"Free\", \"Free\", \"Free\", \"Free\", \"Free\", \"Free\", \"Free\", \"Free\", \"Free\", \"Free\", \"Free\", \"Free\", \"Free\", \"Free\", \"Free\", \"Free\", \"Free\", \"Free\", \"Free\", \"Free\", \"Free\", \"Free\", \"Free\", \"Free\", \"Free\", \"Free\", \"Free\", \"Free\", \"Free\", \"Free\", \"Free\", \"Free\", \"Free\", \"Free\", \"Free\", \"Free\", \"Free\", \"Free\", \"Free\", \"Free\", \"Free\", \"Free\", \"Free\", \"Free\", \"Free\", \"Free\", \"Free\", \"Free\", \"Free\", \"Free\", \"Free\", \"Free\", \"Free\", \"Free\", \"Free\", \"Free\", \"Free\", \"Free\", \"Free\", \"Free\", \"Free\", \"Free\", \"Free\", \"Free\", \"Free\", \"Free\", \"Free\", \"Free\", \"Free\", \"Free\", \"Free\", \"Free\", \"Free\", \"Free\", \"Free\", \"Free\", \"Free\", \"Free\", \"Free\", \"Free\", \"Free\", \"Free\", \"Free\", \"Free\", \"Free\", \"Free\", \"Free\", \"Free\", \"Free\", \"Free\", \"Free\", \"Free\", \"Free\", \"Free\", \"Free\", \"Free\", \"Free\", \"Free\", \"Free\", \"Free\", \"Free\", \"Free\", \"Free\", \"Free\", \"Free\", \"Free\", \"Free\", \"Free\", \"Free\", \"Free\", \"Free\", \"Free\", \"Free\", \"Free\", \"Free\", \"Free\", \"Free\", \"Free\", \"Free\", \"Free\", \"Free\", \"Free\", \"Free\", \"Free\", \"Free\", \"Free\", \"Free\", \"Free\", \"Free\", \"Free\", \"Free\", \"Free\", \"Free\", \"Free\", \"Free\", \"Free\", \"Free\", \"Free\", \"Free\", \"Free\", \"Free\", \"Free\", \"Free\", \"Free\", \"Free\", \"Free\", \"Free\", \"Free\", \"Free\", \"Free\", \"Free\", \"Free\", \"Free\", \"Free\", \"Free\", \"Free\", \"Free\", \"Free\", \"Free\", \"Free\", \"Free\", \"Free\", \"Free\", \"Free\", \"Free\", \"Free\", \"Free\", \"Free\", \"Free\", \"Free\", \"Free\", \"Free\", \"Free\", \"Free\", \"Free\", \"Free\", \"Free\", \"Free\", \"Free\", \"Free\", \"Free\", \"Free\", \"Free\", \"Free\", \"Free\", \"Free\", \"Free\", \"Free\", \"Free\", \"Free\", \"Free\", \"Free\", \"Free\", \"Free\", \"Free\", \"Free\", \"Free\", \"Free\", \"Free\", \"Free\", \"Free\", \"Free\", \"Free\", \"Free\", \"Free\", \"Free\", \"Free\", \"Free\", \"Free\", \"Free\", \"Free\", \"Free\", \"Free\", \"Free\", \"Free\", \"Free\", \"Free\", \"Free\", \"Free\", \"Free\", \"Free\", \"Free\", \"Free\", \"Free\", \"Free\", \"Free\", \"Free\", \"Free\", \"Free\", \"Free\", \"Free\", \"Free\", \"Free\", \"Free\", \"Free\", \"Free\", \"Free\", \"Free\", \"Free\", \"Free\", \"Free\", \"Free\", \"Free\", \"Free\", \"Free\", \"Free\", \"Free\", \"Free\", \"Free\", \"Free\", \"Free\", \"Free\", \"Free\", \"Free\", \"Free\", \"Free\", \"Free\", \"Free\", \"Free\", \"Free\", \"Free\", \"Free\", \"Free\", \"Free\", \"Free\", \"Free\", \"Free\", \"Free\", \"Free\", \"Free\", \"Free\", \"Free\", \"Free\", \"Free\", \"Free\", \"Free\", \"Free\", \"Free\", \"Free\", \"Free\", \"Free\", \"Free\", \"Free\", \"Free\", \"Free\", \"Free\", \"Free\", \"Free\", \"Free\", \"Free\", \"Free\", \"Free\", \"Free\", \"Free\", \"Free\", \"Free\", \"Free\", \"Free\", \"Free\", \"Free\", \"Free\", \"Free\", \"Free\", \"Free\", \"Free\", \"Free\", \"Free\", \"Free\", \"Free\", \"Free\", \"Free\", \"Free\", \"Free\", \"Free\", \"Free\", \"Free\", \"Free\", \"Free\", \"Free\", \"Free\", \"Free\", \"Free\", \"Free\", \"Free\", \"Free\", \"Free\", \"Free\", \"Free\", \"Free\", \"Free\", \"Free\", \"Free\", \"Free\", \"Free\", \"Free\", \"Free\", \"Free\", \"Free\", \"Free\", \"Free\", \"Free\", \"Free\", \"Free\", \"Free\", \"Free\", \"Free\", \"Free\", \"Free\", \"Free\", \"Free\", \"Free\", \"Free\", \"Free\", \"Free\", \"Free\", \"Free\", \"Free\", \"Free\", \"Free\", \"Free\", \"Free\", \"Free\", \"Free\", \"Free\", \"Free\", \"Free\", \"Free\", \"Free\", \"Free\", \"Free\", \"Free\", \"Free\", \"Free\", \"Free\", \"Free\", \"Free\", \"Free\", \"Free\", \"Free\", \"Free\", \"Free\", \"Free\", \"Free\", \"Free\", \"Free\", \"Free\", \"Free\", \"Free\", \"Free\", \"Free\", \"Free\", \"Free\", \"Free\", \"Free\", \"Free\", \"Free\", \"Free\", \"Free\", \"Free\", \"Free\", \"Free\", \"Free\", \"Free\", \"Free\", \"Free\", \"Free\", \"Free\", \"Free\", \"Free\", \"Free\", \"Free\", \"Free\", \"Free\", \"Free\", \"Free\", \"Free\", \"Free\", \"Free\", \"Free\", \"Free\", \"Free\", \"Free\", \"Free\", \"Free\", \"Free\", \"Free\", \"Free\", \"Free\", \"Free\", \"Free\", \"Free\", \"Free\", \"Free\", \"Free\", \"Free\", \"Free\", \"Free\", \"Free\", \"Free\", \"Free\", \"Free\", \"Free\", \"Free\", \"Free\", \"Free\", \"Free\", \"Free\", \"Free\", \"Free\", \"Free\", \"Free\", \"Free\", \"Free\", \"Free\", \"Free\", \"Free\", \"Free\", \"Free\", \"Free\", \"Free\", \"Free\", \"Free\", \"Free\", \"Free\", \"Free\", \"Free\", \"Free\", \"Free\", \"Free\", \"Free\", \"Free\", \"Free\", \"Free\", \"Free\", \"Free\", \"Free\", \"Free\", \"Free\", \"Free\", \"Free\", \"Free\", \"Free\", \"Free\", \"Free\", \"Free\", \"Free\", \"Free\", \"Free\", \"Free\", \"Free\", \"Free\", \"Free\", \"Free\", \"Free\", \"Free\", \"Free\", \"Free\", \"Free\", \"Free\", \"Free\", \"Free\", \"Free\", \"Free\", \"Free\", \"Free\", \"Free\", \"Free\", \"Free\", \"Free\", \"Free\", \"Free\", \"Free\", \"Free\", \"Free\", \"Free\", \"Free\", \"Free\", \"Free\", \"Free\", \"Free\", \"Free\", \"Free\", \"Free\", \"Free\", \"Free\", \"Free\", \"Free\", \"Free\", \"Free\", \"Free\", \"Free\", \"Free\", \"Free\", \"Free\", \"Free\", \"Free\", \"Free\", \"Free\", \"Free\", \"Free\", \"Free\", \"Free\", \"Free\", \"Free\", \"Free\", \"Free\", \"Free\", \"Free\", \"Free\", \"Free\", \"Free\", \"Free\", \"Free\", \"Free\", \"Free\", \"Free\", \"Free\", \"Free\", \"Free\", \"Free\", \"Free\", \"Free\", \"Free\", \"Free\", \"Free\", \"Free\", \"Free\", \"Free\", \"Free\", \"Free\", \"Free\", \"Free\", \"Free\", \"Free\", \"Free\", \"Free\", \"Free\", \"Free\", \"Free\", \"Free\", \"Free\", \"Free\", \"Free\", \"Free\", \"Free\", \"Free\", \"Free\", \"Free\", \"Free\", \"Free\", \"Free\", \"Free\", \"Free\", \"Free\", \"Free\", \"Free\", \"Free\", \"Free\", \"Free\", \"Free\", \"Free\", \"Free\", \"Free\", \"Free\", \"Free\", \"Free\", \"Free\", \"Free\", \"Free\", \"Free\", \"Free\", \"Free\", \"Free\", \"Free\", \"Free\", \"Free\", \"Free\", \"Free\", \"Free\", \"Free\", \"Free\", \"Free\", \"Free\", \"Free\", \"Free\", \"Free\", \"Free\", \"Free\", \"Free\", \"Free\", \"Free\", \"Free\", \"Free\", \"Free\", \"Free\", \"Free\", \"Free\", \"Free\", \"Free\", \"Free\", \"Free\", \"Free\", \"Free\", \"Free\", \"Free\", \"Free\", \"Free\", \"Free\", \"Free\", \"Free\", \"Free\", \"Free\", \"Free\", \"Free\", \"Free\", \"Free\", \"Free\", \"Free\", \"Free\", \"Free\", \"Free\", \"Free\", \"Free\", \"Free\", \"Free\", \"Free\", \"Free\", \"Free\", \"Free\", \"Free\", \"Free\", \"Free\", \"Free\", \"Free\", \"Free\", \"Free\", \"Free\", \"Free\", \"Free\", \"Free\", \"Free\", \"Free\", \"Free\", \"Free\", \"Free\", \"Free\", \"Free\", \"Free\", \"Free\", \"Free\", \"Free\", \"Free\", \"Free\", \"Free\", \"Free\", \"Free\", \"Free\", \"Free\", \"Free\", \"Free\", \"Free\", \"Free\", \"Free\", \"Free\", \"Free\", \"Free\", \"Free\", \"Free\", \"Free\", \"Free\", \"Free\", \"Free\", \"Free\", \"Free\", \"Free\", \"Free\", \"Free\", \"Free\", \"Free\", \"Free\", \"Free\", \"Free\", \"Free\", \"Free\", \"Free\", \"Free\", \"Free\", \"Free\", \"Free\", \"Free\", \"Free\", \"Free\", \"Free\", \"Free\", \"Free\", \"Free\", \"Free\", \"Free\", \"Free\", \"Free\", \"Free\", \"Free\", \"Free\", \"Free\", \"Free\", \"Free\", \"Free\", \"Free\", \"Free\", \"Free\", \"Free\", \"Free\", \"Free\", \"Free\", \"Free\", \"Free\", \"Free\", \"Free\", \"Free\", \"Free\", \"Free\", \"Free\", \"Free\", \"Free\", \"Free\", \"Free\", \"Free\", \"Free\", \"Free\", \"Free\", \"Free\", \"Free\", \"Free\", \"Free\", \"Free\", \"Free\", \"Free\", \"Free\", \"Free\", \"Free\", \"Free\", \"Free\", \"Free\", \"Free\", \"Free\", \"Free\", \"Free\", \"Free\", \"Free\", \"Free\", \"Free\", \"Free\", \"Free\", \"Free\", \"Free\", \"Free\", \"Free\", \"Free\", \"Free\", \"Free\", \"Free\", \"Free\", \"Free\", \"Free\", \"Free\", \"Free\", \"Free\", \"Free\", \"Free\", \"Free\", \"Free\", \"Free\", \"Free\", \"Free\", \"Free\", \"Free\", \"Free\", \"Free\", \"Free\", \"Free\", \"Free\", \"Free\", \"Free\", \"Free\", \"Free\", \"Free\", \"Free\", \"Free\", \"Free\", \"Free\", \"Free\", \"Free\", \"Free\", \"Free\", \"Free\", \"Free\", \"Free\", \"Free\", \"Free\", \"Free\", \"Free\", \"Free\", \"Free\", \"Free\", \"Free\", \"Free\", \"Free\", \"Free\", \"Free\", \"Free\", \"Free\", \"Free\", \"Free\", \"Free\", \"Free\", \"Free\", \"Free\", \"Free\", \"Free\", \"Free\", \"Free\", \"Free\", \"Free\", \"Free\", \"Free\", \"Free\", \"Free\", \"Free\", \"Free\", \"Free\", \"Free\", \"Free\", \"Free\", \"Free\", \"Free\", \"Free\", \"Free\", \"Free\", \"Free\", \"Free\", \"Free\", \"Free\", \"Free\", \"Free\", \"Free\", \"Free\", \"Free\", \"Free\", \"Free\", \"Free\", \"Free\", \"Free\", \"Free\", \"Free\", \"Free\", \"Free\", \"Free\", \"Free\", \"Free\", \"Free\", \"Free\", \"Free\", \"Free\", \"Free\", \"Free\", \"Free\", \"Free\", \"Free\", \"Free\", \"Free\", \"Free\", \"Free\", \"Free\", \"Free\", \"Free\", \"Free\", \"Free\", \"Free\", \"Free\", \"Free\", \"Free\", \"Free\", \"Free\", \"Free\", \"Free\", \"Free\", \"Free\", \"Free\", \"Free\", \"Free\", \"Free\", \"Free\", \"Free\", \"Free\", \"Free\", \"Free\", \"Free\", \"Free\", \"Free\", \"Free\", \"Free\", \"Free\", \"Free\", \"Free\", \"Free\", \"Free\", \"Free\", \"Free\", \"Free\", \"Free\", \"Free\", \"Free\", \"Free\", \"Free\", \"Free\", \"Free\", \"Free\", \"Free\", \"Free\", \"Free\", \"Free\", \"Free\", \"Free\", \"Free\", \"Free\", \"Free\", \"Free\", \"Free\", \"Free\", \"Free\", \"Free\", \"Free\", \"Free\", \"Free\", \"Free\", \"Free\", \"Free\", \"Free\", \"Free\", \"Free\", \"Free\", \"Free\", \"Free\", \"Free\", \"Free\", \"Free\", \"Free\", \"Free\", \"Free\", \"Free\", \"Free\", \"Free\", \"Free\", \"Free\"], \"x0\": \" \", \"xaxis\": \"x\", \"y\": [1, 5, 5, 5, 5, 5, 5, 5, 5, 5, 10, 10, 10, 10, 10, 10, 10, 10, 10, 10, 10, 10, 10, 10, 10, 10, 10, 10, 10, 10, 10, 10, 10, 10, 10, 10, 10, 10, 10, 10, 10, 10, 10, 10, 10, 10, 10, 10, 10, 10, 10, 10, 10, 10, 10, 10, 10, 10, 10, 10, 10, 50, 50, 50, 50, 50, 50, 50, 50, 50, 50, 50, 50, 50, 50, 50, 50, 50, 50, 50, 50, 50, 50, 50, 50, 50, 50, 50, 50, 50, 50, 50, 50, 50, 50, 50, 50, 50, 50, 50, 50, 50, 50, 100, 100, 100, 100, 100, 100, 100, 100, 100, 100, 100, 100, 100, 100, 100, 100, 100, 100, 100, 100, 100, 100, 100, 100, 100, 100, 100, 100, 100, 100, 100, 100, 100, 100, 100, 100, 100, 100, 100, 100, 100, 100, 100, 100, 100, 100, 100, 100, 100, 100, 100, 100, 100, 100, 100, 100, 100, 100, 100, 100, 100, 100, 100, 100, 100, 100, 100, 100, 100, 100, 100, 100, 100, 100, 100, 100, 100, 100, 100, 100, 100, 100, 100, 100, 100, 100, 100, 100, 100, 100, 100, 100, 100, 100, 100, 100, 100, 100, 100, 100, 100, 100, 100, 100, 100, 100, 100, 100, 100, 100, 100, 100, 100, 100, 100, 100, 100, 100, 100, 100, 100, 100, 100, 100, 100, 100, 100, 100, 100, 100, 100, 100, 100, 100, 100, 100, 100, 100, 100, 100, 100, 100, 100, 100, 100, 100, 100, 100, 100, 100, 100, 100, 100, 100, 100, 100, 100, 100, 100, 100, 100, 100, 100, 100, 100, 100, 100, 100, 100, 100, 100, 100, 100, 100, 100, 100, 100, 100, 100, 100, 100, 100, 100, 100, 100, 100, 100, 100, 100, 100, 100, 100, 100, 100, 100, 100, 100, 100, 100, 100, 100, 100, 100, 100, 100, 100, 100, 100, 100, 100, 100, 100, 100, 100, 100, 100, 100, 100, 100, 100, 100, 100, 100, 100, 100, 100, 100, 100, 100, 100, 100, 100, 100, 100, 100, 100, 100, 500, 500, 500, 500, 500, 500, 500, 500, 500, 500, 500, 500, 500, 500, 500, 500, 500, 500, 500, 500, 500, 500, 500, 500, 500, 500, 500, 500, 500, 500, 500, 500, 500, 500, 500, 500, 500, 500, 500, 500, 500, 500, 500, 500, 500, 500, 500, 500, 500, 500, 500, 500, 500, 500, 500, 500, 500, 500, 500, 500, 500, 500, 500, 500, 500, 500, 500, 500, 500, 500, 500, 500, 500, 500, 500, 500, 500, 500, 500, 500, 500, 500, 500, 500, 500, 500, 500, 500, 500, 500, 500, 500, 500, 500, 500, 500, 500, 500, 500, 500, 500, 500, 500, 500, 500, 500, 500, 500, 500, 500, 500, 500, 500, 500, 500, 500, 500, 500, 500, 500, 500, 500, 500, 500, 500, 500, 500, 500, 500, 500, 500, 500, 500, 500, 500, 500, 500, 500, 500, 500, 500, 500, 500, 500, 500, 500, 500, 500, 500, 500, 500, 500, 500, 500, 500, 500, 500, 500, 500, 500, 500, 500, 500, 1000, 1000, 1000, 1000, 1000, 1000, 1000, 1000, 1000, 1000, 1000, 1000, 1000, 1000, 1000, 1000, 1000, 1000, 1000, 1000, 1000, 1000, 1000, 1000, 1000, 1000, 1000, 1000, 1000, 1000, 1000, 1000, 1000, 1000, 1000, 1000, 1000, 1000, 1000, 1000, 1000, 1000, 1000, 1000, 1000, 1000, 1000, 1000, 1000, 1000, 1000, 1000, 1000, 1000, 1000, 1000, 1000, 1000, 1000, 1000, 1000, 1000, 1000, 1000, 1000, 1000, 1000, 1000, 1000, 1000, 1000, 1000, 1000, 1000, 1000, 1000, 1000, 1000, 1000, 1000, 1000, 1000, 1000, 1000, 1000, 1000, 1000, 1000, 1000, 1000, 1000, 1000, 1000, 1000, 1000, 1000, 1000, 1000, 1000, 1000, 1000, 1000, 1000, 1000, 1000, 1000, 1000, 1000, 1000, 1000, 1000, 1000, 1000, 1000, 1000, 1000, 1000, 1000, 1000, 1000, 1000, 1000, 1000, 1000, 1000, 1000, 1000, 1000, 1000, 1000, 1000, 1000, 1000, 1000, 1000, 1000, 1000, 1000, 1000, 1000, 1000, 1000, 1000, 1000, 1000, 1000, 1000, 1000, 1000, 1000, 1000, 1000, 1000, 1000, 1000, 1000, 1000, 1000, 1000, 1000, 1000, 1000, 1000, 1000, 1000, 1000, 1000, 1000, 1000, 1000, 1000, 1000, 1000, 1000, 1000, 1000, 1000, 1000, 1000, 1000, 1000, 1000, 1000, 1000, 1000, 1000, 1000, 1000, 1000, 1000, 1000, 1000, 1000, 1000, 1000, 1000, 1000, 1000, 1000, 1000, 1000, 1000, 1000, 1000, 1000, 1000, 1000, 1000, 1000, 1000, 1000, 1000, 1000, 1000, 1000, 1000, 1000, 1000, 1000, 1000, 1000, 1000, 1000, 1000, 1000, 1000, 1000, 1000, 1000, 1000, 1000, 1000, 1000, 1000, 1000, 1000, 1000, 1000, 1000, 1000, 1000, 1000, 1000, 1000, 1000, 1000, 1000, 1000, 1000, 1000, 1000, 1000, 1000, 1000, 1000, 1000, 1000, 1000, 1000, 1000, 1000, 1000, 1000, 1000, 1000, 1000, 1000, 1000, 1000, 1000, 1000, 1000, 1000, 1000, 1000, 1000, 1000, 1000, 1000, 1000, 1000, 1000, 1000, 1000, 1000, 1000, 1000, 1000, 1000, 1000, 1000, 1000, 1000, 1000, 1000, 1000, 1000, 1000, 1000, 1000, 1000, 1000, 1000, 1000, 1000, 1000, 1000, 1000, 1000, 1000, 1000, 1000, 1000, 1000, 1000, 1000, 1000, 1000, 1000, 1000, 1000, 1000, 1000, 1000, 1000, 1000, 1000, 1000, 1000, 1000, 1000, 1000, 1000, 1000, 1000, 1000, 1000, 1000, 1000, 1000, 1000, 1000, 1000, 1000, 1000, 1000, 1000, 1000, 1000, 1000, 1000, 1000, 1000, 1000, 1000, 1000, 1000, 1000, 1000, 1000, 1000, 1000, 1000, 1000, 1000, 1000, 1000, 1000, 1000, 1000, 1000, 1000, 1000, 1000, 1000, 1000, 1000, 1000, 1000, 1000, 1000, 1000, 1000, 1000, 1000, 1000, 1000, 1000, 1000, 1000, 1000, 1000, 1000, 1000, 1000, 1000, 1000, 1000, 1000, 1000, 1000, 1000, 1000, 1000, 1000, 1000, 1000, 1000, 1000, 1000, 1000, 1000, 1000, 1000, 1000, 1000, 1000, 1000, 1000, 1000, 1000, 1000, 1000, 1000, 1000, 1000, 1000, 1000, 1000, 1000, 1000, 1000, 1000, 1000, 1000, 1000, 1000, 1000, 1000, 1000, 1000, 1000, 1000, 1000, 1000, 1000, 1000, 1000, 1000, 1000, 1000, 1000, 1000, 1000, 1000, 1000, 1000, 1000, 1000, 1000, 1000, 1000, 1000, 1000, 1000, 1000, 1000, 1000, 1000, 1000, 1000, 1000, 1000, 1000, 1000, 1000, 1000, 1000, 1000, 1000, 1000, 1000, 1000, 1000, 1000, 1000, 1000, 1000, 1000, 1000, 1000, 1000, 1000, 1000, 1000, 1000, 1000, 1000, 1000, 1000, 1000, 1000, 1000, 1000, 1000, 1000, 1000, 1000, 1000, 1000, 1000, 1000, 1000, 1000, 1000, 1000, 1000, 1000, 1000, 1000, 1000, 1000, 1000, 1000, 1000, 1000, 1000, 1000, 1000, 1000, 1000, 1000, 1000, 1000, 1000, 1000, 1000, 1000, 1000, 1000, 1000, 1000, 1000, 1000, 1000, 1000, 1000, 1000, 1000, 1000, 1000, 1000, 1000, 1000, 1000, 1000, 1000, 1000, 1000, 1000, 1000, 1000, 1000, 1000, 1000, 1000, 1000, 5000, 5000, 5000, 5000, 5000, 5000, 5000, 5000, 5000, 5000, 5000, 5000, 5000, 5000, 5000, 5000, 5000, 5000, 5000, 5000, 5000, 5000, 5000, 5000, 5000, 5000, 5000, 5000, 5000, 5000, 5000, 5000, 5000, 5000, 5000, 5000, 5000, 5000, 5000, 5000, 5000, 5000, 5000, 5000, 5000, 5000, 5000, 5000, 5000, 5000, 5000, 5000, 5000, 5000, 5000, 5000, 5000, 5000, 5000, 5000, 5000, 5000, 5000, 5000, 5000, 5000, 5000, 5000, 5000, 5000, 5000, 5000, 5000, 5000, 5000, 5000, 5000, 5000, 5000, 5000, 5000, 5000, 5000, 5000, 5000, 5000, 5000, 5000, 5000, 5000, 5000, 5000, 5000, 5000, 5000, 5000, 5000, 5000, 5000, 5000, 5000, 5000, 5000, 5000, 5000, 5000, 5000, 5000, 5000, 5000, 5000, 5000, 5000, 5000, 5000, 5000, 5000, 5000, 5000, 5000, 5000, 5000, 5000, 5000, 5000, 5000, 5000, 5000, 5000, 5000, 5000, 5000, 5000, 5000, 5000, 5000, 5000, 5000, 5000, 5000, 5000, 5000, 5000, 5000, 5000, 5000, 5000, 5000, 5000, 5000, 5000, 5000, 5000, 5000, 5000, 5000, 5000, 5000, 5000, 5000, 5000, 5000, 5000, 5000, 5000, 5000, 5000, 5000, 5000, 5000, 5000, 5000, 5000, 5000, 5000, 5000, 5000, 5000, 5000, 5000, 5000, 5000, 5000, 5000, 5000, 5000, 5000, 5000, 5000, 5000, 5000, 5000, 5000, 5000, 5000, 5000, 5000, 5000, 5000, 5000, 5000, 5000, 5000, 5000, 5000, 5000, 5000, 5000, 5000, 5000, 5000, 5000, 5000, 5000, 5000, 5000, 5000, 5000, 5000, 5000, 5000, 5000, 5000, 5000, 5000, 5000, 5000, 5000, 5000, 5000, 5000, 5000, 5000, 5000, 5000, 5000, 5000, 5000, 5000, 5000, 5000, 5000, 5000, 5000, 5000, 5000, 5000, 5000, 5000, 5000, 5000, 5000, 5000, 5000, 5000, 5000, 5000, 5000, 5000, 5000, 5000, 5000, 5000, 5000, 5000, 5000, 5000, 5000, 5000, 5000, 5000, 5000, 5000, 5000, 5000, 5000, 5000, 5000, 5000, 5000, 5000, 5000, 5000, 5000, 5000, 5000, 5000, 5000, 5000, 5000, 5000, 5000, 5000, 5000, 5000, 5000, 5000, 5000, 5000, 5000, 5000, 5000, 5000, 5000, 5000, 5000, 5000, 5000, 5000, 5000, 5000, 5000, 5000, 5000, 5000, 5000, 5000, 5000, 5000, 5000, 5000, 5000, 5000, 5000, 5000, 5000, 5000, 5000, 5000, 5000, 5000, 5000, 5000, 5000, 5000, 5000, 5000, 5000, 5000, 5000, 5000, 5000, 5000, 5000, 5000, 5000, 5000, 5000, 5000, 5000, 5000, 5000, 5000, 5000, 5000, 5000, 5000, 5000, 5000, 5000, 10000, 10000, 10000, 10000, 10000, 10000, 10000, 10000, 10000, 10000, 10000, 10000, 10000, 10000, 10000, 10000, 10000, 10000, 10000, 10000, 10000, 10000, 10000, 10000, 10000, 10000, 10000, 10000, 10000, 10000, 10000, 10000, 10000, 10000, 10000, 10000, 10000, 10000, 10000, 10000, 10000, 10000, 10000, 10000, 10000, 10000, 10000, 10000, 10000, 10000, 10000, 10000, 10000, 10000, 10000, 10000, 10000, 10000, 10000, 10000, 10000, 10000, 10000, 10000, 10000, 10000, 10000, 10000, 10000, 10000, 10000, 10000, 10000, 10000, 10000, 10000, 10000, 10000, 10000, 10000, 10000, 10000, 10000, 10000, 10000, 10000, 10000, 10000, 10000, 10000, 10000, 10000, 10000, 10000, 10000, 10000, 10000, 10000, 10000, 10000, 10000, 10000, 10000, 10000, 10000, 10000, 10000, 10000, 10000, 10000, 10000, 10000, 10000, 10000, 10000, 10000, 10000, 10000, 10000, 10000, 10000, 10000, 10000, 10000, 10000, 10000, 10000, 10000, 10000, 10000, 10000, 10000, 10000, 10000, 10000, 10000, 10000, 10000, 10000, 10000, 10000, 10000, 10000, 10000, 10000, 10000, 10000, 10000, 10000, 10000, 10000, 10000, 10000, 10000, 10000, 10000, 10000, 10000, 10000, 10000, 10000, 10000, 10000, 10000, 10000, 10000, 10000, 10000, 10000, 10000, 10000, 10000, 10000, 10000, 10000, 10000, 10000, 10000, 10000, 10000, 10000, 10000, 10000, 10000, 10000, 10000, 10000, 10000, 10000, 10000, 10000, 10000, 10000, 10000, 10000, 10000, 10000, 10000, 10000, 10000, 10000, 10000, 10000, 10000, 10000, 10000, 10000, 10000, 10000, 10000, 10000, 10000, 10000, 10000, 10000, 10000, 10000, 10000, 10000, 10000, 10000, 10000, 10000, 10000, 10000, 10000, 10000, 10000, 10000, 10000, 10000, 10000, 10000, 10000, 10000, 10000, 10000, 10000, 10000, 10000, 10000, 10000, 10000, 10000, 10000, 10000, 10000, 10000, 10000, 10000, 10000, 10000, 10000, 10000, 10000, 10000, 10000, 10000, 10000, 10000, 10000, 10000, 10000, 10000, 10000, 10000, 10000, 10000, 10000, 10000, 10000, 10000, 10000, 10000, 10000, 10000, 10000, 10000, 10000, 10000, 10000, 10000, 10000, 10000, 10000, 10000, 10000, 10000, 10000, 10000, 10000, 10000, 10000, 10000, 10000, 10000, 10000, 10000, 10000, 10000, 10000, 10000, 10000, 10000, 10000, 10000, 10000, 10000, 10000, 10000, 10000, 10000, 10000, 10000, 10000, 10000, 10000, 10000, 10000, 10000, 10000, 10000, 10000, 10000, 10000, 10000, 10000, 10000, 10000, 10000, 10000, 10000, 10000, 10000, 10000, 10000, 10000, 10000, 10000, 10000, 10000, 10000, 10000, 10000, 10000, 10000, 10000, 10000, 10000, 10000, 10000, 10000, 10000, 10000, 10000, 10000, 10000, 10000, 10000, 10000, 10000, 10000, 10000, 10000, 10000, 10000, 10000, 10000, 10000, 10000, 10000, 10000, 10000, 10000, 10000, 10000, 10000, 10000, 10000, 10000, 10000, 10000, 10000, 10000, 10000, 10000, 10000, 10000, 10000, 10000, 10000, 10000, 10000, 10000, 10000, 10000, 10000, 10000, 10000, 10000, 10000, 10000, 10000, 10000, 10000, 10000, 10000, 10000, 10000, 10000, 10000, 10000, 10000, 10000, 10000, 10000, 10000, 10000, 10000, 10000, 10000, 10000, 10000, 10000, 10000, 10000, 10000, 10000, 10000, 10000, 10000, 10000, 10000, 10000, 10000, 10000, 10000, 10000, 10000, 10000, 10000, 10000, 10000, 10000, 10000, 10000, 10000, 10000, 10000, 10000, 10000, 10000, 10000, 10000, 10000, 10000, 10000, 10000, 10000, 10000, 10000, 10000, 10000, 10000, 10000, 10000, 10000, 10000, 10000, 10000, 10000, 10000, 10000, 10000, 10000, 10000, 10000, 10000, 10000, 10000, 10000, 10000, 10000, 10000, 10000, 10000, 10000, 10000, 10000, 10000, 10000, 10000, 10000, 10000, 10000, 10000, 10000, 10000, 10000, 10000, 10000, 10000, 10000, 10000, 10000, 10000, 10000, 10000, 10000, 10000, 10000, 10000, 10000, 10000, 10000, 10000, 10000, 10000, 10000, 10000, 10000, 10000, 10000, 10000, 10000, 10000, 10000, 10000, 10000, 10000, 10000, 10000, 10000, 10000, 10000, 10000, 10000, 10000, 10000, 10000, 10000, 10000, 10000, 10000, 10000, 10000, 10000, 10000, 10000, 10000, 10000, 10000, 10000, 10000, 10000, 10000, 10000, 10000, 10000, 10000, 10000, 10000, 10000, 10000, 10000, 10000, 10000, 10000, 10000, 10000, 10000, 10000, 10000, 10000, 10000, 10000, 10000, 10000, 10000, 10000, 10000, 10000, 10000, 10000, 10000, 10000, 10000, 10000, 10000, 10000, 10000, 10000, 10000, 10000, 10000, 10000, 10000, 10000, 10000, 10000, 10000, 10000, 10000, 10000, 10000, 10000, 10000, 10000, 10000, 10000, 10000, 10000, 10000, 10000, 10000, 10000, 10000, 10000, 10000, 10000, 10000, 10000, 10000, 10000, 10000, 10000, 10000, 10000, 10000, 10000, 10000, 10000, 10000, 10000, 10000, 10000, 10000, 10000, 10000, 10000, 10000, 10000, 10000, 10000, 10000, 10000, 10000, 10000, 10000, 10000, 10000, 10000, 10000, 10000, 10000, 10000, 10000, 10000, 10000, 10000, 10000, 10000, 10000, 10000, 10000, 10000, 10000, 10000, 10000, 10000, 10000, 10000, 10000, 10000, 10000, 10000, 10000, 10000, 10000, 10000, 10000, 10000, 10000, 10000, 10000, 10000, 10000, 10000, 10000, 10000, 10000, 10000, 10000, 10000, 10000, 10000, 10000, 10000, 10000, 10000, 10000, 10000, 10000, 10000, 10000, 10000, 10000, 10000, 10000, 10000, 10000, 10000, 10000, 10000, 10000, 10000, 10000, 10000, 10000, 10000, 10000, 10000, 10000, 10000, 10000, 10000, 10000, 10000, 10000, 10000, 10000, 10000, 10000, 10000, 10000, 10000, 10000, 10000, 10000, 10000, 10000, 10000, 10000, 10000, 10000, 10000, 10000, 10000, 10000, 10000, 10000, 10000, 10000, 10000, 10000, 10000, 10000, 10000, 10000, 10000, 10000, 10000, 10000, 10000, 10000, 10000, 10000, 10000, 10000, 10000, 10000, 10000, 10000, 10000, 10000, 10000, 10000, 10000, 10000, 10000, 10000, 10000, 10000, 10000, 10000, 10000, 10000, 10000, 10000, 10000, 10000, 10000, 10000, 10000, 10000, 10000, 10000, 10000, 10000, 10000, 10000, 10000, 10000, 10000, 10000, 10000, 10000, 10000, 10000, 10000, 10000, 10000, 10000, 10000, 10000, 10000, 10000, 10000, 10000, 10000, 10000, 10000, 10000, 10000, 10000, 10000, 10000, 10000, 10000, 10000, 10000, 10000, 10000, 10000, 10000, 10000, 10000, 10000, 10000, 10000, 10000, 10000, 10000, 10000, 10000, 10000, 10000, 10000, 10000, 10000, 10000, 10000, 10000, 10000, 10000, 10000, 10000, 10000, 10000, 10000, 10000, 10000, 10000, 10000, 10000, 10000, 10000, 10000, 10000, 10000, 10000, 50000, 50000, 50000, 50000, 50000, 50000, 50000, 50000, 50000, 50000, 50000, 50000, 50000, 50000, 50000, 50000, 50000, 50000, 50000, 50000, 50000, 50000, 50000, 50000, 50000, 50000, 50000, 50000, 50000, 50000, 50000, 50000, 50000, 50000, 50000, 50000, 50000, 50000, 50000, 50000, 50000, 50000, 50000, 50000, 50000, 50000, 50000, 50000, 50000, 50000, 50000, 50000, 50000, 50000, 50000, 50000, 50000, 50000, 50000, 50000, 50000, 50000, 50000, 50000, 50000, 50000, 50000, 50000, 50000, 50000, 50000, 50000, 50000, 50000, 50000, 50000, 50000, 50000, 50000, 50000, 50000, 50000, 50000, 50000, 50000, 50000, 50000, 50000, 50000, 50000, 50000, 50000, 50000, 50000, 50000, 50000, 50000, 50000, 50000, 50000, 50000, 50000, 50000, 50000, 50000, 50000, 50000, 50000, 50000, 50000, 50000, 50000, 50000, 50000, 50000, 50000, 50000, 50000, 50000, 50000, 50000, 50000, 50000, 50000, 50000, 50000, 50000, 50000, 50000, 50000, 50000, 50000, 50000, 50000, 50000, 50000, 50000, 50000, 50000, 50000, 50000, 50000, 50000, 50000, 50000, 50000, 50000, 50000, 50000, 50000, 50000, 50000, 50000, 50000, 50000, 50000, 50000, 50000, 50000, 50000, 50000, 50000, 50000, 50000, 50000, 50000, 50000, 50000, 50000, 50000, 50000, 50000, 50000, 50000, 50000, 50000, 50000, 50000, 50000, 50000, 50000, 50000, 50000, 50000, 50000, 50000, 50000, 50000, 50000, 50000, 50000, 50000, 50000, 50000, 50000, 50000, 50000, 50000, 50000, 50000, 50000, 50000, 50000, 50000, 50000, 50000, 50000, 50000, 50000, 50000, 50000, 50000, 50000, 50000, 50000, 50000, 50000, 50000, 50000, 50000, 50000, 50000, 50000, 50000, 50000, 50000, 50000, 50000, 50000, 50000, 50000, 50000, 50000, 50000, 50000, 50000, 50000, 50000, 50000, 50000, 50000, 50000, 50000, 50000, 50000, 50000, 50000, 50000, 50000, 50000, 50000, 50000, 50000, 50000, 50000, 50000, 50000, 50000, 50000, 50000, 50000, 50000, 50000, 50000, 50000, 50000, 50000, 50000, 50000, 50000, 50000, 50000, 50000, 50000, 50000, 50000, 50000, 50000, 50000, 50000, 50000, 50000, 50000, 50000, 50000, 50000, 50000, 50000, 50000, 50000, 50000, 50000, 50000, 50000, 50000, 50000, 50000, 50000, 50000, 50000, 50000, 50000, 50000, 50000, 50000, 50000, 50000, 50000, 50000, 50000, 50000, 50000, 50000, 50000, 50000, 50000, 50000, 50000, 50000, 50000, 50000, 50000, 50000, 50000, 50000, 50000, 50000, 50000, 50000, 50000, 50000, 50000, 50000, 50000, 50000, 50000, 50000, 50000, 50000, 50000, 50000, 50000, 50000, 50000, 50000, 50000, 50000, 50000, 50000, 50000, 50000, 50000, 50000, 50000, 50000, 50000, 50000, 50000, 50000, 50000, 50000, 50000, 50000, 50000, 50000, 50000, 50000, 50000, 50000, 50000, 50000, 50000, 50000, 50000, 50000, 50000, 50000, 50000, 50000, 50000, 50000, 50000, 50000, 50000, 50000, 50000, 50000, 50000, 50000, 50000, 50000, 50000, 50000, 50000, 50000, 50000, 50000, 50000, 50000, 50000, 50000, 50000, 50000, 50000, 50000, 50000, 50000, 50000, 50000, 50000, 50000, 50000, 50000, 50000, 50000, 50000, 50000, 100000, 100000, 100000, 100000, 100000, 100000, 100000, 100000, 100000, 100000, 100000, 100000, 100000, 100000, 100000, 100000, 100000, 100000, 100000, 100000, 100000, 100000, 100000, 100000, 100000, 100000, 100000, 100000, 100000, 100000, 100000, 100000, 100000, 100000, 100000, 100000, 100000, 100000, 100000, 100000, 100000, 100000, 100000, 100000, 100000, 100000, 100000, 100000, 100000, 100000, 100000, 100000, 100000, 100000, 100000, 100000, 100000, 100000, 100000, 100000, 100000, 100000, 100000, 100000, 100000, 100000, 100000, 100000, 100000, 100000, 100000, 100000, 100000, 100000, 100000, 100000, 100000, 100000, 100000, 100000, 100000, 100000, 100000, 100000, 100000, 100000, 100000, 100000, 100000, 100000, 100000, 100000, 100000, 100000, 100000, 100000, 100000, 100000, 100000, 100000, 100000, 100000, 100000, 100000, 100000, 100000, 100000, 100000, 100000, 100000, 100000, 100000, 100000, 100000, 100000, 100000, 100000, 100000, 100000, 100000, 100000, 100000, 100000, 100000, 100000, 100000, 100000, 100000, 100000, 100000, 100000, 100000, 100000, 100000, 100000, 100000, 100000, 100000, 100000, 100000, 100000, 100000, 100000, 100000, 100000, 100000, 100000, 100000, 100000, 100000, 100000, 100000, 100000, 100000, 100000, 100000, 100000, 100000, 100000, 100000, 100000, 100000, 100000, 100000, 100000, 100000, 100000, 100000, 100000, 100000, 100000, 100000, 100000, 100000, 100000, 100000, 100000, 100000, 100000, 100000, 100000, 100000, 100000, 100000, 100000, 100000, 100000, 100000, 100000, 100000, 100000, 100000, 100000, 100000, 100000, 100000, 100000, 100000, 100000, 100000, 100000, 100000, 100000, 100000, 100000, 100000, 100000, 100000, 100000, 100000, 100000, 100000, 100000, 100000, 100000, 100000, 100000, 100000, 100000, 100000, 100000, 100000, 100000, 100000, 100000, 100000, 100000, 100000, 100000, 100000, 100000, 100000, 100000, 100000, 100000, 100000, 100000, 100000, 100000, 100000, 100000, 100000, 100000, 100000, 100000, 100000, 100000, 100000, 100000, 100000, 100000, 100000, 100000, 100000, 100000, 100000, 100000, 100000, 100000, 100000, 100000, 100000, 100000, 100000, 100000, 100000, 100000, 100000, 100000, 100000, 100000, 100000, 100000, 100000, 100000, 100000, 100000, 100000, 100000, 100000, 100000, 100000, 100000, 100000, 100000, 100000, 100000, 100000, 100000, 100000, 100000, 100000, 100000, 100000, 100000, 100000, 100000, 100000, 100000, 100000, 100000, 100000, 100000, 100000, 100000, 100000, 100000, 100000, 100000, 100000, 100000, 100000, 100000, 100000, 100000, 100000, 100000, 100000, 100000, 100000, 100000, 100000, 100000, 100000, 100000, 100000, 100000, 100000, 100000, 100000, 100000, 100000, 100000, 100000, 100000, 100000, 100000, 100000, 100000, 100000, 100000, 100000, 100000, 100000, 100000, 100000, 100000, 100000, 100000, 100000, 100000, 100000, 100000, 100000, 100000, 100000, 100000, 100000, 100000, 100000, 100000, 100000, 100000, 100000, 100000, 100000, 100000, 100000, 100000, 100000, 100000, 100000, 100000, 100000, 100000, 100000, 100000, 100000, 100000, 100000, 100000, 100000, 100000, 100000, 100000, 100000, 100000, 100000, 100000, 100000, 100000, 100000, 100000, 100000, 100000, 100000, 100000, 100000, 100000, 100000, 100000, 100000, 100000, 100000, 100000, 100000, 100000, 100000, 100000, 100000, 100000, 100000, 100000, 100000, 100000, 100000, 100000, 100000, 100000, 100000, 100000, 100000, 100000, 100000, 100000, 100000, 100000, 100000, 100000, 100000, 100000, 100000, 100000, 100000, 100000, 100000, 100000, 100000, 100000, 100000, 100000, 100000, 100000, 100000, 100000, 100000, 100000, 100000, 100000, 100000, 100000, 100000, 100000, 100000, 100000, 100000, 100000, 100000, 100000, 100000, 100000, 100000, 100000, 100000, 100000, 100000, 100000, 100000, 100000, 100000, 100000, 100000, 100000, 100000, 100000, 100000, 100000, 100000, 100000, 100000, 100000, 100000, 100000, 100000, 100000, 100000, 100000, 100000, 100000, 100000, 100000, 100000, 100000, 100000, 100000, 100000, 100000, 100000, 100000, 100000, 100000, 100000, 100000, 100000, 100000, 100000, 100000, 100000, 100000, 100000, 100000, 100000, 100000, 100000, 100000, 100000, 100000, 100000, 100000, 100000, 100000, 100000, 100000, 100000, 100000, 100000, 100000, 100000, 100000, 100000, 100000, 100000, 100000, 100000, 100000, 100000, 100000, 100000, 100000, 100000, 100000, 100000, 100000, 100000, 100000, 100000, 100000, 100000, 100000, 100000, 100000, 100000, 100000, 100000, 100000, 100000, 100000, 100000, 100000, 100000, 100000, 100000, 100000, 100000, 100000, 100000, 100000, 100000, 100000, 100000, 100000, 100000, 100000, 100000, 100000, 100000, 100000, 100000, 100000, 100000, 100000, 100000, 100000, 100000, 100000, 100000, 100000, 100000, 100000, 100000, 100000, 100000, 100000, 100000, 100000, 100000, 100000, 100000, 100000, 100000, 100000, 100000, 100000, 100000, 100000, 100000, 100000, 100000, 100000, 100000, 100000, 100000, 100000, 100000, 100000, 100000, 100000, 100000, 100000, 100000, 100000, 100000, 100000, 100000, 100000, 100000, 100000, 100000, 100000, 100000, 100000, 100000, 100000, 100000, 100000, 100000, 100000, 100000, 100000, 100000, 100000, 100000, 100000, 100000, 100000, 100000, 100000, 100000, 100000, 100000, 100000, 100000, 100000, 100000, 100000, 100000, 100000, 100000, 100000, 100000, 100000, 100000, 100000, 100000, 100000, 100000, 100000, 100000, 100000, 100000, 100000, 100000, 100000, 100000, 100000, 100000, 100000, 100000, 100000, 100000, 100000, 100000, 100000, 100000, 100000, 100000, 100000, 100000, 100000, 100000, 100000, 100000, 100000, 100000, 100000, 100000, 100000, 100000, 100000, 100000, 100000, 100000, 100000, 100000, 100000, 100000, 100000, 100000, 100000, 100000, 100000, 100000, 100000, 100000, 100000, 100000, 100000, 100000, 100000, 100000, 100000, 100000, 100000, 100000, 100000, 100000, 100000, 100000, 100000, 100000, 100000, 100000, 100000, 100000, 100000, 100000, 100000, 100000, 100000, 100000, 100000, 100000, 100000, 100000, 100000, 100000, 100000, 100000, 100000, 100000, 100000, 100000, 100000, 100000, 100000, 100000, 100000, 100000, 100000, 100000, 100000, 100000, 100000, 100000, 100000, 100000, 100000, 100000, 100000, 100000, 100000, 100000, 100000, 100000, 100000, 100000, 100000, 100000, 100000, 100000, 100000, 100000, 100000, 100000, 100000, 100000, 100000, 100000, 100000, 100000, 100000, 100000, 100000, 100000, 100000, 100000, 100000, 100000, 100000, 100000, 100000, 100000, 100000, 100000, 100000, 100000, 100000, 100000, 100000, 100000, 100000, 100000, 100000, 100000, 100000, 100000, 100000, 100000, 100000, 100000, 100000, 100000, 100000, 100000, 100000, 100000, 100000, 100000, 100000, 100000, 100000, 100000, 100000, 100000, 100000, 100000, 100000, 100000, 100000, 100000, 100000, 100000, 100000, 100000, 100000, 100000, 100000, 100000, 100000, 100000, 100000, 100000, 100000, 100000, 100000, 100000, 100000, 100000, 100000, 100000, 100000, 100000, 100000, 100000, 100000, 100000, 100000, 100000, 100000, 100000, 100000, 100000, 100000, 100000, 100000, 100000, 100000, 100000, 100000, 100000, 100000, 100000, 100000, 100000, 100000, 100000, 100000, 100000, 100000, 100000, 100000, 100000, 100000, 100000, 100000, 100000, 100000, 100000, 100000, 100000, 100000, 100000, 100000, 100000, 100000, 100000, 100000, 100000, 100000, 100000, 100000, 100000, 100000, 100000, 100000, 100000, 100000, 100000, 100000, 100000, 100000, 100000, 100000, 100000, 100000, 100000, 100000, 100000, 100000, 100000, 100000, 100000, 100000, 100000, 100000, 100000, 100000, 100000, 100000, 100000, 100000, 100000, 100000, 100000, 100000, 100000, 100000, 100000, 100000, 100000, 100000, 100000, 100000, 100000, 100000, 100000, 100000, 100000, 100000, 100000, 100000, 100000, 100000, 100000, 100000, 100000, 100000, 100000, 100000, 100000, 100000, 100000, 100000, 100000, 100000, 100000, 100000, 100000, 100000, 100000, 100000, 100000, 100000, 100000, 100000, 100000, 100000, 100000, 100000, 100000, 100000, 100000, 100000, 100000, 100000, 100000, 100000, 100000, 100000, 100000, 100000, 100000, 100000, 100000, 100000, 100000, 100000, 100000, 100000, 100000, 100000, 100000, 100000, 100000, 500000, 500000, 500000, 500000, 500000, 500000, 500000, 500000, 500000, 500000, 500000, 500000, 500000, 500000, 500000, 500000, 500000, 500000, 500000, 500000, 500000, 500000, 500000, 500000, 500000, 500000, 500000, 500000, 500000, 500000, 500000, 500000, 500000, 500000, 500000, 500000, 500000, 500000, 500000, 500000, 500000, 500000, 500000, 500000, 500000, 500000, 500000, 500000, 500000, 500000, 500000, 500000, 500000, 500000, 500000, 500000, 500000, 500000, 500000, 500000, 500000, 500000, 500000, 500000, 500000, 500000, 500000, 500000, 500000, 500000, 500000, 500000, 500000, 500000, 500000, 500000, 500000, 500000, 500000, 500000, 500000, 500000, 500000, 500000, 500000, 500000, 500000, 500000, 500000, 500000, 500000, 500000, 500000, 500000, 500000, 500000, 500000, 500000, 500000, 500000, 500000, 500000, 500000, 500000, 500000, 500000, 500000, 500000, 500000, 500000, 500000, 500000, 500000, 500000, 500000, 500000, 500000, 500000, 500000, 500000, 500000, 500000, 500000, 500000, 500000, 500000, 500000, 500000, 500000, 500000, 500000, 500000, 500000, 500000, 500000, 500000, 500000, 500000, 500000, 500000, 500000, 500000, 500000, 500000, 500000, 500000, 500000, 500000, 500000, 500000, 500000, 500000, 500000, 500000, 500000, 500000, 500000, 500000, 500000, 500000, 500000, 500000, 500000, 500000, 500000, 500000, 500000, 500000, 500000, 500000, 500000, 500000, 500000, 500000, 500000, 500000, 500000, 500000, 500000, 500000, 500000, 500000, 500000, 500000, 500000, 500000, 500000, 500000, 500000, 500000, 500000, 500000, 500000, 500000, 500000, 500000, 500000, 500000, 500000, 500000, 500000, 500000, 500000, 500000, 500000, 500000, 500000, 500000, 500000, 500000, 500000, 500000, 500000, 500000, 500000, 500000, 500000, 500000, 500000, 500000, 500000, 500000, 500000, 500000, 500000, 500000, 500000, 500000, 500000, 500000, 500000, 500000, 500000, 500000, 500000, 500000, 500000, 500000, 500000, 500000, 500000, 500000, 500000, 500000, 500000, 500000, 500000, 500000, 500000, 500000, 500000, 500000, 500000, 500000, 500000, 500000, 500000, 500000, 500000, 500000, 500000, 500000, 500000, 500000, 500000, 500000, 500000, 500000, 500000, 500000, 500000, 500000, 500000, 500000, 500000, 500000, 500000, 500000, 500000, 500000, 500000, 500000, 500000, 500000, 500000, 500000, 500000, 500000, 500000, 500000, 500000, 500000, 500000, 500000, 500000, 500000, 500000, 500000, 500000, 500000, 500000, 500000, 500000, 500000, 500000, 500000, 500000, 500000, 500000, 500000, 500000, 500000, 500000, 500000, 500000, 500000, 500000, 500000, 500000, 500000, 500000, 500000, 500000, 500000, 500000, 500000, 500000, 500000, 500000, 500000, 500000, 500000, 500000, 500000, 500000, 500000, 500000, 500000, 500000, 500000, 500000, 500000, 500000, 500000, 500000, 500000, 500000, 500000, 500000, 500000, 500000, 500000, 500000, 500000, 500000, 500000, 500000, 500000, 500000, 500000, 500000, 500000, 500000, 500000, 500000, 500000, 500000, 500000, 500000, 500000, 500000, 500000, 500000, 500000, 500000, 500000, 500000, 500000, 500000, 500000, 500000, 500000, 500000, 500000, 500000, 500000, 500000, 500000, 500000, 500000, 500000, 500000, 500000, 500000, 500000, 500000, 500000, 500000, 500000, 500000, 500000, 500000, 500000, 500000, 500000, 500000, 500000, 500000, 500000, 500000, 500000, 500000, 500000, 500000, 500000, 500000, 500000, 500000, 500000, 500000, 500000, 500000, 500000, 500000, 500000, 500000, 500000, 500000, 500000, 500000, 500000, 500000, 500000, 500000, 500000, 500000, 500000, 500000, 500000, 500000, 500000, 500000, 500000, 500000, 500000, 500000, 500000, 500000, 500000, 500000, 500000, 500000, 500000, 500000, 500000, 500000, 500000, 500000, 500000, 500000, 500000, 500000, 500000, 500000, 500000, 500000, 500000, 500000, 500000, 500000, 500000, 500000, 500000, 500000, 500000, 500000, 500000, 500000, 500000, 500000, 500000, 500000, 500000, 500000, 500000, 500000, 500000, 500000, 500000, 500000, 500000, 500000, 500000, 1000000, 1000000, 1000000, 1000000, 1000000, 1000000, 1000000, 1000000, 1000000, 1000000, 1000000, 1000000, 1000000, 1000000, 1000000, 1000000, 1000000, 1000000, 1000000, 1000000, 1000000, 1000000, 1000000, 1000000, 1000000, 1000000, 1000000, 1000000, 1000000, 1000000, 1000000, 1000000, 1000000, 1000000, 1000000, 1000000, 1000000, 1000000, 1000000, 1000000, 1000000, 1000000, 1000000, 1000000, 1000000, 1000000, 1000000, 1000000, 1000000, 1000000, 1000000, 1000000, 1000000, 1000000, 1000000, 1000000, 1000000, 1000000, 1000000, 1000000, 1000000, 1000000, 1000000, 1000000, 1000000, 1000000, 1000000, 1000000, 1000000, 1000000, 1000000, 1000000, 1000000, 1000000, 1000000, 1000000, 1000000, 1000000, 1000000, 1000000, 1000000, 1000000, 1000000, 1000000, 1000000, 1000000, 1000000, 1000000, 1000000, 1000000, 1000000, 1000000, 1000000, 1000000, 1000000, 1000000, 1000000, 1000000, 1000000, 1000000, 1000000, 1000000, 1000000, 1000000, 1000000, 1000000, 1000000, 1000000, 1000000, 1000000, 1000000, 1000000, 1000000, 1000000, 1000000, 1000000, 1000000, 1000000, 1000000, 1000000, 1000000, 1000000, 1000000, 1000000, 1000000, 1000000, 1000000, 1000000, 1000000, 1000000, 1000000, 1000000, 1000000, 1000000, 1000000, 1000000, 1000000, 1000000, 1000000, 1000000, 1000000, 1000000, 1000000, 1000000, 1000000, 1000000, 1000000, 1000000, 1000000, 1000000, 1000000, 1000000, 1000000, 1000000, 1000000, 1000000, 1000000, 1000000, 1000000, 1000000, 1000000, 1000000, 1000000, 1000000, 1000000, 1000000, 1000000, 1000000, 1000000, 1000000, 1000000, 1000000, 1000000, 1000000, 1000000, 1000000, 1000000, 1000000, 1000000, 1000000, 1000000, 1000000, 1000000, 1000000, 1000000, 1000000, 1000000, 1000000, 1000000, 1000000, 1000000, 1000000, 1000000, 1000000, 1000000, 1000000, 1000000, 1000000, 1000000, 1000000, 1000000, 1000000, 1000000, 1000000, 1000000, 1000000, 1000000, 1000000, 1000000, 1000000, 1000000, 1000000, 1000000, 1000000, 1000000, 1000000, 1000000, 1000000, 1000000, 1000000, 1000000, 1000000, 1000000, 1000000, 1000000, 1000000, 1000000, 1000000, 1000000, 1000000, 1000000, 1000000, 1000000, 1000000, 1000000, 1000000, 1000000, 1000000, 1000000, 1000000, 1000000, 1000000, 1000000, 1000000, 1000000, 1000000, 1000000, 1000000, 1000000, 1000000, 1000000, 1000000, 1000000, 1000000, 1000000, 1000000, 1000000, 1000000, 1000000, 1000000, 1000000, 1000000, 1000000, 1000000, 1000000, 1000000, 1000000, 1000000, 1000000, 1000000, 1000000, 1000000, 1000000, 1000000, 1000000, 1000000, 1000000, 1000000, 1000000, 1000000, 1000000, 1000000, 1000000, 1000000, 1000000, 1000000, 1000000, 1000000, 1000000, 1000000, 1000000, 1000000, 1000000, 1000000, 1000000, 1000000, 1000000, 1000000, 1000000, 1000000, 1000000, 1000000, 1000000, 1000000, 1000000, 1000000, 1000000, 1000000, 1000000, 1000000, 1000000, 1000000, 1000000, 1000000, 1000000, 1000000, 1000000, 1000000, 1000000, 1000000, 1000000, 1000000, 1000000, 1000000, 1000000, 1000000, 1000000, 1000000, 1000000, 1000000, 1000000, 1000000, 1000000, 1000000, 1000000, 1000000, 1000000, 1000000, 1000000, 1000000, 1000000, 1000000, 1000000, 1000000, 1000000, 1000000, 1000000, 1000000, 1000000, 1000000, 1000000, 1000000, 1000000, 1000000, 1000000, 1000000, 1000000, 1000000, 1000000, 1000000, 1000000, 1000000, 1000000, 1000000, 1000000, 1000000, 1000000, 1000000, 1000000, 1000000, 1000000, 1000000, 1000000, 1000000, 1000000, 1000000, 1000000, 1000000, 1000000, 1000000, 1000000, 1000000, 1000000, 1000000, 1000000, 1000000, 1000000, 1000000, 1000000, 1000000, 1000000, 1000000, 1000000, 1000000, 1000000, 1000000, 1000000, 1000000, 1000000, 1000000, 1000000, 1000000, 1000000, 1000000, 1000000, 1000000, 1000000, 1000000, 1000000, 1000000, 1000000, 1000000, 1000000, 1000000, 1000000, 1000000, 1000000, 1000000, 1000000, 1000000, 1000000, 1000000, 1000000, 1000000, 1000000, 1000000, 1000000, 1000000, 1000000, 1000000, 1000000, 1000000, 1000000, 1000000, 1000000, 1000000, 1000000, 1000000, 1000000, 1000000, 1000000, 1000000, 1000000, 1000000, 1000000, 1000000, 1000000, 1000000, 1000000, 1000000, 1000000, 1000000, 1000000, 1000000, 1000000, 1000000, 1000000, 1000000, 1000000, 1000000, 1000000, 1000000, 1000000, 1000000, 1000000, 1000000, 1000000, 1000000, 1000000, 1000000, 1000000, 1000000, 1000000, 1000000, 1000000, 1000000, 1000000, 1000000, 1000000, 1000000, 1000000, 1000000, 1000000, 1000000, 1000000, 1000000, 1000000, 1000000, 1000000, 1000000, 1000000, 1000000, 1000000, 1000000, 1000000, 1000000, 1000000, 1000000, 1000000, 1000000, 1000000, 1000000, 1000000, 1000000, 1000000, 1000000, 1000000, 1000000, 1000000, 1000000, 1000000, 1000000, 1000000, 1000000, 1000000, 1000000, 1000000, 1000000, 1000000, 1000000, 1000000, 1000000, 1000000, 1000000, 1000000, 1000000, 1000000, 1000000, 1000000, 1000000, 1000000, 1000000, 1000000, 1000000, 1000000, 1000000, 1000000, 1000000, 1000000, 1000000, 1000000, 1000000, 1000000, 1000000, 1000000, 1000000, 1000000, 1000000, 1000000, 1000000, 1000000, 1000000, 1000000, 1000000, 1000000, 1000000, 1000000, 1000000, 1000000, 1000000, 1000000, 1000000, 1000000, 1000000, 1000000, 1000000, 1000000, 1000000, 1000000, 1000000, 1000000, 1000000, 1000000, 1000000, 1000000, 1000000, 1000000, 1000000, 1000000, 1000000, 1000000, 1000000, 1000000, 1000000, 1000000, 1000000, 1000000, 1000000, 1000000, 1000000, 1000000, 1000000, 1000000, 1000000, 1000000, 1000000, 1000000, 1000000, 1000000, 1000000, 1000000, 1000000, 1000000, 1000000, 1000000, 1000000, 1000000, 1000000, 1000000, 1000000, 1000000, 1000000, 1000000, 1000000, 1000000, 1000000, 1000000, 1000000, 1000000, 1000000, 1000000, 1000000, 1000000, 1000000, 1000000, 1000000, 1000000, 1000000, 1000000, 1000000, 1000000, 1000000, 1000000, 1000000, 1000000, 1000000, 1000000, 1000000, 1000000, 1000000, 1000000, 1000000, 1000000, 1000000, 1000000, 1000000, 1000000, 1000000, 1000000, 1000000, 1000000, 1000000, 1000000, 1000000, 1000000, 1000000, 1000000, 1000000, 1000000, 1000000, 1000000, 1000000, 1000000, 1000000, 1000000, 1000000, 1000000, 1000000, 1000000, 1000000, 1000000, 1000000, 1000000, 1000000, 1000000, 1000000, 1000000, 1000000, 1000000, 1000000, 1000000, 1000000, 1000000, 1000000, 1000000, 1000000, 1000000, 1000000, 1000000, 1000000, 1000000, 1000000, 1000000, 1000000, 1000000, 1000000, 1000000, 1000000, 1000000, 1000000, 1000000, 1000000, 1000000, 1000000, 1000000, 1000000, 1000000, 1000000, 1000000, 1000000, 1000000, 1000000, 1000000, 1000000, 1000000, 1000000, 1000000, 1000000, 1000000, 1000000, 1000000, 1000000, 1000000, 1000000, 1000000, 1000000, 1000000, 1000000, 1000000, 1000000, 1000000, 1000000, 1000000, 1000000, 1000000, 1000000, 1000000, 1000000, 1000000, 1000000, 1000000, 1000000, 1000000, 1000000, 1000000, 1000000, 1000000, 1000000, 1000000, 1000000, 1000000, 1000000, 1000000, 1000000, 1000000, 1000000, 1000000, 1000000, 1000000, 1000000, 1000000, 1000000, 1000000, 1000000, 1000000, 1000000, 1000000, 1000000, 1000000, 1000000, 1000000, 1000000, 1000000, 1000000, 1000000, 1000000, 1000000, 1000000, 1000000, 1000000, 1000000, 1000000, 1000000, 1000000, 1000000, 1000000, 1000000, 1000000, 1000000, 1000000, 1000000, 1000000, 1000000, 1000000, 1000000, 1000000, 1000000, 1000000, 1000000, 1000000, 1000000, 1000000, 1000000, 1000000, 1000000, 1000000, 1000000, 1000000, 1000000, 1000000, 1000000, 1000000, 1000000, 1000000, 1000000, 1000000, 1000000, 1000000, 1000000, 1000000, 1000000, 1000000, 1000000, 1000000, 1000000, 1000000, 1000000, 1000000, 1000000, 1000000, 1000000, 1000000, 1000000, 1000000, 1000000, 1000000, 1000000, 1000000, 1000000, 1000000, 1000000, 1000000, 1000000, 1000000, 1000000, 1000000, 1000000, 1000000, 1000000, 1000000, 1000000, 1000000, 1000000, 1000000, 1000000, 1000000, 1000000, 1000000, 1000000, 1000000, 1000000, 1000000, 1000000, 1000000, 1000000, 1000000, 1000000, 1000000, 1000000, 1000000, 1000000, 1000000, 1000000, 1000000, 1000000, 1000000, 1000000, 1000000, 1000000, 1000000, 1000000, 1000000, 1000000, 1000000, 1000000, 1000000, 1000000, 1000000, 1000000, 1000000, 1000000, 1000000, 1000000, 1000000, 1000000, 1000000, 1000000, 1000000, 1000000, 1000000, 1000000, 1000000, 1000000, 1000000, 1000000, 1000000, 1000000, 1000000, 1000000, 1000000, 1000000, 1000000, 1000000, 1000000, 1000000, 1000000, 1000000, 1000000, 1000000, 1000000, 1000000, 1000000, 1000000, 1000000, 1000000, 1000000, 1000000, 1000000, 1000000, 1000000, 1000000, 1000000, 1000000, 1000000, 1000000, 1000000, 1000000, 1000000, 1000000, 1000000, 1000000, 1000000, 1000000, 1000000, 1000000, 1000000, 1000000, 1000000, 1000000, 1000000, 1000000, 1000000, 1000000, 1000000, 1000000, 1000000, 1000000, 1000000, 1000000, 1000000, 1000000, 1000000, 1000000, 1000000, 1000000, 1000000, 1000000, 1000000, 1000000, 1000000, 1000000, 1000000, 1000000, 1000000, 1000000, 1000000, 1000000, 1000000, 1000000, 1000000, 1000000, 1000000, 1000000, 1000000, 1000000, 1000000, 1000000, 1000000, 1000000, 1000000, 1000000, 1000000, 1000000, 1000000, 1000000, 1000000, 1000000, 1000000, 1000000, 1000000, 1000000, 1000000, 1000000, 1000000, 1000000, 1000000, 1000000, 1000000, 1000000, 1000000, 1000000, 1000000, 1000000, 1000000, 1000000, 1000000, 1000000, 1000000, 1000000, 1000000, 1000000, 1000000, 1000000, 1000000, 1000000, 1000000, 1000000, 1000000, 1000000, 1000000, 1000000, 1000000, 1000000, 1000000, 1000000, 1000000, 1000000, 1000000, 1000000, 1000000, 1000000, 1000000, 1000000, 1000000, 1000000, 1000000, 1000000, 1000000, 1000000, 1000000, 1000000, 1000000, 1000000, 1000000, 1000000, 1000000, 1000000, 1000000, 1000000, 1000000, 1000000, 1000000, 1000000, 1000000, 1000000, 1000000, 1000000, 1000000, 1000000, 1000000, 1000000, 1000000, 1000000, 1000000, 1000000, 1000000, 1000000, 1000000, 1000000, 1000000, 1000000, 1000000, 1000000, 1000000, 1000000, 1000000, 1000000, 1000000, 1000000, 1000000, 1000000, 1000000, 1000000, 1000000, 1000000, 1000000, 1000000, 1000000, 1000000, 1000000, 1000000, 1000000, 1000000, 1000000, 1000000, 1000000, 1000000, 1000000, 1000000, 1000000, 1000000, 1000000, 1000000, 1000000, 1000000, 1000000, 1000000, 1000000, 1000000, 1000000, 1000000, 1000000, 1000000, 1000000, 1000000, 1000000, 1000000, 1000000, 1000000, 1000000, 1000000, 1000000, 1000000, 1000000, 1000000, 1000000, 1000000, 1000000, 1000000, 1000000, 1000000, 1000000, 1000000, 1000000, 1000000, 1000000, 1000000, 1000000, 1000000, 1000000, 1000000, 1000000, 1000000, 1000000, 1000000, 1000000, 1000000, 1000000, 1000000, 1000000, 1000000, 1000000, 1000000, 1000000, 1000000, 1000000, 1000000, 1000000, 1000000, 1000000, 1000000, 1000000, 1000000, 1000000, 1000000, 1000000, 1000000, 1000000, 1000000, 1000000, 1000000, 1000000, 1000000, 1000000, 1000000, 1000000, 1000000, 1000000, 1000000, 1000000, 1000000, 1000000, 1000000, 1000000, 1000000, 1000000, 1000000, 1000000, 1000000, 1000000, 1000000, 1000000, 1000000, 1000000, 1000000, 1000000, 1000000, 1000000, 1000000, 1000000, 1000000, 1000000, 1000000, 1000000, 1000000, 1000000, 1000000, 1000000, 1000000, 1000000, 1000000, 1000000, 1000000, 1000000, 1000000, 1000000, 1000000, 1000000, 1000000, 1000000, 1000000, 1000000, 1000000, 1000000, 1000000, 1000000, 1000000, 1000000, 1000000, 1000000, 1000000, 1000000, 1000000, 1000000, 1000000, 1000000, 1000000, 1000000, 1000000, 1000000, 1000000, 1000000, 1000000, 1000000, 1000000, 1000000, 1000000, 1000000, 1000000, 1000000, 1000000, 1000000, 1000000, 1000000, 1000000, 1000000, 1000000, 1000000, 1000000, 1000000, 1000000, 1000000, 1000000, 1000000, 1000000, 1000000, 1000000, 1000000, 1000000, 1000000, 1000000, 1000000, 1000000, 1000000, 1000000, 1000000, 1000000, 1000000, 1000000, 1000000, 1000000, 1000000, 1000000, 1000000, 1000000, 1000000, 1000000, 1000000, 1000000, 1000000, 1000000, 1000000, 1000000, 1000000, 1000000, 1000000, 1000000, 1000000, 1000000, 1000000, 1000000, 1000000, 1000000, 1000000, 1000000, 1000000, 1000000, 1000000, 1000000, 1000000, 1000000, 1000000, 1000000, 1000000, 1000000, 1000000, 1000000, 1000000, 1000000, 1000000, 1000000, 1000000, 1000000, 1000000, 1000000, 1000000, 1000000, 1000000, 1000000, 1000000, 1000000, 1000000, 1000000, 1000000, 1000000, 1000000, 1000000, 1000000, 1000000, 1000000, 1000000, 1000000, 1000000, 1000000, 1000000, 1000000, 1000000, 1000000, 1000000, 1000000, 1000000, 1000000, 1000000, 1000000, 1000000, 1000000, 1000000, 1000000, 1000000, 1000000, 1000000, 1000000, 1000000, 1000000, 1000000, 1000000, 1000000, 1000000, 1000000, 1000000, 1000000, 1000000, 1000000, 1000000, 1000000, 1000000, 1000000, 1000000, 1000000, 1000000, 1000000, 1000000, 1000000, 1000000, 1000000, 1000000, 1000000, 5000000, 5000000, 5000000, 5000000, 5000000, 5000000, 5000000, 5000000, 5000000, 5000000, 5000000, 5000000, 5000000, 5000000, 5000000, 5000000, 5000000, 5000000, 5000000, 5000000, 5000000, 5000000, 5000000, 5000000, 5000000, 5000000, 5000000, 5000000, 5000000, 5000000, 5000000, 5000000, 5000000, 5000000, 5000000, 5000000, 5000000, 5000000, 5000000, 5000000, 5000000, 5000000, 5000000, 5000000, 5000000, 5000000, 5000000, 5000000, 5000000, 5000000, 5000000, 5000000, 5000000, 5000000, 5000000, 5000000, 5000000, 5000000, 5000000, 5000000, 5000000, 5000000, 5000000, 5000000, 5000000, 5000000, 5000000, 5000000, 5000000, 5000000, 5000000, 5000000, 5000000, 5000000, 5000000, 5000000, 5000000, 5000000, 5000000, 5000000, 5000000, 5000000, 5000000, 5000000, 5000000, 5000000, 5000000, 5000000, 5000000, 5000000, 5000000, 5000000, 5000000, 5000000, 5000000, 5000000, 5000000, 5000000, 5000000, 5000000, 5000000, 5000000, 5000000, 5000000, 5000000, 5000000, 5000000, 5000000, 5000000, 5000000, 5000000, 5000000, 5000000, 5000000, 5000000, 5000000, 5000000, 5000000, 5000000, 5000000, 5000000, 5000000, 5000000, 5000000, 5000000, 5000000, 5000000, 5000000, 5000000, 5000000, 5000000, 5000000, 5000000, 5000000, 5000000, 5000000, 5000000, 5000000, 5000000, 5000000, 5000000, 5000000, 5000000, 5000000, 5000000, 5000000, 5000000, 5000000, 5000000, 5000000, 5000000, 5000000, 5000000, 5000000, 5000000, 5000000, 5000000, 5000000, 5000000, 5000000, 5000000, 5000000, 5000000, 5000000, 5000000, 5000000, 5000000, 5000000, 5000000, 5000000, 5000000, 5000000, 5000000, 5000000, 5000000, 5000000, 5000000, 5000000, 5000000, 5000000, 5000000, 5000000, 5000000, 5000000, 5000000, 5000000, 5000000, 5000000, 5000000, 5000000, 5000000, 5000000, 5000000, 5000000, 5000000, 5000000, 5000000, 5000000, 5000000, 5000000, 5000000, 5000000, 5000000, 5000000, 5000000, 5000000, 5000000, 5000000, 5000000, 5000000, 5000000, 5000000, 5000000, 5000000, 5000000, 5000000, 5000000, 5000000, 5000000, 5000000, 5000000, 5000000, 5000000, 5000000, 5000000, 5000000, 5000000, 5000000, 5000000, 5000000, 5000000, 5000000, 5000000, 5000000, 5000000, 5000000, 5000000, 5000000, 5000000, 5000000, 5000000, 5000000, 5000000, 5000000, 5000000, 5000000, 5000000, 5000000, 5000000, 5000000, 5000000, 5000000, 5000000, 5000000, 5000000, 5000000, 5000000, 5000000, 5000000, 5000000, 5000000, 5000000, 5000000, 5000000, 5000000, 5000000, 5000000, 5000000, 5000000, 5000000, 5000000, 5000000, 5000000, 5000000, 5000000, 5000000, 5000000, 5000000, 5000000, 5000000, 5000000, 5000000, 5000000, 5000000, 5000000, 5000000, 5000000, 5000000, 5000000, 5000000, 5000000, 5000000, 5000000, 5000000, 5000000, 5000000, 5000000, 5000000, 5000000, 5000000, 5000000, 5000000, 5000000, 5000000, 5000000, 5000000, 5000000, 5000000, 5000000, 5000000, 5000000, 5000000, 5000000, 5000000, 5000000, 5000000, 5000000, 5000000, 5000000, 5000000, 5000000, 5000000, 5000000, 5000000, 5000000, 5000000, 5000000, 5000000, 5000000, 5000000, 5000000, 5000000, 5000000, 5000000, 5000000, 5000000, 5000000, 5000000, 5000000, 5000000, 5000000, 5000000, 5000000, 5000000, 5000000, 5000000, 5000000, 5000000, 5000000, 5000000, 5000000, 5000000, 5000000, 5000000, 5000000, 5000000, 5000000, 5000000, 5000000, 5000000, 5000000, 5000000, 5000000, 5000000, 5000000, 5000000, 5000000, 5000000, 5000000, 5000000, 5000000, 5000000, 5000000, 5000000, 5000000, 5000000, 5000000, 5000000, 5000000, 5000000, 5000000, 5000000, 5000000, 5000000, 5000000, 5000000, 5000000, 5000000, 5000000, 5000000, 5000000, 5000000, 5000000, 5000000, 5000000, 5000000, 5000000, 5000000, 5000000, 5000000, 5000000, 5000000, 5000000, 5000000, 5000000, 5000000, 5000000, 5000000, 5000000, 5000000, 5000000, 5000000, 5000000, 5000000, 5000000, 5000000, 5000000, 5000000, 5000000, 5000000, 5000000, 5000000, 5000000, 5000000, 5000000, 5000000, 5000000, 5000000, 5000000, 5000000, 5000000, 5000000, 5000000, 5000000, 5000000, 5000000, 5000000, 5000000, 5000000, 5000000, 5000000, 5000000, 5000000, 5000000, 5000000, 5000000, 5000000, 5000000, 5000000, 5000000, 5000000, 5000000, 5000000, 5000000, 5000000, 5000000, 5000000, 5000000, 5000000, 5000000, 5000000, 5000000, 5000000, 5000000, 5000000, 5000000, 5000000, 5000000, 5000000, 5000000, 5000000, 5000000, 5000000, 5000000, 5000000, 5000000, 5000000, 5000000, 5000000, 5000000, 5000000, 5000000, 5000000, 5000000, 5000000, 5000000, 5000000, 5000000, 5000000, 5000000, 5000000, 5000000, 5000000, 5000000, 5000000, 5000000, 5000000, 5000000, 5000000, 5000000, 5000000, 5000000, 5000000, 5000000, 5000000, 5000000, 5000000, 5000000, 5000000, 5000000, 5000000, 5000000, 5000000, 5000000, 5000000, 5000000, 5000000, 5000000, 5000000, 5000000, 5000000, 5000000, 5000000, 5000000, 5000000, 5000000, 5000000, 5000000, 5000000, 5000000, 5000000, 5000000, 5000000, 5000000, 5000000, 5000000, 5000000, 5000000, 5000000, 5000000, 5000000, 5000000, 5000000, 5000000, 5000000, 5000000, 5000000, 5000000, 5000000, 5000000, 5000000, 5000000, 5000000, 5000000, 5000000, 5000000, 5000000, 5000000, 5000000, 5000000, 5000000, 5000000, 5000000, 5000000, 5000000, 5000000, 5000000, 5000000, 5000000, 5000000, 5000000, 5000000, 5000000, 5000000, 5000000, 5000000, 5000000, 5000000, 5000000, 5000000, 5000000, 5000000, 5000000, 5000000, 5000000, 5000000, 5000000, 5000000, 5000000, 5000000, 5000000, 5000000, 5000000, 5000000, 5000000, 5000000, 5000000, 5000000, 5000000, 5000000, 5000000, 5000000, 5000000, 5000000, 5000000, 5000000, 5000000, 10000000, 10000000, 10000000, 10000000, 10000000, 10000000, 10000000, 10000000, 10000000, 10000000, 10000000, 10000000, 10000000, 10000000, 10000000, 10000000, 10000000, 10000000, 10000000, 10000000, 10000000, 10000000, 10000000, 10000000, 10000000, 10000000, 10000000, 10000000, 10000000, 10000000, 10000000, 10000000, 10000000, 10000000, 10000000, 10000000, 10000000, 10000000, 10000000, 10000000, 10000000, 10000000, 10000000, 10000000, 10000000, 10000000, 10000000, 10000000, 10000000, 10000000, 10000000, 10000000, 10000000, 10000000, 10000000, 10000000, 10000000, 10000000, 10000000, 10000000, 10000000, 10000000, 10000000, 10000000, 10000000, 10000000, 10000000, 10000000, 10000000, 10000000, 10000000, 10000000, 10000000, 10000000, 10000000, 10000000, 10000000, 10000000, 10000000, 10000000, 10000000, 10000000, 10000000, 10000000, 10000000, 10000000, 10000000, 10000000, 10000000, 10000000, 10000000, 10000000, 10000000, 10000000, 10000000, 10000000, 10000000, 10000000, 10000000, 10000000, 10000000, 10000000, 10000000, 10000000, 10000000, 10000000, 10000000, 10000000, 10000000, 10000000, 10000000, 10000000, 10000000, 10000000, 10000000, 10000000, 10000000, 10000000, 10000000, 10000000, 10000000, 10000000, 10000000, 10000000, 10000000, 10000000, 10000000, 10000000, 10000000, 10000000, 10000000, 10000000, 10000000, 10000000, 10000000, 10000000, 10000000, 10000000, 10000000, 10000000, 10000000, 10000000, 10000000, 10000000, 10000000, 10000000, 10000000, 10000000, 10000000, 10000000, 10000000, 10000000, 10000000, 10000000, 10000000, 10000000, 10000000, 10000000, 10000000, 10000000, 10000000, 10000000, 10000000, 10000000, 10000000, 10000000, 10000000, 10000000, 10000000, 10000000, 10000000, 10000000, 10000000, 10000000, 10000000, 10000000, 10000000, 10000000, 10000000, 10000000, 10000000, 10000000, 10000000, 10000000, 10000000, 10000000, 10000000, 10000000, 10000000, 10000000, 10000000, 10000000, 10000000, 10000000, 10000000, 10000000, 10000000, 10000000, 10000000, 10000000, 10000000, 10000000, 10000000, 10000000, 10000000, 10000000, 10000000, 10000000, 10000000, 10000000, 10000000, 10000000, 10000000, 10000000, 10000000, 10000000, 10000000, 10000000, 10000000, 10000000, 10000000, 10000000, 10000000, 10000000, 10000000, 10000000, 10000000, 10000000, 10000000, 10000000, 10000000, 10000000, 10000000, 10000000, 10000000, 10000000, 10000000, 10000000, 10000000, 10000000, 10000000, 10000000, 10000000, 10000000, 10000000, 10000000, 10000000, 10000000, 10000000, 10000000, 10000000, 10000000, 10000000, 10000000, 10000000, 10000000, 10000000, 10000000, 10000000, 10000000, 10000000, 10000000, 10000000, 10000000, 10000000, 10000000, 10000000, 10000000, 10000000, 10000000, 10000000, 10000000, 10000000, 10000000, 10000000, 10000000, 10000000, 10000000, 10000000, 10000000, 10000000, 10000000, 10000000, 10000000, 10000000, 10000000, 10000000, 10000000, 10000000, 10000000, 10000000, 10000000, 10000000, 10000000, 10000000, 10000000, 10000000, 10000000, 10000000, 10000000, 10000000, 10000000, 10000000, 10000000, 10000000, 10000000, 10000000, 10000000, 10000000, 10000000, 10000000, 10000000, 10000000, 10000000, 10000000, 10000000, 10000000, 10000000, 10000000, 10000000, 10000000, 10000000, 10000000, 10000000, 10000000, 10000000, 10000000, 10000000, 10000000, 10000000, 10000000, 10000000, 10000000, 10000000, 10000000, 10000000, 10000000, 10000000, 10000000, 10000000, 10000000, 10000000, 10000000, 10000000, 10000000, 10000000, 10000000, 10000000, 10000000, 10000000, 10000000, 10000000, 10000000, 10000000, 10000000, 10000000, 10000000, 10000000, 10000000, 10000000, 10000000, 10000000, 10000000, 10000000, 10000000, 10000000, 10000000, 10000000, 10000000, 10000000, 10000000, 10000000, 10000000, 10000000, 10000000, 10000000, 10000000, 10000000, 10000000, 10000000, 10000000, 10000000, 10000000, 10000000, 10000000, 10000000, 10000000, 10000000, 10000000, 10000000, 10000000, 10000000, 10000000, 10000000, 10000000, 10000000, 10000000, 10000000, 10000000, 10000000, 10000000, 10000000, 10000000, 10000000, 10000000, 10000000, 10000000, 10000000, 10000000, 10000000, 10000000, 10000000, 10000000, 10000000, 10000000, 10000000, 10000000, 10000000, 10000000, 10000000, 10000000, 10000000, 10000000, 10000000, 10000000, 10000000, 10000000, 10000000, 10000000, 10000000, 10000000, 10000000, 10000000, 10000000, 10000000, 10000000, 10000000, 10000000, 10000000, 10000000, 10000000, 10000000, 10000000, 10000000, 10000000, 10000000, 10000000, 10000000, 10000000, 10000000, 10000000, 10000000, 10000000, 10000000, 10000000, 10000000, 10000000, 10000000, 10000000, 10000000, 10000000, 10000000, 10000000, 10000000, 10000000, 10000000, 10000000, 10000000, 10000000, 10000000, 10000000, 10000000, 10000000, 10000000, 10000000, 10000000, 10000000, 10000000, 10000000, 10000000, 10000000, 10000000, 10000000, 10000000, 10000000, 10000000, 10000000, 10000000, 10000000, 10000000, 10000000, 10000000, 10000000, 10000000, 10000000, 10000000, 10000000, 10000000, 10000000, 10000000, 10000000, 10000000, 10000000, 10000000, 10000000, 10000000, 10000000, 10000000, 10000000, 10000000, 10000000, 10000000, 10000000, 10000000, 10000000, 10000000, 10000000, 10000000, 10000000, 10000000, 10000000, 10000000, 10000000, 10000000, 10000000, 10000000, 10000000, 10000000, 10000000, 10000000, 10000000, 10000000, 10000000, 10000000, 10000000, 10000000, 10000000, 10000000, 10000000, 10000000, 10000000, 10000000, 10000000, 10000000, 10000000, 10000000, 10000000, 10000000, 10000000, 10000000, 10000000, 10000000, 10000000, 10000000, 10000000, 10000000, 10000000, 10000000, 10000000, 10000000, 10000000, 10000000, 10000000, 10000000, 10000000, 10000000, 10000000, 10000000, 10000000, 10000000, 10000000, 10000000, 10000000, 10000000, 10000000, 10000000, 10000000, 10000000, 10000000, 10000000, 10000000, 10000000, 10000000, 10000000, 10000000, 10000000, 10000000, 10000000, 10000000, 10000000, 10000000, 10000000, 10000000, 10000000, 10000000, 10000000, 10000000, 10000000, 10000000, 10000000, 10000000, 10000000, 10000000, 10000000, 10000000, 10000000, 10000000, 10000000, 10000000, 10000000, 10000000, 10000000, 10000000, 10000000, 10000000, 10000000, 10000000, 10000000, 10000000, 10000000, 10000000, 10000000, 10000000, 10000000, 10000000, 10000000, 10000000, 10000000, 10000000, 10000000, 10000000, 10000000, 10000000, 10000000, 10000000, 10000000, 10000000, 10000000, 10000000, 10000000, 10000000, 10000000, 10000000, 10000000, 10000000, 10000000, 10000000, 10000000, 10000000, 10000000, 10000000, 10000000, 10000000, 10000000, 10000000, 10000000, 10000000, 10000000, 10000000, 10000000, 10000000, 10000000, 10000000, 10000000, 10000000, 10000000, 10000000, 10000000, 10000000, 10000000, 10000000, 10000000, 10000000, 10000000, 10000000, 10000000, 10000000, 10000000, 10000000, 10000000, 10000000, 10000000, 10000000, 10000000, 10000000, 10000000, 10000000, 10000000, 10000000, 10000000, 10000000, 10000000, 10000000, 10000000, 10000000, 10000000, 10000000, 10000000, 10000000, 10000000, 10000000, 10000000, 10000000, 10000000, 10000000, 10000000, 10000000, 10000000, 10000000, 10000000, 10000000, 10000000, 10000000, 10000000, 10000000, 10000000, 10000000, 10000000, 10000000, 10000000, 10000000, 10000000, 10000000, 10000000, 10000000, 10000000, 10000000, 10000000, 10000000, 10000000, 10000000, 10000000, 10000000, 10000000, 10000000, 10000000, 10000000, 10000000, 10000000, 10000000, 10000000, 10000000, 10000000, 10000000, 10000000, 10000000, 10000000, 10000000, 10000000, 10000000, 10000000, 10000000, 10000000, 10000000, 10000000, 10000000, 10000000, 10000000, 10000000, 10000000, 10000000, 10000000, 10000000, 10000000, 10000000, 10000000, 10000000, 10000000, 10000000, 10000000, 10000000, 10000000, 10000000, 10000000, 10000000, 10000000, 10000000, 10000000, 10000000, 10000000, 10000000, 10000000, 10000000, 10000000, 10000000, 10000000, 10000000, 10000000, 10000000, 10000000, 10000000, 10000000, 10000000, 10000000, 10000000, 10000000, 10000000, 10000000, 10000000, 10000000, 10000000, 10000000, 10000000, 10000000, 10000000, 10000000, 10000000, 10000000, 10000000, 10000000, 10000000, 10000000, 10000000, 10000000, 10000000, 10000000, 10000000, 10000000, 10000000, 10000000, 10000000, 10000000, 10000000, 10000000, 10000000, 10000000, 10000000, 10000000, 10000000, 10000000, 10000000, 10000000, 10000000, 10000000, 10000000, 10000000, 10000000, 10000000, 10000000, 10000000, 10000000, 10000000, 10000000, 10000000, 10000000, 10000000, 10000000, 10000000, 10000000, 10000000, 10000000, 10000000, 10000000, 10000000, 10000000, 10000000, 10000000, 10000000, 10000000, 10000000, 10000000, 10000000, 10000000, 10000000, 10000000, 10000000, 10000000, 10000000, 10000000, 10000000, 10000000, 10000000, 10000000, 10000000, 10000000, 10000000, 10000000, 10000000, 10000000, 10000000, 10000000, 10000000, 10000000, 10000000, 10000000, 10000000, 10000000, 10000000, 10000000, 10000000, 10000000, 10000000, 10000000, 10000000, 10000000, 10000000, 10000000, 10000000, 10000000, 10000000, 10000000, 10000000, 10000000, 10000000, 10000000, 10000000, 10000000, 10000000, 10000000, 10000000, 10000000, 10000000, 10000000, 10000000, 10000000, 10000000, 10000000, 10000000, 10000000, 10000000, 10000000, 10000000, 10000000, 10000000, 10000000, 10000000, 10000000, 10000000, 10000000, 10000000, 10000000, 50000000, 50000000, 50000000, 50000000, 50000000, 50000000, 50000000, 50000000, 50000000, 50000000, 50000000, 50000000, 50000000, 50000000, 50000000, 50000000, 50000000, 50000000, 50000000, 50000000, 50000000, 50000000, 50000000, 50000000, 50000000, 50000000, 50000000, 50000000, 50000000, 50000000, 50000000, 50000000, 50000000, 50000000, 50000000, 50000000, 50000000, 50000000, 50000000, 50000000, 50000000, 50000000, 50000000, 50000000, 50000000, 50000000, 50000000, 50000000, 50000000, 50000000, 50000000, 50000000, 50000000, 50000000, 50000000, 50000000, 50000000, 50000000, 50000000, 50000000, 50000000, 50000000, 50000000, 50000000, 50000000, 50000000, 50000000, 50000000, 50000000, 50000000, 50000000, 50000000, 50000000, 50000000, 50000000, 50000000, 50000000, 50000000, 50000000, 50000000, 50000000, 50000000, 50000000, 50000000, 50000000, 50000000, 50000000, 50000000, 50000000, 50000000, 50000000, 50000000, 50000000, 50000000, 50000000, 50000000, 50000000, 50000000, 50000000, 50000000, 50000000, 50000000, 50000000, 50000000, 50000000, 50000000, 50000000, 50000000, 50000000, 50000000, 50000000, 50000000, 50000000, 50000000, 50000000, 50000000, 50000000, 50000000, 50000000, 50000000, 50000000, 50000000, 50000000, 50000000, 50000000, 50000000, 50000000, 50000000, 50000000, 50000000, 50000000, 50000000, 50000000, 50000000, 50000000, 50000000, 50000000, 50000000, 50000000, 50000000, 50000000, 50000000, 50000000, 50000000, 50000000, 50000000, 50000000, 50000000, 50000000, 50000000, 50000000, 50000000, 50000000, 50000000, 50000000, 50000000, 50000000, 50000000, 50000000, 50000000, 50000000, 50000000, 50000000, 50000000, 50000000, 50000000, 50000000, 50000000, 50000000, 50000000, 50000000, 50000000, 50000000, 50000000, 50000000, 50000000, 50000000, 50000000, 50000000, 50000000, 50000000, 50000000, 50000000, 50000000, 50000000, 50000000, 50000000, 50000000, 50000000, 50000000, 50000000, 50000000, 50000000, 50000000, 50000000, 50000000, 50000000, 50000000, 50000000, 50000000, 50000000, 50000000, 100000000, 100000000, 100000000, 100000000, 100000000, 100000000, 100000000, 100000000, 100000000, 100000000, 100000000, 100000000, 100000000, 100000000, 100000000, 100000000, 100000000, 100000000, 100000000, 100000000, 100000000, 100000000, 100000000, 100000000, 100000000, 100000000, 100000000, 100000000, 100000000, 100000000, 100000000, 100000000, 100000000, 100000000, 100000000, 100000000, 100000000, 100000000, 100000000, 100000000, 100000000, 100000000, 100000000, 100000000, 100000000, 100000000, 100000000, 100000000, 100000000, 100000000, 100000000, 100000000, 100000000, 100000000, 100000000, 100000000, 100000000, 100000000, 100000000, 100000000, 100000000, 100000000, 100000000, 100000000, 100000000, 100000000, 100000000, 100000000, 100000000, 100000000, 100000000, 100000000, 100000000, 100000000, 100000000, 100000000, 100000000, 100000000, 100000000, 100000000, 100000000, 100000000, 100000000, 100000000, 100000000, 100000000, 100000000, 100000000, 100000000, 100000000, 100000000, 100000000, 100000000, 100000000, 100000000, 100000000, 100000000, 100000000, 100000000, 100000000, 100000000, 100000000, 100000000, 100000000, 100000000, 100000000, 100000000, 100000000, 100000000, 100000000, 100000000, 100000000, 100000000, 100000000, 100000000, 100000000, 100000000, 100000000, 100000000, 100000000, 100000000, 100000000, 100000000, 100000000, 100000000, 100000000, 100000000, 100000000, 100000000, 100000000, 100000000, 100000000, 100000000, 100000000, 100000000, 100000000, 100000000, 100000000, 100000000, 100000000, 100000000, 100000000, 100000000, 100000000, 100000000, 100000000, 100000000, 100000000, 100000000, 100000000, 100000000, 100000000, 100000000, 100000000, 100000000, 100000000, 100000000, 100000000, 100000000, 100000000, 100000000, 100000000, 100000000, 100000000, 100000000, 100000000, 100000000, 100000000, 100000000, 100000000, 100000000, 100000000, 100000000, 100000000, 100000000, 100000000, 100000000, 100000000, 100000000, 100000000, 100000000, 100000000, 100000000, 100000000, 100000000, 100000000, 100000000, 100000000, 100000000, 500000000, 500000000, 500000000, 500000000, 500000000, 500000000, 500000000, 500000000, 500000000, 500000000, 500000000, 500000000, 500000000, 500000000, 500000000, 500000000, 500000000, 500000000, 500000000, 500000000, 500000000, 500000000, 500000000, 500000000, 1000000000, 1000000000, 1000000000, 1000000000, 1000000000, 1000000000, 1000000000, 1000000000, 1000000000, 1000000000, 1000000000, 1000000000, 1000000000, 1000000000, 1000000000, 1000000000, 1000000000, 1000000000, 1000000000, 1000000000], \"y0\": \" \", \"yaxis\": \"y\"}, {\"alignmentgroup\": \"True\", \"boxpoints\": \"all\", \"hoverlabel\": {\"namelength\": 0}, \"hovertemplate\": \"Type=%{x}<br>Installs=%{y}\", \"legendgroup\": \"Type=Paid\", \"marker\": {\"color\": \"#EF553B\"}, \"name\": \"Type=Paid\", \"notched\": true, \"offsetgroup\": \"Type=Paid\", \"orientation\": \"v\", \"showlegend\": true, \"type\": \"box\", \"x\": [\"Paid\", \"Paid\", \"Paid\", \"Paid\", \"Paid\", \"Paid\", \"Paid\", \"Paid\", \"Paid\", \"Paid\", \"Paid\", \"Paid\", \"Paid\", \"Paid\", \"Paid\", \"Paid\", \"Paid\", \"Paid\", \"Paid\", \"Paid\", \"Paid\", \"Paid\", \"Paid\", \"Paid\", \"Paid\", \"Paid\", \"Paid\", \"Paid\", \"Paid\", \"Paid\", \"Paid\", \"Paid\", \"Paid\", \"Paid\", \"Paid\", \"Paid\", \"Paid\", \"Paid\", \"Paid\", \"Paid\", \"Paid\", \"Paid\", \"Paid\", \"Paid\", \"Paid\", \"Paid\", \"Paid\", \"Paid\", \"Paid\", \"Paid\", \"Paid\", \"Paid\", \"Paid\", \"Paid\", \"Paid\", \"Paid\", \"Paid\", \"Paid\", \"Paid\", \"Paid\", \"Paid\", \"Paid\", \"Paid\", \"Paid\", \"Paid\", \"Paid\", \"Paid\", \"Paid\", \"Paid\", \"Paid\", \"Paid\", \"Paid\", \"Paid\", \"Paid\", \"Paid\", \"Paid\", \"Paid\", \"Paid\", \"Paid\", \"Paid\", \"Paid\", \"Paid\", \"Paid\", \"Paid\", \"Paid\", \"Paid\", \"Paid\", \"Paid\", \"Paid\", \"Paid\", \"Paid\", \"Paid\", \"Paid\", \"Paid\", \"Paid\", \"Paid\", \"Paid\", \"Paid\", \"Paid\", \"Paid\", \"Paid\", \"Paid\", \"Paid\", \"Paid\", \"Paid\", \"Paid\", \"Paid\", \"Paid\", \"Paid\", \"Paid\", \"Paid\", \"Paid\", \"Paid\", \"Paid\", \"Paid\", \"Paid\", \"Paid\", \"Paid\", \"Paid\", \"Paid\", \"Paid\", \"Paid\", \"Paid\", \"Paid\", \"Paid\", \"Paid\", \"Paid\", \"Paid\", \"Paid\", \"Paid\", \"Paid\", \"Paid\", \"Paid\", \"Paid\", \"Paid\", \"Paid\", \"Paid\", \"Paid\", \"Paid\", \"Paid\", \"Paid\", \"Paid\", \"Paid\", \"Paid\", \"Paid\", \"Paid\", \"Paid\", \"Paid\", \"Paid\", \"Paid\", \"Paid\", \"Paid\", \"Paid\", \"Paid\", \"Paid\", \"Paid\", \"Paid\", \"Paid\", \"Paid\", \"Paid\", \"Paid\", \"Paid\", \"Paid\", \"Paid\", \"Paid\", \"Paid\", \"Paid\", \"Paid\", \"Paid\", \"Paid\", \"Paid\", \"Paid\", \"Paid\", \"Paid\", \"Paid\", \"Paid\", \"Paid\", \"Paid\", \"Paid\", \"Paid\", \"Paid\", \"Paid\", \"Paid\", \"Paid\", \"Paid\", \"Paid\", \"Paid\", \"Paid\", \"Paid\", \"Paid\", \"Paid\", \"Paid\", \"Paid\", \"Paid\", \"Paid\", \"Paid\", \"Paid\", \"Paid\", \"Paid\", \"Paid\", \"Paid\", \"Paid\", \"Paid\", \"Paid\", \"Paid\", \"Paid\", \"Paid\", \"Paid\", \"Paid\", \"Paid\", \"Paid\", \"Paid\", \"Paid\", \"Paid\", \"Paid\", \"Paid\", \"Paid\", \"Paid\", \"Paid\", \"Paid\", \"Paid\", \"Paid\", \"Paid\", \"Paid\", \"Paid\", \"Paid\", \"Paid\", \"Paid\", \"Paid\", \"Paid\", \"Paid\", \"Paid\", \"Paid\", \"Paid\", \"Paid\", \"Paid\", \"Paid\", \"Paid\", \"Paid\", \"Paid\", \"Paid\", \"Paid\", \"Paid\", \"Paid\", \"Paid\", \"Paid\", \"Paid\", \"Paid\", \"Paid\", \"Paid\", \"Paid\", \"Paid\", \"Paid\", \"Paid\", \"Paid\", \"Paid\", \"Paid\", \"Paid\", \"Paid\", \"Paid\", \"Paid\", \"Paid\", \"Paid\", \"Paid\", \"Paid\", \"Paid\", \"Paid\", \"Paid\", \"Paid\", \"Paid\", \"Paid\", \"Paid\", \"Paid\", \"Paid\", \"Paid\", \"Paid\", \"Paid\", \"Paid\", \"Paid\", \"Paid\", \"Paid\", \"Paid\", \"Paid\", \"Paid\", \"Paid\", \"Paid\", \"Paid\", \"Paid\", \"Paid\", \"Paid\", \"Paid\", \"Paid\", \"Paid\", \"Paid\", \"Paid\", \"Paid\", \"Paid\", \"Paid\", \"Paid\", \"Paid\", \"Paid\", \"Paid\", \"Paid\", \"Paid\", \"Paid\", \"Paid\", \"Paid\", \"Paid\", \"Paid\", \"Paid\", \"Paid\", \"Paid\", \"Paid\", \"Paid\", \"Paid\", \"Paid\", \"Paid\", \"Paid\", \"Paid\", \"Paid\", \"Paid\", \"Paid\", \"Paid\", \"Paid\", \"Paid\", \"Paid\", \"Paid\", \"Paid\", \"Paid\", \"Paid\", \"Paid\", \"Paid\", \"Paid\", \"Paid\", \"Paid\", \"Paid\", \"Paid\", \"Paid\", \"Paid\", \"Paid\", \"Paid\", \"Paid\", \"Paid\", \"Paid\", \"Paid\", \"Paid\", \"Paid\", \"Paid\", \"Paid\", \"Paid\", \"Paid\", \"Paid\", \"Paid\", \"Paid\", \"Paid\", \"Paid\", \"Paid\", \"Paid\", \"Paid\", \"Paid\", \"Paid\", \"Paid\", \"Paid\", \"Paid\", \"Paid\", \"Paid\", \"Paid\", \"Paid\", \"Paid\", \"Paid\", \"Paid\", \"Paid\", \"Paid\", \"Paid\", \"Paid\", \"Paid\", \"Paid\", \"Paid\", \"Paid\", \"Paid\", \"Paid\", \"Paid\", \"Paid\", \"Paid\", \"Paid\", \"Paid\", \"Paid\", \"Paid\", \"Paid\", \"Paid\", \"Paid\", \"Paid\", \"Paid\", \"Paid\", \"Paid\", \"Paid\", \"Paid\", \"Paid\", \"Paid\", \"Paid\", \"Paid\", \"Paid\", \"Paid\", \"Paid\", \"Paid\", \"Paid\", \"Paid\", \"Paid\", \"Paid\", \"Paid\", \"Paid\", \"Paid\", \"Paid\", \"Paid\", \"Paid\", \"Paid\", \"Paid\", \"Paid\", \"Paid\", \"Paid\", \"Paid\", \"Paid\", \"Paid\", \"Paid\", \"Paid\", \"Paid\", \"Paid\", \"Paid\", \"Paid\", \"Paid\", \"Paid\", \"Paid\", \"Paid\", \"Paid\", \"Paid\", \"Paid\", \"Paid\", \"Paid\", \"Paid\", \"Paid\", \"Paid\", \"Paid\", \"Paid\", \"Paid\", \"Paid\", \"Paid\", \"Paid\", \"Paid\", \"Paid\", \"Paid\", \"Paid\", \"Paid\", \"Paid\", \"Paid\", \"Paid\", \"Paid\", \"Paid\", \"Paid\", \"Paid\", \"Paid\", \"Paid\", \"Paid\", \"Paid\", \"Paid\", \"Paid\", \"Paid\", \"Paid\", \"Paid\", \"Paid\", \"Paid\", \"Paid\", \"Paid\", \"Paid\", \"Paid\", \"Paid\", \"Paid\", \"Paid\", \"Paid\", \"Paid\", \"Paid\", \"Paid\", \"Paid\", \"Paid\", \"Paid\", \"Paid\", \"Paid\", \"Paid\", \"Paid\", \"Paid\", \"Paid\", \"Paid\", \"Paid\", \"Paid\", \"Paid\", \"Paid\", \"Paid\", \"Paid\", \"Paid\", \"Paid\", \"Paid\", \"Paid\", \"Paid\", \"Paid\", \"Paid\", \"Paid\", \"Paid\", \"Paid\", \"Paid\", \"Paid\", \"Paid\", \"Paid\", \"Paid\", \"Paid\", \"Paid\", \"Paid\", \"Paid\", \"Paid\", \"Paid\", \"Paid\", \"Paid\", \"Paid\", \"Paid\", \"Paid\", \"Paid\", \"Paid\", \"Paid\", \"Paid\", \"Paid\", \"Paid\", \"Paid\", \"Paid\", \"Paid\", \"Paid\", \"Paid\", \"Paid\", \"Paid\", \"Paid\", \"Paid\", \"Paid\", \"Paid\", \"Paid\", \"Paid\", \"Paid\", \"Paid\", \"Paid\", \"Paid\", \"Paid\", \"Paid\", \"Paid\", \"Paid\", \"Paid\", \"Paid\", \"Paid\", \"Paid\", \"Paid\", \"Paid\", \"Paid\", \"Paid\", \"Paid\", \"Paid\", \"Paid\", \"Paid\", \"Paid\", \"Paid\", \"Paid\", \"Paid\", \"Paid\", \"Paid\", \"Paid\", \"Paid\", \"Paid\", \"Paid\", \"Paid\", \"Paid\", \"Paid\", \"Paid\", \"Paid\", \"Paid\", \"Paid\", \"Paid\", \"Paid\", \"Paid\", \"Paid\", \"Paid\", \"Paid\", \"Paid\", \"Paid\", \"Paid\", \"Paid\", \"Paid\", \"Paid\", \"Paid\", \"Paid\", \"Paid\", \"Paid\", \"Paid\", \"Paid\", \"Paid\", \"Paid\", \"Paid\", \"Paid\", \"Paid\", \"Paid\", \"Paid\"], \"x0\": \" \", \"xaxis\": \"x\", \"y\": [1, 1, 10, 10, 10, 10, 10, 10, 10, 10, 10, 10, 10, 10, 10, 10, 10, 10, 10, 10, 50, 50, 50, 50, 50, 50, 50, 50, 50, 50, 50, 50, 50, 50, 100, 100, 100, 100, 100, 100, 100, 100, 100, 100, 100, 100, 100, 100, 100, 100, 100, 100, 100, 100, 100, 100, 100, 100, 100, 100, 100, 100, 100, 100, 100, 100, 100, 100, 100, 100, 100, 100, 100, 100, 100, 100, 100, 100, 100, 100, 100, 100, 100, 100, 100, 100, 100, 100, 100, 100, 100, 100, 100, 100, 100, 100, 100, 100, 100, 100, 500, 500, 500, 500, 500, 500, 500, 500, 500, 500, 500, 500, 500, 500, 500, 500, 500, 500, 500, 500, 500, 500, 500, 500, 500, 500, 500, 500, 500, 500, 500, 500, 500, 500, 500, 500, 1000, 1000, 1000, 1000, 1000, 1000, 1000, 1000, 1000, 1000, 1000, 1000, 1000, 1000, 1000, 1000, 1000, 1000, 1000, 1000, 1000, 1000, 1000, 1000, 1000, 1000, 1000, 1000, 1000, 1000, 1000, 1000, 1000, 1000, 1000, 1000, 1000, 1000, 1000, 1000, 1000, 1000, 1000, 1000, 1000, 1000, 1000, 1000, 1000, 1000, 1000, 1000, 1000, 1000, 1000, 1000, 1000, 1000, 1000, 1000, 1000, 1000, 1000, 1000, 1000, 1000, 1000, 1000, 1000, 1000, 1000, 1000, 1000, 1000, 1000, 1000, 1000, 1000, 1000, 1000, 1000, 1000, 1000, 1000, 1000, 1000, 1000, 1000, 1000, 1000, 1000, 1000, 1000, 1000, 1000, 1000, 1000, 1000, 1000, 1000, 1000, 1000, 1000, 1000, 1000, 1000, 1000, 1000, 1000, 1000, 1000, 1000, 1000, 1000, 1000, 1000, 1000, 1000, 1000, 1000, 1000, 1000, 1000, 1000, 1000, 1000, 1000, 1000, 1000, 1000, 1000, 5000, 5000, 5000, 5000, 5000, 5000, 5000, 5000, 5000, 5000, 5000, 5000, 5000, 5000, 5000, 5000, 5000, 5000, 5000, 5000, 5000, 5000, 5000, 5000, 5000, 5000, 5000, 5000, 5000, 5000, 5000, 5000, 5000, 5000, 5000, 5000, 5000, 5000, 5000, 5000, 5000, 5000, 5000, 5000, 5000, 5000, 5000, 5000, 5000, 5000, 5000, 5000, 5000, 5000, 5000, 5000, 5000, 5000, 5000, 5000, 5000, 5000, 5000, 5000, 5000, 10000, 10000, 10000, 10000, 10000, 10000, 10000, 10000, 10000, 10000, 10000, 10000, 10000, 10000, 10000, 10000, 10000, 10000, 10000, 10000, 10000, 10000, 10000, 10000, 10000, 10000, 10000, 10000, 10000, 10000, 10000, 10000, 10000, 10000, 10000, 10000, 10000, 10000, 10000, 10000, 10000, 10000, 10000, 10000, 10000, 10000, 10000, 10000, 10000, 10000, 10000, 10000, 10000, 10000, 10000, 10000, 10000, 10000, 10000, 10000, 10000, 10000, 10000, 10000, 10000, 10000, 10000, 10000, 10000, 10000, 10000, 10000, 10000, 10000, 10000, 10000, 10000, 10000, 10000, 10000, 10000, 10000, 10000, 10000, 10000, 10000, 10000, 10000, 10000, 10000, 10000, 10000, 10000, 10000, 10000, 10000, 10000, 10000, 10000, 10000, 10000, 10000, 10000, 10000, 10000, 10000, 10000, 10000, 10000, 10000, 10000, 10000, 10000, 10000, 10000, 10000, 10000, 50000, 50000, 50000, 50000, 50000, 50000, 50000, 50000, 50000, 50000, 50000, 50000, 50000, 50000, 50000, 50000, 50000, 50000, 50000, 50000, 50000, 50000, 50000, 50000, 50000, 50000, 50000, 50000, 50000, 50000, 50000, 50000, 50000, 50000, 50000, 50000, 50000, 50000, 50000, 50000, 100000, 100000, 100000, 100000, 100000, 100000, 100000, 100000, 100000, 100000, 100000, 100000, 100000, 100000, 100000, 100000, 100000, 100000, 100000, 100000, 100000, 100000, 100000, 100000, 100000, 100000, 100000, 100000, 100000, 100000, 100000, 100000, 100000, 100000, 100000, 100000, 100000, 100000, 100000, 100000, 100000, 100000, 100000, 100000, 100000, 100000, 100000, 100000, 100000, 100000, 100000, 100000, 100000, 100000, 100000, 100000, 100000, 100000, 100000, 100000, 100000, 100000, 100000, 100000, 100000, 100000, 100000, 100000, 100000, 100000, 100000, 100000, 100000, 100000, 100000, 100000, 100000, 100000, 100000, 100000, 100000, 100000, 500000, 500000, 500000, 500000, 500000, 500000, 500000, 500000, 500000, 500000, 500000, 1000000, 1000000, 1000000, 1000000, 1000000, 1000000, 1000000, 1000000, 1000000, 1000000, 1000000, 1000000, 1000000, 1000000, 1000000, 1000000, 1000000, 1000000, 1000000, 1000000, 10000000, 10000000], \"y0\": \" \", \"yaxis\": \"y\"}],\n",
              "                        {\"boxmode\": \"group\", \"legend\": {\"tracegroupgap\": 0}, \"template\": {\"data\": {\"bar\": [{\"error_x\": {\"color\": \"#2a3f5f\"}, \"error_y\": {\"color\": \"#2a3f5f\"}, \"marker\": {\"line\": {\"color\": \"#E5ECF6\", \"width\": 0.5}}, \"type\": \"bar\"}], \"barpolar\": [{\"marker\": {\"line\": {\"color\": \"#E5ECF6\", \"width\": 0.5}}, \"type\": \"barpolar\"}], \"carpet\": [{\"aaxis\": {\"endlinecolor\": \"#2a3f5f\", \"gridcolor\": \"white\", \"linecolor\": \"white\", \"minorgridcolor\": \"white\", \"startlinecolor\": \"#2a3f5f\"}, \"baxis\": {\"endlinecolor\": \"#2a3f5f\", \"gridcolor\": \"white\", \"linecolor\": \"white\", \"minorgridcolor\": \"white\", \"startlinecolor\": \"#2a3f5f\"}, \"type\": \"carpet\"}], \"choropleth\": [{\"colorbar\": {\"outlinewidth\": 0, \"ticks\": \"\"}, \"type\": \"choropleth\"}], \"contour\": [{\"colorbar\": {\"outlinewidth\": 0, \"ticks\": \"\"}, \"colorscale\": [[0.0, \"#0d0887\"], [0.1111111111111111, \"#46039f\"], [0.2222222222222222, \"#7201a8\"], [0.3333333333333333, \"#9c179e\"], [0.4444444444444444, \"#bd3786\"], [0.5555555555555556, \"#d8576b\"], [0.6666666666666666, \"#ed7953\"], [0.7777777777777778, \"#fb9f3a\"], [0.8888888888888888, \"#fdca26\"], [1.0, \"#f0f921\"]], \"type\": \"contour\"}], \"contourcarpet\": [{\"colorbar\": {\"outlinewidth\": 0, \"ticks\": \"\"}, \"type\": \"contourcarpet\"}], \"heatmap\": [{\"colorbar\": {\"outlinewidth\": 0, \"ticks\": \"\"}, \"colorscale\": [[0.0, \"#0d0887\"], [0.1111111111111111, \"#46039f\"], [0.2222222222222222, \"#7201a8\"], [0.3333333333333333, \"#9c179e\"], [0.4444444444444444, \"#bd3786\"], [0.5555555555555556, \"#d8576b\"], [0.6666666666666666, \"#ed7953\"], [0.7777777777777778, \"#fb9f3a\"], [0.8888888888888888, \"#fdca26\"], [1.0, \"#f0f921\"]], \"type\": \"heatmap\"}], \"heatmapgl\": [{\"colorbar\": {\"outlinewidth\": 0, \"ticks\": \"\"}, \"colorscale\": [[0.0, \"#0d0887\"], [0.1111111111111111, \"#46039f\"], [0.2222222222222222, \"#7201a8\"], [0.3333333333333333, \"#9c179e\"], [0.4444444444444444, \"#bd3786\"], [0.5555555555555556, \"#d8576b\"], [0.6666666666666666, \"#ed7953\"], [0.7777777777777778, \"#fb9f3a\"], [0.8888888888888888, \"#fdca26\"], [1.0, \"#f0f921\"]], \"type\": \"heatmapgl\"}], \"histogram\": [{\"marker\": {\"colorbar\": {\"outlinewidth\": 0, \"ticks\": \"\"}}, \"type\": \"histogram\"}], \"histogram2d\": [{\"colorbar\": {\"outlinewidth\": 0, \"ticks\": \"\"}, \"colorscale\": [[0.0, \"#0d0887\"], [0.1111111111111111, \"#46039f\"], [0.2222222222222222, \"#7201a8\"], [0.3333333333333333, \"#9c179e\"], [0.4444444444444444, \"#bd3786\"], [0.5555555555555556, \"#d8576b\"], [0.6666666666666666, \"#ed7953\"], [0.7777777777777778, \"#fb9f3a\"], [0.8888888888888888, \"#fdca26\"], [1.0, \"#f0f921\"]], \"type\": \"histogram2d\"}], \"histogram2dcontour\": [{\"colorbar\": {\"outlinewidth\": 0, \"ticks\": \"\"}, \"colorscale\": [[0.0, \"#0d0887\"], [0.1111111111111111, \"#46039f\"], [0.2222222222222222, \"#7201a8\"], [0.3333333333333333, \"#9c179e\"], [0.4444444444444444, \"#bd3786\"], [0.5555555555555556, \"#d8576b\"], [0.6666666666666666, \"#ed7953\"], [0.7777777777777778, \"#fb9f3a\"], [0.8888888888888888, \"#fdca26\"], [1.0, \"#f0f921\"]], \"type\": \"histogram2dcontour\"}], \"mesh3d\": [{\"colorbar\": {\"outlinewidth\": 0, \"ticks\": \"\"}, \"type\": \"mesh3d\"}], \"parcoords\": [{\"line\": {\"colorbar\": {\"outlinewidth\": 0, \"ticks\": \"\"}}, \"type\": \"parcoords\"}], \"pie\": [{\"automargin\": true, \"type\": \"pie\"}], \"scatter\": [{\"marker\": {\"colorbar\": {\"outlinewidth\": 0, \"ticks\": \"\"}}, \"type\": \"scatter\"}], \"scatter3d\": [{\"line\": {\"colorbar\": {\"outlinewidth\": 0, \"ticks\": \"\"}}, \"marker\": {\"colorbar\": {\"outlinewidth\": 0, \"ticks\": \"\"}}, \"type\": \"scatter3d\"}], \"scattercarpet\": [{\"marker\": {\"colorbar\": {\"outlinewidth\": 0, \"ticks\": \"\"}}, \"type\": \"scattercarpet\"}], \"scattergeo\": [{\"marker\": {\"colorbar\": {\"outlinewidth\": 0, \"ticks\": \"\"}}, \"type\": \"scattergeo\"}], \"scattergl\": [{\"marker\": {\"colorbar\": {\"outlinewidth\": 0, \"ticks\": \"\"}}, \"type\": \"scattergl\"}], \"scattermapbox\": [{\"marker\": {\"colorbar\": {\"outlinewidth\": 0, \"ticks\": \"\"}}, \"type\": \"scattermapbox\"}], \"scatterpolar\": [{\"marker\": {\"colorbar\": {\"outlinewidth\": 0, \"ticks\": \"\"}}, \"type\": \"scatterpolar\"}], \"scatterpolargl\": [{\"marker\": {\"colorbar\": {\"outlinewidth\": 0, \"ticks\": \"\"}}, \"type\": \"scatterpolargl\"}], \"scatterternary\": [{\"marker\": {\"colorbar\": {\"outlinewidth\": 0, \"ticks\": \"\"}}, \"type\": \"scatterternary\"}], \"surface\": [{\"colorbar\": {\"outlinewidth\": 0, \"ticks\": \"\"}, \"colorscale\": [[0.0, \"#0d0887\"], [0.1111111111111111, \"#46039f\"], [0.2222222222222222, \"#7201a8\"], [0.3333333333333333, \"#9c179e\"], [0.4444444444444444, \"#bd3786\"], [0.5555555555555556, \"#d8576b\"], [0.6666666666666666, \"#ed7953\"], [0.7777777777777778, \"#fb9f3a\"], [0.8888888888888888, \"#fdca26\"], [1.0, \"#f0f921\"]], \"type\": \"surface\"}], \"table\": [{\"cells\": {\"fill\": {\"color\": \"#EBF0F8\"}, \"line\": {\"color\": \"white\"}}, \"header\": {\"fill\": {\"color\": \"#C8D4E3\"}, \"line\": {\"color\": \"white\"}}, \"type\": \"table\"}]}, \"layout\": {\"annotationdefaults\": {\"arrowcolor\": \"#2a3f5f\", \"arrowhead\": 0, \"arrowwidth\": 1}, \"coloraxis\": {\"colorbar\": {\"outlinewidth\": 0, \"ticks\": \"\"}}, \"colorscale\": {\"diverging\": [[0, \"#8e0152\"], [0.1, \"#c51b7d\"], [0.2, \"#de77ae\"], [0.3, \"#f1b6da\"], [0.4, \"#fde0ef\"], [0.5, \"#f7f7f7\"], [0.6, \"#e6f5d0\"], [0.7, \"#b8e186\"], [0.8, \"#7fbc41\"], [0.9, \"#4d9221\"], [1, \"#276419\"]], \"sequential\": [[0.0, \"#0d0887\"], [0.1111111111111111, \"#46039f\"], [0.2222222222222222, \"#7201a8\"], [0.3333333333333333, \"#9c179e\"], [0.4444444444444444, \"#bd3786\"], [0.5555555555555556, \"#d8576b\"], [0.6666666666666666, \"#ed7953\"], [0.7777777777777778, \"#fb9f3a\"], [0.8888888888888888, \"#fdca26\"], [1.0, \"#f0f921\"]], \"sequentialminus\": [[0.0, \"#0d0887\"], [0.1111111111111111, \"#46039f\"], [0.2222222222222222, \"#7201a8\"], [0.3333333333333333, \"#9c179e\"], [0.4444444444444444, \"#bd3786\"], [0.5555555555555556, \"#d8576b\"], [0.6666666666666666, \"#ed7953\"], [0.7777777777777778, \"#fb9f3a\"], [0.8888888888888888, \"#fdca26\"], [1.0, \"#f0f921\"]]}, \"colorway\": [\"#636efa\", \"#EF553B\", \"#00cc96\", \"#ab63fa\", \"#FFA15A\", \"#19d3f3\", \"#FF6692\", \"#B6E880\", \"#FF97FF\", \"#FECB52\"], \"font\": {\"color\": \"#2a3f5f\"}, \"geo\": {\"bgcolor\": \"white\", \"lakecolor\": \"white\", \"landcolor\": \"#E5ECF6\", \"showlakes\": true, \"showland\": true, \"subunitcolor\": \"white\"}, \"hoverlabel\": {\"align\": \"left\"}, \"hovermode\": \"closest\", \"mapbox\": {\"style\": \"light\"}, \"paper_bgcolor\": \"white\", \"plot_bgcolor\": \"#E5ECF6\", \"polar\": {\"angularaxis\": {\"gridcolor\": \"white\", \"linecolor\": \"white\", \"ticks\": \"\"}, \"bgcolor\": \"#E5ECF6\", \"radialaxis\": {\"gridcolor\": \"white\", \"linecolor\": \"white\", \"ticks\": \"\"}}, \"scene\": {\"xaxis\": {\"backgroundcolor\": \"#E5ECF6\", \"gridcolor\": \"white\", \"gridwidth\": 2, \"linecolor\": \"white\", \"showbackground\": true, \"ticks\": \"\", \"zerolinecolor\": \"white\"}, \"yaxis\": {\"backgroundcolor\": \"#E5ECF6\", \"gridcolor\": \"white\", \"gridwidth\": 2, \"linecolor\": \"white\", \"showbackground\": true, \"ticks\": \"\", \"zerolinecolor\": \"white\"}, \"zaxis\": {\"backgroundcolor\": \"#E5ECF6\", \"gridcolor\": \"white\", \"gridwidth\": 2, \"linecolor\": \"white\", \"showbackground\": true, \"ticks\": \"\", \"zerolinecolor\": \"white\"}}, \"shapedefaults\": {\"line\": {\"color\": \"#2a3f5f\"}}, \"ternary\": {\"aaxis\": {\"gridcolor\": \"white\", \"linecolor\": \"white\", \"ticks\": \"\"}, \"baxis\": {\"gridcolor\": \"white\", \"linecolor\": \"white\", \"ticks\": \"\"}, \"bgcolor\": \"#E5ECF6\", \"caxis\": {\"gridcolor\": \"white\", \"linecolor\": \"white\", \"ticks\": \"\"}}, \"title\": {\"x\": 0.05}, \"xaxis\": {\"automargin\": true, \"gridcolor\": \"white\", \"linecolor\": \"white\", \"ticks\": \"\", \"title\": {\"standoff\": 15}, \"zerolinecolor\": \"white\", \"zerolinewidth\": 2}, \"yaxis\": {\"automargin\": true, \"gridcolor\": \"white\", \"linecolor\": \"white\", \"ticks\": \"\", \"title\": {\"standoff\": 15}, \"zerolinecolor\": \"white\", \"zerolinewidth\": 2}}}, \"title\": {\"text\": \"How Many Downloads are Paid Apps Giving Up?\"}, \"xaxis\": {\"anchor\": \"y\", \"categoryarray\": [\"Free\", \"Paid\"], \"categoryorder\": \"array\", \"domain\": [0.0, 1.0], \"title\": {\"text\": \"Type\"}}, \"yaxis\": {\"anchor\": \"x\", \"domain\": [0.0, 1.0], \"title\": {\"text\": \"Installs\"}, \"type\": \"log\"}},\n",
              "                        {\"responsive\": true}\n",
              "                    ).then(function(){\n",
              "                            \n",
              "var gd = document.getElementById('c0d2f38c-a9bd-4634-b274-390a0c62d2d5');\n",
              "var x = new MutationObserver(function (mutations, observer) {{\n",
              "        var display = window.getComputedStyle(gd).display;\n",
              "        if (!display || display === 'none') {{\n",
              "            console.log([gd, 'removed!']);\n",
              "            Plotly.purge(gd);\n",
              "            observer.disconnect();\n",
              "        }}\n",
              "}});\n",
              "\n",
              "// Listen for the removal of the full notebook cells\n",
              "var notebookContainer = gd.closest('#notebook-container');\n",
              "if (notebookContainer) {{\n",
              "    x.observe(notebookContainer, {childList: true});\n",
              "}}\n",
              "\n",
              "// Listen for the clearing of the current output cell\n",
              "var outputEl = gd.closest('.output');\n",
              "if (outputEl) {{\n",
              "    x.observe(outputEl, {childList: true});\n",
              "}}\n",
              "\n",
              "                        })\n",
              "                };\n",
              "                \n",
              "            </script>\n",
              "        </div>\n",
              "</body>\n",
              "</html>"
            ]
          },
          "metadata": {
            "tags": []
          }
        }
      ]
    },
    {
      "cell_type": "markdown",
      "metadata": {
        "id": "Xi2NaEBPVNrP"
      },
      "source": [
        "# Plotly Box Plots: Revenue by App Category\n",
        "\n",
        "**Challenge**: See if you can generate the chart below: \n",
        "\n",
        "<img src=https://imgur.com/v4CiNqX.png>\n",
        "\n",
        "Looking at the hover text, how much does the median app earn in the Tools category? If developing an Android app costs $30,000 or thereabouts, does the average photography app recoup its development costs?\n",
        "\n",
        "Hint: I've used 'min ascending' to sort the categories. "
      ]
    },
    {
      "cell_type": "code",
      "metadata": {
        "id": "GbLUNuNkZIVP"
      },
      "source": [
        "df_paid_apps = df_apps_clean[df_apps_clean['Type'] == 'Paid']"
      ],
      "execution_count": 76,
      "outputs": []
    },
    {
      "cell_type": "markdown",
      "metadata": {
        "id": "uT32ylj4WS9B"
      },
      "source": [
        "# How Much Can You Charge? Examine Paid App Pricing Strategies by Category\n",
        "\n",
        "**Challenge**: What is the median price price for a paid app? Then compare pricing by category by creating another box plot. But this time examine the prices (instead of the revenue estimates) of the paid apps. I recommend using `{categoryorder':'max descending'}` to sort the categories."
      ]
    },
    {
      "cell_type": "code",
      "metadata": {
        "id": "AdBr0TUhouqs",
        "colab": {
          "base_uri": "https://localhost:8080/",
          "height": 542
        },
        "outputId": "9e3e3c6b-5fb8-41d2-f7df-388334d64eaf"
      },
      "source": [
        "box = px.box(df_paid_apps,\n",
        "             x='Category',\n",
        "             y=\"Price\",\n",
        "             title='Price per Category')\n",
        " \n",
        "box.update_layout(xaxis_title='Category',\n",
        "                  yaxis_title='Paid App Price',\n",
        "                  xaxis={'categoryorder':'max descending'},\n",
        "                  yaxis=dict(type='log'))\n",
        " \n",
        "box.show()"
      ],
      "execution_count": 79,
      "outputs": [
        {
          "output_type": "display_data",
          "data": {
            "text/html": [
              "<html>\n",
              "<head><meta charset=\"utf-8\" /></head>\n",
              "<body>\n",
              "    <div>\n",
              "            <script src=\"https://cdnjs.cloudflare.com/ajax/libs/mathjax/2.7.5/MathJax.js?config=TeX-AMS-MML_SVG\"></script><script type=\"text/javascript\">if (window.MathJax) {MathJax.Hub.Config({SVG: {font: \"STIX-Web\"}});}</script>\n",
              "                <script type=\"text/javascript\">window.PlotlyConfig = {MathJaxConfig: 'local'};</script>\n",
              "        <script src=\"https://cdn.plot.ly/plotly-latest.min.js\"></script>    \n",
              "            <div id=\"18f3da02-bc38-4019-b2e0-28632fc51c85\" class=\"plotly-graph-div\" style=\"height:525px; width:100%;\"></div>\n",
              "            <script type=\"text/javascript\">\n",
              "                \n",
              "                    window.PLOTLYENV=window.PLOTLYENV || {};\n",
              "                    \n",
              "                if (document.getElementById(\"18f3da02-bc38-4019-b2e0-28632fc51c85\")) {\n",
              "                    Plotly.newPlot(\n",
              "                        '18f3da02-bc38-4019-b2e0-28632fc51c85',\n",
              "                        [{\"alignmentgroup\": \"True\", \"hoverlabel\": {\"namelength\": 0}, \"hovertemplate\": \"Category=%{x}<br>Price=%{y}\", \"legendgroup\": \"\", \"marker\": {\"color\": \"#636efa\"}, \"name\": \"\", \"notched\": false, \"offsetgroup\": \"\", \"orientation\": \"v\", \"showlegend\": false, \"type\": \"box\", \"x\": [\"GAME\", \"GAME\", \"FAMILY\", \"BUSINESS\", \"LIFESTYLE\", \"FAMILY\", \"PERSONALIZATION\", \"PHOTOGRAPHY\", \"FAMILY\", \"GAME\", \"PRODUCTIVITY\", \"PHOTOGRAPHY\", \"FAMILY\", \"TOOLS\", \"TOOLS\", \"PERSONALIZATION\", \"FAMILY\", \"FAMILY\", \"FAMILY\", \"FAMILY\", \"GAME\", \"TOOLS\", \"PERSONALIZATION\", \"PERSONALIZATION\", \"PERSONALIZATION\", \"TOOLS\", \"FAMILY\", \"FAMILY\", \"BUSINESS\", \"BOOKS_AND_REFERENCE\", \"FAMILY\", \"FAMILY\", \"FAMILY\", \"PERSONALIZATION\", \"PERSONALIZATION\", \"PERSONALIZATION\", \"GAME\", \"PERSONALIZATION\", \"FAMILY\", \"FINANCE\", \"SHOPPING\", \"DATING\", \"PERSONALIZATION\", \"GAME\", \"FAMILY\", \"PRODUCTIVITY\", \"FAMILY\", \"MEDICAL\", \"SPORTS\", \"MEDICAL\", \"PRODUCTIVITY\", \"BUSINESS\", \"PARENTING\", \"LIFESTYLE\", \"FAMILY\", \"TOOLS\", \"MAPS_AND_NAVIGATION\", \"COMMUNICATION\", \"PERSONALIZATION\", \"COMMUNICATION\", \"FAMILY\", \"PERSONALIZATION\", \"FAMILY\", \"FAMILY\", \"FAMILY\", \"TOOLS\", \"FAMILY\", \"SPORTS\", \"FAMILY\", \"MEDICAL\", \"FAMILY\", \"FAMILY\", \"GAME\", \"TOOLS\", \"FAMILY\", \"FAMILY\", \"PERSONALIZATION\", \"BOOKS_AND_REFERENCE\", \"GAME\", \"PERSONALIZATION\", \"GAME\", \"GAME\", \"TOOLS\", \"MEDICAL\", \"FAMILY\", \"TOOLS\", \"TOOLS\", \"PERSONALIZATION\", \"GAME\", \"COMMUNICATION\", \"MEDICAL\", \"SPORTS\", \"PERSONALIZATION\", \"COMMUNICATION\", \"COMMUNICATION\", \"PERSONALIZATION\", \"TOOLS\", \"PERSONALIZATION\", \"PERSONALIZATION\", \"PRODUCTIVITY\", \"MEDICAL\", \"FAMILY\", \"TOOLS\", \"TOOLS\", \"BUSINESS\", \"COMMUNICATION\", \"FAMILY\", \"PERSONALIZATION\", \"PHOTOGRAPHY\", \"MEDICAL\", \"PERSONALIZATION\", \"MEDICAL\", \"COMMUNICATION\", \"PRODUCTIVITY\", \"BOOKS_AND_REFERENCE\", \"TOOLS\", \"WEATHER\", \"FAMILY\", \"FAMILY\", \"MEDICAL\", \"FAMILY\", \"TOOLS\", \"TOOLS\", \"SPORTS\", \"GAME\", \"MEDICAL\", \"PERSONALIZATION\", \"PERSONALIZATION\", \"NEWS_AND_MAGAZINES\", \"COMMUNICATION\", \"TOOLS\", \"MEDICAL\", \"FINANCE\", \"FAMILY\", \"PERSONALIZATION\", \"PERSONALIZATION\", \"MEDICAL\", \"FAMILY\", \"MEDICAL\", \"MEDICAL\", \"FAMILY\", \"FAMILY\", \"FAMILY\", \"GAME\", \"PERSONALIZATION\", \"FINANCE\", \"TOOLS\", \"PERSONALIZATION\", \"GAME\", \"GAME\", \"GAME\", \"FAMILY\", \"FAMILY\", \"PRODUCTIVITY\", \"COMMUNICATION\", \"SPORTS\", \"SPORTS\", \"FAMILY\", \"PERSONALIZATION\", \"MEDICAL\", \"SPORTS\", \"COMMUNICATION\", \"LIFESTYLE\", \"FAMILY\", \"MEDICAL\", \"MEDICAL\", \"TOOLS\", \"PRODUCTIVITY\", \"FINANCE\", \"HEALTH_AND_FITNESS\", \"MEDICAL\", \"PHOTOGRAPHY\", \"FAMILY\", \"FAMILY\", \"PHOTOGRAPHY\", \"SPORTS\", \"ART_AND_DESIGN\", \"FAMILY\", \"PERSONALIZATION\", \"PRODUCTIVITY\", \"LIFESTYLE\", \"HEALTH_AND_FITNESS\", \"MEDICAL\", \"TOOLS\", \"PRODUCTIVITY\", \"GAME\", \"TOOLS\", \"MEDICAL\", \"LIFESTYLE\", \"GAME\", \"MEDICAL\", \"TRAVEL_AND_LOCAL\", \"BUSINESS\", \"MEDICAL\", \"COMMUNICATION\", \"PERSONALIZATION\", \"GAME\", \"TRAVEL_AND_LOCAL\", \"GAME\", \"SPORTS\", \"MEDICAL\", \"FAMILY\", \"MEDICAL\", \"FINANCE\", \"TOOLS\", \"BOOKS_AND_REFERENCE\", \"FAMILY\", \"MEDICAL\", \"FINANCE\", \"MEDICAL\", \"GAME\", \"BUSINESS\", \"TOOLS\", \"FAMILY\", \"MEDICAL\", \"PERSONALIZATION\", \"PHOTOGRAPHY\", \"SPORTS\", \"MAPS_AND_NAVIGATION\", \"PERSONALIZATION\", \"GAME\", \"BOOKS_AND_REFERENCE\", \"EDUCATION\", \"FAMILY\", \"FAMILY\", \"SOCIAL\", \"MEDICAL\", \"TOOLS\", \"SPORTS\", \"FAMILY\", \"FAMILY\", \"TOOLS\", \"WEATHER\", \"VIDEO_PLAYERS\", \"MEDICAL\", \"TOOLS\", \"GAME\", \"PERSONALIZATION\", \"MEDICAL\", \"LIFESTYLE\", \"MEDICAL\", \"DATING\", \"HEALTH_AND_FITNESS\", \"MEDICAL\", \"FAMILY\", \"PRODUCTIVITY\", \"EDUCATION\", \"SPORTS\", \"FAMILY\", \"PERSONALIZATION\", \"PERSONALIZATION\", \"FAMILY\", \"GAME\", \"FINANCE\", \"GAME\", \"MEDICAL\", \"FAMILY\", \"MEDICAL\", \"MEDICAL\", \"TOOLS\", \"TOOLS\", \"TOOLS\", \"TOOLS\", \"PERSONALIZATION\", \"PERSONALIZATION\", \"PERSONALIZATION\", \"PERSONALIZATION\", \"FAMILY\", \"GAME\", \"FAMILY\", \"FAMILY\", \"MEDICAL\", \"SPORTS\", \"LIFESTYLE\", \"FAMILY\", \"FAMILY\", \"FAMILY\", \"TRAVEL_AND_LOCAL\", \"PERSONALIZATION\", \"BOOKS_AND_REFERENCE\", \"FAMILY\", \"MEDICAL\", \"MEDICAL\", \"MEDICAL\", \"MEDICAL\", \"PRODUCTIVITY\", \"SOCIAL\", \"SPORTS\", \"TRAVEL_AND_LOCAL\", \"TOOLS\", \"FAMILY\", \"NEWS_AND_MAGAZINES\", \"ART_AND_DESIGN\", \"GAME\", \"PERSONALIZATION\", \"LIFESTYLE\", \"PERSONALIZATION\", \"LIFESTYLE\", \"MEDICAL\", \"FAMILY\", \"FAMILY\", \"BOOKS_AND_REFERENCE\", \"LIFESTYLE\", \"MEDICAL\", \"MEDICAL\", \"TOOLS\", \"SPORTS\", \"MEDICAL\", \"PHOTOGRAPHY\", \"GAME\", \"SPORTS\", \"FAMILY\", \"SPORTS\", \"TOOLS\", \"LIFESTYLE\", \"FAMILY\", \"COMMUNICATION\", \"FINANCE\", \"COMMUNICATION\", \"COMMUNICATION\", \"FAMILY\", \"FINANCE\", \"FAMILY\", \"TOOLS\", \"MEDICAL\", \"TOOLS\", \"TOOLS\", \"TOOLS\", \"TOOLS\", \"TOOLS\", \"TOOLS\", \"PERSONALIZATION\", \"FAMILY\", \"FAMILY\", \"MEDICAL\", \"MEDICAL\", \"MEDICAL\", \"HEALTH_AND_FITNESS\", \"GAME\", \"FAMILY\", \"FAMILY\", \"PHOTOGRAPHY\", \"PERSONALIZATION\", \"LIFESTYLE\", \"GAME\", \"FAMILY\", \"MEDICAL\", \"FAMILY\", \"BUSINESS\", \"GAME\", \"FAMILY\", \"MEDICAL\", \"FAMILY\", \"MAPS_AND_NAVIGATION\", \"BOOKS_AND_REFERENCE\", \"GAME\", \"PERSONALIZATION\", \"PERSONALIZATION\", \"COMMUNICATION\", \"DATING\", \"FOOD_AND_DRINK\", \"LIFESTYLE\", \"FAMILY\", \"FAMILY\", \"MEDICAL\", \"TRAVEL_AND_LOCAL\", \"TOOLS\", \"TOOLS\", \"TOOLS\", \"PERSONALIZATION\", \"VIDEO_PLAYERS\", \"VIDEO_PLAYERS\", \"GAME\", \"FAMILY\", \"FAMILY\", \"FAMILY\", \"LIFESTYLE\", \"FAMILY\", \"PERSONALIZATION\", \"WEATHER\", \"TOOLS\", \"PERSONALIZATION\", \"TOOLS\", \"ART_AND_DESIGN\", \"PERSONALIZATION\", \"PERSONALIZATION\", \"MEDICAL\", \"TOOLS\", \"FAMILY\", \"FINANCE\", \"TOOLS\", \"GAME\", \"FAMILY\", \"FAMILY\", \"TOOLS\", \"TOOLS\", \"GAME\", \"TOOLS\", \"HEALTH_AND_FITNESS\", \"GAME\", \"MEDICAL\", \"COMMUNICATION\", \"LIFESTYLE\", \"FAMILY\", \"GAME\", \"FAMILY\", \"FAMILY\", \"MEDICAL\", \"LIFESTYLE\", \"PERSONALIZATION\", \"FAMILY\", \"SPORTS\", \"FAMILY\", \"TRAVEL_AND_LOCAL\", \"TOOLS\", \"SHOPPING\", \"TOOLS\", \"FAMILY\", \"FAMILY\", \"FAMILY\", \"FAMILY\", \"FAMILY\", \"FAMILY\", \"GAME\", \"MAPS_AND_NAVIGATION\", \"PERSONALIZATION\", \"GAME\", \"FAMILY\", \"FAMILY\", \"FINANCE\", \"TOOLS\", \"TOOLS\", \"FAMILY\", \"FAMILY\", \"MEDICAL\", \"GAME\", \"FAMILY\", \"COMMUNICATION\", \"COMMUNICATION\", \"FAMILY\", \"FAMILY\", \"MEDICAL\", \"MEDICAL\", \"MEDICAL\", \"PHOTOGRAPHY\", \"TOOLS\", \"TOOLS\", \"PERSONALIZATION\", \"PERSONALIZATION\", \"FAMILY\", \"GAME\", \"SPORTS\", \"MEDICAL\", \"GAME\", \"FAMILY\", \"AUTO_AND_VEHICLES\", \"HEALTH_AND_FITNESS\", \"FAMILY\", \"FAMILY\", \"MEDICAL\", \"PHOTOGRAPHY\", \"SPORTS\", \"TOOLS\", \"VIDEO_PLAYERS\", \"FAMILY\", \"FAMILY\", \"PRODUCTIVITY\", \"PERSONALIZATION\", \"PRODUCTIVITY\", \"PERSONALIZATION\", \"FAMILY\", \"FAMILY\", \"GAME\", \"MEDICAL\", \"FAMILY\", \"FAMILY\", \"FOOD_AND_DRINK\", \"FINANCE\", \"FAMILY\", \"FAMILY\", \"FAMILY\", \"TOOLS\", \"HEALTH_AND_FITNESS\", \"PARENTING\", \"FAMILY\", \"GAME\", \"HEALTH_AND_FITNESS\", \"TRAVEL_AND_LOCAL\", \"GAME\", \"WEATHER\", \"FAMILY\", \"MEDICAL\", \"GAME\", \"GAME\", \"MEDICAL\", \"PERSONALIZATION\", \"FAMILY\", \"FAMILY\", \"FAMILY\", \"FAMILY\", \"GAME\", \"PHOTOGRAPHY\", \"FAMILY\", \"BUSINESS\", \"FAMILY\", \"GAME\", \"FAMILY\", \"FAMILY\", \"WEATHER\", \"EDUCATION\", \"COMMUNICATION\", \"ENTERTAINMENT\", \"HEALTH_AND_FITNESS\", \"HEALTH_AND_FITNESS\", \"GAME\", \"GAME\", \"FAMILY\", \"FAMILY\", \"FAMILY\", \"PHOTOGRAPHY\", \"SPORTS\", \"TRAVEL_AND_LOCAL\", \"TOOLS\", \"TOOLS\", \"PERSONALIZATION\", \"PERSONALIZATION\", \"PRODUCTIVITY\", \"PRODUCTIVITY\", \"MAPS_AND_NAVIGATION\", \"GAME\", \"GAME\", \"PRODUCTIVITY\", \"TOOLS\", \"WEATHER\", \"FAMILY\", \"GAME\", \"FAMILY\", \"GAME\", \"TOOLS\", \"GAME\", \"FAMILY\", \"FAMILY\", \"HEALTH_AND_FITNESS\", \"FAMILY\", \"GAME\", \"FAMILY\", \"PERSONALIZATION\", \"BUSINESS\", \"FINANCE\", \"FAMILY\", \"PHOTOGRAPHY\", \"GAME\", \"FAMILY\", \"FAMILY\", \"FAMILY\", \"FAMILY\", \"GAME\", \"FAMILY\", \"GAME\", \"COMMUNICATION\", \"FAMILY\", \"LIFESTYLE\", \"ENTERTAINMENT\", \"COMMUNICATION\", \"GAME\", \"GAME\", \"GAME\", \"GAME\", \"GAME\", \"GAME\", \"PERSONALIZATION\", \"FAMILY\", \"PERSONALIZATION\", \"FAMILY\", \"EDUCATION\", \"WEATHER\", \"PHOTOGRAPHY\", \"PRODUCTIVITY\", \"GAME\", \"FAMILY\", \"FAMILY\", \"PRODUCTIVITY\", \"PERSONALIZATION\", \"GAME\", \"GAME\", \"FAMILY\", \"COMMUNICATION\", \"TOOLS\", \"GAME\", \"PERSONALIZATION\", \"PHOTOGRAPHY\", \"SPORTS\", \"GAME\", \"FAMILY\", \"GAME\", \"GAME\", \"FAMILY\", \"GAME\", \"FAMILY\", \"GAME\", \"LIFESTYLE\", \"FAMILY\", \"GAME\", \"FAMILY\"], \"x0\": \" \", \"xaxis\": \"x\", \"y\": [1.49, 0.99, 14.99, 2.49, 3.04, 1.49, 0.99, 3.49, 2.99, 0.99, 0.99, 4.99, 0.99, 2.99, 0.99, 0.99, 29.99, 19.99, 4.99, 4.99, 1.99, 2.99, 0.99, 0.99, 0.99, 1.76, 2.99, 2.99, 8.99, 1.75, 1.49, 1.49, 0.99, 0.99, 0.99, 0.99, 0.99, 0.99, 12.99, 4.99, 2.49, 7.99, 1.99, 4.99, 0.99, 4.99, 3.99, 2.99, 3.88, 2.99, 2.99, 12.99, 4.59, 0.99, 9.99, 3.99, 9.99, 1.49, 1.49, 1.49, 1.49, 0.99, 2.99, 1.99, 4.99, 1.49, 0.99, 3.49, 1.99, 12.99, 0.99, 0.99, 0.99, 1.99, 4.99, 3.99, 0.99, 3.99, 14.0, 1.49, 4.49, 1.99, 0.99, 6.99, 399.99, 5.99, 3.99, 2.49, 0.99, 1.49, 39.99, 3.02, 1.49, 1.49, 0.99, 0.99, 4.99, 1.49, 0.99, 6.49, 5.99, 2.99, 3.99, 0.99, 17.99, 0.99, 1.99, 1.49, 1.49, 3.99, 1.49, 2.99, 4.99, 8.99, 0.99, 0.99, 1.99, 2.49, 4.99, 0.99, 1.99, 1.99, 0.99, 2.99, 4.49, 3.49, 2.0, 1.49, 2.99, 3.99, 3.99, 15.99, 3.99, 2.99, 1.49, 0.99, 9.99, 2.99, 4.99, 9.99, 2.49, 10.99, 2.99, 0.99, 1.99, 399.99, 1.99, 0.99, 3.99, 1.61, 0.99, 1.99, 2.49, 4.29, 0.99, 3.99, 0.99, 2.99, 1.49, 15.46, 1.99, 2.99, 4.99, 7.49, 3.99, 5.49, 2.49, 2.99, 1.99, 4.99, 4.99, 19.99, 2.99, 1.99, 9.99, 0.99, 1.99, 2.99, 1.7, 0.99, 379.99, 7.99, 29.99, 2.99, 7.99, 0.99, 1.49, 2.99, 4.99, 2.49, 79.99, 2.56, 3.99, 19.99, 2.49, 0.99, 0.99, 8.49, 6.99, 2.99, 0.99, 2.99, 1.5, 399.99, 4.99, 1.99, 4.84, 14.99, 399.99, 29.99, 4.99, 4.99, 3.99, 19.4, 33.99, 1.49, 2.99, 2.99, 0.99, 0.99, 1.99, 3.08, 5.99, 3.99, 2.99, 0.99, 1.99, 5.99, 2.49, 0.99, 0.99, 0.99, 6.99, 0.99, 16.99, 0.99, 3.49, 1.7, 3.99, 37.99, 9.99, 6.99, 1.99, 3.99, 10.0, 1.29, 3.99, 4.49, 2.99, 2.49, 0.99, 4.99, 0.99, 3.99, 1.99, 7.49, 0.99, 10.99, 5.99, 0.99, 1.49, 14.99, 4.99, 4.99, 0.99, 4.99, 3.99, 4.99, 0.99, 4.49, 5.99, 3.99, 1.99, 3.99, 399.99, 4.99, 1.99, 3.99, 0.99, 2.99, 1.49, 2.49, 3.99, 3.99, 3.99, 3.99, 0.99, 1.99, 2.99, 0.99, 2.99, 0.99, 1.99, 6.99, 1.99, 0.99, 1.49, 2.99, 5.99, 2.99, 2.99, 4.6, 1.99, 14.99, 0.99, 0.99, 0.99, 2.99, 2.99, 1.99, 2.99, 4.99, 1.0, 14.99, 2.49, 0.99, 4.99, 399.99, 0.99, 1.49, 3.99, 399.99, 2.99, 4.99, 3.99, 4.99, 4.99, 4.99, 4.99, 4.99, 1.0, 6.99, 2.99, 399.99, 9.99, 24.99, 2.99, 3.99, 0.99, 3.99, 3.99, 1.99, 0.99, 7.99, 4.99, 2.99, 10.0, 2.99, 2.99, 2.99, 14.99, 7.99, 12.99, 0.99, 4.49, 16.99, 0.99, 0.99, 4.99, 3.99, 3.49, 2.49, 2.99, 1.49, 6.99, 1.99, 2.5, 3.9, 2.95, 0.99, 1.49, 1.99, 7.99, 2.99, 2.99, 4.99, 399.99, 1.99, 0.99, 2.99, 2.99, 1.99, 1.97, 1.99, 9.99, 2.99, 5.49, 3.28, 0.99, 2.99, 4.99, 2.99, 14.99, 2.99, 2.99, 2.99, 17.99, 0.99, 6.99, 4.99, 3.99, 2.99, 299.99, 2.99, 4.99, 389.99, 1.2, 2.99, 400.0, 1.99, 4.99, 4.99, 0.99, 5.99, 2.59, 2.99, 1.99, 3.99, 4.99, 3.99, 2.99, 4.99, 2.99, 4.99, 2.99, 0.99, 3.99, 2.49, 0.99, 18.99, 1.99, 1.99, 1.59, 3.99, 11.99, 1.99, 1.99, 2.99, 0.99, 9.99, 3.99, 0.99, 2.99, 1.99, 4.99, 1.99, 2.99, 0.99, 1.99, 0.99, 0.99, 29.99, 2.99, 1.99, 2.99, 1.99, 1.99, 2.99, 4.99, 3.99, 1.99, 3.99, 2.99, 5.99, 19.99, 9.99, 2.99, 2.49, 1.49, 0.99, 2.99, 2.99, 1.99, 11.99, 4.99, 3.99, 4.99, 399.99, 2.99, 2.99, 4.77, 2.99, 2.99, 4.99, 4.99, 4.99, 1.99, 2.49, 4.99, 3.99, 3.99, 24.99, 4.99, 0.99, 9.0, 0.99, 2.99, 2.99, 2.99, 9.99, 2.99, 1.49, 14.99, 4.99, 7.99, 1.99, 0.99, 0.99, 4.49, 3.99, 3.99, 4.99, 2.99, 2.99, 2.99, 2.99, 3.99, 4.99, 4.99, 3.95, 8.99, 8.99, 2.49, 3.99, 4.49, 1.99, 5.99, 4.99, 11.99, 4.99, 9.99, 4.49, 3.49, 2.99, 4.99, 4.99, 4.99, 1.99, 4.49, 3.99, 2.99, 13.99, 3.49, 9.99, 4.99, 2.99, 2.99, 4.99, 2.99, 2.99, 2.99, 2.99, 2.99, 9.99, 0.99, 1.99, 2.99, 1.49, 6.99, 2.9, 2.99, 399.99, 2.99, 3.99, 2.99, 4.99, 2.99, 2.99, 1.99, 5.99, 4.99, 2.99, 2.49, 0.99, 3.99, 5.99, 2.99, 2.99, 1.99, 2.99, 4.99, 1.99, 2.49, 0.99, 4.99, 2.99, 2.99, 2.99, 6.99, 0.99, 5.99, 1.99, 2.99, 0.99, 0.99, 0.99, 0.99, 0.99, 2.99, 0.99, 5.99, 1.99, 0.99, 6.99], \"y0\": \" \", \"yaxis\": \"y\"}],\n",
              "                        {\"boxmode\": \"group\", \"legend\": {\"tracegroupgap\": 0}, \"template\": {\"data\": {\"bar\": [{\"error_x\": {\"color\": \"#2a3f5f\"}, \"error_y\": {\"color\": \"#2a3f5f\"}, \"marker\": {\"line\": {\"color\": \"#E5ECF6\", \"width\": 0.5}}, \"type\": \"bar\"}], \"barpolar\": [{\"marker\": {\"line\": {\"color\": \"#E5ECF6\", \"width\": 0.5}}, \"type\": \"barpolar\"}], \"carpet\": [{\"aaxis\": {\"endlinecolor\": \"#2a3f5f\", \"gridcolor\": \"white\", \"linecolor\": \"white\", \"minorgridcolor\": \"white\", \"startlinecolor\": \"#2a3f5f\"}, \"baxis\": {\"endlinecolor\": \"#2a3f5f\", \"gridcolor\": \"white\", \"linecolor\": \"white\", \"minorgridcolor\": \"white\", \"startlinecolor\": \"#2a3f5f\"}, \"type\": \"carpet\"}], \"choropleth\": [{\"colorbar\": {\"outlinewidth\": 0, \"ticks\": \"\"}, \"type\": \"choropleth\"}], \"contour\": [{\"colorbar\": {\"outlinewidth\": 0, \"ticks\": \"\"}, \"colorscale\": [[0.0, \"#0d0887\"], [0.1111111111111111, \"#46039f\"], [0.2222222222222222, \"#7201a8\"], [0.3333333333333333, \"#9c179e\"], [0.4444444444444444, \"#bd3786\"], [0.5555555555555556, \"#d8576b\"], [0.6666666666666666, \"#ed7953\"], [0.7777777777777778, \"#fb9f3a\"], [0.8888888888888888, \"#fdca26\"], [1.0, \"#f0f921\"]], \"type\": \"contour\"}], \"contourcarpet\": [{\"colorbar\": {\"outlinewidth\": 0, \"ticks\": \"\"}, \"type\": \"contourcarpet\"}], \"heatmap\": [{\"colorbar\": {\"outlinewidth\": 0, \"ticks\": \"\"}, \"colorscale\": [[0.0, \"#0d0887\"], [0.1111111111111111, \"#46039f\"], [0.2222222222222222, \"#7201a8\"], [0.3333333333333333, \"#9c179e\"], [0.4444444444444444, \"#bd3786\"], [0.5555555555555556, \"#d8576b\"], [0.6666666666666666, \"#ed7953\"], [0.7777777777777778, \"#fb9f3a\"], [0.8888888888888888, \"#fdca26\"], [1.0, \"#f0f921\"]], \"type\": \"heatmap\"}], \"heatmapgl\": [{\"colorbar\": {\"outlinewidth\": 0, \"ticks\": \"\"}, \"colorscale\": [[0.0, \"#0d0887\"], [0.1111111111111111, \"#46039f\"], [0.2222222222222222, \"#7201a8\"], [0.3333333333333333, \"#9c179e\"], [0.4444444444444444, \"#bd3786\"], [0.5555555555555556, \"#d8576b\"], [0.6666666666666666, \"#ed7953\"], [0.7777777777777778, \"#fb9f3a\"], [0.8888888888888888, \"#fdca26\"], [1.0, \"#f0f921\"]], \"type\": \"heatmapgl\"}], \"histogram\": [{\"marker\": {\"colorbar\": {\"outlinewidth\": 0, \"ticks\": \"\"}}, \"type\": \"histogram\"}], \"histogram2d\": [{\"colorbar\": {\"outlinewidth\": 0, \"ticks\": \"\"}, \"colorscale\": [[0.0, \"#0d0887\"], [0.1111111111111111, \"#46039f\"], [0.2222222222222222, \"#7201a8\"], [0.3333333333333333, \"#9c179e\"], [0.4444444444444444, \"#bd3786\"], [0.5555555555555556, \"#d8576b\"], [0.6666666666666666, \"#ed7953\"], [0.7777777777777778, \"#fb9f3a\"], [0.8888888888888888, \"#fdca26\"], [1.0, \"#f0f921\"]], \"type\": \"histogram2d\"}], \"histogram2dcontour\": [{\"colorbar\": {\"outlinewidth\": 0, \"ticks\": \"\"}, \"colorscale\": [[0.0, \"#0d0887\"], [0.1111111111111111, \"#46039f\"], [0.2222222222222222, \"#7201a8\"], [0.3333333333333333, \"#9c179e\"], [0.4444444444444444, \"#bd3786\"], [0.5555555555555556, \"#d8576b\"], [0.6666666666666666, \"#ed7953\"], [0.7777777777777778, \"#fb9f3a\"], [0.8888888888888888, \"#fdca26\"], [1.0, \"#f0f921\"]], \"type\": \"histogram2dcontour\"}], \"mesh3d\": [{\"colorbar\": {\"outlinewidth\": 0, \"ticks\": \"\"}, \"type\": \"mesh3d\"}], \"parcoords\": [{\"line\": {\"colorbar\": {\"outlinewidth\": 0, \"ticks\": \"\"}}, \"type\": \"parcoords\"}], \"pie\": [{\"automargin\": true, \"type\": \"pie\"}], \"scatter\": [{\"marker\": {\"colorbar\": {\"outlinewidth\": 0, \"ticks\": \"\"}}, \"type\": \"scatter\"}], \"scatter3d\": [{\"line\": {\"colorbar\": {\"outlinewidth\": 0, \"ticks\": \"\"}}, \"marker\": {\"colorbar\": {\"outlinewidth\": 0, \"ticks\": \"\"}}, \"type\": \"scatter3d\"}], \"scattercarpet\": [{\"marker\": {\"colorbar\": {\"outlinewidth\": 0, \"ticks\": \"\"}}, \"type\": \"scattercarpet\"}], \"scattergeo\": [{\"marker\": {\"colorbar\": {\"outlinewidth\": 0, \"ticks\": \"\"}}, \"type\": \"scattergeo\"}], \"scattergl\": [{\"marker\": {\"colorbar\": {\"outlinewidth\": 0, \"ticks\": \"\"}}, \"type\": \"scattergl\"}], \"scattermapbox\": [{\"marker\": {\"colorbar\": {\"outlinewidth\": 0, \"ticks\": \"\"}}, \"type\": \"scattermapbox\"}], \"scatterpolar\": [{\"marker\": {\"colorbar\": {\"outlinewidth\": 0, \"ticks\": \"\"}}, \"type\": \"scatterpolar\"}], \"scatterpolargl\": [{\"marker\": {\"colorbar\": {\"outlinewidth\": 0, \"ticks\": \"\"}}, \"type\": \"scatterpolargl\"}], \"scatterternary\": [{\"marker\": {\"colorbar\": {\"outlinewidth\": 0, \"ticks\": \"\"}}, \"type\": \"scatterternary\"}], \"surface\": [{\"colorbar\": {\"outlinewidth\": 0, \"ticks\": \"\"}, \"colorscale\": [[0.0, \"#0d0887\"], [0.1111111111111111, \"#46039f\"], [0.2222222222222222, \"#7201a8\"], [0.3333333333333333, \"#9c179e\"], [0.4444444444444444, \"#bd3786\"], [0.5555555555555556, \"#d8576b\"], [0.6666666666666666, \"#ed7953\"], [0.7777777777777778, \"#fb9f3a\"], [0.8888888888888888, \"#fdca26\"], [1.0, \"#f0f921\"]], \"type\": \"surface\"}], \"table\": [{\"cells\": {\"fill\": {\"color\": \"#EBF0F8\"}, \"line\": {\"color\": \"white\"}}, \"header\": {\"fill\": {\"color\": \"#C8D4E3\"}, \"line\": {\"color\": \"white\"}}, \"type\": \"table\"}]}, \"layout\": {\"annotationdefaults\": {\"arrowcolor\": \"#2a3f5f\", \"arrowhead\": 0, \"arrowwidth\": 1}, \"coloraxis\": {\"colorbar\": {\"outlinewidth\": 0, \"ticks\": \"\"}}, \"colorscale\": {\"diverging\": [[0, \"#8e0152\"], [0.1, \"#c51b7d\"], [0.2, \"#de77ae\"], [0.3, \"#f1b6da\"], [0.4, \"#fde0ef\"], [0.5, \"#f7f7f7\"], [0.6, \"#e6f5d0\"], [0.7, \"#b8e186\"], [0.8, \"#7fbc41\"], [0.9, \"#4d9221\"], [1, \"#276419\"]], \"sequential\": [[0.0, \"#0d0887\"], [0.1111111111111111, \"#46039f\"], [0.2222222222222222, \"#7201a8\"], [0.3333333333333333, \"#9c179e\"], [0.4444444444444444, \"#bd3786\"], [0.5555555555555556, \"#d8576b\"], [0.6666666666666666, \"#ed7953\"], [0.7777777777777778, \"#fb9f3a\"], [0.8888888888888888, \"#fdca26\"], [1.0, \"#f0f921\"]], \"sequentialminus\": [[0.0, \"#0d0887\"], [0.1111111111111111, \"#46039f\"], [0.2222222222222222, \"#7201a8\"], [0.3333333333333333, \"#9c179e\"], [0.4444444444444444, \"#bd3786\"], [0.5555555555555556, \"#d8576b\"], [0.6666666666666666, \"#ed7953\"], [0.7777777777777778, \"#fb9f3a\"], [0.8888888888888888, \"#fdca26\"], [1.0, \"#f0f921\"]]}, \"colorway\": [\"#636efa\", \"#EF553B\", \"#00cc96\", \"#ab63fa\", \"#FFA15A\", \"#19d3f3\", \"#FF6692\", \"#B6E880\", \"#FF97FF\", \"#FECB52\"], \"font\": {\"color\": \"#2a3f5f\"}, \"geo\": {\"bgcolor\": \"white\", \"lakecolor\": \"white\", \"landcolor\": \"#E5ECF6\", \"showlakes\": true, \"showland\": true, \"subunitcolor\": \"white\"}, \"hoverlabel\": {\"align\": \"left\"}, \"hovermode\": \"closest\", \"mapbox\": {\"style\": \"light\"}, \"paper_bgcolor\": \"white\", \"plot_bgcolor\": \"#E5ECF6\", \"polar\": {\"angularaxis\": {\"gridcolor\": \"white\", \"linecolor\": \"white\", \"ticks\": \"\"}, \"bgcolor\": \"#E5ECF6\", \"radialaxis\": {\"gridcolor\": \"white\", \"linecolor\": \"white\", \"ticks\": \"\"}}, \"scene\": {\"xaxis\": {\"backgroundcolor\": \"#E5ECF6\", \"gridcolor\": \"white\", \"gridwidth\": 2, \"linecolor\": \"white\", \"showbackground\": true, \"ticks\": \"\", \"zerolinecolor\": \"white\"}, \"yaxis\": {\"backgroundcolor\": \"#E5ECF6\", \"gridcolor\": \"white\", \"gridwidth\": 2, \"linecolor\": \"white\", \"showbackground\": true, \"ticks\": \"\", \"zerolinecolor\": \"white\"}, \"zaxis\": {\"backgroundcolor\": \"#E5ECF6\", \"gridcolor\": \"white\", \"gridwidth\": 2, \"linecolor\": \"white\", \"showbackground\": true, \"ticks\": \"\", \"zerolinecolor\": \"white\"}}, \"shapedefaults\": {\"line\": {\"color\": \"#2a3f5f\"}}, \"ternary\": {\"aaxis\": {\"gridcolor\": \"white\", \"linecolor\": \"white\", \"ticks\": \"\"}, \"baxis\": {\"gridcolor\": \"white\", \"linecolor\": \"white\", \"ticks\": \"\"}, \"bgcolor\": \"#E5ECF6\", \"caxis\": {\"gridcolor\": \"white\", \"linecolor\": \"white\", \"ticks\": \"\"}}, \"title\": {\"x\": 0.05}, \"xaxis\": {\"automargin\": true, \"gridcolor\": \"white\", \"linecolor\": \"white\", \"ticks\": \"\", \"title\": {\"standoff\": 15}, \"zerolinecolor\": \"white\", \"zerolinewidth\": 2}, \"yaxis\": {\"automargin\": true, \"gridcolor\": \"white\", \"linecolor\": \"white\", \"ticks\": \"\", \"title\": {\"standoff\": 15}, \"zerolinecolor\": \"white\", \"zerolinewidth\": 2}}}, \"title\": {\"text\": \"Price per Category\"}, \"xaxis\": {\"anchor\": \"y\", \"categoryorder\": \"max descending\", \"domain\": [0.0, 1.0], \"title\": {\"text\": \"Category\"}}, \"yaxis\": {\"anchor\": \"x\", \"domain\": [0.0, 1.0], \"title\": {\"text\": \"Paid App Price\"}, \"type\": \"log\"}},\n",
              "                        {\"responsive\": true}\n",
              "                    ).then(function(){\n",
              "                            \n",
              "var gd = document.getElementById('18f3da02-bc38-4019-b2e0-28632fc51c85');\n",
              "var x = new MutationObserver(function (mutations, observer) {{\n",
              "        var display = window.getComputedStyle(gd).display;\n",
              "        if (!display || display === 'none') {{\n",
              "            console.log([gd, 'removed!']);\n",
              "            Plotly.purge(gd);\n",
              "            observer.disconnect();\n",
              "        }}\n",
              "}});\n",
              "\n",
              "// Listen for the removal of the full notebook cells\n",
              "var notebookContainer = gd.closest('#notebook-container');\n",
              "if (notebookContainer) {{\n",
              "    x.observe(notebookContainer, {childList: true});\n",
              "}}\n",
              "\n",
              "// Listen for the clearing of the current output cell\n",
              "var outputEl = gd.closest('.output');\n",
              "if (outputEl) {{\n",
              "    x.observe(outputEl, {childList: true});\n",
              "}}\n",
              "\n",
              "                        })\n",
              "                };\n",
              "                \n",
              "            </script>\n",
              "        </div>\n",
              "</body>\n",
              "</html>"
            ]
          },
          "metadata": {
            "tags": []
          }
        }
      ]
    },
    {
      "cell_type": "markdown",
      "metadata": {
        "id": "vp8tZN-EZXYr"
      },
      "source": [
        "# Learning Points and Summary:"
      ]
    },
    {
      "cell_type": "markdown",
      "metadata": {
        "id": "Ru65xhFrZaEY"
      },
      "source": [
        "Pull a random sample from a DataFrame using .sample()\n",
        "\n",
        "How to find duplicate entries with .duplicated() and .drop_duplicates()\n",
        "\n",
        "How to convert string and object data types into numbers with .to_numeric()\n",
        "\n",
        "How to use plotly to generate beautiful pie, donut, and bar charts as well as box and scatter plots"
      ]
    },
    {
      "cell_type": "code",
      "metadata": {
        "id": "mUtMRcdwZcqz"
      },
      "source": [
        ""
      ],
      "execution_count": null,
      "outputs": []
    }
  ]
}